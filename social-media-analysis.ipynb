{
 "cells": [
  {
   "cell_type": "markdown",
   "id": "aac3d3e7",
   "metadata": {
    "papermill": {
     "duration": 0.026834,
     "end_time": "2024-03-10T01:54:38.017890",
     "exception": false,
     "start_time": "2024-03-10T01:54:37.991056",
     "status": "completed"
    },
    "tags": []
   },
   "source": [
    "# **Case Study Description**\n",
    "# **Data Description**\n",
    "\n",
    "Data includes: \n",
    "* age\n",
    "* gender \n",
    "* relationship status\n",
    "* occupation \n",
    "* organization affiliation \n",
    "* social media use user?\n",
    "* social media platforms used \n",
    "* time spent on social media \n",
    "* results for ADHD, anxiety, self-esteem, and depression screenings.\n",
    "\n",
    "\n",
    "\n",
    "Mental Health uses Likert Scale: \n",
    "* Purposeless use of Social Media Question 9 = ADHD Q1\n",
    "* Distracted by Social Media Question 10 = ADHD Q2\n",
    "* Restlessness if Social Media not used Question 11 = Anxiety Q1\n",
    "* Ease of Distraction by Social Media Question 12 = ADHD Q3\n",
    "* Bothered by worries Question 13 = Anxiety Q2\n",
    "* Difficulty in concentrating Question 14 = ADHD Q4\n",
    "* Comparison of self to peers Question 15 = Self Esteem Q1\n",
    "* Feelings about above comparison Question 16 = Self Esteem, Q2\n",
    "* Validation sought from Social Media Question 17 = Self Esteem Q3\n",
    "* Feelings of Depression Question 18 = Depression Q1\n",
    "* Fluctuation of interest Question 19 = Depression Q2\n",
    "* Sleep Issues Question 20 = Depression Q3\n"
   ]
  },
  {
   "cell_type": "code",
   "execution_count": 1,
   "id": "6bbb544d",
   "metadata": {
    "execution": {
     "iopub.execute_input": "2024-03-10T01:54:38.070902Z",
     "iopub.status.busy": "2024-03-10T01:54:38.070385Z",
     "iopub.status.idle": "2024-03-10T01:54:39.606799Z",
     "shell.execute_reply": "2024-03-10T01:54:39.605743Z"
    },
    "papermill": {
     "duration": 1.566333,
     "end_time": "2024-03-10T01:54:39.609943",
     "exception": false,
     "start_time": "2024-03-10T01:54:38.043610",
     "status": "completed"
    },
    "tags": []
   },
   "outputs": [
    {
     "name": "stderr",
     "output_type": "stream",
     "text": [
      "/opt/conda/lib/python3.10/site-packages/scipy/__init__.py:146: UserWarning: A NumPy version >=1.16.5 and <1.23.0 is required for this version of SciPy (detected version 1.23.5\n",
      "  warnings.warn(f\"A NumPy version >={np_minversion} and <{np_maxversion}\"\n"
     ]
    }
   ],
   "source": [
    "#importing necessary packages for project\n",
    "import numpy as np\n",
    "import pandas as pd\n",
    "import matplotlib.pyplot as plt\n",
    "import seaborn as sns"
   ]
  },
  {
   "cell_type": "code",
   "execution_count": 2,
   "id": "0e14f5f5",
   "metadata": {
    "execution": {
     "iopub.execute_input": "2024-03-10T01:54:39.663279Z",
     "iopub.status.busy": "2024-03-10T01:54:39.662850Z",
     "iopub.status.idle": "2024-03-10T01:54:39.674085Z",
     "shell.execute_reply": "2024-03-10T01:54:39.672708Z"
    },
    "papermill": {
     "duration": 0.041201,
     "end_time": "2024-03-10T01:54:39.676697",
     "exception": false,
     "start_time": "2024-03-10T01:54:39.635496",
     "status": "completed"
    },
    "tags": []
   },
   "outputs": [
    {
     "name": "stdout",
     "output_type": "stream",
     "text": [
      "/kaggle/input/social-media-and-mental-health/smmh.csv\n"
     ]
    }
   ],
   "source": [
    "#load data set that will be used for project\n",
    "import os\n",
    "for dirname, _, filenames in os.walk('/kaggle/input'):\n",
    "    for filename in filenames:\n",
    "        print(os.path.join(dirname, filename))"
   ]
  },
  {
   "cell_type": "code",
   "execution_count": 3,
   "id": "536b9e76",
   "metadata": {
    "execution": {
     "iopub.execute_input": "2024-03-10T01:54:39.733178Z",
     "iopub.status.busy": "2024-03-10T01:54:39.732441Z",
     "iopub.status.idle": "2024-03-10T01:54:39.762021Z",
     "shell.execute_reply": "2024-03-10T01:54:39.760730Z"
    },
    "papermill": {
     "duration": 0.061779,
     "end_time": "2024-03-10T01:54:39.764936",
     "exception": false,
     "start_time": "2024-03-10T01:54:39.703157",
     "status": "completed"
    },
    "tags": []
   },
   "outputs": [],
   "source": [
    "#load data set\n",
    "data=pd.read_csv('/kaggle/input/social-media-and-mental-health/smmh.csv')"
   ]
  },
  {
   "cell_type": "code",
   "execution_count": 4,
   "id": "8c0ec39d",
   "metadata": {
    "execution": {
     "iopub.execute_input": "2024-03-10T01:54:39.823783Z",
     "iopub.status.busy": "2024-03-10T01:54:39.822992Z",
     "iopub.status.idle": "2024-03-10T01:54:39.827838Z",
     "shell.execute_reply": "2024-03-10T01:54:39.826781Z"
    },
    "papermill": {
     "duration": 0.038452,
     "end_time": "2024-03-10T01:54:39.830557",
     "exception": false,
     "start_time": "2024-03-10T01:54:39.792105",
     "status": "completed"
    },
    "tags": []
   },
   "outputs": [],
   "source": [
    "# Setting to display all columns\n",
    "pd.set_option(\"display.max_columns\", None)"
   ]
  },
  {
   "cell_type": "code",
   "execution_count": 5,
   "id": "1b00a0cc",
   "metadata": {
    "execution": {
     "iopub.execute_input": "2024-03-10T01:54:39.885407Z",
     "iopub.status.busy": "2024-03-10T01:54:39.884652Z",
     "iopub.status.idle": "2024-03-10T01:54:39.918057Z",
     "shell.execute_reply": "2024-03-10T01:54:39.916598Z"
    },
    "papermill": {
     "duration": 0.063699,
     "end_time": "2024-03-10T01:54:39.920947",
     "exception": false,
     "start_time": "2024-03-10T01:54:39.857248",
     "status": "completed"
    },
    "tags": []
   },
   "outputs": [
    {
     "data": {
      "text/html": [
       "<div>\n",
       "<style scoped>\n",
       "    .dataframe tbody tr th:only-of-type {\n",
       "        vertical-align: middle;\n",
       "    }\n",
       "\n",
       "    .dataframe tbody tr th {\n",
       "        vertical-align: top;\n",
       "    }\n",
       "\n",
       "    .dataframe thead th {\n",
       "        text-align: right;\n",
       "    }\n",
       "</style>\n",
       "<table border=\"1\" class=\"dataframe\">\n",
       "  <thead>\n",
       "    <tr style=\"text-align: right;\">\n",
       "      <th></th>\n",
       "      <th>Timestamp</th>\n",
       "      <th>1. What is your age?</th>\n",
       "      <th>2. Gender</th>\n",
       "      <th>3. Relationship Status</th>\n",
       "      <th>4. Occupation Status</th>\n",
       "      <th>5. What type of organizations are you affiliated with?</th>\n",
       "      <th>6. Do you use social media?</th>\n",
       "      <th>7. What social media platforms do you commonly use?</th>\n",
       "      <th>8. What is the average time you spend on social media every day?</th>\n",
       "      <th>9. How often do you find yourself using Social media without a specific purpose?</th>\n",
       "      <th>10. How often do you get distracted by Social media when you are busy doing something?</th>\n",
       "      <th>11. Do you feel restless if you haven't used Social media in a while?</th>\n",
       "      <th>12. On a scale of 1 to 5, how easily distracted are you?</th>\n",
       "      <th>13. On a scale of 1 to 5, how much are you bothered by worries?</th>\n",
       "      <th>14. Do you find it difficult to concentrate on things?</th>\n",
       "      <th>15. On a scale of 1-5, how often do you compare yourself to other successful people through the use of social media?</th>\n",
       "      <th>16. Following the previous question, how do you feel about these comparisons, generally speaking?</th>\n",
       "      <th>17. How often do you look to seek validation from features of social media?</th>\n",
       "      <th>18. How often do you feel depressed or down?</th>\n",
       "      <th>19. On a scale of 1 to 5, how frequently does your interest in daily activities fluctuate?</th>\n",
       "      <th>20. On a scale of 1 to 5, how often do you face issues regarding sleep?</th>\n",
       "    </tr>\n",
       "  </thead>\n",
       "  <tbody>\n",
       "    <tr>\n",
       "      <th>0</th>\n",
       "      <td>4/18/2022 19:18:47</td>\n",
       "      <td>21.0</td>\n",
       "      <td>Male</td>\n",
       "      <td>In a relationship</td>\n",
       "      <td>University Student</td>\n",
       "      <td>University</td>\n",
       "      <td>Yes</td>\n",
       "      <td>Facebook, Twitter, Instagram, YouTube, Discord...</td>\n",
       "      <td>Between 2 and 3 hours</td>\n",
       "      <td>5</td>\n",
       "      <td>3</td>\n",
       "      <td>2</td>\n",
       "      <td>5</td>\n",
       "      <td>2</td>\n",
       "      <td>5</td>\n",
       "      <td>2</td>\n",
       "      <td>3</td>\n",
       "      <td>2</td>\n",
       "      <td>5</td>\n",
       "      <td>4</td>\n",
       "      <td>5</td>\n",
       "    </tr>\n",
       "    <tr>\n",
       "      <th>1</th>\n",
       "      <td>4/18/2022 19:19:28</td>\n",
       "      <td>21.0</td>\n",
       "      <td>Female</td>\n",
       "      <td>Single</td>\n",
       "      <td>University Student</td>\n",
       "      <td>University</td>\n",
       "      <td>Yes</td>\n",
       "      <td>Facebook, Twitter, Instagram, YouTube, Discord...</td>\n",
       "      <td>More than 5 hours</td>\n",
       "      <td>4</td>\n",
       "      <td>3</td>\n",
       "      <td>2</td>\n",
       "      <td>4</td>\n",
       "      <td>5</td>\n",
       "      <td>4</td>\n",
       "      <td>5</td>\n",
       "      <td>1</td>\n",
       "      <td>1</td>\n",
       "      <td>5</td>\n",
       "      <td>4</td>\n",
       "      <td>5</td>\n",
       "    </tr>\n",
       "    <tr>\n",
       "      <th>2</th>\n",
       "      <td>4/18/2022 19:25:59</td>\n",
       "      <td>21.0</td>\n",
       "      <td>Female</td>\n",
       "      <td>Single</td>\n",
       "      <td>University Student</td>\n",
       "      <td>University</td>\n",
       "      <td>Yes</td>\n",
       "      <td>Facebook, Instagram, YouTube, Pinterest</td>\n",
       "      <td>Between 3 and 4 hours</td>\n",
       "      <td>3</td>\n",
       "      <td>2</td>\n",
       "      <td>1</td>\n",
       "      <td>2</td>\n",
       "      <td>5</td>\n",
       "      <td>4</td>\n",
       "      <td>3</td>\n",
       "      <td>3</td>\n",
       "      <td>1</td>\n",
       "      <td>4</td>\n",
       "      <td>2</td>\n",
       "      <td>5</td>\n",
       "    </tr>\n",
       "    <tr>\n",
       "      <th>3</th>\n",
       "      <td>4/18/2022 19:29:43</td>\n",
       "      <td>21.0</td>\n",
       "      <td>Female</td>\n",
       "      <td>Single</td>\n",
       "      <td>University Student</td>\n",
       "      <td>University</td>\n",
       "      <td>Yes</td>\n",
       "      <td>Facebook, Instagram</td>\n",
       "      <td>More than 5 hours</td>\n",
       "      <td>4</td>\n",
       "      <td>2</td>\n",
       "      <td>1</td>\n",
       "      <td>3</td>\n",
       "      <td>5</td>\n",
       "      <td>3</td>\n",
       "      <td>5</td>\n",
       "      <td>1</td>\n",
       "      <td>2</td>\n",
       "      <td>4</td>\n",
       "      <td>3</td>\n",
       "      <td>2</td>\n",
       "    </tr>\n",
       "    <tr>\n",
       "      <th>4</th>\n",
       "      <td>4/18/2022 19:33:31</td>\n",
       "      <td>21.0</td>\n",
       "      <td>Female</td>\n",
       "      <td>Single</td>\n",
       "      <td>University Student</td>\n",
       "      <td>University</td>\n",
       "      <td>Yes</td>\n",
       "      <td>Facebook, Instagram, YouTube</td>\n",
       "      <td>Between 2 and 3 hours</td>\n",
       "      <td>3</td>\n",
       "      <td>5</td>\n",
       "      <td>4</td>\n",
       "      <td>4</td>\n",
       "      <td>5</td>\n",
       "      <td>5</td>\n",
       "      <td>3</td>\n",
       "      <td>3</td>\n",
       "      <td>3</td>\n",
       "      <td>4</td>\n",
       "      <td>4</td>\n",
       "      <td>1</td>\n",
       "    </tr>\n",
       "  </tbody>\n",
       "</table>\n",
       "</div>"
      ],
      "text/plain": [
       "            Timestamp  1. What is your age? 2. Gender 3. Relationship Status  \\\n",
       "0  4/18/2022 19:18:47                  21.0      Male      In a relationship   \n",
       "1  4/18/2022 19:19:28                  21.0    Female                 Single   \n",
       "2  4/18/2022 19:25:59                  21.0    Female                 Single   \n",
       "3  4/18/2022 19:29:43                  21.0    Female                 Single   \n",
       "4  4/18/2022 19:33:31                  21.0    Female                 Single   \n",
       "\n",
       "  4. Occupation Status 5. What type of organizations are you affiliated with?  \\\n",
       "0   University Student                                         University       \n",
       "1   University Student                                         University       \n",
       "2   University Student                                         University       \n",
       "3   University Student                                         University       \n",
       "4   University Student                                         University       \n",
       "\n",
       "  6. Do you use social media?  \\\n",
       "0                         Yes   \n",
       "1                         Yes   \n",
       "2                         Yes   \n",
       "3                         Yes   \n",
       "4                         Yes   \n",
       "\n",
       "  7. What social media platforms do you commonly use?  \\\n",
       "0  Facebook, Twitter, Instagram, YouTube, Discord...    \n",
       "1  Facebook, Twitter, Instagram, YouTube, Discord...    \n",
       "2            Facebook, Instagram, YouTube, Pinterest    \n",
       "3                                Facebook, Instagram    \n",
       "4                       Facebook, Instagram, YouTube    \n",
       "\n",
       "  8. What is the average time you spend on social media every day?  \\\n",
       "0                              Between 2 and 3 hours                 \n",
       "1                                  More than 5 hours                 \n",
       "2                              Between 3 and 4 hours                 \n",
       "3                                  More than 5 hours                 \n",
       "4                              Between 2 and 3 hours                 \n",
       "\n",
       "   9. How often do you find yourself using Social media without a specific purpose?  \\\n",
       "0                                                  5                                  \n",
       "1                                                  4                                  \n",
       "2                                                  3                                  \n",
       "3                                                  4                                  \n",
       "4                                                  3                                  \n",
       "\n",
       "   10. How often do you get distracted by Social media when you are busy doing something?  \\\n",
       "0                                                  3                                        \n",
       "1                                                  3                                        \n",
       "2                                                  2                                        \n",
       "3                                                  2                                        \n",
       "4                                                  5                                        \n",
       "\n",
       "   11. Do you feel restless if you haven't used Social media in a while?  \\\n",
       "0                                                  2                       \n",
       "1                                                  2                       \n",
       "2                                                  1                       \n",
       "3                                                  1                       \n",
       "4                                                  4                       \n",
       "\n",
       "   12. On a scale of 1 to 5, how easily distracted are you?  \\\n",
       "0                                                  5          \n",
       "1                                                  4          \n",
       "2                                                  2          \n",
       "3                                                  3          \n",
       "4                                                  4          \n",
       "\n",
       "   13. On a scale of 1 to 5, how much are you bothered by worries?  \\\n",
       "0                                                  2                 \n",
       "1                                                  5                 \n",
       "2                                                  5                 \n",
       "3                                                  5                 \n",
       "4                                                  5                 \n",
       "\n",
       "   14. Do you find it difficult to concentrate on things?  \\\n",
       "0                                                  5        \n",
       "1                                                  4        \n",
       "2                                                  4        \n",
       "3                                                  3        \n",
       "4                                                  5        \n",
       "\n",
       "   15. On a scale of 1-5, how often do you compare yourself to other successful people through the use of social media?  \\\n",
       "0                                                  2                                                                      \n",
       "1                                                  5                                                                      \n",
       "2                                                  3                                                                      \n",
       "3                                                  5                                                                      \n",
       "4                                                  3                                                                      \n",
       "\n",
       "   16. Following the previous question, how do you feel about these comparisons, generally speaking?  \\\n",
       "0                                                  3                                                   \n",
       "1                                                  1                                                   \n",
       "2                                                  3                                                   \n",
       "3                                                  1                                                   \n",
       "4                                                  3                                                   \n",
       "\n",
       "   17. How often do you look to seek validation from features of social media?  \\\n",
       "0                                                  2                             \n",
       "1                                                  1                             \n",
       "2                                                  1                             \n",
       "3                                                  2                             \n",
       "4                                                  3                             \n",
       "\n",
       "   18. How often do you feel depressed or down?  \\\n",
       "0                                             5   \n",
       "1                                             5   \n",
       "2                                             4   \n",
       "3                                             4   \n",
       "4                                             4   \n",
       "\n",
       "   19. On a scale of 1 to 5, how frequently does your interest in daily activities fluctuate?  \\\n",
       "0                                                  4                                            \n",
       "1                                                  4                                            \n",
       "2                                                  2                                            \n",
       "3                                                  3                                            \n",
       "4                                                  4                                            \n",
       "\n",
       "   20. On a scale of 1 to 5, how often do you face issues regarding sleep?  \n",
       "0                                                  5                        \n",
       "1                                                  5                        \n",
       "2                                                  5                        \n",
       "3                                                  2                        \n",
       "4                                                  1                        "
      ]
     },
     "execution_count": 5,
     "metadata": {},
     "output_type": "execute_result"
    }
   ],
   "source": [
    "# Printing first 5 entries in the data set\n",
    "data.head()"
   ]
  },
  {
   "cell_type": "code",
   "execution_count": 6,
   "id": "9b602509",
   "metadata": {
    "execution": {
     "iopub.execute_input": "2024-03-10T01:54:39.977759Z",
     "iopub.status.busy": "2024-03-10T01:54:39.977306Z",
     "iopub.status.idle": "2024-03-10T01:54:40.001556Z",
     "shell.execute_reply": "2024-03-10T01:54:40.000280Z"
    },
    "papermill": {
     "duration": 0.055719,
     "end_time": "2024-03-10T01:54:40.004162",
     "exception": false,
     "start_time": "2024-03-10T01:54:39.948443",
     "status": "completed"
    },
    "tags": []
   },
   "outputs": [
    {
     "data": {
      "text/html": [
       "<div>\n",
       "<style scoped>\n",
       "    .dataframe tbody tr th:only-of-type {\n",
       "        vertical-align: middle;\n",
       "    }\n",
       "\n",
       "    .dataframe tbody tr th {\n",
       "        vertical-align: top;\n",
       "    }\n",
       "\n",
       "    .dataframe thead th {\n",
       "        text-align: right;\n",
       "    }\n",
       "</style>\n",
       "<table border=\"1\" class=\"dataframe\">\n",
       "  <thead>\n",
       "    <tr style=\"text-align: right;\">\n",
       "      <th></th>\n",
       "      <th>Timestamp</th>\n",
       "      <th>1. What is your age?</th>\n",
       "      <th>2. Gender</th>\n",
       "      <th>3. Relationship Status</th>\n",
       "      <th>4. Occupation Status</th>\n",
       "      <th>5. What type of organizations are you affiliated with?</th>\n",
       "      <th>6. Do you use social media?</th>\n",
       "      <th>7. What social media platforms do you commonly use?</th>\n",
       "      <th>8. What is the average time you spend on social media every day?</th>\n",
       "      <th>9. How often do you find yourself using Social media without a specific purpose?</th>\n",
       "      <th>10. How often do you get distracted by Social media when you are busy doing something?</th>\n",
       "      <th>11. Do you feel restless if you haven't used Social media in a while?</th>\n",
       "      <th>12. On a scale of 1 to 5, how easily distracted are you?</th>\n",
       "      <th>13. On a scale of 1 to 5, how much are you bothered by worries?</th>\n",
       "      <th>14. Do you find it difficult to concentrate on things?</th>\n",
       "      <th>15. On a scale of 1-5, how often do you compare yourself to other successful people through the use of social media?</th>\n",
       "      <th>16. Following the previous question, how do you feel about these comparisons, generally speaking?</th>\n",
       "      <th>17. How often do you look to seek validation from features of social media?</th>\n",
       "      <th>18. How often do you feel depressed or down?</th>\n",
       "      <th>19. On a scale of 1 to 5, how frequently does your interest in daily activities fluctuate?</th>\n",
       "      <th>20. On a scale of 1 to 5, how often do you face issues regarding sleep?</th>\n",
       "    </tr>\n",
       "  </thead>\n",
       "  <tbody>\n",
       "    <tr>\n",
       "      <th>476</th>\n",
       "      <td>5/21/2022 23:38:28</td>\n",
       "      <td>24.0</td>\n",
       "      <td>Male</td>\n",
       "      <td>Single</td>\n",
       "      <td>Salaried Worker</td>\n",
       "      <td>University, Private</td>\n",
       "      <td>Yes</td>\n",
       "      <td>Facebook, Instagram, YouTube</td>\n",
       "      <td>Between 2 and 3 hours</td>\n",
       "      <td>3</td>\n",
       "      <td>4</td>\n",
       "      <td>3</td>\n",
       "      <td>4</td>\n",
       "      <td>3</td>\n",
       "      <td>4</td>\n",
       "      <td>4</td>\n",
       "      <td>2</td>\n",
       "      <td>4</td>\n",
       "      <td>3</td>\n",
       "      <td>4</td>\n",
       "      <td>4</td>\n",
       "    </tr>\n",
       "    <tr>\n",
       "      <th>477</th>\n",
       "      <td>5/22/2022 0:01:05</td>\n",
       "      <td>26.0</td>\n",
       "      <td>Female</td>\n",
       "      <td>Married</td>\n",
       "      <td>Salaried Worker</td>\n",
       "      <td>University</td>\n",
       "      <td>Yes</td>\n",
       "      <td>Facebook, YouTube</td>\n",
       "      <td>Between 1 and 2 hours</td>\n",
       "      <td>2</td>\n",
       "      <td>1</td>\n",
       "      <td>2</td>\n",
       "      <td>3</td>\n",
       "      <td>4</td>\n",
       "      <td>4</td>\n",
       "      <td>4</td>\n",
       "      <td>2</td>\n",
       "      <td>4</td>\n",
       "      <td>4</td>\n",
       "      <td>4</td>\n",
       "      <td>1</td>\n",
       "    </tr>\n",
       "    <tr>\n",
       "      <th>478</th>\n",
       "      <td>5/22/2022 10:29:21</td>\n",
       "      <td>29.0</td>\n",
       "      <td>Female</td>\n",
       "      <td>Married</td>\n",
       "      <td>Salaried Worker</td>\n",
       "      <td>University</td>\n",
       "      <td>Yes</td>\n",
       "      <td>Facebook, YouTube</td>\n",
       "      <td>Between 2 and 3 hours</td>\n",
       "      <td>3</td>\n",
       "      <td>3</td>\n",
       "      <td>4</td>\n",
       "      <td>3</td>\n",
       "      <td>2</td>\n",
       "      <td>3</td>\n",
       "      <td>3</td>\n",
       "      <td>3</td>\n",
       "      <td>4</td>\n",
       "      <td>2</td>\n",
       "      <td>2</td>\n",
       "      <td>2</td>\n",
       "    </tr>\n",
       "    <tr>\n",
       "      <th>479</th>\n",
       "      <td>7/14/2022 19:33:47</td>\n",
       "      <td>21.0</td>\n",
       "      <td>Male</td>\n",
       "      <td>Single</td>\n",
       "      <td>University Student</td>\n",
       "      <td>University</td>\n",
       "      <td>Yes</td>\n",
       "      <td>Facebook, Twitter, Instagram, YouTube, Discord...</td>\n",
       "      <td>Between 2 and 3 hours</td>\n",
       "      <td>2</td>\n",
       "      <td>3</td>\n",
       "      <td>2</td>\n",
       "      <td>3</td>\n",
       "      <td>3</td>\n",
       "      <td>2</td>\n",
       "      <td>2</td>\n",
       "      <td>3</td>\n",
       "      <td>4</td>\n",
       "      <td>4</td>\n",
       "      <td>5</td>\n",
       "      <td>4</td>\n",
       "    </tr>\n",
       "    <tr>\n",
       "      <th>480</th>\n",
       "      <td>11/12/2022 13:16:50</td>\n",
       "      <td>53.0</td>\n",
       "      <td>Male</td>\n",
       "      <td>Married</td>\n",
       "      <td>Salaried Worker</td>\n",
       "      <td>Private</td>\n",
       "      <td>Yes</td>\n",
       "      <td>Facebook, YouTube</td>\n",
       "      <td>Less than an Hour</td>\n",
       "      <td>2</td>\n",
       "      <td>3</td>\n",
       "      <td>1</td>\n",
       "      <td>3</td>\n",
       "      <td>1</td>\n",
       "      <td>1</td>\n",
       "      <td>3</td>\n",
       "      <td>3</td>\n",
       "      <td>2</td>\n",
       "      <td>2</td>\n",
       "      <td>2</td>\n",
       "      <td>3</td>\n",
       "    </tr>\n",
       "  </tbody>\n",
       "</table>\n",
       "</div>"
      ],
      "text/plain": [
       "               Timestamp  1. What is your age? 2. Gender  \\\n",
       "476   5/21/2022 23:38:28                  24.0      Male   \n",
       "477    5/22/2022 0:01:05                  26.0    Female   \n",
       "478   5/22/2022 10:29:21                  29.0    Female   \n",
       "479   7/14/2022 19:33:47                  21.0      Male   \n",
       "480  11/12/2022 13:16:50                  53.0      Male   \n",
       "\n",
       "    3. Relationship Status 4. Occupation Status  \\\n",
       "476                 Single      Salaried Worker   \n",
       "477                Married      Salaried Worker   \n",
       "478                Married      Salaried Worker   \n",
       "479                 Single   University Student   \n",
       "480                Married      Salaried Worker   \n",
       "\n",
       "    5. What type of organizations are you affiliated with?  \\\n",
       "476                                University, Private       \n",
       "477                                         University       \n",
       "478                                         University       \n",
       "479                                         University       \n",
       "480                                            Private       \n",
       "\n",
       "    6. Do you use social media?  \\\n",
       "476                         Yes   \n",
       "477                         Yes   \n",
       "478                         Yes   \n",
       "479                         Yes   \n",
       "480                         Yes   \n",
       "\n",
       "    7. What social media platforms do you commonly use?  \\\n",
       "476                       Facebook, Instagram, YouTube    \n",
       "477                                  Facebook, YouTube    \n",
       "478                                  Facebook, YouTube    \n",
       "479  Facebook, Twitter, Instagram, YouTube, Discord...    \n",
       "480                                  Facebook, YouTube    \n",
       "\n",
       "    8. What is the average time you spend on social media every day?  \\\n",
       "476                              Between 2 and 3 hours                 \n",
       "477                              Between 1 and 2 hours                 \n",
       "478                              Between 2 and 3 hours                 \n",
       "479                              Between 2 and 3 hours                 \n",
       "480                                  Less than an Hour                 \n",
       "\n",
       "     9. How often do you find yourself using Social media without a specific purpose?  \\\n",
       "476                                                  3                                  \n",
       "477                                                  2                                  \n",
       "478                                                  3                                  \n",
       "479                                                  2                                  \n",
       "480                                                  2                                  \n",
       "\n",
       "     10. How often do you get distracted by Social media when you are busy doing something?  \\\n",
       "476                                                  4                                        \n",
       "477                                                  1                                        \n",
       "478                                                  3                                        \n",
       "479                                                  3                                        \n",
       "480                                                  3                                        \n",
       "\n",
       "     11. Do you feel restless if you haven't used Social media in a while?  \\\n",
       "476                                                  3                       \n",
       "477                                                  2                       \n",
       "478                                                  4                       \n",
       "479                                                  2                       \n",
       "480                                                  1                       \n",
       "\n",
       "     12. On a scale of 1 to 5, how easily distracted are you?  \\\n",
       "476                                                  4          \n",
       "477                                                  3          \n",
       "478                                                  3          \n",
       "479                                                  3          \n",
       "480                                                  3          \n",
       "\n",
       "     13. On a scale of 1 to 5, how much are you bothered by worries?  \\\n",
       "476                                                  3                 \n",
       "477                                                  4                 \n",
       "478                                                  2                 \n",
       "479                                                  3                 \n",
       "480                                                  1                 \n",
       "\n",
       "     14. Do you find it difficult to concentrate on things?  \\\n",
       "476                                                  4        \n",
       "477                                                  4        \n",
       "478                                                  3        \n",
       "479                                                  2        \n",
       "480                                                  1        \n",
       "\n",
       "     15. On a scale of 1-5, how often do you compare yourself to other successful people through the use of social media?  \\\n",
       "476                                                  4                                                                      \n",
       "477                                                  4                                                                      \n",
       "478                                                  3                                                                      \n",
       "479                                                  2                                                                      \n",
       "480                                                  3                                                                      \n",
       "\n",
       "     16. Following the previous question, how do you feel about these comparisons, generally speaking?  \\\n",
       "476                                                  2                                                   \n",
       "477                                                  2                                                   \n",
       "478                                                  3                                                   \n",
       "479                                                  3                                                   \n",
       "480                                                  3                                                   \n",
       "\n",
       "     17. How often do you look to seek validation from features of social media?  \\\n",
       "476                                                  4                             \n",
       "477                                                  4                             \n",
       "478                                                  4                             \n",
       "479                                                  4                             \n",
       "480                                                  2                             \n",
       "\n",
       "     18. How often do you feel depressed or down?  \\\n",
       "476                                             3   \n",
       "477                                             4   \n",
       "478                                             2   \n",
       "479                                             4   \n",
       "480                                             2   \n",
       "\n",
       "     19. On a scale of 1 to 5, how frequently does your interest in daily activities fluctuate?  \\\n",
       "476                                                  4                                            \n",
       "477                                                  4                                            \n",
       "478                                                  2                                            \n",
       "479                                                  5                                            \n",
       "480                                                  2                                            \n",
       "\n",
       "     20. On a scale of 1 to 5, how often do you face issues regarding sleep?  \n",
       "476                                                  4                        \n",
       "477                                                  1                        \n",
       "478                                                  2                        \n",
       "479                                                  4                        \n",
       "480                                                  3                        "
      ]
     },
     "execution_count": 6,
     "metadata": {},
     "output_type": "execute_result"
    }
   ],
   "source": [
    "# Printing last 5 entries in the data set\n",
    "data.tail()"
   ]
  },
  {
   "cell_type": "code",
   "execution_count": 7,
   "id": "541c5ff2",
   "metadata": {
    "execution": {
     "iopub.execute_input": "2024-03-10T01:54:40.061288Z",
     "iopub.status.busy": "2024-03-10T01:54:40.060829Z",
     "iopub.status.idle": "2024-03-10T01:54:40.068163Z",
     "shell.execute_reply": "2024-03-10T01:54:40.066991Z"
    },
    "papermill": {
     "duration": 0.038384,
     "end_time": "2024-03-10T01:54:40.070399",
     "exception": false,
     "start_time": "2024-03-10T01:54:40.032015",
     "status": "completed"
    },
    "tags": []
   },
   "outputs": [
    {
     "data": {
      "text/plain": [
       "(481, 21)"
      ]
     },
     "execution_count": 7,
     "metadata": {},
     "output_type": "execute_result"
    }
   ],
   "source": [
    "#determining data shape (number of rows,columns)\n",
    "data.shape"
   ]
  },
  {
   "cell_type": "markdown",
   "id": "20bb6a6c",
   "metadata": {
    "papermill": {
     "duration": 0.027301,
     "end_time": "2024-03-10T01:54:40.126175",
     "exception": false,
     "start_time": "2024-03-10T01:54:40.098874",
     "status": "completed"
    },
    "tags": []
   },
   "source": [
    "# **Data Pre-Proceesing and Cleaning** \n",
    "\n",
    "Rename the Columns:\n",
    "The column names are very long so renaming them with shortened names will make handling the data easier. \n"
   ]
  },
  {
   "cell_type": "code",
   "execution_count": 8,
   "id": "12791306",
   "metadata": {
    "execution": {
     "iopub.execute_input": "2024-03-10T01:54:40.181275Z",
     "iopub.status.busy": "2024-03-10T01:54:40.180822Z",
     "iopub.status.idle": "2024-03-10T01:54:40.191622Z",
     "shell.execute_reply": "2024-03-10T01:54:40.190515Z"
    },
    "papermill": {
     "duration": 0.041231,
     "end_time": "2024-03-10T01:54:40.194106",
     "exception": false,
     "start_time": "2024-03-10T01:54:40.152875",
     "status": "completed"
    },
    "tags": []
   },
   "outputs": [],
   "source": [
    "#rename columns for necessary information\n",
    "data.rename(columns = {'1. What is your age?':'Age','2. Gender':'Gender','3. Relationship Status':'Relationship Status',\n",
    "                       '4. Occupation Status':'Occupation',\n",
    "                       '5. What type of organizations are you affiliated with?':'Affiliations',\n",
    "                       '6. Do you use social media?':'Social Media User?',\n",
    "                       '7. What social media platforms do you commonly use?':'Platforms Used',\n",
    "                       '8. What is the average time you spend on social media every day?':'Hours Per Day',\n",
    "                       '9. How often do you find yourself using Social media without a specific purpose?':'ADHD Q1',\n",
    "                       '10. How often do you get distracted by Social media when you are busy doing something?':'ADHD Q2',\n",
    "                       \"11. Do you feel restless if you haven't used Social media in a while?\":'Anxiety Q1',\n",
    "                       '12. On a scale of 1 to 5, how easily distracted are you?':'ADHD Q3',\n",
    "                       '13. On a scale of 1 to 5, how much are you bothered by worries?':'Anxiety Q2',\n",
    "                       '14. Do you find it difficult to concentrate on things?':'ADHD Q4',\n",
    "                       '15. On a scale of 1-5, how often do you compare yourself to other successful people through the use of social media?':'Self Esteem Q1',\n",
    "                       '16. Following the previous question, how do you feel about these comparisons, generally speaking?':'Self Esteem Q2',\n",
    "                       '17. How often do you look to seek validation from features of social media?':'Self Esteem Q3',\n",
    "                       '18. How often do you feel depressed or down?':'Depression Q1',\n",
    "                       '19. On a scale of 1 to 5, how frequently does your interest in daily activities fluctuate?':'Depression Q2',\n",
    "                       '20. On a scale of 1 to 5, how often do you face issues regarding sleep?':'Depression Q3' },inplace=True)"
   ]
  },
  {
   "cell_type": "code",
   "execution_count": 9,
   "id": "49dc9163",
   "metadata": {
    "execution": {
     "iopub.execute_input": "2024-03-10T01:54:40.251015Z",
     "iopub.status.busy": "2024-03-10T01:54:40.250154Z",
     "iopub.status.idle": "2024-03-10T01:54:40.258419Z",
     "shell.execute_reply": "2024-03-10T01:54:40.257060Z"
    },
    "papermill": {
     "duration": 0.038892,
     "end_time": "2024-03-10T01:54:40.260911",
     "exception": false,
     "start_time": "2024-03-10T01:54:40.222019",
     "status": "completed"
    },
    "tags": []
   },
   "outputs": [
    {
     "data": {
      "text/plain": [
       "['Timestamp',\n",
       " 'Age',\n",
       " 'Gender',\n",
       " 'Relationship Status',\n",
       " 'Occupation',\n",
       " 'Affiliations',\n",
       " 'Social Media User?',\n",
       " 'Platforms Used',\n",
       " 'Hours Per Day',\n",
       " 'ADHD Q1',\n",
       " 'ADHD Q2',\n",
       " 'Anxiety Q1',\n",
       " 'ADHD Q3',\n",
       " 'Anxiety Q2',\n",
       " 'ADHD Q4',\n",
       " 'Self Esteem Q1',\n",
       " 'Self Esteem Q2',\n",
       " 'Self Esteem Q3',\n",
       " 'Depression Q1',\n",
       " 'Depression Q2',\n",
       " 'Depression Q3']"
      ]
     },
     "execution_count": 9,
     "metadata": {},
     "output_type": "execute_result"
    }
   ],
   "source": [
    "#review new clumn names\n",
    "titles = list(data.columns)\n",
    "titles"
   ]
  },
  {
   "cell_type": "markdown",
   "id": "cb6f2aaa",
   "metadata": {
    "papermill": {
     "duration": 0.026513,
     "end_time": "2024-03-10T01:54:40.314225",
     "exception": false,
     "start_time": "2024-03-10T01:54:40.287712",
     "status": "completed"
    },
    "tags": []
   },
   "source": [
    "# Re-arranging the columns \n",
    "\n",
    "so that ADHD and Anxiety questions are sequential"
   ]
  },
  {
   "cell_type": "code",
   "execution_count": 10,
   "id": "e7b7d5da",
   "metadata": {
    "execution": {
     "iopub.execute_input": "2024-03-10T01:54:40.371502Z",
     "iopub.status.busy": "2024-03-10T01:54:40.370530Z",
     "iopub.status.idle": "2024-03-10T01:54:40.386895Z",
     "shell.execute_reply": "2024-03-10T01:54:40.385677Z"
    },
    "papermill": {
     "duration": 0.047792,
     "end_time": "2024-03-10T01:54:40.389510",
     "exception": false,
     "start_time": "2024-03-10T01:54:40.341718",
     "status": "completed"
    },
    "tags": []
   },
   "outputs": [
    {
     "data": {
      "text/plain": [
       "['Timestamp',\n",
       " 'Age',\n",
       " 'Gender',\n",
       " 'Relationship Status',\n",
       " 'Occupation',\n",
       " 'Affiliations',\n",
       " 'Social Media User?',\n",
       " 'Platforms Used',\n",
       " 'Hours Per Day',\n",
       " 'ADHD Q1',\n",
       " 'ADHD Q2',\n",
       " 'ADHD Q3',\n",
       " 'ADHD Q4',\n",
       " 'Anxiety Q1',\n",
       " 'Anxiety Q2',\n",
       " 'Self Esteem Q1',\n",
       " 'Self Esteem Q2',\n",
       " 'Self Esteem Q3',\n",
       " 'Depression Q1',\n",
       " 'Depression Q2',\n",
       " 'Depression Q3']"
      ]
     },
     "execution_count": 10,
     "metadata": {},
     "output_type": "execute_result"
    }
   ],
   "source": [
    "# rearranging ADHD and anxiety question columns so that they are sequential\n",
    "\n",
    "titles[11], titles[12] = titles[12], titles[11]\n",
    "titles[12], titles[14] = titles[14], titles[12]\n",
    "titles[13], titles[14] = titles[14], titles[13]\n",
    "data = data[titles]\n",
    "titles"
   ]
  },
  {
   "cell_type": "markdown",
   "id": "3ad394d2",
   "metadata": {
    "papermill": {
     "duration": 0.027308,
     "end_time": "2024-03-10T01:54:40.445052",
     "exception": false,
     "start_time": "2024-03-10T01:54:40.417744",
     "status": "completed"
    },
    "tags": []
   },
   "source": [
    "# **Dropping Columns**\n",
    "\n",
    "I will not need timestamp or organization affiliation as it is not relevant to my project \n"
   ]
  },
  {
   "cell_type": "code",
   "execution_count": 11,
   "id": "7d03b5f9",
   "metadata": {
    "execution": {
     "iopub.execute_input": "2024-03-10T01:54:40.502141Z",
     "iopub.status.busy": "2024-03-10T01:54:40.501680Z",
     "iopub.status.idle": "2024-03-10T01:54:40.510443Z",
     "shell.execute_reply": "2024-03-10T01:54:40.509138Z"
    },
    "papermill": {
     "duration": 0.039614,
     "end_time": "2024-03-10T01:54:40.512909",
     "exception": false,
     "start_time": "2024-03-10T01:54:40.473295",
     "status": "completed"
    },
    "tags": []
   },
   "outputs": [],
   "source": [
    "#drop columns that are not relevant to this project\n",
    "to_drop = ['Timestamp',\n",
    "          'Affiliations']\n",
    "\n",
    "data.drop(to_drop, inplace=True, axis=1)"
   ]
  },
  {
   "cell_type": "code",
   "execution_count": 12,
   "id": "bef78fbd",
   "metadata": {
    "execution": {
     "iopub.execute_input": "2024-03-10T01:54:40.569706Z",
     "iopub.status.busy": "2024-03-10T01:54:40.569231Z",
     "iopub.status.idle": "2024-03-10T01:54:40.577382Z",
     "shell.execute_reply": "2024-03-10T01:54:40.576081Z"
    },
    "papermill": {
     "duration": 0.039035,
     "end_time": "2024-03-10T01:54:40.579983",
     "exception": false,
     "start_time": "2024-03-10T01:54:40.540948",
     "status": "completed"
    },
    "tags": []
   },
   "outputs": [
    {
     "data": {
      "text/plain": [
       "['Age',\n",
       " 'Gender',\n",
       " 'Relationship Status',\n",
       " 'Occupation',\n",
       " 'Social Media User?',\n",
       " 'Platforms Used',\n",
       " 'Hours Per Day',\n",
       " 'ADHD Q1',\n",
       " 'ADHD Q2',\n",
       " 'ADHD Q3',\n",
       " 'ADHD Q4',\n",
       " 'Anxiety Q1',\n",
       " 'Anxiety Q2',\n",
       " 'Self Esteem Q1',\n",
       " 'Self Esteem Q2',\n",
       " 'Self Esteem Q3',\n",
       " 'Depression Q1',\n",
       " 'Depression Q2',\n",
       " 'Depression Q3']"
      ]
     },
     "execution_count": 12,
     "metadata": {},
     "output_type": "execute_result"
    }
   ],
   "source": [
    "#review columns for accuracy\n",
    "titles = list(data.columns)\n",
    "titles"
   ]
  },
  {
   "cell_type": "code",
   "execution_count": 13,
   "id": "8e36fd7e",
   "metadata": {
    "execution": {
     "iopub.execute_input": "2024-03-10T01:54:40.642617Z",
     "iopub.status.busy": "2024-03-10T01:54:40.642144Z",
     "iopub.status.idle": "2024-03-10T01:54:40.648483Z",
     "shell.execute_reply": "2024-03-10T01:54:40.647608Z"
    },
    "papermill": {
     "duration": 0.037685,
     "end_time": "2024-03-10T01:54:40.650711",
     "exception": false,
     "start_time": "2024-03-10T01:54:40.613026",
     "status": "completed"
    },
    "tags": []
   },
   "outputs": [
    {
     "data": {
      "text/plain": [
       "(481, 19)"
      ]
     },
     "execution_count": 13,
     "metadata": {},
     "output_type": "execute_result"
    }
   ],
   "source": [
    "#determining data shape after dropping two columns (number of rows,columns)\n",
    "data.shape"
   ]
  },
  {
   "cell_type": "markdown",
   "id": "9da52ead",
   "metadata": {
    "papermill": {
     "duration": 0.027045,
     "end_time": "2024-03-10T01:54:40.706121",
     "exception": false,
     "start_time": "2024-03-10T01:54:40.679076",
     "status": "completed"
    },
    "tags": []
   },
   "source": [
    "# **Handle Missing Values**\n",
    "\n",
    "The following values are considered missing:\n",
    "* Blank Values\n",
    "* NaN\n",
    "* null"
   ]
  },
  {
   "cell_type": "code",
   "execution_count": 14,
   "id": "e32616c3",
   "metadata": {
    "execution": {
     "iopub.execute_input": "2024-03-10T01:54:40.762892Z",
     "iopub.status.busy": "2024-03-10T01:54:40.762479Z",
     "iopub.status.idle": "2024-03-10T01:54:40.786109Z",
     "shell.execute_reply": "2024-03-10T01:54:40.784517Z"
    },
    "papermill": {
     "duration": 0.055858,
     "end_time": "2024-03-10T01:54:40.789348",
     "exception": false,
     "start_time": "2024-03-10T01:54:40.733490",
     "status": "completed"
    },
    "tags": []
   },
   "outputs": [
    {
     "name": "stdout",
     "output_type": "stream",
     "text": [
      "<class 'pandas.core.frame.DataFrame'>\n",
      "RangeIndex: 481 entries, 0 to 480\n",
      "Data columns (total 19 columns):\n",
      " #   Column               Non-Null Count  Dtype  \n",
      "---  ------               --------------  -----  \n",
      " 0   Age                  481 non-null    float64\n",
      " 1   Gender               481 non-null    object \n",
      " 2   Relationship Status  481 non-null    object \n",
      " 3   Occupation           481 non-null    object \n",
      " 4   Social Media User?   481 non-null    object \n",
      " 5   Platforms Used       481 non-null    object \n",
      " 6   Hours Per Day        481 non-null    object \n",
      " 7   ADHD Q1              481 non-null    int64  \n",
      " 8   ADHD Q2              481 non-null    int64  \n",
      " 9   ADHD Q3              481 non-null    int64  \n",
      " 10  ADHD Q4              481 non-null    int64  \n",
      " 11  Anxiety Q1           481 non-null    int64  \n",
      " 12  Anxiety Q2           481 non-null    int64  \n",
      " 13  Self Esteem Q1       481 non-null    int64  \n",
      " 14  Self Esteem Q2       481 non-null    int64  \n",
      " 15  Self Esteem Q3       481 non-null    int64  \n",
      " 16  Depression Q1        481 non-null    int64  \n",
      " 17  Depression Q2        481 non-null    int64  \n",
      " 18  Depression Q3        481 non-null    int64  \n",
      "dtypes: float64(1), int64(12), object(6)\n",
      "memory usage: 71.5+ KB\n"
     ]
    }
   ],
   "source": [
    "#check for null values\n",
    "#Check number of records in each column of the data set. \n",
    "data.info()"
   ]
  },
  {
   "cell_type": "markdown",
   "id": "5af869b4",
   "metadata": {
    "papermill": {
     "duration": 0.027397,
     "end_time": "2024-03-10T01:54:40.845873",
     "exception": false,
     "start_time": "2024-03-10T01:54:40.818476",
     "status": "completed"
    },
    "tags": []
   },
   "source": [
    "\n",
    "\n",
    "\n",
    "There are no missing values."
   ]
  },
  {
   "cell_type": "markdown",
   "id": "688ad95c",
   "metadata": {
    "papermill": {
     "duration": 0.027083,
     "end_time": "2024-03-10T01:54:40.900548",
     "exception": false,
     "start_time": "2024-03-10T01:54:40.873465",
     "status": "completed"
    },
    "tags": []
   },
   "source": [
    "**Gender**\n",
    "\n",
    "The \"Gender\" column has unique \"Non-Binary\" entries becuase of how the data was collected. Particpants were able to enter string values for Gender. Thus, renaming these columns as \"Non-Binary\" brings cohesiveness. "
   ]
  },
  {
   "cell_type": "code",
   "execution_count": 15,
   "id": "77de9a41",
   "metadata": {
    "execution": {
     "iopub.execute_input": "2024-03-10T01:54:40.958146Z",
     "iopub.status.busy": "2024-03-10T01:54:40.957713Z",
     "iopub.status.idle": "2024-03-10T01:54:40.964251Z",
     "shell.execute_reply": "2024-03-10T01:54:40.963123Z"
    },
    "papermill": {
     "duration": 0.03886,
     "end_time": "2024-03-10T01:54:40.966887",
     "exception": false,
     "start_time": "2024-03-10T01:54:40.928027",
     "status": "completed"
    },
    "tags": []
   },
   "outputs": [
    {
     "name": "stdout",
     "output_type": "stream",
     "text": [
      "{'Non-binary', 'Nonbinary ', 'There are others???', 'NB', 'Female', 'unsure ', 'Trans', 'Non binary ', 'Male'}\n"
     ]
    }
   ],
   "source": [
    "#List all the unique Gender entries.\n",
    "\n",
    "Genders = set(data['Gender'])\n",
    "print(Genders)"
   ]
  },
  {
   "cell_type": "code",
   "execution_count": 16,
   "id": "ddb52b44",
   "metadata": {
    "execution": {
     "iopub.execute_input": "2024-03-10T01:54:41.028220Z",
     "iopub.status.busy": "2024-03-10T01:54:41.027785Z",
     "iopub.status.idle": "2024-03-10T01:54:41.038939Z",
     "shell.execute_reply": "2024-03-10T01:54:41.037756Z"
    },
    "papermill": {
     "duration": 0.046182,
     "end_time": "2024-03-10T01:54:41.041618",
     "exception": false,
     "start_time": "2024-03-10T01:54:40.995436",
     "status": "completed"
    },
    "tags": []
   },
   "outputs": [],
   "source": [
    "#Combining the unique entries that all fall under the \"Non-Binary\" category\n",
    "data.replace('Non-binary','Non-Binary', inplace=True)\n",
    "data.replace('Nonbinary ','Non-Binary', inplace=True)\n",
    "data.replace('NB','Non-Binary', inplace=True)\n",
    "data.replace('Non binary ','Non-Binary', inplace=True)"
   ]
  },
  {
   "cell_type": "code",
   "execution_count": 17,
   "id": "0db63b7e",
   "metadata": {
    "execution": {
     "iopub.execute_input": "2024-03-10T01:54:41.101522Z",
     "iopub.status.busy": "2024-03-10T01:54:41.100990Z",
     "iopub.status.idle": "2024-03-10T01:54:41.108841Z",
     "shell.execute_reply": "2024-03-10T01:54:41.107519Z"
    },
    "papermill": {
     "duration": 0.042827,
     "end_time": "2024-03-10T01:54:41.112473",
     "exception": false,
     "start_time": "2024-03-10T01:54:41.069646",
     "status": "completed"
    },
    "tags": []
   },
   "outputs": [
    {
     "name": "stdout",
     "output_type": "stream",
     "text": [
      "{'There are others???', 'Female', 'unsure ', 'Non-Binary', 'Trans', 'Male'}\n"
     ]
    }
   ],
   "source": [
    "Genders = set(data['Gender'])\n",
    "print(Genders)"
   ]
  },
  {
   "cell_type": "markdown",
   "id": "fdcdf911",
   "metadata": {
    "papermill": {
     "duration": 0.036219,
     "end_time": "2024-03-10T01:54:41.186464",
     "exception": false,
     "start_time": "2024-03-10T01:54:41.150245",
     "status": "completed"
    },
    "tags": []
   },
   "source": [
    "**Age**\n",
    "\n",
    "'Age' is ;isted as float64 value. This is because of the data record # 382. We should thus convert the 'Age' column to int64 type."
   ]
  },
  {
   "cell_type": "code",
   "execution_count": 18,
   "id": "24f8275c",
   "metadata": {
    "execution": {
     "iopub.execute_input": "2024-03-10T01:54:41.249357Z",
     "iopub.status.busy": "2024-03-10T01:54:41.248858Z",
     "iopub.status.idle": "2024-03-10T01:54:41.266343Z",
     "shell.execute_reply": "2024-03-10T01:54:41.265020Z"
    },
    "papermill": {
     "duration": 0.050195,
     "end_time": "2024-03-10T01:54:41.269212",
     "exception": false,
     "start_time": "2024-03-10T01:54:41.219017",
     "status": "completed"
    },
    "tags": []
   },
   "outputs": [
    {
     "name": "stdout",
     "output_type": "stream",
     "text": [
      "<class 'pandas.core.frame.DataFrame'>\n",
      "RangeIndex: 481 entries, 0 to 480\n",
      "Data columns (total 19 columns):\n",
      " #   Column               Non-Null Count  Dtype  \n",
      "---  ------               --------------  -----  \n",
      " 0   Age                  481 non-null    float64\n",
      " 1   Gender               481 non-null    object \n",
      " 2   Relationship Status  481 non-null    object \n",
      " 3   Occupation           481 non-null    object \n",
      " 4   Social Media User?   481 non-null    object \n",
      " 5   Platforms Used       481 non-null    object \n",
      " 6   Hours Per Day        481 non-null    object \n",
      " 7   ADHD Q1              481 non-null    int64  \n",
      " 8   ADHD Q2              481 non-null    int64  \n",
      " 9   ADHD Q3              481 non-null    int64  \n",
      " 10  ADHD Q4              481 non-null    int64  \n",
      " 11  Anxiety Q1           481 non-null    int64  \n",
      " 12  Anxiety Q2           481 non-null    int64  \n",
      " 13  Self Esteem Q1       481 non-null    int64  \n",
      " 14  Self Esteem Q2       481 non-null    int64  \n",
      " 15  Self Esteem Q3       481 non-null    int64  \n",
      " 16  Depression Q1        481 non-null    int64  \n",
      " 17  Depression Q2        481 non-null    int64  \n",
      " 18  Depression Q3        481 non-null    int64  \n",
      "dtypes: float64(1), int64(12), object(6)\n",
      "memory usage: 71.5+ KB\n"
     ]
    }
   ],
   "source": [
    "data.info()"
   ]
  },
  {
   "cell_type": "code",
   "execution_count": 19,
   "id": "bf0fc800",
   "metadata": {
    "execution": {
     "iopub.execute_input": "2024-03-10T01:54:41.328925Z",
     "iopub.status.busy": "2024-03-10T01:54:41.328432Z",
     "iopub.status.idle": "2024-03-10T01:54:41.343444Z",
     "shell.execute_reply": "2024-03-10T01:54:41.342168Z"
    },
    "papermill": {
     "duration": 0.047421,
     "end_time": "2024-03-10T01:54:41.346293",
     "exception": false,
     "start_time": "2024-03-10T01:54:41.298872",
     "status": "completed"
    },
    "tags": []
   },
   "outputs": [
    {
     "name": "stdout",
     "output_type": "stream",
     "text": [
      "float64\n",
      "      Age  Gender Relationship Status          Occupation Social Media User?  \\\n",
      "382  26.7  Female              Single  University Student                Yes   \n",
      "\n",
      "        Platforms Used      Hours Per Day  ADHD Q1  ADHD Q2  ADHD Q3  ADHD Q4  \\\n",
      "382  Facebook, YouTube  More than 5 hours        4        2        3        3   \n",
      "\n",
      "     Anxiety Q1  Anxiety Q2  Self Esteem Q1  Self Esteem Q2  Self Esteem Q3  \\\n",
      "382           2           5               5               2               3   \n",
      "\n",
      "     Depression Q1  Depression Q2  Depression Q3  \n",
      "382              4              5              5  \n"
     ]
    }
   ],
   "source": [
    "# Check the data type of the 'Age' column\n",
    "print(data['Age'].dtype)\n",
    "\n",
    "# Find rows where 'Age' is not a whole number (integer)\n",
    "non_integer_age_rows = data[~data['Age'].apply(lambda x: x.is_integer())]\n",
    "\n",
    "# Display the rows with non-integer 'Age' values\n",
    "print(non_integer_age_rows)"
   ]
  },
  {
   "cell_type": "markdown",
   "id": "576aabce",
   "metadata": {
    "papermill": {
     "duration": 0.027807,
     "end_time": "2024-03-10T01:54:41.403787",
     "exception": false,
     "start_time": "2024-03-10T01:54:41.375980",
     "status": "completed"
    },
    "tags": []
   },
   "source": [
    "Recored number 382 holds the non-integer value of 26.7 in the \"Age\" column. "
   ]
  },
  {
   "cell_type": "code",
   "execution_count": 20,
   "id": "50966753",
   "metadata": {
    "execution": {
     "iopub.execute_input": "2024-03-10T01:54:41.462748Z",
     "iopub.status.busy": "2024-03-10T01:54:41.462258Z",
     "iopub.status.idle": "2024-03-10T01:54:41.480126Z",
     "shell.execute_reply": "2024-03-10T01:54:41.478121Z"
    },
    "papermill": {
     "duration": 0.050491,
     "end_time": "2024-03-10T01:54:41.482778",
     "exception": false,
     "start_time": "2024-03-10T01:54:41.432287",
     "status": "completed"
    },
    "tags": []
   },
   "outputs": [
    {
     "name": "stdout",
     "output_type": "stream",
     "text": [
      "int64\n",
      "<class 'pandas.core.frame.DataFrame'>\n",
      "RangeIndex: 481 entries, 0 to 480\n",
      "Data columns (total 19 columns):\n",
      " #   Column               Non-Null Count  Dtype \n",
      "---  ------               --------------  ----- \n",
      " 0   Age                  481 non-null    int64 \n",
      " 1   Gender               481 non-null    object\n",
      " 2   Relationship Status  481 non-null    object\n",
      " 3   Occupation           481 non-null    object\n",
      " 4   Social Media User?   481 non-null    object\n",
      " 5   Platforms Used       481 non-null    object\n",
      " 6   Hours Per Day        481 non-null    object\n",
      " 7   ADHD Q1              481 non-null    int64 \n",
      " 8   ADHD Q2              481 non-null    int64 \n",
      " 9   ADHD Q3              481 non-null    int64 \n",
      " 10  ADHD Q4              481 non-null    int64 \n",
      " 11  Anxiety Q1           481 non-null    int64 \n",
      " 12  Anxiety Q2           481 non-null    int64 \n",
      " 13  Self Esteem Q1       481 non-null    int64 \n",
      " 14  Self Esteem Q2       481 non-null    int64 \n",
      " 15  Self Esteem Q3       481 non-null    int64 \n",
      " 16  Depression Q1        481 non-null    int64 \n",
      " 17  Depression Q2        481 non-null    int64 \n",
      " 18  Depression Q3        481 non-null    int64 \n",
      "dtypes: int64(13), object(6)\n",
      "memory usage: 71.5+ KB\n"
     ]
    }
   ],
   "source": [
    "# Convert the 'Age' column from float64 to int64\n",
    "data['Age'] = data['Age'].astype('int64')\n",
    "\n",
    "# Check the data type of the 'Age' column after conversion\n",
    "print(data['Age'].dtype)\n",
    "data.info()"
   ]
  },
  {
   "cell_type": "code",
   "execution_count": 21,
   "id": "d4dccf29",
   "metadata": {
    "execution": {
     "iopub.execute_input": "2024-03-10T01:54:41.542223Z",
     "iopub.status.busy": "2024-03-10T01:54:41.541787Z",
     "iopub.status.idle": "2024-03-10T01:54:41.549395Z",
     "shell.execute_reply": "2024-03-10T01:54:41.548195Z"
    },
    "papermill": {
     "duration": 0.040236,
     "end_time": "2024-03-10T01:54:41.551811",
     "exception": false,
     "start_time": "2024-03-10T01:54:41.511575",
     "status": "completed"
    },
    "tags": []
   },
   "outputs": [
    {
     "data": {
      "text/plain": [
       "26"
      ]
     },
     "execution_count": 21,
     "metadata": {},
     "output_type": "execute_result"
    }
   ],
   "source": [
    "#check what the value \"26.7\" was changed into\n",
    "data.loc[382,'Age']"
   ]
  },
  {
   "cell_type": "markdown",
   "id": "934b5f16",
   "metadata": {
    "papermill": {
     "duration": 0.028129,
     "end_time": "2024-03-10T01:54:41.608163",
     "exception": false,
     "start_time": "2024-03-10T01:54:41.580034",
     "status": "completed"
    },
    "tags": []
   },
   "source": [
    "**Scalar Adjustment**\n",
    "<br>\n",
    "<br>\n",
    "Higher scores equal worse mental health.\n",
    "<br>\n",
    "Lower scores equal better mental health. \n",
    "<br>\n",
    "<br>\n",
    "The scale for Self Esteem Question 2 must be reversed in order to be consistent with this. \n",
    "<br>\n",
    "<br>\n",
    "All other question follow a scale like this:\n",
    "<br>\n",
    "1 = very negative\n",
    "<br>\n",
    "2 = negative\n",
    "<br>\n",
    "3 = netral\n",
    "<br>\n",
    "4 = positive\n",
    "<br>\n",
    "5 = very positive\n",
    "<br>\n",
    "<br>\n",
    "Question 2 asks: \"Following the previous question, how do you feel about these comparisons, generally speaking?\".\n",
    "<br>\n",
    "Since higher score equal worse mental health, and in this question, a higher score equals more postive or better mental health, the scale needs to be reversed to:\n",
    "<br>\n",
    "<br>\n",
    "5 = very negative\n",
    "<br>\n",
    "4 = slightly negative\n",
    "<br>\n",
    "3 = neutral\n",
    "<br>\n",
    "2 = slightly positive\n",
    "<br>\n",
    "1 = very positive"
   ]
  },
  {
   "cell_type": "code",
   "execution_count": 22,
   "id": "9edf64ed",
   "metadata": {
    "execution": {
     "iopub.execute_input": "2024-03-10T01:54:41.666763Z",
     "iopub.status.busy": "2024-03-10T01:54:41.666284Z",
     "iopub.status.idle": "2024-03-10T01:54:41.677657Z",
     "shell.execute_reply": "2024-03-10T01:54:41.676402Z"
    },
    "papermill": {
     "duration": 0.044308,
     "end_time": "2024-03-10T01:54:41.680512",
     "exception": false,
     "start_time": "2024-03-10T01:54:41.636204",
     "status": "completed"
    },
    "tags": []
   },
   "outputs": [],
   "source": [
    "#Setting scale scores\n",
    "data.loc[data['Self Esteem Q2'] == 1, 'Self Esteem Q2'] = 5\n",
    "data.loc[data['Self Esteem Q2'] == 2, 'Self Esteem Q2'] = 4\n",
    "data.loc[data['Self Esteem Q2'] == 3, 'Self Esteem Q2'] = 3\n",
    "data.loc[data['Self Esteem Q2'] == 4, 'Self Esteem Q2'] = 2\n",
    "data.loc[data['Self Esteem Q2'] == 5, 'Self Esteem Q2'] = 1"
   ]
  },
  {
   "cell_type": "code",
   "execution_count": 23,
   "id": "5103afb6",
   "metadata": {
    "execution": {
     "iopub.execute_input": "2024-03-10T01:54:41.739521Z",
     "iopub.status.busy": "2024-03-10T01:54:41.738463Z",
     "iopub.status.idle": "2024-03-10T01:54:41.759592Z",
     "shell.execute_reply": "2024-03-10T01:54:41.758389Z"
    },
    "papermill": {
     "duration": 0.053548,
     "end_time": "2024-03-10T01:54:41.762204",
     "exception": false,
     "start_time": "2024-03-10T01:54:41.708656",
     "status": "completed"
    },
    "tags": []
   },
   "outputs": [
    {
     "data": {
      "text/html": [
       "<div>\n",
       "<style scoped>\n",
       "    .dataframe tbody tr th:only-of-type {\n",
       "        vertical-align: middle;\n",
       "    }\n",
       "\n",
       "    .dataframe tbody tr th {\n",
       "        vertical-align: top;\n",
       "    }\n",
       "\n",
       "    .dataframe thead th {\n",
       "        text-align: right;\n",
       "    }\n",
       "</style>\n",
       "<table border=\"1\" class=\"dataframe\">\n",
       "  <thead>\n",
       "    <tr style=\"text-align: right;\">\n",
       "      <th></th>\n",
       "      <th>Age</th>\n",
       "      <th>Gender</th>\n",
       "      <th>Relationship Status</th>\n",
       "      <th>Occupation</th>\n",
       "      <th>Social Media User?</th>\n",
       "      <th>Platforms Used</th>\n",
       "      <th>Hours Per Day</th>\n",
       "      <th>ADHD Q1</th>\n",
       "      <th>ADHD Q2</th>\n",
       "      <th>ADHD Q3</th>\n",
       "      <th>ADHD Q4</th>\n",
       "      <th>Anxiety Q1</th>\n",
       "      <th>Anxiety Q2</th>\n",
       "      <th>Self Esteem Q1</th>\n",
       "      <th>Self Esteem Q2</th>\n",
       "      <th>Self Esteem Q3</th>\n",
       "      <th>Depression Q1</th>\n",
       "      <th>Depression Q2</th>\n",
       "      <th>Depression Q3</th>\n",
       "    </tr>\n",
       "  </thead>\n",
       "  <tbody>\n",
       "    <tr>\n",
       "      <th>0</th>\n",
       "      <td>21</td>\n",
       "      <td>Male</td>\n",
       "      <td>In a relationship</td>\n",
       "      <td>University Student</td>\n",
       "      <td>Yes</td>\n",
       "      <td>Facebook, Twitter, Instagram, YouTube, Discord...</td>\n",
       "      <td>Between 2 and 3 hours</td>\n",
       "      <td>5</td>\n",
       "      <td>3</td>\n",
       "      <td>5</td>\n",
       "      <td>5</td>\n",
       "      <td>2</td>\n",
       "      <td>2</td>\n",
       "      <td>2</td>\n",
       "      <td>3</td>\n",
       "      <td>2</td>\n",
       "      <td>5</td>\n",
       "      <td>4</td>\n",
       "      <td>5</td>\n",
       "    </tr>\n",
       "    <tr>\n",
       "      <th>1</th>\n",
       "      <td>21</td>\n",
       "      <td>Female</td>\n",
       "      <td>Single</td>\n",
       "      <td>University Student</td>\n",
       "      <td>Yes</td>\n",
       "      <td>Facebook, Twitter, Instagram, YouTube, Discord...</td>\n",
       "      <td>More than 5 hours</td>\n",
       "      <td>4</td>\n",
       "      <td>3</td>\n",
       "      <td>4</td>\n",
       "      <td>4</td>\n",
       "      <td>2</td>\n",
       "      <td>5</td>\n",
       "      <td>5</td>\n",
       "      <td>1</td>\n",
       "      <td>1</td>\n",
       "      <td>5</td>\n",
       "      <td>4</td>\n",
       "      <td>5</td>\n",
       "    </tr>\n",
       "    <tr>\n",
       "      <th>2</th>\n",
       "      <td>21</td>\n",
       "      <td>Female</td>\n",
       "      <td>Single</td>\n",
       "      <td>University Student</td>\n",
       "      <td>Yes</td>\n",
       "      <td>Facebook, Instagram, YouTube, Pinterest</td>\n",
       "      <td>Between 3 and 4 hours</td>\n",
       "      <td>3</td>\n",
       "      <td>2</td>\n",
       "      <td>2</td>\n",
       "      <td>4</td>\n",
       "      <td>1</td>\n",
       "      <td>5</td>\n",
       "      <td>3</td>\n",
       "      <td>3</td>\n",
       "      <td>1</td>\n",
       "      <td>4</td>\n",
       "      <td>2</td>\n",
       "      <td>5</td>\n",
       "    </tr>\n",
       "    <tr>\n",
       "      <th>3</th>\n",
       "      <td>21</td>\n",
       "      <td>Female</td>\n",
       "      <td>Single</td>\n",
       "      <td>University Student</td>\n",
       "      <td>Yes</td>\n",
       "      <td>Facebook, Instagram</td>\n",
       "      <td>More than 5 hours</td>\n",
       "      <td>4</td>\n",
       "      <td>2</td>\n",
       "      <td>3</td>\n",
       "      <td>3</td>\n",
       "      <td>1</td>\n",
       "      <td>5</td>\n",
       "      <td>5</td>\n",
       "      <td>1</td>\n",
       "      <td>2</td>\n",
       "      <td>4</td>\n",
       "      <td>3</td>\n",
       "      <td>2</td>\n",
       "    </tr>\n",
       "    <tr>\n",
       "      <th>4</th>\n",
       "      <td>21</td>\n",
       "      <td>Female</td>\n",
       "      <td>Single</td>\n",
       "      <td>University Student</td>\n",
       "      <td>Yes</td>\n",
       "      <td>Facebook, Instagram, YouTube</td>\n",
       "      <td>Between 2 and 3 hours</td>\n",
       "      <td>3</td>\n",
       "      <td>5</td>\n",
       "      <td>4</td>\n",
       "      <td>5</td>\n",
       "      <td>4</td>\n",
       "      <td>5</td>\n",
       "      <td>3</td>\n",
       "      <td>3</td>\n",
       "      <td>3</td>\n",
       "      <td>4</td>\n",
       "      <td>4</td>\n",
       "      <td>1</td>\n",
       "    </tr>\n",
       "  </tbody>\n",
       "</table>\n",
       "</div>"
      ],
      "text/plain": [
       "   Age  Gender Relationship Status          Occupation Social Media User?  \\\n",
       "0   21    Male   In a relationship  University Student                Yes   \n",
       "1   21  Female              Single  University Student                Yes   \n",
       "2   21  Female              Single  University Student                Yes   \n",
       "3   21  Female              Single  University Student                Yes   \n",
       "4   21  Female              Single  University Student                Yes   \n",
       "\n",
       "                                      Platforms Used          Hours Per Day  \\\n",
       "0  Facebook, Twitter, Instagram, YouTube, Discord...  Between 2 and 3 hours   \n",
       "1  Facebook, Twitter, Instagram, YouTube, Discord...      More than 5 hours   \n",
       "2            Facebook, Instagram, YouTube, Pinterest  Between 3 and 4 hours   \n",
       "3                                Facebook, Instagram      More than 5 hours   \n",
       "4                       Facebook, Instagram, YouTube  Between 2 and 3 hours   \n",
       "\n",
       "   ADHD Q1  ADHD Q2  ADHD Q3  ADHD Q4  Anxiety Q1  Anxiety Q2  Self Esteem Q1  \\\n",
       "0        5        3        5        5           2           2               2   \n",
       "1        4        3        4        4           2           5               5   \n",
       "2        3        2        2        4           1           5               3   \n",
       "3        4        2        3        3           1           5               5   \n",
       "4        3        5        4        5           4           5               3   \n",
       "\n",
       "   Self Esteem Q2  Self Esteem Q3  Depression Q1  Depression Q2  Depression Q3  \n",
       "0               3               2              5              4              5  \n",
       "1               1               1              5              4              5  \n",
       "2               3               1              4              2              5  \n",
       "3               1               2              4              3              2  \n",
       "4               3               3              4              4              1  "
      ]
     },
     "execution_count": 23,
     "metadata": {},
     "output_type": "execute_result"
    }
   ],
   "source": [
    "data.head()"
   ]
  },
  {
   "cell_type": "markdown",
   "id": "bfe7c4ab",
   "metadata": {
    "papermill": {
     "duration": 0.030225,
     "end_time": "2024-03-10T01:54:41.822146",
     "exception": false,
     "start_time": "2024-03-10T01:54:41.791921",
     "status": "completed"
    },
    "tags": []
   },
   "source": [
    "#  **Data Aggragation**\n",
    "\n",
    "**Summation of Mental Health Screening Scores**\n",
    "\n",
    "The different mental health screening questions are added together for a final score and compared to a scale in order to determined degree of symtpoms.\n",
    "\n",
    "The four screenings are:\n",
    "* 4 Attention Deficit Hyperactivity Disorder (ADHD) Questions\n",
    "* 2 Anxiety Questions\n",
    "* 3 Self Esteem Questions\n",
    "* 3 Depression Questions\n",
    "\n",
    "\n",
    "\n",
    "* Highest ADHD Total Score is 20\n",
    "* Highest Anxiety Total Score is 10\n",
    "* Highest Self-Esteem Total Score is 15\n",
    "* Highests Depression Total Score is 15\n",
    "\n",
    "\n",
    "With 12 total questions, the highest total possible score is 60. \n",
    "<br>\n",
    "\n",
    " \n",
    "\n",
    "\n",
    "\n",
    "A new column for each screening is created to get sums, then a \"Total Score\" column will list the total sum of all four screenings per row. \n"
   ]
  },
  {
   "cell_type": "code",
   "execution_count": 24,
   "id": "560a0e35",
   "metadata": {
    "execution": {
     "iopub.execute_input": "2024-03-10T01:54:41.882067Z",
     "iopub.status.busy": "2024-03-10T01:54:41.880987Z",
     "iopub.status.idle": "2024-03-10T01:54:41.899271Z",
     "shell.execute_reply": "2024-03-10T01:54:41.898112Z"
    },
    "papermill": {
     "duration": 0.051282,
     "end_time": "2024-03-10T01:54:41.902070",
     "exception": false,
     "start_time": "2024-03-10T01:54:41.850788",
     "status": "completed"
    },
    "tags": []
   },
   "outputs": [],
   "source": [
    "#Sum scores and add new column\n",
    "\n",
    "ADHD = ['ADHD Q1', 'ADHD Q2', 'ADHD Q3', 'ADHD Q4']\n",
    "data['ADHD Score'] = data[ADHD].sum(axis=1)\n",
    "\n",
    "Anxiety = ['Anxiety Q1', 'Anxiety Q2']\n",
    "data['Anxiety Score'] = data[Anxiety].sum(axis=1)\n",
    "\n",
    "SelfEsteem = ['Self Esteem Q1', 'Self Esteem Q2', 'Self Esteem Q3']\n",
    "data['Self Esteem Score'] = data[SelfEsteem].sum(axis=1)\n",
    "\n",
    "Depression = ['Depression Q1', 'Depression Q2', 'Depression Q3']\n",
    "data['Depression Score'] = data[Depression].sum(axis=1)\n",
    "\n",
    "Total = ['ADHD Score', 'Anxiety Score', 'Self Esteem Score', 'Depression Score']\n",
    "data['Total Score'] = data[Total].sum(axis=1)\n",
    "\n",
    "# Deleting question columns and timestamp columns as they are no longer used\n",
    "data.drop(columns=ADHD + Anxiety + SelfEsteem + Depression, inplace=True)"
   ]
  },
  {
   "cell_type": "code",
   "execution_count": 25,
   "id": "50bc1bda",
   "metadata": {
    "execution": {
     "iopub.execute_input": "2024-03-10T01:54:41.966967Z",
     "iopub.status.busy": "2024-03-10T01:54:41.965775Z",
     "iopub.status.idle": "2024-03-10T01:54:41.984381Z",
     "shell.execute_reply": "2024-03-10T01:54:41.983111Z"
    },
    "papermill": {
     "duration": 0.052164,
     "end_time": "2024-03-10T01:54:41.987387",
     "exception": false,
     "start_time": "2024-03-10T01:54:41.935223",
     "status": "completed"
    },
    "tags": []
   },
   "outputs": [
    {
     "data": {
      "text/html": [
       "<div>\n",
       "<style scoped>\n",
       "    .dataframe tbody tr th:only-of-type {\n",
       "        vertical-align: middle;\n",
       "    }\n",
       "\n",
       "    .dataframe tbody tr th {\n",
       "        vertical-align: top;\n",
       "    }\n",
       "\n",
       "    .dataframe thead th {\n",
       "        text-align: right;\n",
       "    }\n",
       "</style>\n",
       "<table border=\"1\" class=\"dataframe\">\n",
       "  <thead>\n",
       "    <tr style=\"text-align: right;\">\n",
       "      <th></th>\n",
       "      <th>Age</th>\n",
       "      <th>Gender</th>\n",
       "      <th>Relationship Status</th>\n",
       "      <th>Occupation</th>\n",
       "      <th>Social Media User?</th>\n",
       "      <th>Platforms Used</th>\n",
       "      <th>Hours Per Day</th>\n",
       "      <th>ADHD Score</th>\n",
       "      <th>Anxiety Score</th>\n",
       "      <th>Self Esteem Score</th>\n",
       "      <th>Depression Score</th>\n",
       "      <th>Total Score</th>\n",
       "    </tr>\n",
       "  </thead>\n",
       "  <tbody>\n",
       "    <tr>\n",
       "      <th>0</th>\n",
       "      <td>21</td>\n",
       "      <td>Male</td>\n",
       "      <td>In a relationship</td>\n",
       "      <td>University Student</td>\n",
       "      <td>Yes</td>\n",
       "      <td>Facebook, Twitter, Instagram, YouTube, Discord...</td>\n",
       "      <td>Between 2 and 3 hours</td>\n",
       "      <td>18</td>\n",
       "      <td>4</td>\n",
       "      <td>7</td>\n",
       "      <td>14</td>\n",
       "      <td>43</td>\n",
       "    </tr>\n",
       "    <tr>\n",
       "      <th>1</th>\n",
       "      <td>21</td>\n",
       "      <td>Female</td>\n",
       "      <td>Single</td>\n",
       "      <td>University Student</td>\n",
       "      <td>Yes</td>\n",
       "      <td>Facebook, Twitter, Instagram, YouTube, Discord...</td>\n",
       "      <td>More than 5 hours</td>\n",
       "      <td>15</td>\n",
       "      <td>7</td>\n",
       "      <td>7</td>\n",
       "      <td>14</td>\n",
       "      <td>43</td>\n",
       "    </tr>\n",
       "    <tr>\n",
       "      <th>2</th>\n",
       "      <td>21</td>\n",
       "      <td>Female</td>\n",
       "      <td>Single</td>\n",
       "      <td>University Student</td>\n",
       "      <td>Yes</td>\n",
       "      <td>Facebook, Instagram, YouTube, Pinterest</td>\n",
       "      <td>Between 3 and 4 hours</td>\n",
       "      <td>11</td>\n",
       "      <td>6</td>\n",
       "      <td>7</td>\n",
       "      <td>11</td>\n",
       "      <td>35</td>\n",
       "    </tr>\n",
       "    <tr>\n",
       "      <th>3</th>\n",
       "      <td>21</td>\n",
       "      <td>Female</td>\n",
       "      <td>Single</td>\n",
       "      <td>University Student</td>\n",
       "      <td>Yes</td>\n",
       "      <td>Facebook, Instagram</td>\n",
       "      <td>More than 5 hours</td>\n",
       "      <td>12</td>\n",
       "      <td>6</td>\n",
       "      <td>8</td>\n",
       "      <td>9</td>\n",
       "      <td>35</td>\n",
       "    </tr>\n",
       "    <tr>\n",
       "      <th>4</th>\n",
       "      <td>21</td>\n",
       "      <td>Female</td>\n",
       "      <td>Single</td>\n",
       "      <td>University Student</td>\n",
       "      <td>Yes</td>\n",
       "      <td>Facebook, Instagram, YouTube</td>\n",
       "      <td>Between 2 and 3 hours</td>\n",
       "      <td>17</td>\n",
       "      <td>9</td>\n",
       "      <td>9</td>\n",
       "      <td>9</td>\n",
       "      <td>44</td>\n",
       "    </tr>\n",
       "  </tbody>\n",
       "</table>\n",
       "</div>"
      ],
      "text/plain": [
       "   Age  Gender Relationship Status          Occupation Social Media User?  \\\n",
       "0   21    Male   In a relationship  University Student                Yes   \n",
       "1   21  Female              Single  University Student                Yes   \n",
       "2   21  Female              Single  University Student                Yes   \n",
       "3   21  Female              Single  University Student                Yes   \n",
       "4   21  Female              Single  University Student                Yes   \n",
       "\n",
       "                                      Platforms Used          Hours Per Day  \\\n",
       "0  Facebook, Twitter, Instagram, YouTube, Discord...  Between 2 and 3 hours   \n",
       "1  Facebook, Twitter, Instagram, YouTube, Discord...      More than 5 hours   \n",
       "2            Facebook, Instagram, YouTube, Pinterest  Between 3 and 4 hours   \n",
       "3                                Facebook, Instagram      More than 5 hours   \n",
       "4                       Facebook, Instagram, YouTube  Between 2 and 3 hours   \n",
       "\n",
       "   ADHD Score  Anxiety Score  Self Esteem Score  Depression Score  Total Score  \n",
       "0          18              4                  7                14           43  \n",
       "1          15              7                  7                14           43  \n",
       "2          11              6                  7                11           35  \n",
       "3          12              6                  8                 9           35  \n",
       "4          17              9                  9                 9           44  "
      ]
     },
     "execution_count": 25,
     "metadata": {},
     "output_type": "execute_result"
    }
   ],
   "source": [
    "data.head(5)"
   ]
  },
  {
   "cell_type": "markdown",
   "id": "7fde11a4",
   "metadata": {
    "papermill": {
     "duration": 0.028937,
     "end_time": "2024-03-10T01:54:42.045955",
     "exception": false,
     "start_time": "2024-03-10T01:54:42.017018",
     "status": "completed"
    },
    "tags": []
   },
   "source": [
    "**Rename Data Values**\n",
    "\n",
    "Renaming the values in column \"Hours Per Day\" for better readability. "
   ]
  },
  {
   "cell_type": "code",
   "execution_count": 26,
   "id": "db55ff03",
   "metadata": {
    "execution": {
     "iopub.execute_input": "2024-03-10T01:54:42.107049Z",
     "iopub.status.busy": "2024-03-10T01:54:42.106442Z",
     "iopub.status.idle": "2024-03-10T01:54:42.116243Z",
     "shell.execute_reply": "2024-03-10T01:54:42.114490Z"
    },
    "papermill": {
     "duration": 0.044624,
     "end_time": "2024-03-10T01:54:42.119719",
     "exception": false,
     "start_time": "2024-03-10T01:54:42.075095",
     "status": "completed"
    },
    "tags": []
   },
   "outputs": [
    {
     "name": "stdout",
     "output_type": "stream",
     "text": [
      "Counts of Hours Spent Per Day:\n",
      "More than 5 hours        116\n",
      "Between 2 and 3 hours    101\n",
      "Between 3 and 4 hours     93\n",
      "Between 1 and 2 hours     70\n",
      "Between 4 and 5 hours     67\n",
      "Less than an Hour         34\n",
      "Name: Hours Per Day, dtype: int64\n"
     ]
    }
   ],
   "source": [
    "# Count unique values in the 'Hours Per Day' column\n",
    "hour_counts = data['Hours Per Day'].value_counts()\n",
    "\n",
    "# Print the counts\n",
    "print(\"Counts of Hours Spent Per Day:\")\n",
    "print(hour_counts)"
   ]
  },
  {
   "cell_type": "code",
   "execution_count": 27,
   "id": "7625e986",
   "metadata": {
    "execution": {
     "iopub.execute_input": "2024-03-10T01:54:42.183119Z",
     "iopub.status.busy": "2024-03-10T01:54:42.182646Z",
     "iopub.status.idle": "2024-03-10T01:54:42.195486Z",
     "shell.execute_reply": "2024-03-10T01:54:42.194140Z"
    },
    "papermill": {
     "duration": 0.047571,
     "end_time": "2024-03-10T01:54:42.198121",
     "exception": false,
     "start_time": "2024-03-10T01:54:42.150550",
     "status": "completed"
    },
    "tags": []
   },
   "outputs": [],
   "source": [
    "#Setting new value labels\n",
    "data.loc[data['Hours Per Day'] == 'More than 5 hours', 'Hours Per Day'] = '5.5h'\n",
    "data.loc[data['Hours Per Day'] == 'Between 2 and 3 hours', 'Hours Per Day'] = '2.5h'\n",
    "data.loc[data['Hours Per Day'] == 'Between 3 and 4 hours', 'Hours Per Day'] = '3.5h'\n",
    "data.loc[data['Hours Per Day'] == 'Between 1 and 2 hours', 'Hours Per Day'] = '1.5h'\n",
    "data.loc[data['Hours Per Day'] == 'Between 4 and 5 hours', 'Hours Per Day'] = '4.5h'\n",
    "data.loc[data['Hours Per Day'] == 'Less than an Hour', 'Hours Per Day'] = '0.5h'"
   ]
  },
  {
   "cell_type": "code",
   "execution_count": 28,
   "id": "cf363dc0",
   "metadata": {
    "execution": {
     "iopub.execute_input": "2024-03-10T01:54:42.261207Z",
     "iopub.status.busy": "2024-03-10T01:54:42.260734Z",
     "iopub.status.idle": "2024-03-10T01:54:42.277996Z",
     "shell.execute_reply": "2024-03-10T01:54:42.276770Z"
    },
    "papermill": {
     "duration": 0.050524,
     "end_time": "2024-03-10T01:54:42.280699",
     "exception": false,
     "start_time": "2024-03-10T01:54:42.230175",
     "status": "completed"
    },
    "tags": []
   },
   "outputs": [
    {
     "data": {
      "text/html": [
       "<div>\n",
       "<style scoped>\n",
       "    .dataframe tbody tr th:only-of-type {\n",
       "        vertical-align: middle;\n",
       "    }\n",
       "\n",
       "    .dataframe tbody tr th {\n",
       "        vertical-align: top;\n",
       "    }\n",
       "\n",
       "    .dataframe thead th {\n",
       "        text-align: right;\n",
       "    }\n",
       "</style>\n",
       "<table border=\"1\" class=\"dataframe\">\n",
       "  <thead>\n",
       "    <tr style=\"text-align: right;\">\n",
       "      <th></th>\n",
       "      <th>Age</th>\n",
       "      <th>Gender</th>\n",
       "      <th>Relationship Status</th>\n",
       "      <th>Occupation</th>\n",
       "      <th>Social Media User?</th>\n",
       "      <th>Platforms Used</th>\n",
       "      <th>Hours Per Day</th>\n",
       "      <th>ADHD Score</th>\n",
       "      <th>Anxiety Score</th>\n",
       "      <th>Self Esteem Score</th>\n",
       "      <th>Depression Score</th>\n",
       "      <th>Total Score</th>\n",
       "    </tr>\n",
       "  </thead>\n",
       "  <tbody>\n",
       "    <tr>\n",
       "      <th>0</th>\n",
       "      <td>21</td>\n",
       "      <td>Male</td>\n",
       "      <td>In a relationship</td>\n",
       "      <td>University Student</td>\n",
       "      <td>Yes</td>\n",
       "      <td>Facebook, Twitter, Instagram, YouTube, Discord...</td>\n",
       "      <td>2.5h</td>\n",
       "      <td>18</td>\n",
       "      <td>4</td>\n",
       "      <td>7</td>\n",
       "      <td>14</td>\n",
       "      <td>43</td>\n",
       "    </tr>\n",
       "    <tr>\n",
       "      <th>1</th>\n",
       "      <td>21</td>\n",
       "      <td>Female</td>\n",
       "      <td>Single</td>\n",
       "      <td>University Student</td>\n",
       "      <td>Yes</td>\n",
       "      <td>Facebook, Twitter, Instagram, YouTube, Discord...</td>\n",
       "      <td>5.5h</td>\n",
       "      <td>15</td>\n",
       "      <td>7</td>\n",
       "      <td>7</td>\n",
       "      <td>14</td>\n",
       "      <td>43</td>\n",
       "    </tr>\n",
       "    <tr>\n",
       "      <th>2</th>\n",
       "      <td>21</td>\n",
       "      <td>Female</td>\n",
       "      <td>Single</td>\n",
       "      <td>University Student</td>\n",
       "      <td>Yes</td>\n",
       "      <td>Facebook, Instagram, YouTube, Pinterest</td>\n",
       "      <td>3.5h</td>\n",
       "      <td>11</td>\n",
       "      <td>6</td>\n",
       "      <td>7</td>\n",
       "      <td>11</td>\n",
       "      <td>35</td>\n",
       "    </tr>\n",
       "    <tr>\n",
       "      <th>3</th>\n",
       "      <td>21</td>\n",
       "      <td>Female</td>\n",
       "      <td>Single</td>\n",
       "      <td>University Student</td>\n",
       "      <td>Yes</td>\n",
       "      <td>Facebook, Instagram</td>\n",
       "      <td>5.5h</td>\n",
       "      <td>12</td>\n",
       "      <td>6</td>\n",
       "      <td>8</td>\n",
       "      <td>9</td>\n",
       "      <td>35</td>\n",
       "    </tr>\n",
       "    <tr>\n",
       "      <th>4</th>\n",
       "      <td>21</td>\n",
       "      <td>Female</td>\n",
       "      <td>Single</td>\n",
       "      <td>University Student</td>\n",
       "      <td>Yes</td>\n",
       "      <td>Facebook, Instagram, YouTube</td>\n",
       "      <td>2.5h</td>\n",
       "      <td>17</td>\n",
       "      <td>9</td>\n",
       "      <td>9</td>\n",
       "      <td>9</td>\n",
       "      <td>44</td>\n",
       "    </tr>\n",
       "  </tbody>\n",
       "</table>\n",
       "</div>"
      ],
      "text/plain": [
       "   Age  Gender Relationship Status          Occupation Social Media User?  \\\n",
       "0   21    Male   In a relationship  University Student                Yes   \n",
       "1   21  Female              Single  University Student                Yes   \n",
       "2   21  Female              Single  University Student                Yes   \n",
       "3   21  Female              Single  University Student                Yes   \n",
       "4   21  Female              Single  University Student                Yes   \n",
       "\n",
       "                                      Platforms Used Hours Per Day  \\\n",
       "0  Facebook, Twitter, Instagram, YouTube, Discord...          2.5h   \n",
       "1  Facebook, Twitter, Instagram, YouTube, Discord...          5.5h   \n",
       "2            Facebook, Instagram, YouTube, Pinterest          3.5h   \n",
       "3                                Facebook, Instagram          5.5h   \n",
       "4                       Facebook, Instagram, YouTube          2.5h   \n",
       "\n",
       "   ADHD Score  Anxiety Score  Self Esteem Score  Depression Score  Total Score  \n",
       "0          18              4                  7                14           43  \n",
       "1          15              7                  7                14           43  \n",
       "2          11              6                  7                11           35  \n",
       "3          12              6                  8                 9           35  \n",
       "4          17              9                  9                 9           44  "
      ]
     },
     "execution_count": 28,
     "metadata": {},
     "output_type": "execute_result"
    }
   ],
   "source": [
    "#check new labels\n",
    "data.head()"
   ]
  },
  {
   "cell_type": "code",
   "execution_count": 29,
   "id": "a25085fe",
   "metadata": {
    "execution": {
     "iopub.execute_input": "2024-03-10T01:54:42.341662Z",
     "iopub.status.busy": "2024-03-10T01:54:42.341018Z",
     "iopub.status.idle": "2024-03-10T01:54:42.347822Z",
     "shell.execute_reply": "2024-03-10T01:54:42.346798Z"
    },
    "papermill": {
     "duration": 0.039906,
     "end_time": "2024-03-10T01:54:42.349976",
     "exception": false,
     "start_time": "2024-03-10T01:54:42.310070",
     "status": "completed"
    },
    "tags": []
   },
   "outputs": [
    {
     "data": {
      "text/plain": [
       "(481, 12)"
      ]
     },
     "execution_count": 29,
     "metadata": {},
     "output_type": "execute_result"
    }
   ],
   "source": [
    "data.shape"
   ]
  },
  {
   "cell_type": "markdown",
   "id": "f17b03a1",
   "metadata": {
    "papermill": {
     "duration": 0.029249,
     "end_time": "2024-03-10T01:54:42.408864",
     "exception": false,
     "start_time": "2024-03-10T01:54:42.379615",
     "status": "completed"
    },
    "tags": []
   },
   "source": [
    "There are 3 people that selected 'no' for the social media user question but also chose social media platforms that they use. Determined to be user error and changing all 'no' to 'yes'. otherwise, analysis would be inaccurate. "
   ]
  },
  {
   "cell_type": "code",
   "execution_count": 30,
   "id": "a5527c03",
   "metadata": {
    "execution": {
     "iopub.execute_input": "2024-03-10T01:54:42.471357Z",
     "iopub.status.busy": "2024-03-10T01:54:42.470862Z",
     "iopub.status.idle": "2024-03-10T01:54:42.479432Z",
     "shell.execute_reply": "2024-03-10T01:54:42.477786Z"
    },
    "papermill": {
     "duration": 0.042106,
     "end_time": "2024-03-10T01:54:42.481819",
     "exception": false,
     "start_time": "2024-03-10T01:54:42.439713",
     "status": "completed"
    },
    "tags": []
   },
   "outputs": [
    {
     "name": "stdout",
     "output_type": "stream",
     "text": [
      "Counts of Social Media User?:\n",
      "Yes    478\n",
      "No       3\n",
      "Name: Social Media User?, dtype: int64\n"
     ]
    }
   ],
   "source": [
    "#check for consistency in data\n",
    "social_media_user_counts = data['Social Media User?'].value_counts()\n",
    "\n",
    "# Print the counts\n",
    "print(\"Counts of Social Media User?:\")\n",
    "print(social_media_user_counts)"
   ]
  },
  {
   "cell_type": "code",
   "execution_count": 31,
   "id": "0bcf6cc3",
   "metadata": {
    "execution": {
     "iopub.execute_input": "2024-03-10T01:54:42.544034Z",
     "iopub.status.busy": "2024-03-10T01:54:42.543169Z",
     "iopub.status.idle": "2024-03-10T01:54:42.555794Z",
     "shell.execute_reply": "2024-03-10T01:54:42.554437Z"
    },
    "papermill": {
     "duration": 0.046167,
     "end_time": "2024-03-10T01:54:42.558008",
     "exception": false,
     "start_time": "2024-03-10T01:54:42.511841",
     "status": "completed"
    },
    "tags": []
   },
   "outputs": [
    {
     "name": "stdout",
     "output_type": "stream",
     "text": [
      "Rows with 'No' answers:\n",
      "     Age Gender Relationship Status          Occupation Social Media User?  \\\n",
      "9     20   Male              Single  University Student                 No   \n",
      "54    26   Male   In a relationship     Salaried Worker                 No   \n",
      "134   50   Male            Divorced     Salaried Worker                 No   \n",
      "\n",
      "               Platforms Used Hours Per Day  ADHD Score  Anxiety Score  \\\n",
      "9           Reddit, Pinterest          0.5h           4              2   \n",
      "54   YouTube, Discord, Reddit          1.5h           8              3   \n",
      "134        Instagram, YouTube          1.5h           7              3   \n",
      "\n",
      "     Self Esteem Score  Depression Score  Total Score  \n",
      "9                    3                 3           12  \n",
      "54                   5                 6           22  \n",
      "134                  4                 5           19  \n"
     ]
    }
   ],
   "source": [
    "#find which rows have answered 'no'\n",
    "no_answers = data[data['Social Media User?'] == 'No']\n",
    "\n",
    "# Print the rows with \"No\" answers\n",
    "print(\"Rows with 'No' answers:\")\n",
    "print(no_answers)"
   ]
  },
  {
   "cell_type": "code",
   "execution_count": 32,
   "id": "0cce9633",
   "metadata": {
    "execution": {
     "iopub.execute_input": "2024-03-10T01:54:42.619776Z",
     "iopub.status.busy": "2024-03-10T01:54:42.619266Z",
     "iopub.status.idle": "2024-03-10T01:54:42.626294Z",
     "shell.execute_reply": "2024-03-10T01:54:42.624994Z"
    },
    "papermill": {
     "duration": 0.04092,
     "end_time": "2024-03-10T01:54:42.628842",
     "exception": false,
     "start_time": "2024-03-10T01:54:42.587922",
     "status": "completed"
    },
    "tags": []
   },
   "outputs": [],
   "source": [
    "data.loc[data['Social Media User?'] == 'No', 'Social Media User?'] = 'Yes'"
   ]
  },
  {
   "cell_type": "code",
   "execution_count": 33,
   "id": "81e48600",
   "metadata": {
    "execution": {
     "iopub.execute_input": "2024-03-10T01:54:42.690653Z",
     "iopub.status.busy": "2024-03-10T01:54:42.690207Z",
     "iopub.status.idle": "2024-03-10T01:54:42.700105Z",
     "shell.execute_reply": "2024-03-10T01:54:42.698762Z"
    },
    "papermill": {
     "duration": 0.044047,
     "end_time": "2024-03-10T01:54:42.702605",
     "exception": false,
     "start_time": "2024-03-10T01:54:42.658558",
     "status": "completed"
    },
    "tags": []
   },
   "outputs": [
    {
     "name": "stdout",
     "output_type": "stream",
     "text": [
      "Counts of Social Media User?:\n",
      "Yes    481\n",
      "Name: Social Media User?, dtype: int64\n"
     ]
    }
   ],
   "source": [
    "#check that change was made\n",
    "social_media_user_counts = data['Social Media User?'].value_counts()\n",
    "\n",
    "# Print the counts\n",
    "print(\"Counts of Social Media User?:\")\n",
    "print(social_media_user_counts)"
   ]
  },
  {
   "cell_type": "code",
   "execution_count": 34,
   "id": "1059bcb6",
   "metadata": {
    "execution": {
     "iopub.execute_input": "2024-03-10T01:54:42.767101Z",
     "iopub.status.busy": "2024-03-10T01:54:42.766250Z",
     "iopub.status.idle": "2024-03-10T01:54:42.777042Z",
     "shell.execute_reply": "2024-03-10T01:54:42.775815Z"
    },
    "papermill": {
     "duration": 0.048735,
     "end_time": "2024-03-10T01:54:42.781257",
     "exception": false,
     "start_time": "2024-03-10T01:54:42.732522",
     "status": "completed"
    },
    "tags": []
   },
   "outputs": [
    {
     "name": "stdout",
     "output_type": "stream",
     "text": [
      "Counts Age (Ascending Order):\n",
      "13     2\n",
      "14     4\n",
      "15     2\n",
      "16     2\n",
      "17     9\n",
      "18    13\n",
      "19    19\n",
      "20    45\n",
      "21    82\n",
      "22    81\n",
      "23    42\n",
      "24    27\n",
      "25    17\n",
      "26    19\n",
      "27    11\n",
      "28     5\n",
      "29     6\n",
      "30     6\n",
      "31     1\n",
      "32     4\n",
      "33     2\n",
      "34     6\n",
      "35     8\n",
      "36     3\n",
      "37     4\n",
      "38     3\n",
      "40     2\n",
      "42     1\n",
      "43     1\n",
      "44     2\n",
      "45     1\n",
      "46     2\n",
      "47    16\n",
      "48    13\n",
      "49     3\n",
      "50     6\n",
      "51     2\n",
      "52     1\n",
      "53     1\n",
      "55     1\n",
      "56     2\n",
      "60     1\n",
      "65     1\n",
      "69     1\n",
      "91     1\n",
      "Name: Age, dtype: int64\n"
     ]
    }
   ],
   "source": [
    "# Check 'Age' for outliers\n",
    "Age_counts = data['Age'].value_counts()\n",
    "\n",
    "# Sort the index (ages) in ascending order\n",
    "Age_counts = Age_counts.sort_index(ascending=True)\n",
    "\n",
    "# Print the counts in ascending order\n",
    "print(\"Counts Age (Ascending Order):\")\n",
    "print(Age_counts)"
   ]
  },
  {
   "cell_type": "markdown",
   "id": "8b119a90",
   "metadata": {
    "papermill": {
     "duration": 0.029631,
     "end_time": "2024-03-10T01:54:42.842790",
     "exception": false,
     "start_time": "2024-03-10T01:54:42.813159",
     "status": "completed"
    },
    "tags": []
   },
   "source": [
    "large jump from 69 to 91. Occupation is univeristy student, assumed typo. Change to 19"
   ]
  },
  {
   "cell_type": "code",
   "execution_count": 35,
   "id": "5341e7bc",
   "metadata": {
    "execution": {
     "iopub.execute_input": "2024-03-10T01:54:42.906097Z",
     "iopub.status.busy": "2024-03-10T01:54:42.905629Z",
     "iopub.status.idle": "2024-03-10T01:54:42.917244Z",
     "shell.execute_reply": "2024-03-10T01:54:42.915993Z"
    },
    "papermill": {
     "duration": 0.047355,
     "end_time": "2024-03-10T01:54:42.920641",
     "exception": false,
     "start_time": "2024-03-10T01:54:42.873286",
     "status": "completed"
    },
    "tags": []
   },
   "outputs": [
    {
     "name": "stdout",
     "output_type": "stream",
     "text": [
      "Rows with Age equal to 91:\n",
      "     Age  Gender Relationship Status          Occupation Social Media User?  \\\n",
      "256   91  Female              Single  University Student                Yes   \n",
      "\n",
      "                                      Platforms Used Hours Per Day  \\\n",
      "256  Facebook, Instagram, YouTube, Snapchat, Discord          2.5h   \n",
      "\n",
      "     ADHD Score  Anxiety Score  Self Esteem Score  Depression Score  \\\n",
      "256          16              9                 11                15   \n",
      "\n",
      "     Total Score  \n",
      "256           51  \n"
     ]
    }
   ],
   "source": [
    "# Find rows where 'Age' equals 91\n",
    "age_answers = data[data['Age'] == 91]\n",
    "\n",
    "# Print the rows with Age equal to 91\n",
    "print(\"Rows with Age equal to 91:\")\n",
    "print(age_answers)"
   ]
  },
  {
   "cell_type": "code",
   "execution_count": 36,
   "id": "6ed010ed",
   "metadata": {
    "execution": {
     "iopub.execute_input": "2024-03-10T01:54:42.983584Z",
     "iopub.status.busy": "2024-03-10T01:54:42.983058Z",
     "iopub.status.idle": "2024-03-10T01:54:42.989307Z",
     "shell.execute_reply": "2024-03-10T01:54:42.988286Z"
    },
    "papermill": {
     "duration": 0.040331,
     "end_time": "2024-03-10T01:54:42.991690",
     "exception": false,
     "start_time": "2024-03-10T01:54:42.951359",
     "status": "completed"
    },
    "tags": []
   },
   "outputs": [],
   "source": [
    "# Change age from 91 to 19\n",
    "data.loc[data['Age'] == 91, 'Age'] = 19"
   ]
  },
  {
   "cell_type": "code",
   "execution_count": 37,
   "id": "5ec43007",
   "metadata": {
    "execution": {
     "iopub.execute_input": "2024-03-10T01:54:43.055859Z",
     "iopub.status.busy": "2024-03-10T01:54:43.054999Z",
     "iopub.status.idle": "2024-03-10T01:54:43.062672Z",
     "shell.execute_reply": "2024-03-10T01:54:43.061359Z"
    },
    "papermill": {
     "duration": 0.042012,
     "end_time": "2024-03-10T01:54:43.065011",
     "exception": false,
     "start_time": "2024-03-10T01:54:43.022999",
     "status": "completed"
    },
    "tags": []
   },
   "outputs": [
    {
     "name": "stdout",
     "output_type": "stream",
     "text": [
      "Row 256:\n",
      "Age                                                                 19\n",
      "Gender                                                          Female\n",
      "Relationship Status                                             Single\n",
      "Occupation                                          University Student\n",
      "Social Media User?                                                 Yes\n",
      "Platforms Used         Facebook, Instagram, YouTube, Snapchat, Discord\n",
      "Hours Per Day                                                     2.5h\n",
      "ADHD Score                                                          16\n",
      "Anxiety Score                                                        9\n",
      "Self Esteem Score                                                   11\n",
      "Depression Score                                                    15\n",
      "Total Score                                                         51\n",
      "Name: 256, dtype: object\n"
     ]
    }
   ],
   "source": [
    "#verify age change\n",
    "print(\"Row 256:\")\n",
    "print(data.iloc[256])"
   ]
  },
  {
   "cell_type": "code",
   "execution_count": 38,
   "id": "7d38d42d",
   "metadata": {
    "execution": {
     "iopub.execute_input": "2024-03-10T01:54:43.129067Z",
     "iopub.status.busy": "2024-03-10T01:54:43.128636Z",
     "iopub.status.idle": "2024-03-10T01:54:43.136394Z",
     "shell.execute_reply": "2024-03-10T01:54:43.135212Z"
    },
    "papermill": {
     "duration": 0.042184,
     "end_time": "2024-03-10T01:54:43.138670",
     "exception": false,
     "start_time": "2024-03-10T01:54:43.096486",
     "status": "completed"
    },
    "tags": []
   },
   "outputs": [
    {
     "data": {
      "text/plain": [
       "['Age',\n",
       " 'Gender',\n",
       " 'Relationship Status',\n",
       " 'Occupation',\n",
       " 'Social Media User?',\n",
       " 'Platforms Used',\n",
       " 'Hours Per Day',\n",
       " 'ADHD Score',\n",
       " 'Anxiety Score',\n",
       " 'Self Esteem Score',\n",
       " 'Depression Score',\n",
       " 'Total Score']"
      ]
     },
     "execution_count": 38,
     "metadata": {},
     "output_type": "execute_result"
    }
   ],
   "source": [
    "#review columns for accuracy\n",
    "titles = list(data.columns)\n",
    "titles"
   ]
  },
  {
   "cell_type": "markdown",
   "id": "dedbe811",
   "metadata": {
    "papermill": {
     "duration": 0.029696,
     "end_time": "2024-03-10T01:54:43.198698",
     "exception": false,
     "start_time": "2024-03-10T01:54:43.169002",
     "status": "completed"
    },
    "tags": []
   },
   "source": [
    "**Transform 'Platforms Used' into catagories for use in future analysis.**\n",
    "<br>\n",
    "<br>\n",
    "Social Networking (Facebook,Twitter, Discord, TikTok)\n",
    "<br>\n",
    "<br>\n",
    "Media Sharing (Pinterest, Youtube, Snapchat, Instagram) \n",
    "<br>\n",
    "<br>\n",
    "Discussion Forum (Reddit)\n",
    "\n",
    "\n",
    "\n"
   ]
  },
  {
   "cell_type": "code",
   "execution_count": 39,
   "id": "3a1685bc",
   "metadata": {
    "execution": {
     "iopub.execute_input": "2024-03-10T01:54:43.261126Z",
     "iopub.status.busy": "2024-03-10T01:54:43.260672Z",
     "iopub.status.idle": "2024-03-10T01:54:43.280160Z",
     "shell.execute_reply": "2024-03-10T01:54:43.278793Z"
    },
    "papermill": {
     "duration": 0.054428,
     "end_time": "2024-03-10T01:54:43.283419",
     "exception": false,
     "start_time": "2024-03-10T01:54:43.228991",
     "status": "completed"
    },
    "tags": []
   },
   "outputs": [
    {
     "name": "stdout",
     "output_type": "stream",
     "text": [
      "     Age  Gender Relationship Status          Occupation Social Media User?  \\\n",
      "0     21    Male   In a relationship  University Student                Yes   \n",
      "1     21  Female              Single  University Student                Yes   \n",
      "2     21  Female              Single  University Student                Yes   \n",
      "3     21  Female              Single  University Student                Yes   \n",
      "4     21  Female              Single  University Student                Yes   \n",
      "..   ...     ...                 ...                 ...                ...   \n",
      "476   24    Male              Single     Salaried Worker                Yes   \n",
      "477   26  Female             Married     Salaried Worker                Yes   \n",
      "478   29  Female             Married     Salaried Worker                Yes   \n",
      "479   21    Male              Single  University Student                Yes   \n",
      "480   53    Male             Married     Salaried Worker                Yes   \n",
      "\n",
      "    Hours Per Day  ADHD Score  Anxiety Score  Self Esteem Score  \\\n",
      "0            2.5h          18              4                  7   \n",
      "1            5.5h          15              7                  7   \n",
      "2            3.5h          11              6                  7   \n",
      "3            5.5h          12              6                  8   \n",
      "4            2.5h          17              9                  9   \n",
      "..            ...         ...            ...                ...   \n",
      "476          2.5h          15              6                 10   \n",
      "477          1.5h          10              6                 10   \n",
      "478          2.5h          12              6                 10   \n",
      "479          2.5h          10              5                  9   \n",
      "480          0.5h           9              2                  8   \n",
      "\n",
      "     Depression Score  Total Score   Platforms  \n",
      "0                  14           43  SN, MS, DF  \n",
      "1                  14           43  SN, MS, DF  \n",
      "2                  11           35      SN, MS  \n",
      "3                   9           35      SN, MS  \n",
      "4                   9           44      SN, MS  \n",
      "..                ...          ...         ...  \n",
      "476                11           42      SN, MS  \n",
      "477                 9           35      SN, MS  \n",
      "478                 6           34      SN, MS  \n",
      "479                13           37      SN, MS  \n",
      "480                 7           26      SN, MS  \n",
      "\n",
      "[481 rows x 12 columns]\n"
     ]
    }
   ],
   "source": [
    "# Define a function to categorize platforms\n",
    "def categorize_platforms(platforms_used):\n",
    "    categories = []\n",
    "    if any(platform in platforms_used for platform in ['Facebook', 'Twitter', 'Discord', 'TikTok']):\n",
    "        categories.append('SN')\n",
    "    if any(platform in platforms_used for platform in ['Pinterest', 'YouTube', 'Snapchat', 'Instagram']):\n",
    "        categories.append('MS')\n",
    "    if 'Reddit' in platforms_used:\n",
    "        categories.append('DF')\n",
    "    return ', '.join(categories) if categories else 'Other/Unknown'\n",
    "\n",
    "# Apply the categorization function to create a new 'Category' column\n",
    "data['Platforms'] = data['Platforms Used'].apply(categorize_platforms)\n",
    "\n",
    "# Drop the original 'Platforms Used' column\n",
    "data.drop(columns=['Platforms Used'], inplace=True)\n",
    "\n",
    "# Display the DataFrame with the 'Platforms' column\n",
    "print(data)\n"
   ]
  },
  {
   "cell_type": "code",
   "execution_count": 40,
   "id": "1816bca8",
   "metadata": {
    "execution": {
     "iopub.execute_input": "2024-03-10T01:54:43.346711Z",
     "iopub.status.busy": "2024-03-10T01:54:43.346243Z",
     "iopub.status.idle": "2024-03-10T01:54:43.363002Z",
     "shell.execute_reply": "2024-03-10T01:54:43.361645Z"
    },
    "papermill": {
     "duration": 0.051132,
     "end_time": "2024-03-10T01:54:43.365635",
     "exception": false,
     "start_time": "2024-03-10T01:54:43.314503",
     "status": "completed"
    },
    "tags": []
   },
   "outputs": [
    {
     "data": {
      "text/html": [
       "<div>\n",
       "<style scoped>\n",
       "    .dataframe tbody tr th:only-of-type {\n",
       "        vertical-align: middle;\n",
       "    }\n",
       "\n",
       "    .dataframe tbody tr th {\n",
       "        vertical-align: top;\n",
       "    }\n",
       "\n",
       "    .dataframe thead th {\n",
       "        text-align: right;\n",
       "    }\n",
       "</style>\n",
       "<table border=\"1\" class=\"dataframe\">\n",
       "  <thead>\n",
       "    <tr style=\"text-align: right;\">\n",
       "      <th></th>\n",
       "      <th>Age</th>\n",
       "      <th>Gender</th>\n",
       "      <th>Relationship Status</th>\n",
       "      <th>Occupation</th>\n",
       "      <th>Social Media User?</th>\n",
       "      <th>Hours Per Day</th>\n",
       "      <th>ADHD Score</th>\n",
       "      <th>Anxiety Score</th>\n",
       "      <th>Self Esteem Score</th>\n",
       "      <th>Depression Score</th>\n",
       "      <th>Total Score</th>\n",
       "      <th>Platforms</th>\n",
       "    </tr>\n",
       "  </thead>\n",
       "  <tbody>\n",
       "    <tr>\n",
       "      <th>0</th>\n",
       "      <td>21</td>\n",
       "      <td>Male</td>\n",
       "      <td>In a relationship</td>\n",
       "      <td>University Student</td>\n",
       "      <td>Yes</td>\n",
       "      <td>2.5h</td>\n",
       "      <td>18</td>\n",
       "      <td>4</td>\n",
       "      <td>7</td>\n",
       "      <td>14</td>\n",
       "      <td>43</td>\n",
       "      <td>SN, MS, DF</td>\n",
       "    </tr>\n",
       "    <tr>\n",
       "      <th>1</th>\n",
       "      <td>21</td>\n",
       "      <td>Female</td>\n",
       "      <td>Single</td>\n",
       "      <td>University Student</td>\n",
       "      <td>Yes</td>\n",
       "      <td>5.5h</td>\n",
       "      <td>15</td>\n",
       "      <td>7</td>\n",
       "      <td>7</td>\n",
       "      <td>14</td>\n",
       "      <td>43</td>\n",
       "      <td>SN, MS, DF</td>\n",
       "    </tr>\n",
       "    <tr>\n",
       "      <th>2</th>\n",
       "      <td>21</td>\n",
       "      <td>Female</td>\n",
       "      <td>Single</td>\n",
       "      <td>University Student</td>\n",
       "      <td>Yes</td>\n",
       "      <td>3.5h</td>\n",
       "      <td>11</td>\n",
       "      <td>6</td>\n",
       "      <td>7</td>\n",
       "      <td>11</td>\n",
       "      <td>35</td>\n",
       "      <td>SN, MS</td>\n",
       "    </tr>\n",
       "    <tr>\n",
       "      <th>3</th>\n",
       "      <td>21</td>\n",
       "      <td>Female</td>\n",
       "      <td>Single</td>\n",
       "      <td>University Student</td>\n",
       "      <td>Yes</td>\n",
       "      <td>5.5h</td>\n",
       "      <td>12</td>\n",
       "      <td>6</td>\n",
       "      <td>8</td>\n",
       "      <td>9</td>\n",
       "      <td>35</td>\n",
       "      <td>SN, MS</td>\n",
       "    </tr>\n",
       "    <tr>\n",
       "      <th>4</th>\n",
       "      <td>21</td>\n",
       "      <td>Female</td>\n",
       "      <td>Single</td>\n",
       "      <td>University Student</td>\n",
       "      <td>Yes</td>\n",
       "      <td>2.5h</td>\n",
       "      <td>17</td>\n",
       "      <td>9</td>\n",
       "      <td>9</td>\n",
       "      <td>9</td>\n",
       "      <td>44</td>\n",
       "      <td>SN, MS</td>\n",
       "    </tr>\n",
       "  </tbody>\n",
       "</table>\n",
       "</div>"
      ],
      "text/plain": [
       "   Age  Gender Relationship Status          Occupation Social Media User?  \\\n",
       "0   21    Male   In a relationship  University Student                Yes   \n",
       "1   21  Female              Single  University Student                Yes   \n",
       "2   21  Female              Single  University Student                Yes   \n",
       "3   21  Female              Single  University Student                Yes   \n",
       "4   21  Female              Single  University Student                Yes   \n",
       "\n",
       "  Hours Per Day  ADHD Score  Anxiety Score  Self Esteem Score  \\\n",
       "0          2.5h          18              4                  7   \n",
       "1          5.5h          15              7                  7   \n",
       "2          3.5h          11              6                  7   \n",
       "3          5.5h          12              6                  8   \n",
       "4          2.5h          17              9                  9   \n",
       "\n",
       "   Depression Score  Total Score   Platforms  \n",
       "0                14           43  SN, MS, DF  \n",
       "1                14           43  SN, MS, DF  \n",
       "2                11           35      SN, MS  \n",
       "3                 9           35      SN, MS  \n",
       "4                 9           44      SN, MS  "
      ]
     },
     "execution_count": 40,
     "metadata": {},
     "output_type": "execute_result"
    }
   ],
   "source": [
    "#check new columns\n",
    "data.head()"
   ]
  },
  {
   "cell_type": "markdown",
   "id": "b730a066",
   "metadata": {
    "papermill": {
     "duration": 0.031081,
     "end_time": "2024-03-10T01:54:43.429029",
     "exception": false,
     "start_time": "2024-03-10T01:54:43.397948",
     "status": "completed"
    },
    "tags": []
   },
   "source": [
    "# **Data Analysis**"
   ]
  },
  {
   "cell_type": "markdown",
   "id": "c4786ccf",
   "metadata": {
    "papermill": {
     "duration": 0.030547,
     "end_time": "2024-03-10T01:54:43.490250",
     "exception": false,
     "start_time": "2024-03-10T01:54:43.459703",
     "status": "completed"
    },
    "tags": []
   },
   "source": [
    "Find these distributions:\n",
    "* Age\n",
    "* Occupation\n",
    "* Gender\n",
    "* Hours Per Day\n",
    "* Platforms Used\n",
    "* Relationship Statusplt.xticks(rotation=45)\n",
    "<br>\n",
    "<br>\n",
    "Find these correlations:\n",
    "<br>\n",
    "<br>\n",
    "* Age and Time Spent\n",
    "* Age and Mental Health Screening\n",
    "* Gender and Time Spent\n",
    "* Gender and Mental Health Screening\n",
    "* Mental Health Screening and Time Spent\n",
    "* Platforms and Time Spent\n",
    "* Platforms and Mental Health"
   ]
  },
  {
   "cell_type": "markdown",
   "id": "9fcbc5fb",
   "metadata": {
    "papermill": {
     "duration": 0.030318,
     "end_time": "2024-03-10T01:54:43.551388",
     "exception": false,
     "start_time": "2024-03-10T01:54:43.521070",
     "status": "completed"
    },
    "tags": []
   },
   "source": [
    "# **Descriptive Stats**"
   ]
  },
  {
   "cell_type": "markdown",
   "id": "e388e63f",
   "metadata": {
    "papermill": {
     "duration": 0.030376,
     "end_time": "2024-03-10T01:54:43.612506",
     "exception": false,
     "start_time": "2024-03-10T01:54:43.582130",
     "status": "completed"
    },
    "tags": []
   },
   "source": [
    "**Age Distribution**"
   ]
  },
  {
   "cell_type": "code",
   "execution_count": 41,
   "id": "198fd2c4",
   "metadata": {
    "execution": {
     "iopub.execute_input": "2024-03-10T01:54:43.675801Z",
     "iopub.status.busy": "2024-03-10T01:54:43.675310Z",
     "iopub.status.idle": "2024-03-10T01:54:43.695135Z",
     "shell.execute_reply": "2024-03-10T01:54:43.693369Z"
    },
    "papermill": {
     "duration": 0.054784,
     "end_time": "2024-03-10T01:54:43.697944",
     "exception": false,
     "start_time": "2024-03-10T01:54:43.643160",
     "status": "completed"
    },
    "tags": []
   },
   "outputs": [
    {
     "name": "stdout",
     "output_type": "stream",
     "text": [
      "  Age Range  Frequency\n",
      "0     13-25        363\n",
      "1     26-38         59\n",
      "2     39-51         50\n",
      "3     52-64          6\n",
      "4     65-69          1\n"
     ]
    }
   ],
   "source": [
    "#Understand Age Distribution\n",
    "# Define the bin edges (interval boundaries)\n",
    "bin_edges = [13, 26, 39, 52, 65, 70]  # Extended to create bin edges [13, 26, 39, 52, 65, 70]\n",
    "\n",
    "# Define bin labels corresponding to the new edges\n",
    "bin_labels = ['13-25', '26-38', '39-51', '52-64', '65-69']  # Add '65-69'\n",
    "\n",
    "# Create bins and compute frequencies\n",
    "data['Age Category'] = pd.cut(data['Age'], bins=bin_edges, labels=bin_labels)\n",
    "frequency_table = data['Age Category'].value_counts().reset_index()\n",
    "frequency_table.columns = ['Age Range', 'Frequency']\n",
    "\n",
    "# Display the frequency table\n",
    "print(frequency_table)"
   ]
  },
  {
   "cell_type": "code",
   "execution_count": 42,
   "id": "c86a43df",
   "metadata": {
    "execution": {
     "iopub.execute_input": "2024-03-10T01:54:43.763185Z",
     "iopub.status.busy": "2024-03-10T01:54:43.762758Z",
     "iopub.status.idle": "2024-03-10T01:54:44.125721Z",
     "shell.execute_reply": "2024-03-10T01:54:44.124715Z"
    },
    "papermill": {
     "duration": 0.398475,
     "end_time": "2024-03-10T01:54:44.128251",
     "exception": false,
     "start_time": "2024-03-10T01:54:43.729776",
     "status": "completed"
    },
    "tags": []
   },
   "outputs": [
    {
     "data": {
      "image/png": "[encoded data removed]",
      "text/plain": [
       "<Figure size 800x600 with 1 Axes>"
      ]
     },
     "metadata": {},
     "output_type": "display_data"
    }
   ],
   "source": [
    "# Define the bin edges (interval boundaries)\n",
    "bin_edges = [13, 26, 39, 52, 65, 70]  # Extended to create bin edges [13, 26, 39, 52, 65, 70]\n",
    "\n",
    "# Define bin labels corresponding to the new edges\n",
    "bin_labels = ['13-25', '26-38', '39-51', '52-64', '65-69']  # Add '65-69'\n",
    "\n",
    "# Create bins and compute frequencies\n",
    "data['Age Category'] = pd.cut(data['Age'], bins=bin_edges, labels=bin_labels)\n",
    "frequency_table = data['Age Category'].value_counts().reset_index()\n",
    "frequency_table.columns = ['Age Range', 'Frequency']\n",
    "\n",
    "# Calculate percentages\n",
    "total_count = len(data)\n",
    "frequency_table['Percentage'] = (frequency_table['Frequency'] / total_count) * 100\n",
    "\n",
    "# Create a bar chart with percentages and labels\n",
    "plt.figure(figsize=(8, 6))\n",
    "bars = plt.bar(frequency_table['Age Range'], frequency_table['Percentage'], edgecolor='k')\n",
    "\n",
    "# Add percentage labels on top of each bar\n",
    "for bar in bars:\n",
    "    height = bar.get_height()\n",
    "    plt.annotate(f'{height:.1f}%', \n",
    "                 xy=(bar.get_x() + bar.get_width() / 2, height),\n",
    "                 xytext=(0, 3),  # 3 points vertical offset\n",
    "                 textcoords=\"offset points\",\n",
    "                 ha='center', va='bottom')\n",
    "\n",
    "plt.title('Age Distribution with Percentages')\n",
    "plt.xlabel('Age Range')\n",
    "plt.ylabel('Percentage (%)')\n",
    "\n",
    "# Display the chart\n",
    "plt.show()"
   ]
  },
  {
   "cell_type": "markdown",
   "id": "1c678368",
   "metadata": {
    "papermill": {
     "duration": 0.031036,
     "end_time": "2024-03-10T01:54:44.191578",
     "exception": false,
     "start_time": "2024-03-10T01:54:44.160542",
     "status": "completed"
    },
    "tags": []
   },
   "source": [
    "A majority of the people (75.4%) are age 13-25. "
   ]
  },
  {
   "cell_type": "code",
   "execution_count": 43,
   "id": "4a69988f",
   "metadata": {
    "execution": {
     "iopub.execute_input": "2024-03-10T01:54:44.257972Z",
     "iopub.status.busy": "2024-03-10T01:54:44.257239Z",
     "iopub.status.idle": "2024-03-10T01:54:44.540633Z",
     "shell.execute_reply": "2024-03-10T01:54:44.539157Z"
    },
    "papermill": {
     "duration": 0.318911,
     "end_time": "2024-03-10T01:54:44.543183",
     "exception": false,
     "start_time": "2024-03-10T01:54:44.224272",
     "status": "completed"
    },
    "tags": []
   },
   "outputs": [
    {
     "data": {
      "image/png": "[encoded data removed]",
      "text/plain": [
       "<Figure size 800x600 with 1 Axes>"
      ]
     },
     "metadata": {},
     "output_type": "display_data"
    }
   ],
   "source": [
    "# Create bins and compute frequencies\n",
    "data['Age Category'] = pd.cut(data['Age'], bins=bin_edges, labels=bin_labels)\n",
    "frequency_table = data['Age Category'].value_counts().reset_index()\n",
    "frequency_table.columns = ['Age Range', 'Frequency']\n",
    "\n",
    "# Calculate percentages\n",
    "total_count = len(data)\n",
    "frequency_table['Percentage'] = (frequency_table['Frequency'] / total_count) * 100\n",
    "\n",
    "# Create a pie chart\n",
    "plt.figure(figsize=(8, 6))\n",
    "plt.pie(frequency_table['Frequency'], labels=None, startangle=140)\n",
    "\n",
    "plt.title('Age Distribution')\n",
    "\n",
    "# Create a legend with percentages\n",
    "percentages = [f\"{age_range}: {percentage:.1f}%\" for age_range, percentage in zip(frequency_table['Age Range'], frequency_table['Percentage'])]\n",
    "plt.legend(title='Age Range', labels=percentages, loc='center left', bbox_to_anchor=(1, 0.5))\n",
    "\n",
    "# Display the chart\n",
    "plt.axis('equal')  # Equal aspect ratio ensures that pie is drawn as a circle.\n",
    "plt.show()"
   ]
  },
  {
   "cell_type": "markdown",
   "id": "2637c577",
   "metadata": {
    "papermill": {
     "duration": 0.031866,
     "end_time": "2024-03-10T01:54:44.607037",
     "exception": false,
     "start_time": "2024-03-10T01:54:44.575171",
     "status": "completed"
    },
    "tags": []
   },
   "source": [
    "**Platfroms Distribution**"
   ]
  },
  {
   "cell_type": "code",
   "execution_count": 44,
   "id": "efc55e11",
   "metadata": {
    "execution": {
     "iopub.execute_input": "2024-03-10T01:54:44.673304Z",
     "iopub.status.busy": "2024-03-10T01:54:44.672797Z",
     "iopub.status.idle": "2024-03-10T01:54:45.111619Z",
     "shell.execute_reply": "2024-03-10T01:54:45.110072Z"
    },
    "papermill": {
     "duration": 0.475703,
     "end_time": "2024-03-10T01:54:45.114737",
     "exception": false,
     "start_time": "2024-03-10T01:54:44.639034",
     "status": "completed"
    },
    "tags": []
   },
   "outputs": [
    {
     "data": {
      "image/png": "[encoded data removed]",
      "text/plain": [
       "<Figure size 1000x600 with 1 Axes>"
      ]
     },
     "metadata": {},
     "output_type": "display_data"
    }
   ],
   "source": [
    "# Calculate frequencies of each value in 'Platforms' column\n",
    "frequency_table = data['Platforms'].value_counts().reset_index()\n",
    "frequency_table.columns = ['Platforms', 'Frequency']\n",
    "\n",
    "# Calculate the total count of platforms\n",
    "total_platforms = frequency_table['Frequency'].sum()\n",
    "\n",
    "# Calculate the percentages\n",
    "frequency_table['Percentage'] = (frequency_table['Frequency'] / total_platforms) * 100\n",
    "\n",
    "# Create a bar graph\n",
    "plt.figure(figsize=(10, 6))  # Adjust the figure size as needed\n",
    "bars = plt.bar(frequency_table['Platforms'], frequency_table['Frequency'], width=0.8, edgecolor='k', color='darkblue')\n",
    "plt.xticks(frequency_table['Platforms'], rotation='vertical')  # Set rotation to 'vertical'\n",
    "\n",
    "# Add percentage labels on top of each bar\n",
    "for bar, percentage in zip(bars, frequency_table['Percentage']):\n",
    "    plt.text(bar.get_x() + bar.get_width() / 2, bar.get_height(), f'{percentage:.2f}%', ha='center', va='bottom')\n",
    "\n",
    "# Add titles and labels\n",
    "plt.title('Social Media Platforms Used')\n",
    "plt.xlabel('Platforms')\n",
    "plt.ylabel('Frequency (%)')  # Update ylabel to indicate percentage\n",
    "\n",
    "plt.xticks(rotation=0)\n",
    "\n",
    "# Display the graph\n",
    "plt.tight_layout()\n",
    "plt.show()\n"
   ]
  },
  {
   "cell_type": "markdown",
   "id": "730662da",
   "metadata": {
    "papermill": {
     "duration": 0.032739,
     "end_time": "2024-03-10T01:54:45.180779",
     "exception": false,
     "start_time": "2024-03-10T01:54:45.148040",
     "status": "completed"
    },
    "tags": []
   },
   "source": [
    "Over 300 people use Social Networking and Media Sharing. Less than 50 use only one type of platform.  Discussion forums are not as popular as the other two catagories. "
   ]
  },
  {
   "cell_type": "markdown",
   "id": "fa923bee",
   "metadata": {
    "papermill": {
     "duration": 0.032187,
     "end_time": "2024-03-10T01:54:45.246309",
     "exception": false,
     "start_time": "2024-03-10T01:54:45.214122",
     "status": "completed"
    },
    "tags": []
   },
   "source": [
    "**Gender Distribution**"
   ]
  },
  {
   "cell_type": "code",
   "execution_count": 45,
   "id": "a32e5250",
   "metadata": {
    "execution": {
     "iopub.execute_input": "2024-03-10T01:54:45.315563Z",
     "iopub.status.busy": "2024-03-10T01:54:45.314224Z",
     "iopub.status.idle": "2024-03-10T01:54:45.631448Z",
     "shell.execute_reply": "2024-03-10T01:54:45.630185Z"
    },
    "papermill": {
     "duration": 0.354381,
     "end_time": "2024-03-10T01:54:45.634155",
     "exception": false,
     "start_time": "2024-03-10T01:54:45.279774",
     "status": "completed"
    },
    "tags": []
   },
   "outputs": [
    {
     "data": {
      "image/png": "[encoded data removed]",
      "text/plain": [
       "<Figure size 640x480 with 1 Axes>"
      ]
     },
     "metadata": {},
     "output_type": "display_data"
    }
   ],
   "source": [
    "# Calculate frequencies of each value in 'Gender' column\n",
    "frequency_table = data['Gender'].value_counts().reset_index()\n",
    "frequency_table.columns = ['Gender', 'Frequency']\n",
    "\n",
    "# Calculate percentages\n",
    "total_count = len(data)\n",
    "frequency_table['Percentage'] = (frequency_table['Frequency'] / total_count) * 100\n",
    "\n",
    "# Create a bar graph with percentages on top of bars\n",
    "fig, ax = plt.subplots()\n",
    "bars = plt.bar(frequency_table['Gender'], frequency_table['Frequency'], width=0.8, edgecolor='k', color='darkblue')\n",
    "\n",
    "# Add percentage labels on top of each bar\n",
    "for bar, percentage in zip(bars, frequency_table['Percentage']):\n",
    "    ax.text(bar.get_x() + bar.get_width() / 2, bar.get_height(), f'{percentage:.2f}%', ha='center', va='bottom')\n",
    "\n",
    "# Add titles and labels\n",
    "plt.title('Gender Distribution')\n",
    "plt.xlabel('Gender')\n",
    "plt.ylabel('Frequency')\n",
    "plt.xticks(rotation=45)\n",
    "\n",
    "# Display the graph\n",
    "plt.show()"
   ]
  },
  {
   "cell_type": "markdown",
   "id": "125a9a7d",
   "metadata": {
    "papermill": {
     "duration": 0.033895,
     "end_time": "2024-03-10T01:54:45.701725",
     "exception": false,
     "start_time": "2024-03-10T01:54:45.667830",
     "status": "completed"
    },
    "tags": []
   },
   "source": [
    "Over 50% are female, approx. 44% are male. Non-binary, unsure, trans, and there are others??? represent less than 1% of the sample, so it is impossible to make statistical inferences. \n",
    "\n",
    "<br>\n",
    "Although more and more people are opening up about their gender identities, it still seems that certain groups are underrepresnted. It would be best to gether more data about these groups so that the \"new social media\" platform can be inclusive and cater to all of its user needs. As well as create a healthy environment for these groups to promote psycholgical well-being. "
   ]
  },
  {
   "cell_type": "markdown",
   "id": "a8fd3cf1",
   "metadata": {
    "papermill": {
     "duration": 0.032958,
     "end_time": "2024-03-10T01:54:45.768021",
     "exception": false,
     "start_time": "2024-03-10T01:54:45.735063",
     "status": "completed"
    },
    "tags": []
   },
   "source": [
    "**Occupation Distribution**"
   ]
  },
  {
   "cell_type": "code",
   "execution_count": 46,
   "id": "30257dde",
   "metadata": {
    "execution": {
     "iopub.execute_input": "2024-03-10T01:54:45.838670Z",
     "iopub.status.busy": "2024-03-10T01:54:45.837796Z",
     "iopub.status.idle": "2024-03-10T01:54:46.126722Z",
     "shell.execute_reply": "2024-03-10T01:54:46.125422Z"
    },
    "papermill": {
     "duration": 0.327802,
     "end_time": "2024-03-10T01:54:46.129453",
     "exception": false,
     "start_time": "2024-03-10T01:54:45.801651",
     "status": "completed"
    },
    "tags": []
   },
   "outputs": [
    {
     "data": {
      "image/png": "[encoded data removed]",
      "text/plain": [
       "<Figure size 640x480 with 1 Axes>"
      ]
     },
     "metadata": {},
     "output_type": "display_data"
    }
   ],
   "source": [
    "# Calculate frequencies of each value in 'Platforms' column\n",
    "frequency_table = data['Occupation'].value_counts().reset_index()\n",
    "frequency_table.columns = ['Occupation', 'Frequency']\n",
    "\n",
    "# Create a bar graph\n",
    "plt.bar(frequency_table['Occupation'], frequency_table['Frequency'],width=0.8, edgecolor='k', color='darkblue')\n",
    "plt.xticks(frequency_table['Occupation'], rotation='vertical')  # Set rotation to 'vertical'\n",
    "\n",
    "# Add titles and labels\n",
    "plt.title('Occupation Distribution')\n",
    "plt.xlabel('Occupation')\n",
    "plt.ylabel('Frequency')\n",
    "\n",
    "# Display the graph\n",
    "plt.show()"
   ]
  },
  {
   "cell_type": "markdown",
   "id": "027ad861",
   "metadata": {
    "papermill": {
     "duration": 0.033573,
     "end_time": "2024-03-10T01:54:46.196793",
     "exception": false,
     "start_time": "2024-03-10T01:54:46.163220",
     "status": "completed"
    },
    "tags": []
   },
   "source": [
    "The majority are univeristy student and salaried worker. "
   ]
  },
  {
   "cell_type": "code",
   "execution_count": 47,
   "id": "ef016f67",
   "metadata": {
    "execution": {
     "iopub.execute_input": "2024-03-10T01:54:46.268535Z",
     "iopub.status.busy": "2024-03-10T01:54:46.267597Z",
     "iopub.status.idle": "2024-03-10T01:54:46.578622Z",
     "shell.execute_reply": "2024-03-10T01:54:46.577391Z"
    },
    "papermill": {
     "duration": 0.349566,
     "end_time": "2024-03-10T01:54:46.581418",
     "exception": false,
     "start_time": "2024-03-10T01:54:46.231852",
     "status": "completed"
    },
    "tags": []
   },
   "outputs": [
    {
     "data": {
      "image/png": "[encoded data removed]",
      "text/plain": [
       "<Figure size 1000x600 with 1 Axes>"
      ]
     },
     "metadata": {},
     "output_type": "display_data"
    }
   ],
   "source": [
    "# Calculate frequencies of each value in 'Occupation' column\n",
    "frequency_table = data['Occupation'].value_counts().reset_index()\n",
    "frequency_table.columns = ['Occupation', 'Frequency']\n",
    "\n",
    "# Create a pie chart\n",
    "plt.figure(figsize=(10, 6))  # Adjust the figure size as needed\n",
    "plt.pie(frequency_table['Frequency'], labels=frequency_table['Occupation'], autopct='%1.1f%%', startangle=140, colors=plt.cm.tab20.colors)\n",
    "\n",
    "# Add title\n",
    "plt.title('Occupation Distribution')\n",
    "\n",
    "# Display the graph\n",
    "plt.axis('equal')  # Equal aspect ratio ensures that pie is drawn as a circle.\n",
    "plt.tight_layout()\n",
    "plt.show()"
   ]
  },
  {
   "cell_type": "markdown",
   "id": "a4929de7",
   "metadata": {
    "papermill": {
     "duration": 0.034521,
     "end_time": "2024-03-10T01:54:46.650475",
     "exception": false,
     "start_time": "2024-03-10T01:54:46.615954",
     "status": "completed"
    },
    "tags": []
   },
   "source": [
    "**Relationship Status Distribution**"
   ]
  },
  {
   "cell_type": "code",
   "execution_count": 48,
   "id": "2ddc2f15",
   "metadata": {
    "execution": {
     "iopub.execute_input": "2024-03-10T01:54:46.722668Z",
     "iopub.status.busy": "2024-03-10T01:54:46.721890Z",
     "iopub.status.idle": "2024-03-10T01:54:46.999320Z",
     "shell.execute_reply": "2024-03-10T01:54:46.998065Z"
    },
    "papermill": {
     "duration": 0.317212,
     "end_time": "2024-03-10T01:54:47.002315",
     "exception": false,
     "start_time": "2024-03-10T01:54:46.685103",
     "status": "completed"
    },
    "tags": []
   },
   "outputs": [
    {
     "data": {
      "image/png": "[encoded data removed]",
      "text/plain": [
       "<Figure size 640x480 with 1 Axes>"
      ]
     },
     "metadata": {},
     "output_type": "display_data"
    }
   ],
   "source": [
    "# Calculate frequencies of each value in 'Platforms' column\n",
    "frequency_table = data['Relationship Status'].value_counts().reset_index()\n",
    "frequency_table.columns = ['Relationship Status', 'Frequency']\n",
    "\n",
    "# Create a bar graph\n",
    "plt.bar(frequency_table['Relationship Status'], frequency_table['Frequency'],width=0.8, edgecolor='k', color='darkblue')\n",
    "plt.xticks(frequency_table['Relationship Status'],)\n",
    "\n",
    "# Add titles and labels\n",
    "plt.title('Relationship Status Distribution')\n",
    "plt.xlabel('Relationship Status')\n",
    "plt.ylabel('Frequency')\n",
    "plt.xticks(rotation=45)\n",
    "\n",
    "# Display the graph\n",
    "plt.show()"
   ]
  },
  {
   "cell_type": "markdown",
   "id": "2fa3a7fb",
   "metadata": {
    "papermill": {
     "duration": 0.035309,
     "end_time": "2024-03-10T01:54:47.075111",
     "exception": false,
     "start_time": "2024-03-10T01:54:47.039802",
     "status": "completed"
    },
    "tags": []
   },
   "source": [
    "Majority single. Married and In a relationship close to equal. Very small amount divorced. "
   ]
  },
  {
   "cell_type": "markdown",
   "id": "d557ae55",
   "metadata": {
    "papermill": {
     "duration": 0.035888,
     "end_time": "2024-03-10T01:54:47.147234",
     "exception": false,
     "start_time": "2024-03-10T01:54:47.111346",
     "status": "completed"
    },
    "tags": []
   },
   "source": [
    "# **Inferential**"
   ]
  },
  {
   "cell_type": "code",
   "execution_count": 49,
   "id": "64e0c40e",
   "metadata": {
    "execution": {
     "iopub.execute_input": "2024-03-10T01:54:47.221614Z",
     "iopub.status.busy": "2024-03-10T01:54:47.221169Z",
     "iopub.status.idle": "2024-03-10T01:55:02.495303Z",
     "shell.execute_reply": "2024-03-10T01:55:02.493984Z"
    },
    "papermill": {
     "duration": 15.313692,
     "end_time": "2024-03-10T01:55:02.498118",
     "exception": false,
     "start_time": "2024-03-10T01:54:47.184426",
     "status": "completed"
    },
    "tags": []
   },
   "outputs": [
    {
     "name": "stdout",
     "output_type": "stream",
     "text": [
      "Requirement already satisfied: scipy in /opt/conda/lib/python3.10/site-packages (1.11.1)\r\n",
      "Requirement already satisfied: numpy<1.28.0,>=1.21.6 in /opt/conda/lib/python3.10/site-packages (from scipy) (1.23.5)\r\n"
     ]
    }
   ],
   "source": [
    "#install necessary package for statistical analysis\n",
    "import sys\n",
    "!{sys.executable} -m pip install scipy\n",
    "\n",
    "import pandas as pd\n",
    "from scipy.stats import pearsonr "
   ]
  },
  {
   "cell_type": "markdown",
   "id": "6fde2c24",
   "metadata": {
    "papermill": {
     "duration": 0.034969,
     "end_time": "2024-03-10T01:55:02.569557",
     "exception": false,
     "start_time": "2024-03-10T01:55:02.534588",
     "status": "completed"
    },
    "tags": []
   },
   "source": [
    "# Hours Per Day vs Total Score"
   ]
  },
  {
   "cell_type": "code",
   "execution_count": 50,
   "id": "919c9ae7",
   "metadata": {
    "execution": {
     "iopub.execute_input": "2024-03-10T01:55:02.644545Z",
     "iopub.status.busy": "2024-03-10T01:55:02.644022Z",
     "iopub.status.idle": "2024-03-10T01:55:02.663247Z",
     "shell.execute_reply": "2024-03-10T01:55:02.661780Z"
    },
    "papermill": {
     "duration": 0.061227,
     "end_time": "2024-03-10T01:55:02.666083",
     "exception": false,
     "start_time": "2024-03-10T01:55:02.604856",
     "status": "completed"
    },
    "tags": []
   },
   "outputs": [
    {
     "name": "stdout",
     "output_type": "stream",
     "text": [
      "                    mean       std\n",
      "Hours Per Day                     \n",
      "0.5h           24.882353  8.322167\n",
      "1.5h           31.771429  7.890871\n",
      "2.5h           36.019802  8.435615\n",
      "3.5h           38.397849  8.353780\n",
      "4.5h           39.179104  7.438486\n",
      "5.5h           41.258621  7.576991\n"
     ]
    }
   ],
   "source": [
    "# Calculate mean and standard deviation for each bin\n",
    "summary_stats = data.groupby('Hours Per Day')['Total Score'].agg(['mean', 'std'])\n",
    "\n",
    "# Display summary statistics\n",
    "print(summary_stats)"
   ]
  },
  {
   "cell_type": "code",
   "execution_count": 51,
   "id": "95e08cce",
   "metadata": {
    "execution": {
     "iopub.execute_input": "2024-03-10T01:55:02.741297Z",
     "iopub.status.busy": "2024-03-10T01:55:02.740416Z",
     "iopub.status.idle": "2024-03-10T01:55:02.746640Z",
     "shell.execute_reply": "2024-03-10T01:55:02.745428Z"
    },
    "papermill": {
     "duration": 0.047574,
     "end_time": "2024-03-10T01:55:02.749805",
     "exception": false,
     "start_time": "2024-03-10T01:55:02.702231",
     "status": "completed"
    },
    "tags": []
   },
   "outputs": [
    {
     "name": "stdout",
     "output_type": "stream",
     "text": [
      "object\n"
     ]
    }
   ],
   "source": [
    "print(data['Hours Per Day'].dtype)"
   ]
  },
  {
   "cell_type": "code",
   "execution_count": 52,
   "id": "b7110ace",
   "metadata": {
    "execution": {
     "iopub.execute_input": "2024-03-10T01:55:02.825403Z",
     "iopub.status.busy": "2024-03-10T01:55:02.824495Z",
     "iopub.status.idle": "2024-03-10T01:55:02.841859Z",
     "shell.execute_reply": "2024-03-10T01:55:02.840595Z"
    },
    "papermill": {
     "duration": 0.058819,
     "end_time": "2024-03-10T01:55:02.844572",
     "exception": false,
     "start_time": "2024-03-10T01:55:02.785753",
     "status": "completed"
    },
    "tags": []
   },
   "outputs": [
    {
     "data": {
      "text/html": [
       "<div>\n",
       "<style scoped>\n",
       "    .dataframe tbody tr th:only-of-type {\n",
       "        vertical-align: middle;\n",
       "    }\n",
       "\n",
       "    .dataframe tbody tr th {\n",
       "        vertical-align: top;\n",
       "    }\n",
       "\n",
       "    .dataframe thead th {\n",
       "        text-align: right;\n",
       "    }\n",
       "</style>\n",
       "<table border=\"1\" class=\"dataframe\">\n",
       "  <thead>\n",
       "    <tr style=\"text-align: right;\">\n",
       "      <th></th>\n",
       "      <th>Age</th>\n",
       "      <th>Gender</th>\n",
       "      <th>Relationship Status</th>\n",
       "      <th>Occupation</th>\n",
       "      <th>Social Media User?</th>\n",
       "      <th>Hours Per Day</th>\n",
       "      <th>ADHD Score</th>\n",
       "      <th>Anxiety Score</th>\n",
       "      <th>Self Esteem Score</th>\n",
       "      <th>Depression Score</th>\n",
       "      <th>Total Score</th>\n",
       "      <th>Platforms</th>\n",
       "      <th>Age Category</th>\n",
       "    </tr>\n",
       "  </thead>\n",
       "  <tbody>\n",
       "    <tr>\n",
       "      <th>0</th>\n",
       "      <td>21</td>\n",
       "      <td>Male</td>\n",
       "      <td>In a relationship</td>\n",
       "      <td>University Student</td>\n",
       "      <td>Yes</td>\n",
       "      <td>2.5h</td>\n",
       "      <td>18</td>\n",
       "      <td>4</td>\n",
       "      <td>7</td>\n",
       "      <td>14</td>\n",
       "      <td>43</td>\n",
       "      <td>SN, MS, DF</td>\n",
       "      <td>13-25</td>\n",
       "    </tr>\n",
       "  </tbody>\n",
       "</table>\n",
       "</div>"
      ],
      "text/plain": [
       "   Age Gender Relationship Status          Occupation Social Media User?  \\\n",
       "0   21   Male   In a relationship  University Student                Yes   \n",
       "\n",
       "  Hours Per Day  ADHD Score  Anxiety Score  Self Esteem Score  \\\n",
       "0          2.5h          18              4                  7   \n",
       "\n",
       "   Depression Score  Total Score   Platforms Age Category  \n",
       "0                14           43  SN, MS, DF        13-25  "
      ]
     },
     "execution_count": 52,
     "metadata": {},
     "output_type": "execute_result"
    }
   ],
   "source": [
    "data.head(1)"
   ]
  },
  {
   "cell_type": "code",
   "execution_count": 53,
   "id": "8b22e21a",
   "metadata": {
    "execution": {
     "iopub.execute_input": "2024-03-10T01:55:02.919077Z",
     "iopub.status.busy": "2024-03-10T01:55:02.918203Z",
     "iopub.status.idle": "2024-03-10T01:55:03.299814Z",
     "shell.execute_reply": "2024-03-10T01:55:03.298594Z"
    },
    "papermill": {
     "duration": 0.421854,
     "end_time": "2024-03-10T01:55:03.302608",
     "exception": false,
     "start_time": "2024-03-10T01:55:02.880754",
     "status": "completed"
    },
    "tags": []
   },
   "outputs": [
    {
     "data": {
      "image/png": "[encoded data removed]",
      "text/plain": [
       "<Figure size 640x480 with 1 Axes>"
      ]
     },
     "metadata": {},
     "output_type": "display_data"
    }
   ],
   "source": [
    "# Calculate mean and standard deviation for each bin\n",
    "summary_stats = data.groupby('Hours Per Day')['Total Score'].agg(['mean'])\n",
    "\n",
    "# Plot mean total score as bar plot with dark green color\n",
    "mean_plot = summary_stats['mean'].plot(kind='bar', color='darkgreen', label='Mean')\n",
    "\n",
    "# Add labels and title\n",
    "plt.xlabel('Hours Per Day Spent on Social Media')\n",
    "plt.ylabel('Mean Total Score')\n",
    "plt.title('Mean Total Score and Standard Deviation by Hours Per Day Spent on Social Media')\n",
    "\n",
    "plt.xticks(rotation=0)\n",
    "\n",
    "# Add legend\n",
    "plt.legend()\n",
    "\n",
    "# Show plot\n",
    "plt.show()"
   ]
  },
  {
   "cell_type": "markdown",
   "id": "8797a550",
   "metadata": {
    "papermill": {
     "duration": 0.037083,
     "end_time": "2024-03-10T01:55:03.376370",
     "exception": false,
     "start_time": "2024-03-10T01:55:03.339287",
     "status": "completed"
    },
    "tags": []
   },
   "source": [
    "# Platforms vs Total Score"
   ]
  },
  {
   "cell_type": "code",
   "execution_count": 54,
   "id": "0cadb6bd",
   "metadata": {
    "execution": {
     "iopub.execute_input": "2024-03-10T01:55:03.452132Z",
     "iopub.status.busy": "2024-03-10T01:55:03.451676Z",
     "iopub.status.idle": "2024-03-10T01:55:03.462077Z",
     "shell.execute_reply": "2024-03-10T01:55:03.460876Z"
    },
    "papermill": {
     "duration": 0.051944,
     "end_time": "2024-03-10T01:55:03.464784",
     "exception": false,
     "start_time": "2024-03-10T01:55:03.412840",
     "status": "completed"
    },
    "tags": []
   },
   "outputs": [
    {
     "name": "stdout",
     "output_type": "stream",
     "text": [
      "                 mean\n",
      "Platforms            \n",
      "DF          30.000000\n",
      "MS          33.315789\n",
      "MS, DF      28.333333\n",
      "SN          35.750000\n",
      "SN, DF      34.166667\n",
      "SN, MS      37.182692\n",
      "SN, MS, DF  37.300000\n"
     ]
    }
   ],
   "source": [
    "# Calculate mean and standard deviation for each bin\n",
    "summary_stats = data.groupby('Platforms')['Total Score'].agg(['mean'])\n",
    "\n",
    "# Display summary statistics\n",
    "print(summary_stats)"
   ]
  },
  {
   "cell_type": "code",
   "execution_count": 55,
   "id": "1548e36a",
   "metadata": {
    "execution": {
     "iopub.execute_input": "2024-03-10T01:55:03.540489Z",
     "iopub.status.busy": "2024-03-10T01:55:03.539740Z",
     "iopub.status.idle": "2024-03-10T01:55:03.876733Z",
     "shell.execute_reply": "2024-03-10T01:55:03.875434Z"
    },
    "papermill": {
     "duration": 0.377906,
     "end_time": "2024-03-10T01:55:03.879260",
     "exception": false,
     "start_time": "2024-03-10T01:55:03.501354",
     "status": "completed"
    },
    "tags": []
   },
   "outputs": [
    {
     "data": {
      "image/png": "[encoded data removed]",
      "text/plain": [
       "<Figure size 640x480 with 1 Axes>"
      ]
     },
     "metadata": {},
     "output_type": "display_data"
    }
   ],
   "source": [
    "# Calculate mean and standard deviation for each bin\n",
    "summary_stats = data.groupby('Platforms')['Total Score'].agg(['mean'])\n",
    "\n",
    "# Plot mean total score as bar plot with dark green color\n",
    "mean_plot = summary_stats['mean'].plot(kind='bar', color='darkgreen', label='Mean')\n",
    "\n",
    "# Add labels and title\n",
    "plt.xlabel('Platforms')\n",
    "plt.ylabel('Mean Total Score')\n",
    "plt.title('Platforms')\n",
    "\n",
    "plt.xticks(rotation=0)\n",
    "\n",
    "# Add legend\n",
    "plt.legend()\n",
    "\n",
    "# Show plot\n",
    "plt.show()"
   ]
  },
  {
   "cell_type": "markdown",
   "id": "f526209f",
   "metadata": {
    "papermill": {
     "duration": 0.037177,
     "end_time": "2024-03-10T01:55:03.953426",
     "exception": false,
     "start_time": "2024-03-10T01:55:03.916249",
     "status": "completed"
    },
    "tags": []
   },
   "source": [
    "People that use Media Sharing (MS)/Discussion Forum (DF) have lower total scores.Those that use Social Networking (SN) in all combinations have the highest scores. "
   ]
  },
  {
   "cell_type": "markdown",
   "id": "c4637e2f",
   "metadata": {
    "papermill": {
     "duration": 0.03662,
     "end_time": "2024-03-10T01:55:04.027476",
     "exception": false,
     "start_time": "2024-03-10T01:55:03.990856",
     "status": "completed"
    },
    "tags": []
   },
   "source": [
    "# Age vs Total Score"
   ]
  },
  {
   "cell_type": "code",
   "execution_count": 56,
   "id": "0324b4e6",
   "metadata": {
    "execution": {
     "iopub.execute_input": "2024-03-10T01:55:04.103277Z",
     "iopub.status.busy": "2024-03-10T01:55:04.102810Z",
     "iopub.status.idle": "2024-03-10T01:55:04.987991Z",
     "shell.execute_reply": "2024-03-10T01:55:04.986375Z"
    },
    "papermill": {
     "duration": 0.926704,
     "end_time": "2024-03-10T01:55:04.990891",
     "exception": false,
     "start_time": "2024-03-10T01:55:04.064187",
     "status": "completed"
    },
    "tags": []
   },
   "outputs": [
    {
     "data": {
      "image/png": "[encoded data removed]",
      "text/plain": [
       "<Figure size 1200x600 with 2 Axes>"
      ]
     },
     "metadata": {},
     "output_type": "display_data"
    }
   ],
   "source": [
    "plt.figure(figsize=(12, 6))  # Adjust the figure size as needed\n",
    "\n",
    "# Histogram for Age\n",
    "plt.subplot(1, 2, 1)\n",
    "plt.hist(data['Age'], bins=60, color='green', alpha=0.7)  # Histogram\n",
    "plt.title('Histogram of Age')\n",
    "plt.xlabel('Age')\n",
    "plt.ylabel('Frequency')\n",
    "\n",
    "# Histogram for Total Score\n",
    "plt.subplot(1, 2, 2)\n",
    "plt.hist(data['Total Score'], bins=60, color='blue', alpha=0.7)  # Histogram\n",
    "plt.title('Histogram of Total Score')\n",
    "plt.xlabel('Total Score')\n",
    "plt.ylabel('Frequency')\n",
    "\n",
    "plt.tight_layout()  # Adjust layout to prevent overlap\n",
    "plt.show()"
   ]
  },
  {
   "cell_type": "code",
   "execution_count": 57,
   "id": "083cfbf9",
   "metadata": {
    "execution": {
     "iopub.execute_input": "2024-03-10T01:55:05.077071Z",
     "iopub.status.busy": "2024-03-10T01:55:05.076433Z",
     "iopub.status.idle": "2024-03-10T01:55:05.086009Z",
     "shell.execute_reply": "2024-03-10T01:55:05.084613Z"
    },
    "papermill": {
     "duration": 0.055687,
     "end_time": "2024-03-10T01:55:05.089521",
     "exception": false,
     "start_time": "2024-03-10T01:55:05.033834",
     "status": "completed"
    },
    "tags": []
   },
   "outputs": [
    {
     "name": "stdout",
     "output_type": "stream",
     "text": [
      "Frequency of Total Scores:\n",
      "35    25\n",
      "44    24\n",
      "43    22\n",
      "33    22\n",
      "37    22\n",
      "41    22\n",
      "42    21\n",
      "45    21\n",
      "36    18\n",
      "32    18\n",
      "40    17\n",
      "38    17\n",
      "30    17\n",
      "34    16\n",
      "47    15\n",
      "28    13\n",
      "39    13\n",
      "29    12\n",
      "46    11\n",
      "48    10\n",
      "49    10\n",
      "27    10\n",
      "50    10\n",
      "31     9\n",
      "23     8\n",
      "24     8\n",
      "18     6\n",
      "25     6\n",
      "52     6\n",
      "22     6\n",
      "51     6\n",
      "56     5\n",
      "19     5\n",
      "26     5\n",
      "21     4\n",
      "12     4\n",
      "20     4\n",
      "15     3\n",
      "53     2\n",
      "54     2\n",
      "17     2\n",
      "13     2\n",
      "16     1\n",
      "55     1\n",
      "Name: Total Score, dtype: int64\n"
     ]
    }
   ],
   "source": [
    "total_score_frequency = data['Total Score'].value_counts()\n",
    "\n",
    "# Print frequency of total scores\n",
    "print(\"Frequency of Total Scores:\")\n",
    "print(total_score_frequency)"
   ]
  },
  {
   "cell_type": "code",
   "execution_count": 58,
   "id": "2f67457a",
   "metadata": {
    "execution": {
     "iopub.execute_input": "2024-03-10T01:55:05.170151Z",
     "iopub.status.busy": "2024-03-10T01:55:05.169650Z",
     "iopub.status.idle": "2024-03-10T01:55:05.177582Z",
     "shell.execute_reply": "2024-03-10T01:55:05.176179Z"
    },
    "papermill": {
     "duration": 0.051034,
     "end_time": "2024-03-10T01:55:05.180110",
     "exception": false,
     "start_time": "2024-03-10T01:55:05.129076",
     "status": "completed"
    },
    "tags": []
   },
   "outputs": [
    {
     "name": "stdout",
     "output_type": "stream",
     "text": [
      "The correlation coefficient between Age and Total Score is: -0.35\n"
     ]
    }
   ],
   "source": [
    "# Calculate correlation coefficient\n",
    "correlation_coefficient = np.corrcoef(data['Age'], data['Total Score'])[0, 1]\n",
    "\n",
    "print(f\"The correlation coefficient between Age and Total Score is: {correlation_coefficient:.2f}\")"
   ]
  },
  {
   "cell_type": "code",
   "execution_count": 59,
   "id": "d24cc055",
   "metadata": {
    "execution": {
     "iopub.execute_input": "2024-03-10T01:55:05.261204Z",
     "iopub.status.busy": "2024-03-10T01:55:05.260726Z",
     "iopub.status.idle": "2024-03-10T01:55:05.763791Z",
     "shell.execute_reply": "2024-03-10T01:55:05.762925Z"
    },
    "papermill": {
     "duration": 0.545894,
     "end_time": "2024-03-10T01:55:05.766240",
     "exception": false,
     "start_time": "2024-03-10T01:55:05.220346",
     "status": "completed"
    },
    "tags": []
   },
   "outputs": [
    {
     "data": {
      "image/png": "[encoded data removed]",
      "text/plain": [
       "<Figure size 800x600 with 1 Axes>"
      ]
     },
     "metadata": {},
     "output_type": "display_data"
    }
   ],
   "source": [
    "plt.figure(figsize=(8, 6))  # Adjust the figure size as needed\n",
    "\n",
    "# Scatter plot\n",
    "plt.scatter(data['Age'], data['Total Score'], color='blue', alpha=0.5, label='Data')  # Scatter plot\n",
    "\n",
    "# Perform linear regression\n",
    "slope, intercept = np.polyfit(data['Age'], data['Total Score'], 1)\n",
    "\n",
    "# Plot regression line\n",
    "plt.plot(data['Age'], slope * data['Age'] + intercept, color='red', label='Regression Line')\n",
    "\n",
    "plt.title('Age vs Total Score')\n",
    "plt.xlabel('Age')\n",
    "plt.ylabel('Total Score')\n",
    "\n",
    "plt.legend()  # Show legend\n",
    "plt.grid(True)  # Add grid\n",
    "plt.tight_layout()\n",
    "\n",
    "plt.show()"
   ]
  },
  {
   "cell_type": "markdown",
   "id": "9a713c0d",
   "metadata": {
    "papermill": {
     "duration": 0.040228,
     "end_time": "2024-03-10T01:55:05.847156",
     "exception": false,
     "start_time": "2024-03-10T01:55:05.806928",
     "status": "completed"
    },
    "tags": []
   },
   "source": [
    "There is a negative correlation. Older particiapnts have better mental health. "
   ]
  }
 ],
 "metadata": {
  "kaggle": {
   "accelerator": "none",
   "dataSources": [
    {
     "datasetId": 2752689,
     "sourceId": 6154312,
     "sourceType": "datasetVersion"
    }
   ],
   "dockerImageVersionId": 30527,
   "isGpuEnabled": false,
   "isInternetEnabled": true,
   "language": "python",
   "sourceType": "notebook"
  },
  "kernelspec": {
   "display_name": "Python 3",
   "language": "python",
   "name": "python3"
  },
  "language_info": {
   "codemirror_mode": {
    "name": "ipython",
    "version": 3
   },
   "file_extension": ".py",
   "mimetype": "text/x-python",
   "name": "python",
   "nbconvert_exporter": "python",
   "pygments_lexer": "ipython3",
   "version": "3.10.12"
  },
  "papermill": {
   "default_parameters": {},
   "duration": 42.731051,
   "end_time": "2024-03-10T01:55:07.011575",
   "environment_variables": {},
   "exception": null,
   "input_path": "__notebook__.ipynb",
   "output_path": "__notebook__.ipynb",
   "parameters": {},
   "start_time": "2024-03-10T01:54:24.280524",
   "version": "2.4.0"
  }
 },
 "nbformat": 4,
 "nbformat_minor": 5
}
