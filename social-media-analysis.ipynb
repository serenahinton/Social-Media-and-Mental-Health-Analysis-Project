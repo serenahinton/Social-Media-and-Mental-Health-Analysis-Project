{
 "cells": [
  {
   "cell_type": "markdown",
   "id": "bbe361de",
   "metadata": {
    "papermill": {
     "duration": 0.023281,
     "end_time": "2024-03-10T00:07:54.974791",
     "exception": false,
     "start_time": "2024-03-10T00:07:54.951510",
     "status": "completed"
    },
    "tags": []
   },
   "source": [
    "# **Case Study Description**\n",
    "# **Data Description**\n",
    "\n",
    "Data includes: \n",
    "* age\n",
    "* gender \n",
    "* relationship status\n",
    "* occupation \n",
    "* organization affiliation \n",
    "* social media use user?\n",
    "* social media platforms used \n",
    "* time spent on social media \n",
    "* results for ADHD, anxiety, self-esteem, and depression screenings.\n",
    "\n",
    "\n",
    "\n",
    "Mental Health uses Likert Scale: \n",
    "* Purposeless use of Social Media Question 9 = ADHD Q1\n",
    "* Distracted by Social Media Question 10 = ADHD Q2\n",
    "* Restlessness if Social Media not used Question 11 = Anxiety Q1\n",
    "* Ease of Distraction by Social Media Question 12 = ADHD Q3\n",
    "* Bothered by worries Question 13 = Anxiety Q2\n",
    "* Difficulty in concentrating Question 14 = ADHD Q4\n",
    "* Comparison of self to peers Question 15 = Self Esteem Q1\n",
    "* Feelings about above comparison Question 16 = Self Esteem, Q2\n",
    "* Validation sought from Social Media Question 17 = Self Esteem Q3\n",
    "* Feelings of Depression Question 18 = Depression Q1\n",
    "* Fluctuation of interest Question 19 = Depression Q2\n",
    "* Sleep Issues Question 20 = Depression Q3\n"
   ]
  },
  {
   "cell_type": "code",
   "execution_count": 1,
   "id": "b5ec5ba8",
   "metadata": {
    "execution": {
     "iopub.execute_input": "2024-03-10T00:07:55.024901Z",
     "iopub.status.busy": "2024-03-10T00:07:55.024311Z",
     "iopub.status.idle": "2024-03-10T00:07:56.629099Z",
     "shell.execute_reply": "2024-03-10T00:07:56.627807Z"
    },
    "papermill": {
     "duration": 1.632919,
     "end_time": "2024-03-10T00:07:56.632187",
     "exception": false,
     "start_time": "2024-03-10T00:07:54.999268",
     "status": "completed"
    },
    "tags": []
   },
   "outputs": [
    {
     "name": "stderr",
     "output_type": "stream",
     "text": [
      "/opt/conda/lib/python3.10/site-packages/scipy/__init__.py:146: UserWarning: A NumPy version >=1.16.5 and <1.23.0 is required for this version of SciPy (detected version 1.23.5\n",
      "  warnings.warn(f\"A NumPy version >={np_minversion} and <{np_maxversion}\"\n"
     ]
    }
   ],
   "source": [
    "#importing necessary packages for project\n",
    "import numpy as np\n",
    "import pandas as pd\n",
    "import matplotlib.pyplot as plt\n",
    "import seaborn as sns"
   ]
  },
  {
   "cell_type": "code",
   "execution_count": 2,
   "id": "a5f2d944",
   "metadata": {
    "execution": {
     "iopub.execute_input": "2024-03-10T00:07:56.681557Z",
     "iopub.status.busy": "2024-03-10T00:07:56.681075Z",
     "iopub.status.idle": "2024-03-10T00:07:56.694717Z",
     "shell.execute_reply": "2024-03-10T00:07:56.693135Z"
    },
    "papermill": {
     "duration": 0.042001,
     "end_time": "2024-03-10T00:07:56.697295",
     "exception": false,
     "start_time": "2024-03-10T00:07:56.655294",
     "status": "completed"
    },
    "tags": []
   },
   "outputs": [
    {
     "name": "stdout",
     "output_type": "stream",
     "text": [
      "/kaggle/input/social-media-and-mental-health/smmh.csv\n"
     ]
    }
   ],
   "source": [
    "#load data set that will be used for project\n",
    "import os\n",
    "for dirname, _, filenames in os.walk('/kaggle/input'):\n",
    "    for filename in filenames:\n",
    "        print(os.path.join(dirname, filename))"
   ]
  },
  {
   "cell_type": "code",
   "execution_count": 3,
   "id": "3d3a2058",
   "metadata": {
    "execution": {
     "iopub.execute_input": "2024-03-10T00:07:56.745463Z",
     "iopub.status.busy": "2024-03-10T00:07:56.744897Z",
     "iopub.status.idle": "2024-03-10T00:07:56.770394Z",
     "shell.execute_reply": "2024-03-10T00:07:56.768959Z"
    },
    "papermill": {
     "duration": 0.052631,
     "end_time": "2024-03-10T00:07:56.773185",
     "exception": false,
     "start_time": "2024-03-10T00:07:56.720554",
     "status": "completed"
    },
    "tags": []
   },
   "outputs": [],
   "source": [
    "#load data set\n",
    "data=pd.read_csv('/kaggle/input/social-media-and-mental-health/smmh.csv')"
   ]
  },
  {
   "cell_type": "code",
   "execution_count": 4,
   "id": "7a01c914",
   "metadata": {
    "execution": {
     "iopub.execute_input": "2024-03-10T00:07:56.821257Z",
     "iopub.status.busy": "2024-03-10T00:07:56.820823Z",
     "iopub.status.idle": "2024-03-10T00:07:56.826094Z",
     "shell.execute_reply": "2024-03-10T00:07:56.824953Z"
    },
    "papermill": {
     "duration": 0.03196,
     "end_time": "2024-03-10T00:07:56.828209",
     "exception": false,
     "start_time": "2024-03-10T00:07:56.796249",
     "status": "completed"
    },
    "tags": []
   },
   "outputs": [],
   "source": [
    "# Setting to display all columns\n",
    "pd.set_option(\"display.max_columns\", None)"
   ]
  },
  {
   "cell_type": "code",
   "execution_count": 5,
   "id": "2867b453",
   "metadata": {
    "execution": {
     "iopub.execute_input": "2024-03-10T00:07:56.875768Z",
     "iopub.status.busy": "2024-03-10T00:07:56.875305Z",
     "iopub.status.idle": "2024-03-10T00:07:56.911287Z",
     "shell.execute_reply": "2024-03-10T00:07:56.910016Z"
    },
    "papermill": {
     "duration": 0.064294,
     "end_time": "2024-03-10T00:07:56.915206",
     "exception": false,
     "start_time": "2024-03-10T00:07:56.850912",
     "status": "completed"
    },
    "tags": []
   },
   "outputs": [
    {
     "data": {
      "text/html": [
       "<div>\n",
       "<style scoped>\n",
       "    .dataframe tbody tr th:only-of-type {\n",
       "        vertical-align: middle;\n",
       "    }\n",
       "\n",
       "    .dataframe tbody tr th {\n",
       "        vertical-align: top;\n",
       "    }\n",
       "\n",
       "    .dataframe thead th {\n",
       "        text-align: right;\n",
       "    }\n",
       "</style>\n",
       "<table border=\"1\" class=\"dataframe\">\n",
       "  <thead>\n",
       "    <tr style=\"text-align: right;\">\n",
       "      <th></th>\n",
       "      <th>Timestamp</th>\n",
       "      <th>1. What is your age?</th>\n",
       "      <th>2. Gender</th>\n",
       "      <th>3. Relationship Status</th>\n",
       "      <th>4. Occupation Status</th>\n",
       "      <th>5. What type of organizations are you affiliated with?</th>\n",
       "      <th>6. Do you use social media?</th>\n",
       "      <th>7. What social media platforms do you commonly use?</th>\n",
       "      <th>8. What is the average time you spend on social media every day?</th>\n",
       "      <th>9. How often do you find yourself using Social media without a specific purpose?</th>\n",
       "      <th>10. How often do you get distracted by Social media when you are busy doing something?</th>\n",
       "      <th>11. Do you feel restless if you haven't used Social media in a while?</th>\n",
       "      <th>12. On a scale of 1 to 5, how easily distracted are you?</th>\n",
       "      <th>13. On a scale of 1 to 5, how much are you bothered by worries?</th>\n",
       "      <th>14. Do you find it difficult to concentrate on things?</th>\n",
       "      <th>15. On a scale of 1-5, how often do you compare yourself to other successful people through the use of social media?</th>\n",
       "      <th>16. Following the previous question, how do you feel about these comparisons, generally speaking?</th>\n",
       "      <th>17. How often do you look to seek validation from features of social media?</th>\n",
       "      <th>18. How often do you feel depressed or down?</th>\n",
       "      <th>19. On a scale of 1 to 5, how frequently does your interest in daily activities fluctuate?</th>\n",
       "      <th>20. On a scale of 1 to 5, how often do you face issues regarding sleep?</th>\n",
       "    </tr>\n",
       "  </thead>\n",
       "  <tbody>\n",
       "    <tr>\n",
       "      <th>0</th>\n",
       "      <td>4/18/2022 19:18:47</td>\n",
       "      <td>21.0</td>\n",
       "      <td>Male</td>\n",
       "      <td>In a relationship</td>\n",
       "      <td>University Student</td>\n",
       "      <td>University</td>\n",
       "      <td>Yes</td>\n",
       "      <td>Facebook, Twitter, Instagram, YouTube, Discord...</td>\n",
       "      <td>Between 2 and 3 hours</td>\n",
       "      <td>5</td>\n",
       "      <td>3</td>\n",
       "      <td>2</td>\n",
       "      <td>5</td>\n",
       "      <td>2</td>\n",
       "      <td>5</td>\n",
       "      <td>2</td>\n",
       "      <td>3</td>\n",
       "      <td>2</td>\n",
       "      <td>5</td>\n",
       "      <td>4</td>\n",
       "      <td>5</td>\n",
       "    </tr>\n",
       "    <tr>\n",
       "      <th>1</th>\n",
       "      <td>4/18/2022 19:19:28</td>\n",
       "      <td>21.0</td>\n",
       "      <td>Female</td>\n",
       "      <td>Single</td>\n",
       "      <td>University Student</td>\n",
       "      <td>University</td>\n",
       "      <td>Yes</td>\n",
       "      <td>Facebook, Twitter, Instagram, YouTube, Discord...</td>\n",
       "      <td>More than 5 hours</td>\n",
       "      <td>4</td>\n",
       "      <td>3</td>\n",
       "      <td>2</td>\n",
       "      <td>4</td>\n",
       "      <td>5</td>\n",
       "      <td>4</td>\n",
       "      <td>5</td>\n",
       "      <td>1</td>\n",
       "      <td>1</td>\n",
       "      <td>5</td>\n",
       "      <td>4</td>\n",
       "      <td>5</td>\n",
       "    </tr>\n",
       "    <tr>\n",
       "      <th>2</th>\n",
       "      <td>4/18/2022 19:25:59</td>\n",
       "      <td>21.0</td>\n",
       "      <td>Female</td>\n",
       "      <td>Single</td>\n",
       "      <td>University Student</td>\n",
       "      <td>University</td>\n",
       "      <td>Yes</td>\n",
       "      <td>Facebook, Instagram, YouTube, Pinterest</td>\n",
       "      <td>Between 3 and 4 hours</td>\n",
       "      <td>3</td>\n",
       "      <td>2</td>\n",
       "      <td>1</td>\n",
       "      <td>2</td>\n",
       "      <td>5</td>\n",
       "      <td>4</td>\n",
       "      <td>3</td>\n",
       "      <td>3</td>\n",
       "      <td>1</td>\n",
       "      <td>4</td>\n",
       "      <td>2</td>\n",
       "      <td>5</td>\n",
       "    </tr>\n",
       "    <tr>\n",
       "      <th>3</th>\n",
       "      <td>4/18/2022 19:29:43</td>\n",
       "      <td>21.0</td>\n",
       "      <td>Female</td>\n",
       "      <td>Single</td>\n",
       "      <td>University Student</td>\n",
       "      <td>University</td>\n",
       "      <td>Yes</td>\n",
       "      <td>Facebook, Instagram</td>\n",
       "      <td>More than 5 hours</td>\n",
       "      <td>4</td>\n",
       "      <td>2</td>\n",
       "      <td>1</td>\n",
       "      <td>3</td>\n",
       "      <td>5</td>\n",
       "      <td>3</td>\n",
       "      <td>5</td>\n",
       "      <td>1</td>\n",
       "      <td>2</td>\n",
       "      <td>4</td>\n",
       "      <td>3</td>\n",
       "      <td>2</td>\n",
       "    </tr>\n",
       "    <tr>\n",
       "      <th>4</th>\n",
       "      <td>4/18/2022 19:33:31</td>\n",
       "      <td>21.0</td>\n",
       "      <td>Female</td>\n",
       "      <td>Single</td>\n",
       "      <td>University Student</td>\n",
       "      <td>University</td>\n",
       "      <td>Yes</td>\n",
       "      <td>Facebook, Instagram, YouTube</td>\n",
       "      <td>Between 2 and 3 hours</td>\n",
       "      <td>3</td>\n",
       "      <td>5</td>\n",
       "      <td>4</td>\n",
       "      <td>4</td>\n",
       "      <td>5</td>\n",
       "      <td>5</td>\n",
       "      <td>3</td>\n",
       "      <td>3</td>\n",
       "      <td>3</td>\n",
       "      <td>4</td>\n",
       "      <td>4</td>\n",
       "      <td>1</td>\n",
       "    </tr>\n",
       "  </tbody>\n",
       "</table>\n",
       "</div>"
      ],
      "text/plain": [
       "            Timestamp  1. What is your age? 2. Gender 3. Relationship Status  \\\n",
       "0  4/18/2022 19:18:47                  21.0      Male      In a relationship   \n",
       "1  4/18/2022 19:19:28                  21.0    Female                 Single   \n",
       "2  4/18/2022 19:25:59                  21.0    Female                 Single   \n",
       "3  4/18/2022 19:29:43                  21.0    Female                 Single   \n",
       "4  4/18/2022 19:33:31                  21.0    Female                 Single   \n",
       "\n",
       "  4. Occupation Status 5. What type of organizations are you affiliated with?  \\\n",
       "0   University Student                                         University       \n",
       "1   University Student                                         University       \n",
       "2   University Student                                         University       \n",
       "3   University Student                                         University       \n",
       "4   University Student                                         University       \n",
       "\n",
       "  6. Do you use social media?  \\\n",
       "0                         Yes   \n",
       "1                         Yes   \n",
       "2                         Yes   \n",
       "3                         Yes   \n",
       "4                         Yes   \n",
       "\n",
       "  7. What social media platforms do you commonly use?  \\\n",
       "0  Facebook, Twitter, Instagram, YouTube, Discord...    \n",
       "1  Facebook, Twitter, Instagram, YouTube, Discord...    \n",
       "2            Facebook, Instagram, YouTube, Pinterest    \n",
       "3                                Facebook, Instagram    \n",
       "4                       Facebook, Instagram, YouTube    \n",
       "\n",
       "  8. What is the average time you spend on social media every day?  \\\n",
       "0                              Between 2 and 3 hours                 \n",
       "1                                  More than 5 hours                 \n",
       "2                              Between 3 and 4 hours                 \n",
       "3                                  More than 5 hours                 \n",
       "4                              Between 2 and 3 hours                 \n",
       "\n",
       "   9. How often do you find yourself using Social media without a specific purpose?  \\\n",
       "0                                                  5                                  \n",
       "1                                                  4                                  \n",
       "2                                                  3                                  \n",
       "3                                                  4                                  \n",
       "4                                                  3                                  \n",
       "\n",
       "   10. How often do you get distracted by Social media when you are busy doing something?  \\\n",
       "0                                                  3                                        \n",
       "1                                                  3                                        \n",
       "2                                                  2                                        \n",
       "3                                                  2                                        \n",
       "4                                                  5                                        \n",
       "\n",
       "   11. Do you feel restless if you haven't used Social media in a while?  \\\n",
       "0                                                  2                       \n",
       "1                                                  2                       \n",
       "2                                                  1                       \n",
       "3                                                  1                       \n",
       "4                                                  4                       \n",
       "\n",
       "   12. On a scale of 1 to 5, how easily distracted are you?  \\\n",
       "0                                                  5          \n",
       "1                                                  4          \n",
       "2                                                  2          \n",
       "3                                                  3          \n",
       "4                                                  4          \n",
       "\n",
       "   13. On a scale of 1 to 5, how much are you bothered by worries?  \\\n",
       "0                                                  2                 \n",
       "1                                                  5                 \n",
       "2                                                  5                 \n",
       "3                                                  5                 \n",
       "4                                                  5                 \n",
       "\n",
       "   14. Do you find it difficult to concentrate on things?  \\\n",
       "0                                                  5        \n",
       "1                                                  4        \n",
       "2                                                  4        \n",
       "3                                                  3        \n",
       "4                                                  5        \n",
       "\n",
       "   15. On a scale of 1-5, how often do you compare yourself to other successful people through the use of social media?  \\\n",
       "0                                                  2                                                                      \n",
       "1                                                  5                                                                      \n",
       "2                                                  3                                                                      \n",
       "3                                                  5                                                                      \n",
       "4                                                  3                                                                      \n",
       "\n",
       "   16. Following the previous question, how do you feel about these comparisons, generally speaking?  \\\n",
       "0                                                  3                                                   \n",
       "1                                                  1                                                   \n",
       "2                                                  3                                                   \n",
       "3                                                  1                                                   \n",
       "4                                                  3                                                   \n",
       "\n",
       "   17. How often do you look to seek validation from features of social media?  \\\n",
       "0                                                  2                             \n",
       "1                                                  1                             \n",
       "2                                                  1                             \n",
       "3                                                  2                             \n",
       "4                                                  3                             \n",
       "\n",
       "   18. How often do you feel depressed or down?  \\\n",
       "0                                             5   \n",
       "1                                             5   \n",
       "2                                             4   \n",
       "3                                             4   \n",
       "4                                             4   \n",
       "\n",
       "   19. On a scale of 1 to 5, how frequently does your interest in daily activities fluctuate?  \\\n",
       "0                                                  4                                            \n",
       "1                                                  4                                            \n",
       "2                                                  2                                            \n",
       "3                                                  3                                            \n",
       "4                                                  4                                            \n",
       "\n",
       "   20. On a scale of 1 to 5, how often do you face issues regarding sleep?  \n",
       "0                                                  5                        \n",
       "1                                                  5                        \n",
       "2                                                  5                        \n",
       "3                                                  2                        \n",
       "4                                                  1                        "
      ]
     },
     "execution_count": 5,
     "metadata": {},
     "output_type": "execute_result"
    }
   ],
   "source": [
    "# Printing first 5 entries in the data set\n",
    "data.head()"
   ]
  },
  {
   "cell_type": "code",
   "execution_count": 6,
   "id": "df443491",
   "metadata": {
    "execution": {
     "iopub.execute_input": "2024-03-10T00:07:56.964509Z",
     "iopub.status.busy": "2024-03-10T00:07:56.964081Z",
     "iopub.status.idle": "2024-03-10T00:07:56.987801Z",
     "shell.execute_reply": "2024-03-10T00:07:56.986570Z"
    },
    "papermill": {
     "duration": 0.050918,
     "end_time": "2024-03-10T00:07:56.990284",
     "exception": false,
     "start_time": "2024-03-10T00:07:56.939366",
     "status": "completed"
    },
    "tags": []
   },
   "outputs": [
    {
     "data": {
      "text/html": [
       "<div>\n",
       "<style scoped>\n",
       "    .dataframe tbody tr th:only-of-type {\n",
       "        vertical-align: middle;\n",
       "    }\n",
       "\n",
       "    .dataframe tbody tr th {\n",
       "        vertical-align: top;\n",
       "    }\n",
       "\n",
       "    .dataframe thead th {\n",
       "        text-align: right;\n",
       "    }\n",
       "</style>\n",
       "<table border=\"1\" class=\"dataframe\">\n",
       "  <thead>\n",
       "    <tr style=\"text-align: right;\">\n",
       "      <th></th>\n",
       "      <th>Timestamp</th>\n",
       "      <th>1. What is your age?</th>\n",
       "      <th>2. Gender</th>\n",
       "      <th>3. Relationship Status</th>\n",
       "      <th>4. Occupation Status</th>\n",
       "      <th>5. What type of organizations are you affiliated with?</th>\n",
       "      <th>6. Do you use social media?</th>\n",
       "      <th>7. What social media platforms do you commonly use?</th>\n",
       "      <th>8. What is the average time you spend on social media every day?</th>\n",
       "      <th>9. How often do you find yourself using Social media without a specific purpose?</th>\n",
       "      <th>10. How often do you get distracted by Social media when you are busy doing something?</th>\n",
       "      <th>11. Do you feel restless if you haven't used Social media in a while?</th>\n",
       "      <th>12. On a scale of 1 to 5, how easily distracted are you?</th>\n",
       "      <th>13. On a scale of 1 to 5, how much are you bothered by worries?</th>\n",
       "      <th>14. Do you find it difficult to concentrate on things?</th>\n",
       "      <th>15. On a scale of 1-5, how often do you compare yourself to other successful people through the use of social media?</th>\n",
       "      <th>16. Following the previous question, how do you feel about these comparisons, generally speaking?</th>\n",
       "      <th>17. How often do you look to seek validation from features of social media?</th>\n",
       "      <th>18. How often do you feel depressed or down?</th>\n",
       "      <th>19. On a scale of 1 to 5, how frequently does your interest in daily activities fluctuate?</th>\n",
       "      <th>20. On a scale of 1 to 5, how often do you face issues regarding sleep?</th>\n",
       "    </tr>\n",
       "  </thead>\n",
       "  <tbody>\n",
       "    <tr>\n",
       "      <th>476</th>\n",
       "      <td>5/21/2022 23:38:28</td>\n",
       "      <td>24.0</td>\n",
       "      <td>Male</td>\n",
       "      <td>Single</td>\n",
       "      <td>Salaried Worker</td>\n",
       "      <td>University, Private</td>\n",
       "      <td>Yes</td>\n",
       "      <td>Facebook, Instagram, YouTube</td>\n",
       "      <td>Between 2 and 3 hours</td>\n",
       "      <td>3</td>\n",
       "      <td>4</td>\n",
       "      <td>3</td>\n",
       "      <td>4</td>\n",
       "      <td>3</td>\n",
       "      <td>4</td>\n",
       "      <td>4</td>\n",
       "      <td>2</td>\n",
       "      <td>4</td>\n",
       "      <td>3</td>\n",
       "      <td>4</td>\n",
       "      <td>4</td>\n",
       "    </tr>\n",
       "    <tr>\n",
       "      <th>477</th>\n",
       "      <td>5/22/2022 0:01:05</td>\n",
       "      <td>26.0</td>\n",
       "      <td>Female</td>\n",
       "      <td>Married</td>\n",
       "      <td>Salaried Worker</td>\n",
       "      <td>University</td>\n",
       "      <td>Yes</td>\n",
       "      <td>Facebook, YouTube</td>\n",
       "      <td>Between 1 and 2 hours</td>\n",
       "      <td>2</td>\n",
       "      <td>1</td>\n",
       "      <td>2</td>\n",
       "      <td>3</td>\n",
       "      <td>4</td>\n",
       "      <td>4</td>\n",
       "      <td>4</td>\n",
       "      <td>2</td>\n",
       "      <td>4</td>\n",
       "      <td>4</td>\n",
       "      <td>4</td>\n",
       "      <td>1</td>\n",
       "    </tr>\n",
       "    <tr>\n",
       "      <th>478</th>\n",
       "      <td>5/22/2022 10:29:21</td>\n",
       "      <td>29.0</td>\n",
       "      <td>Female</td>\n",
       "      <td>Married</td>\n",
       "      <td>Salaried Worker</td>\n",
       "      <td>University</td>\n",
       "      <td>Yes</td>\n",
       "      <td>Facebook, YouTube</td>\n",
       "      <td>Between 2 and 3 hours</td>\n",
       "      <td>3</td>\n",
       "      <td>3</td>\n",
       "      <td>4</td>\n",
       "      <td>3</td>\n",
       "      <td>2</td>\n",
       "      <td>3</td>\n",
       "      <td>3</td>\n",
       "      <td>3</td>\n",
       "      <td>4</td>\n",
       "      <td>2</td>\n",
       "      <td>2</td>\n",
       "      <td>2</td>\n",
       "    </tr>\n",
       "    <tr>\n",
       "      <th>479</th>\n",
       "      <td>7/14/2022 19:33:47</td>\n",
       "      <td>21.0</td>\n",
       "      <td>Male</td>\n",
       "      <td>Single</td>\n",
       "      <td>University Student</td>\n",
       "      <td>University</td>\n",
       "      <td>Yes</td>\n",
       "      <td>Facebook, Twitter, Instagram, YouTube, Discord...</td>\n",
       "      <td>Between 2 and 3 hours</td>\n",
       "      <td>2</td>\n",
       "      <td>3</td>\n",
       "      <td>2</td>\n",
       "      <td>3</td>\n",
       "      <td>3</td>\n",
       "      <td>2</td>\n",
       "      <td>2</td>\n",
       "      <td>3</td>\n",
       "      <td>4</td>\n",
       "      <td>4</td>\n",
       "      <td>5</td>\n",
       "      <td>4</td>\n",
       "    </tr>\n",
       "    <tr>\n",
       "      <th>480</th>\n",
       "      <td>11/12/2022 13:16:50</td>\n",
       "      <td>53.0</td>\n",
       "      <td>Male</td>\n",
       "      <td>Married</td>\n",
       "      <td>Salaried Worker</td>\n",
       "      <td>Private</td>\n",
       "      <td>Yes</td>\n",
       "      <td>Facebook, YouTube</td>\n",
       "      <td>Less than an Hour</td>\n",
       "      <td>2</td>\n",
       "      <td>3</td>\n",
       "      <td>1</td>\n",
       "      <td>3</td>\n",
       "      <td>1</td>\n",
       "      <td>1</td>\n",
       "      <td>3</td>\n",
       "      <td>3</td>\n",
       "      <td>2</td>\n",
       "      <td>2</td>\n",
       "      <td>2</td>\n",
       "      <td>3</td>\n",
       "    </tr>\n",
       "  </tbody>\n",
       "</table>\n",
       "</div>"
      ],
      "text/plain": [
       "               Timestamp  1. What is your age? 2. Gender  \\\n",
       "476   5/21/2022 23:38:28                  24.0      Male   \n",
       "477    5/22/2022 0:01:05                  26.0    Female   \n",
       "478   5/22/2022 10:29:21                  29.0    Female   \n",
       "479   7/14/2022 19:33:47                  21.0      Male   \n",
       "480  11/12/2022 13:16:50                  53.0      Male   \n",
       "\n",
       "    3. Relationship Status 4. Occupation Status  \\\n",
       "476                 Single      Salaried Worker   \n",
       "477                Married      Salaried Worker   \n",
       "478                Married      Salaried Worker   \n",
       "479                 Single   University Student   \n",
       "480                Married      Salaried Worker   \n",
       "\n",
       "    5. What type of organizations are you affiliated with?  \\\n",
       "476                                University, Private       \n",
       "477                                         University       \n",
       "478                                         University       \n",
       "479                                         University       \n",
       "480                                            Private       \n",
       "\n",
       "    6. Do you use social media?  \\\n",
       "476                         Yes   \n",
       "477                         Yes   \n",
       "478                         Yes   \n",
       "479                         Yes   \n",
       "480                         Yes   \n",
       "\n",
       "    7. What social media platforms do you commonly use?  \\\n",
       "476                       Facebook, Instagram, YouTube    \n",
       "477                                  Facebook, YouTube    \n",
       "478                                  Facebook, YouTube    \n",
       "479  Facebook, Twitter, Instagram, YouTube, Discord...    \n",
       "480                                  Facebook, YouTube    \n",
       "\n",
       "    8. What is the average time you spend on social media every day?  \\\n",
       "476                              Between 2 and 3 hours                 \n",
       "477                              Between 1 and 2 hours                 \n",
       "478                              Between 2 and 3 hours                 \n",
       "479                              Between 2 and 3 hours                 \n",
       "480                                  Less than an Hour                 \n",
       "\n",
       "     9. How often do you find yourself using Social media without a specific purpose?  \\\n",
       "476                                                  3                                  \n",
       "477                                                  2                                  \n",
       "478                                                  3                                  \n",
       "479                                                  2                                  \n",
       "480                                                  2                                  \n",
       "\n",
       "     10. How often do you get distracted by Social media when you are busy doing something?  \\\n",
       "476                                                  4                                        \n",
       "477                                                  1                                        \n",
       "478                                                  3                                        \n",
       "479                                                  3                                        \n",
       "480                                                  3                                        \n",
       "\n",
       "     11. Do you feel restless if you haven't used Social media in a while?  \\\n",
       "476                                                  3                       \n",
       "477                                                  2                       \n",
       "478                                                  4                       \n",
       "479                                                  2                       \n",
       "480                                                  1                       \n",
       "\n",
       "     12. On a scale of 1 to 5, how easily distracted are you?  \\\n",
       "476                                                  4          \n",
       "477                                                  3          \n",
       "478                                                  3          \n",
       "479                                                  3          \n",
       "480                                                  3          \n",
       "\n",
       "     13. On a scale of 1 to 5, how much are you bothered by worries?  \\\n",
       "476                                                  3                 \n",
       "477                                                  4                 \n",
       "478                                                  2                 \n",
       "479                                                  3                 \n",
       "480                                                  1                 \n",
       "\n",
       "     14. Do you find it difficult to concentrate on things?  \\\n",
       "476                                                  4        \n",
       "477                                                  4        \n",
       "478                                                  3        \n",
       "479                                                  2        \n",
       "480                                                  1        \n",
       "\n",
       "     15. On a scale of 1-5, how often do you compare yourself to other successful people through the use of social media?  \\\n",
       "476                                                  4                                                                      \n",
       "477                                                  4                                                                      \n",
       "478                                                  3                                                                      \n",
       "479                                                  2                                                                      \n",
       "480                                                  3                                                                      \n",
       "\n",
       "     16. Following the previous question, how do you feel about these comparisons, generally speaking?  \\\n",
       "476                                                  2                                                   \n",
       "477                                                  2                                                   \n",
       "478                                                  3                                                   \n",
       "479                                                  3                                                   \n",
       "480                                                  3                                                   \n",
       "\n",
       "     17. How often do you look to seek validation from features of social media?  \\\n",
       "476                                                  4                             \n",
       "477                                                  4                             \n",
       "478                                                  4                             \n",
       "479                                                  4                             \n",
       "480                                                  2                             \n",
       "\n",
       "     18. How often do you feel depressed or down?  \\\n",
       "476                                             3   \n",
       "477                                             4   \n",
       "478                                             2   \n",
       "479                                             4   \n",
       "480                                             2   \n",
       "\n",
       "     19. On a scale of 1 to 5, how frequently does your interest in daily activities fluctuate?  \\\n",
       "476                                                  4                                            \n",
       "477                                                  4                                            \n",
       "478                                                  2                                            \n",
       "479                                                  5                                            \n",
       "480                                                  2                                            \n",
       "\n",
       "     20. On a scale of 1 to 5, how often do you face issues regarding sleep?  \n",
       "476                                                  4                        \n",
       "477                                                  1                        \n",
       "478                                                  2                        \n",
       "479                                                  4                        \n",
       "480                                                  3                        "
      ]
     },
     "execution_count": 6,
     "metadata": {},
     "output_type": "execute_result"
    }
   ],
   "source": [
    "# Printing last 5 entries in the data set\n",
    "data.tail()"
   ]
  },
  {
   "cell_type": "code",
   "execution_count": 7,
   "id": "00187c10",
   "metadata": {
    "execution": {
     "iopub.execute_input": "2024-03-10T00:07:57.040712Z",
     "iopub.status.busy": "2024-03-10T00:07:57.040053Z",
     "iopub.status.idle": "2024-03-10T00:07:57.046899Z",
     "shell.execute_reply": "2024-03-10T00:07:57.045789Z"
    },
    "papermill": {
     "duration": 0.034919,
     "end_time": "2024-03-10T00:07:57.049260",
     "exception": false,
     "start_time": "2024-03-10T00:07:57.014341",
     "status": "completed"
    },
    "tags": []
   },
   "outputs": [
    {
     "data": {
      "text/plain": [
       "(481, 21)"
      ]
     },
     "execution_count": 7,
     "metadata": {},
     "output_type": "execute_result"
    }
   ],
   "source": [
    "#determining data shape (number of rows,columns)\n",
    "data.shape"
   ]
  },
  {
   "cell_type": "markdown",
   "id": "d9780489",
   "metadata": {
    "papermill": {
     "duration": 0.024208,
     "end_time": "2024-03-10T00:07:57.099686",
     "exception": false,
     "start_time": "2024-03-10T00:07:57.075478",
     "status": "completed"
    },
    "tags": []
   },
   "source": [
    "# **Data Pre-Proceesing and Cleaning** \n",
    "\n",
    "Rename the Columns:\n",
    "The column names are very long so renaming them with shortened names will make handling the data easier. \n"
   ]
  },
  {
   "cell_type": "code",
   "execution_count": 8,
   "id": "7c965c4d",
   "metadata": {
    "execution": {
     "iopub.execute_input": "2024-03-10T00:07:57.151750Z",
     "iopub.status.busy": "2024-03-10T00:07:57.151310Z",
     "iopub.status.idle": "2024-03-10T00:07:57.162461Z",
     "shell.execute_reply": "2024-03-10T00:07:57.161000Z"
    },
    "papermill": {
     "duration": 0.039838,
     "end_time": "2024-03-10T00:07:57.165230",
     "exception": false,
     "start_time": "2024-03-10T00:07:57.125392",
     "status": "completed"
    },
    "tags": []
   },
   "outputs": [],
   "source": [
    "#rename columns for necessary information\n",
    "data.rename(columns = {'1. What is your age?':'Age','2. Gender':'Gender','3. Relationship Status':'Relationship Status',\n",
    "                       '4. Occupation Status':'Occupation',\n",
    "                       '5. What type of organizations are you affiliated with?':'Affiliations',\n",
    "                       '6. Do you use social media?':'Social Media User?',\n",
    "                       '7. What social media platforms do you commonly use?':'Platforms Used',\n",
    "                       '8. What is the average time you spend on social media every day?':'Hours Per Day',\n",
    "                       '9. How often do you find yourself using Social media without a specific purpose?':'ADHD Q1',\n",
    "                       '10. How often do you get distracted by Social media when you are busy doing something?':'ADHD Q2',\n",
    "                       \"11. Do you feel restless if you haven't used Social media in a while?\":'Anxiety Q1',\n",
    "                       '12. On a scale of 1 to 5, how easily distracted are you?':'ADHD Q3',\n",
    "                       '13. On a scale of 1 to 5, how much are you bothered by worries?':'Anxiety Q2',\n",
    "                       '14. Do you find it difficult to concentrate on things?':'ADHD Q4',\n",
    "                       '15. On a scale of 1-5, how often do you compare yourself to other successful people through the use of social media?':'Self Esteem Q1',\n",
    "                       '16. Following the previous question, how do you feel about these comparisons, generally speaking?':'Self Esteem Q2',\n",
    "                       '17. How often do you look to seek validation from features of social media?':'Self Esteem Q3',\n",
    "                       '18. How often do you feel depressed or down?':'Depression Q1',\n",
    "                       '19. On a scale of 1 to 5, how frequently does your interest in daily activities fluctuate?':'Depression Q2',\n",
    "                       '20. On a scale of 1 to 5, how often do you face issues regarding sleep?':'Depression Q3' },inplace=True)"
   ]
  },
  {
   "cell_type": "code",
   "execution_count": 9,
   "id": "170a4fab",
   "metadata": {
    "execution": {
     "iopub.execute_input": "2024-03-10T00:07:57.216324Z",
     "iopub.status.busy": "2024-03-10T00:07:57.215906Z",
     "iopub.status.idle": "2024-03-10T00:07:57.223391Z",
     "shell.execute_reply": "2024-03-10T00:07:57.222558Z"
    },
    "papermill": {
     "duration": 0.03563,
     "end_time": "2024-03-10T00:07:57.225600",
     "exception": false,
     "start_time": "2024-03-10T00:07:57.189970",
     "status": "completed"
    },
    "tags": []
   },
   "outputs": [
    {
     "data": {
      "text/plain": [
       "['Timestamp',\n",
       " 'Age',\n",
       " 'Gender',\n",
       " 'Relationship Status',\n",
       " 'Occupation',\n",
       " 'Affiliations',\n",
       " 'Social Media User?',\n",
       " 'Platforms Used',\n",
       " 'Hours Per Day',\n",
       " 'ADHD Q1',\n",
       " 'ADHD Q2',\n",
       " 'Anxiety Q1',\n",
       " 'ADHD Q3',\n",
       " 'Anxiety Q2',\n",
       " 'ADHD Q4',\n",
       " 'Self Esteem Q1',\n",
       " 'Self Esteem Q2',\n",
       " 'Self Esteem Q3',\n",
       " 'Depression Q1',\n",
       " 'Depression Q2',\n",
       " 'Depression Q3']"
      ]
     },
     "execution_count": 9,
     "metadata": {},
     "output_type": "execute_result"
    }
   ],
   "source": [
    "#review new clumn names\n",
    "titles = list(data.columns)\n",
    "titles"
   ]
  },
  {
   "cell_type": "markdown",
   "id": "181601bb",
   "metadata": {
    "papermill": {
     "duration": 0.024843,
     "end_time": "2024-03-10T00:07:57.275077",
     "exception": false,
     "start_time": "2024-03-10T00:07:57.250234",
     "status": "completed"
    },
    "tags": []
   },
   "source": [
    "# Re-arranging the columns \n",
    "\n",
    "so that ADHD and Anxiety questions are sequential"
   ]
  },
  {
   "cell_type": "code",
   "execution_count": 10,
   "id": "17e6bb81",
   "metadata": {
    "execution": {
     "iopub.execute_input": "2024-03-10T00:07:57.325922Z",
     "iopub.status.busy": "2024-03-10T00:07:57.325498Z",
     "iopub.status.idle": "2024-03-10T00:07:57.341136Z",
     "shell.execute_reply": "2024-03-10T00:07:57.339742Z"
    },
    "papermill": {
     "duration": 0.043947,
     "end_time": "2024-03-10T00:07:57.343832",
     "exception": false,
     "start_time": "2024-03-10T00:07:57.299885",
     "status": "completed"
    },
    "tags": []
   },
   "outputs": [
    {
     "data": {
      "text/plain": [
       "['Timestamp',\n",
       " 'Age',\n",
       " 'Gender',\n",
       " 'Relationship Status',\n",
       " 'Occupation',\n",
       " 'Affiliations',\n",
       " 'Social Media User?',\n",
       " 'Platforms Used',\n",
       " 'Hours Per Day',\n",
       " 'ADHD Q1',\n",
       " 'ADHD Q2',\n",
       " 'ADHD Q3',\n",
       " 'ADHD Q4',\n",
       " 'Anxiety Q1',\n",
       " 'Anxiety Q2',\n",
       " 'Self Esteem Q1',\n",
       " 'Self Esteem Q2',\n",
       " 'Self Esteem Q3',\n",
       " 'Depression Q1',\n",
       " 'Depression Q2',\n",
       " 'Depression Q3']"
      ]
     },
     "execution_count": 10,
     "metadata": {},
     "output_type": "execute_result"
    }
   ],
   "source": [
    "# rearranging ADHD and anxiety question columns so that they are sequential\n",
    "\n",
    "titles[11], titles[12] = titles[12], titles[11]\n",
    "titles[12], titles[14] = titles[14], titles[12]\n",
    "titles[13], titles[14] = titles[14], titles[13]\n",
    "data = data[titles]\n",
    "titles"
   ]
  },
  {
   "cell_type": "markdown",
   "id": "78615bc3",
   "metadata": {
    "papermill": {
     "duration": 0.024609,
     "end_time": "2024-03-10T00:07:57.392869",
     "exception": false,
     "start_time": "2024-03-10T00:07:57.368260",
     "status": "completed"
    },
    "tags": []
   },
   "source": [
    "# **Dropping Columns**\n",
    "\n",
    "I will not need timestamp or organization affiliation as it is not relevant to my project \n"
   ]
  },
  {
   "cell_type": "code",
   "execution_count": 11,
   "id": "9f5c1c3e",
   "metadata": {
    "execution": {
     "iopub.execute_input": "2024-03-10T00:07:57.443142Z",
     "iopub.status.busy": "2024-03-10T00:07:57.442709Z",
     "iopub.status.idle": "2024-03-10T00:07:57.450932Z",
     "shell.execute_reply": "2024-03-10T00:07:57.449995Z"
    },
    "papermill": {
     "duration": 0.035862,
     "end_time": "2024-03-10T00:07:57.453102",
     "exception": false,
     "start_time": "2024-03-10T00:07:57.417240",
     "status": "completed"
    },
    "tags": []
   },
   "outputs": [],
   "source": [
    "#drop columns that are not relevant to this project\n",
    "to_drop = ['Timestamp',\n",
    "          'Affiliations']\n",
    "\n",
    "data.drop(to_drop, inplace=True, axis=1)"
   ]
  },
  {
   "cell_type": "code",
   "execution_count": 12,
   "id": "d274eb88",
   "metadata": {
    "execution": {
     "iopub.execute_input": "2024-03-10T00:07:57.504035Z",
     "iopub.status.busy": "2024-03-10T00:07:57.503278Z",
     "iopub.status.idle": "2024-03-10T00:07:57.510872Z",
     "shell.execute_reply": "2024-03-10T00:07:57.509871Z"
    },
    "papermill": {
     "duration": 0.035702,
     "end_time": "2024-03-10T00:07:57.513141",
     "exception": false,
     "start_time": "2024-03-10T00:07:57.477439",
     "status": "completed"
    },
    "tags": []
   },
   "outputs": [
    {
     "data": {
      "text/plain": [
       "['Age',\n",
       " 'Gender',\n",
       " 'Relationship Status',\n",
       " 'Occupation',\n",
       " 'Social Media User?',\n",
       " 'Platforms Used',\n",
       " 'Hours Per Day',\n",
       " 'ADHD Q1',\n",
       " 'ADHD Q2',\n",
       " 'ADHD Q3',\n",
       " 'ADHD Q4',\n",
       " 'Anxiety Q1',\n",
       " 'Anxiety Q2',\n",
       " 'Self Esteem Q1',\n",
       " 'Self Esteem Q2',\n",
       " 'Self Esteem Q3',\n",
       " 'Depression Q1',\n",
       " 'Depression Q2',\n",
       " 'Depression Q3']"
      ]
     },
     "execution_count": 12,
     "metadata": {},
     "output_type": "execute_result"
    }
   ],
   "source": [
    "#review columns for accuracy\n",
    "titles = list(data.columns)\n",
    "titles"
   ]
  },
  {
   "cell_type": "code",
   "execution_count": 13,
   "id": "c031b9af",
   "metadata": {
    "execution": {
     "iopub.execute_input": "2024-03-10T00:07:57.565200Z",
     "iopub.status.busy": "2024-03-10T00:07:57.564310Z",
     "iopub.status.idle": "2024-03-10T00:07:57.571398Z",
     "shell.execute_reply": "2024-03-10T00:07:57.570210Z"
    },
    "papermill": {
     "duration": 0.035678,
     "end_time": "2024-03-10T00:07:57.573914",
     "exception": false,
     "start_time": "2024-03-10T00:07:57.538236",
     "status": "completed"
    },
    "tags": []
   },
   "outputs": [
    {
     "data": {
      "text/plain": [
       "(481, 19)"
      ]
     },
     "execution_count": 13,
     "metadata": {},
     "output_type": "execute_result"
    }
   ],
   "source": [
    "#determining data shape after dropping two columns (number of rows,columns)\n",
    "data.shape"
   ]
  },
  {
   "cell_type": "markdown",
   "id": "9d08ebe9",
   "metadata": {
    "papermill": {
     "duration": 0.024593,
     "end_time": "2024-03-10T00:07:57.624180",
     "exception": false,
     "start_time": "2024-03-10T00:07:57.599587",
     "status": "completed"
    },
    "tags": []
   },
   "source": [
    "# **Handle Missing Values**\n",
    "\n",
    "The following values are considered missing:\n",
    "* Blank Values\n",
    "* NaN\n",
    "* null"
   ]
  },
  {
   "cell_type": "code",
   "execution_count": 14,
   "id": "f3b88ae5",
   "metadata": {
    "execution": {
     "iopub.execute_input": "2024-03-10T00:07:57.676276Z",
     "iopub.status.busy": "2024-03-10T00:07:57.675834Z",
     "iopub.status.idle": "2024-03-10T00:07:57.700347Z",
     "shell.execute_reply": "2024-03-10T00:07:57.699111Z"
    },
    "papermill": {
     "duration": 0.054137,
     "end_time": "2024-03-10T00:07:57.703159",
     "exception": false,
     "start_time": "2024-03-10T00:07:57.649022",
     "status": "completed"
    },
    "tags": []
   },
   "outputs": [
    {
     "name": "stdout",
     "output_type": "stream",
     "text": [
      "<class 'pandas.core.frame.DataFrame'>\n",
      "RangeIndex: 481 entries, 0 to 480\n",
      "Data columns (total 19 columns):\n",
      " #   Column               Non-Null Count  Dtype  \n",
      "---  ------               --------------  -----  \n",
      " 0   Age                  481 non-null    float64\n",
      " 1   Gender               481 non-null    object \n",
      " 2   Relationship Status  481 non-null    object \n",
      " 3   Occupation           481 non-null    object \n",
      " 4   Social Media User?   481 non-null    object \n",
      " 5   Platforms Used       481 non-null    object \n",
      " 6   Hours Per Day        481 non-null    object \n",
      " 7   ADHD Q1              481 non-null    int64  \n",
      " 8   ADHD Q2              481 non-null    int64  \n",
      " 9   ADHD Q3              481 non-null    int64  \n",
      " 10  ADHD Q4              481 non-null    int64  \n",
      " 11  Anxiety Q1           481 non-null    int64  \n",
      " 12  Anxiety Q2           481 non-null    int64  \n",
      " 13  Self Esteem Q1       481 non-null    int64  \n",
      " 14  Self Esteem Q2       481 non-null    int64  \n",
      " 15  Self Esteem Q3       481 non-null    int64  \n",
      " 16  Depression Q1        481 non-null    int64  \n",
      " 17  Depression Q2        481 non-null    int64  \n",
      " 18  Depression Q3        481 non-null    int64  \n",
      "dtypes: float64(1), int64(12), object(6)\n",
      "memory usage: 71.5+ KB\n"
     ]
    }
   ],
   "source": [
    "#check for null values\n",
    "#Check number of records in each column of the data set. \n",
    "data.info()"
   ]
  },
  {
   "cell_type": "markdown",
   "id": "62b5abbc",
   "metadata": {
    "papermill": {
     "duration": 0.024609,
     "end_time": "2024-03-10T00:07:57.754049",
     "exception": false,
     "start_time": "2024-03-10T00:07:57.729440",
     "status": "completed"
    },
    "tags": []
   },
   "source": [
    "\n",
    "\n",
    "\n",
    "There are no missing values."
   ]
  },
  {
   "cell_type": "markdown",
   "id": "763a7e67",
   "metadata": {
    "papermill": {
     "duration": 0.024768,
     "end_time": "2024-03-10T00:07:57.804842",
     "exception": false,
     "start_time": "2024-03-10T00:07:57.780074",
     "status": "completed"
    },
    "tags": []
   },
   "source": [
    "**Gender**\n",
    "\n",
    "The \"Gender\" column has unique \"Non-Binary\" entries becuase of how the data was collected. Particpants were able to enter string values for Gender. Thus, renaming these columns as \"Non-Binary\" brings cohesiveness. "
   ]
  },
  {
   "cell_type": "code",
   "execution_count": 15,
   "id": "76516bc8",
   "metadata": {
    "execution": {
     "iopub.execute_input": "2024-03-10T00:07:57.859985Z",
     "iopub.status.busy": "2024-03-10T00:07:57.859243Z",
     "iopub.status.idle": "2024-03-10T00:07:57.865013Z",
     "shell.execute_reply": "2024-03-10T00:07:57.863847Z"
    },
    "papermill": {
     "duration": 0.037762,
     "end_time": "2024-03-10T00:07:57.867876",
     "exception": false,
     "start_time": "2024-03-10T00:07:57.830114",
     "status": "completed"
    },
    "tags": []
   },
   "outputs": [
    {
     "name": "stdout",
     "output_type": "stream",
     "text": [
      "{'Nonbinary ', 'Non-binary', 'unsure ', 'There are others???', 'NB', 'Non binary ', 'Trans', 'Female', 'Male'}\n"
     ]
    }
   ],
   "source": [
    "#List all the unique Gender entries.\n",
    "\n",
    "Genders = set(data['Gender'])\n",
    "print(Genders)"
   ]
  },
  {
   "cell_type": "code",
   "execution_count": 16,
   "id": "b9dd298d",
   "metadata": {
    "execution": {
     "iopub.execute_input": "2024-03-10T00:07:57.921281Z",
     "iopub.status.busy": "2024-03-10T00:07:57.920867Z",
     "iopub.status.idle": "2024-03-10T00:07:57.934753Z",
     "shell.execute_reply": "2024-03-10T00:07:57.933327Z"
    },
    "papermill": {
     "duration": 0.044886,
     "end_time": "2024-03-10T00:07:57.937817",
     "exception": false,
     "start_time": "2024-03-10T00:07:57.892931",
     "status": "completed"
    },
    "tags": []
   },
   "outputs": [],
   "source": [
    "#Combining the unique entries that all fall under the \"Non-Binary\" category\n",
    "data.replace('Non-binary','Non-Binary', inplace=True)\n",
    "data.replace('Nonbinary ','Non-Binary', inplace=True)\n",
    "data.replace('NB','Non-Binary', inplace=True)\n",
    "data.replace('Non binary ','Non-Binary', inplace=True)"
   ]
  },
  {
   "cell_type": "code",
   "execution_count": 17,
   "id": "9a2b0dbf",
   "metadata": {
    "execution": {
     "iopub.execute_input": "2024-03-10T00:07:58.003595Z",
     "iopub.status.busy": "2024-03-10T00:07:58.001834Z",
     "iopub.status.idle": "2024-03-10T00:07:58.009458Z",
     "shell.execute_reply": "2024-03-10T00:07:58.007888Z"
    },
    "papermill": {
     "duration": 0.043036,
     "end_time": "2024-03-10T00:07:58.012760",
     "exception": false,
     "start_time": "2024-03-10T00:07:57.969724",
     "status": "completed"
    },
    "tags": []
   },
   "outputs": [
    {
     "name": "stdout",
     "output_type": "stream",
     "text": [
      "{'unsure ', 'There are others???', 'Non-Binary', 'Trans', 'Female', 'Male'}\n"
     ]
    }
   ],
   "source": [
    "Genders = set(data['Gender'])\n",
    "print(Genders)"
   ]
  },
  {
   "cell_type": "markdown",
   "id": "225a310b",
   "metadata": {
    "papermill": {
     "duration": 0.024986,
     "end_time": "2024-03-10T00:07:58.063312",
     "exception": false,
     "start_time": "2024-03-10T00:07:58.038326",
     "status": "completed"
    },
    "tags": []
   },
   "source": [
    "**Age**\n",
    "\n",
    "'Age' is ;isted as float64 value. This is because of the data record # 382. We should thus convert the 'Age' column to int64 type."
   ]
  },
  {
   "cell_type": "code",
   "execution_count": 18,
   "id": "3a1bceef",
   "metadata": {
    "execution": {
     "iopub.execute_input": "2024-03-10T00:07:58.119719Z",
     "iopub.status.busy": "2024-03-10T00:07:58.117297Z",
     "iopub.status.idle": "2024-03-10T00:07:58.135370Z",
     "shell.execute_reply": "2024-03-10T00:07:58.133429Z"
    },
    "papermill": {
     "duration": 0.048803,
     "end_time": "2024-03-10T00:07:58.138122",
     "exception": false,
     "start_time": "2024-03-10T00:07:58.089319",
     "status": "completed"
    },
    "tags": []
   },
   "outputs": [
    {
     "name": "stdout",
     "output_type": "stream",
     "text": [
      "<class 'pandas.core.frame.DataFrame'>\n",
      "RangeIndex: 481 entries, 0 to 480\n",
      "Data columns (total 19 columns):\n",
      " #   Column               Non-Null Count  Dtype  \n",
      "---  ------               --------------  -----  \n",
      " 0   Age                  481 non-null    float64\n",
      " 1   Gender               481 non-null    object \n",
      " 2   Relationship Status  481 non-null    object \n",
      " 3   Occupation           481 non-null    object \n",
      " 4   Social Media User?   481 non-null    object \n",
      " 5   Platforms Used       481 non-null    object \n",
      " 6   Hours Per Day        481 non-null    object \n",
      " 7   ADHD Q1              481 non-null    int64  \n",
      " 8   ADHD Q2              481 non-null    int64  \n",
      " 9   ADHD Q3              481 non-null    int64  \n",
      " 10  ADHD Q4              481 non-null    int64  \n",
      " 11  Anxiety Q1           481 non-null    int64  \n",
      " 12  Anxiety Q2           481 non-null    int64  \n",
      " 13  Self Esteem Q1       481 non-null    int64  \n",
      " 14  Self Esteem Q2       481 non-null    int64  \n",
      " 15  Self Esteem Q3       481 non-null    int64  \n",
      " 16  Depression Q1        481 non-null    int64  \n",
      " 17  Depression Q2        481 non-null    int64  \n",
      " 18  Depression Q3        481 non-null    int64  \n",
      "dtypes: float64(1), int64(12), object(6)\n",
      "memory usage: 71.5+ KB\n"
     ]
    }
   ],
   "source": [
    "data.info()"
   ]
  },
  {
   "cell_type": "code",
   "execution_count": 19,
   "id": "061c3925",
   "metadata": {
    "execution": {
     "iopub.execute_input": "2024-03-10T00:07:58.191567Z",
     "iopub.status.busy": "2024-03-10T00:07:58.191186Z",
     "iopub.status.idle": "2024-03-10T00:07:58.205603Z",
     "shell.execute_reply": "2024-03-10T00:07:58.204199Z"
    },
    "papermill": {
     "duration": 0.044179,
     "end_time": "2024-03-10T00:07:58.208162",
     "exception": false,
     "start_time": "2024-03-10T00:07:58.163983",
     "status": "completed"
    },
    "tags": []
   },
   "outputs": [
    {
     "name": "stdout",
     "output_type": "stream",
     "text": [
      "float64\n",
      "      Age  Gender Relationship Status          Occupation Social Media User?  \\\n",
      "382  26.7  Female              Single  University Student                Yes   \n",
      "\n",
      "        Platforms Used      Hours Per Day  ADHD Q1  ADHD Q2  ADHD Q3  ADHD Q4  \\\n",
      "382  Facebook, YouTube  More than 5 hours        4        2        3        3   \n",
      "\n",
      "     Anxiety Q1  Anxiety Q2  Self Esteem Q1  Self Esteem Q2  Self Esteem Q3  \\\n",
      "382           2           5               5               2               3   \n",
      "\n",
      "     Depression Q1  Depression Q2  Depression Q3  \n",
      "382              4              5              5  \n"
     ]
    }
   ],
   "source": [
    "# Check the data type of the 'Age' column\n",
    "print(data['Age'].dtype)\n",
    "\n",
    "# Find rows where 'Age' is not a whole number (integer)\n",
    "non_integer_age_rows = data[~data['Age'].apply(lambda x: x.is_integer())]\n",
    "\n",
    "# Display the rows with non-integer 'Age' values\n",
    "print(non_integer_age_rows)"
   ]
  },
  {
   "cell_type": "markdown",
   "id": "564d4a9a",
   "metadata": {
    "papermill": {
     "duration": 0.025086,
     "end_time": "2024-03-10T00:07:58.259069",
     "exception": false,
     "start_time": "2024-03-10T00:07:58.233983",
     "status": "completed"
    },
    "tags": []
   },
   "source": [
    "Recored number 382 holds the non-integer value of 26.7 in the \"Age\" column. "
   ]
  },
  {
   "cell_type": "code",
   "execution_count": 20,
   "id": "0c749666",
   "metadata": {
    "execution": {
     "iopub.execute_input": "2024-03-10T00:07:58.313033Z",
     "iopub.status.busy": "2024-03-10T00:07:58.312011Z",
     "iopub.status.idle": "2024-03-10T00:07:58.328787Z",
     "shell.execute_reply": "2024-03-10T00:07:58.327506Z"
    },
    "papermill": {
     "duration": 0.046415,
     "end_time": "2024-03-10T00:07:58.331458",
     "exception": false,
     "start_time": "2024-03-10T00:07:58.285043",
     "status": "completed"
    },
    "tags": []
   },
   "outputs": [
    {
     "name": "stdout",
     "output_type": "stream",
     "text": [
      "int64\n",
      "<class 'pandas.core.frame.DataFrame'>\n",
      "RangeIndex: 481 entries, 0 to 480\n",
      "Data columns (total 19 columns):\n",
      " #   Column               Non-Null Count  Dtype \n",
      "---  ------               --------------  ----- \n",
      " 0   Age                  481 non-null    int64 \n",
      " 1   Gender               481 non-null    object\n",
      " 2   Relationship Status  481 non-null    object\n",
      " 3   Occupation           481 non-null    object\n",
      " 4   Social Media User?   481 non-null    object\n",
      " 5   Platforms Used       481 non-null    object\n",
      " 6   Hours Per Day        481 non-null    object\n",
      " 7   ADHD Q1              481 non-null    int64 \n",
      " 8   ADHD Q2              481 non-null    int64 \n",
      " 9   ADHD Q3              481 non-null    int64 \n",
      " 10  ADHD Q4              481 non-null    int64 \n",
      " 11  Anxiety Q1           481 non-null    int64 \n",
      " 12  Anxiety Q2           481 non-null    int64 \n",
      " 13  Self Esteem Q1       481 non-null    int64 \n",
      " 14  Self Esteem Q2       481 non-null    int64 \n",
      " 15  Self Esteem Q3       481 non-null    int64 \n",
      " 16  Depression Q1        481 non-null    int64 \n",
      " 17  Depression Q2        481 non-null    int64 \n",
      " 18  Depression Q3        481 non-null    int64 \n",
      "dtypes: int64(13), object(6)\n",
      "memory usage: 71.5+ KB\n"
     ]
    }
   ],
   "source": [
    "# Convert the 'Age' column from float64 to int64\n",
    "data['Age'] = data['Age'].astype('int64')\n",
    "\n",
    "# Check the data type of the 'Age' column after conversion\n",
    "print(data['Age'].dtype)\n",
    "data.info()"
   ]
  },
  {
   "cell_type": "code",
   "execution_count": 21,
   "id": "df596174",
   "metadata": {
    "execution": {
     "iopub.execute_input": "2024-03-10T00:07:58.385737Z",
     "iopub.status.busy": "2024-03-10T00:07:58.385268Z",
     "iopub.status.idle": "2024-03-10T00:07:58.392597Z",
     "shell.execute_reply": "2024-03-10T00:07:58.391548Z"
    },
    "papermill": {
     "duration": 0.036905,
     "end_time": "2024-03-10T00:07:58.395017",
     "exception": false,
     "start_time": "2024-03-10T00:07:58.358112",
     "status": "completed"
    },
    "tags": []
   },
   "outputs": [
    {
     "data": {
      "text/plain": [
       "26"
      ]
     },
     "execution_count": 21,
     "metadata": {},
     "output_type": "execute_result"
    }
   ],
   "source": [
    "#check what the value \"26.7\" was changed into\n",
    "data.loc[382,'Age']"
   ]
  },
  {
   "cell_type": "markdown",
   "id": "2b92bfd6",
   "metadata": {
    "papermill": {
     "duration": 0.025823,
     "end_time": "2024-03-10T00:07:58.447177",
     "exception": false,
     "start_time": "2024-03-10T00:07:58.421354",
     "status": "completed"
    },
    "tags": []
   },
   "source": [
    "**Scalar Adjustment**\n",
    "<br>\n",
    "<br>\n",
    "Higher scores equal worse mental health.\n",
    "<br>\n",
    "Lower scores equal better mental health. \n",
    "<br>\n",
    "<br>\n",
    "The scale for Self Esteem Question 2 must be reversed in order to be consistent with this. \n",
    "<br>\n",
    "<br>\n",
    "All other question follow a scale like this:\n",
    "<br>\n",
    "1 = very negative\n",
    "<br>\n",
    "2 = negative\n",
    "<br>\n",
    "3 = netral\n",
    "<br>\n",
    "4 = positive\n",
    "<br>\n",
    "5 = very positive\n",
    "<br>\n",
    "<br>\n",
    "Question 2 asks: \"Following the previous question, how do you feel about these comparisons, generally speaking?\".\n",
    "<br>\n",
    "Since higher score equal worse mental health, and in this question, a higher score equals more postive or better mental health, the scale needs to be reversed to:\n",
    "<br>\n",
    "<br>\n",
    "5 = very negative\n",
    "<br>\n",
    "4 = slightly negative\n",
    "<br>\n",
    "3 = neutral\n",
    "<br>\n",
    "2 = slightly positive\n",
    "<br>\n",
    "1 = very positive"
   ]
  },
  {
   "cell_type": "code",
   "execution_count": 22,
   "id": "9af651d2",
   "metadata": {
    "execution": {
     "iopub.execute_input": "2024-03-10T00:07:58.501804Z",
     "iopub.status.busy": "2024-03-10T00:07:58.501298Z",
     "iopub.status.idle": "2024-03-10T00:07:58.513162Z",
     "shell.execute_reply": "2024-03-10T00:07:58.511718Z"
    },
    "papermill": {
     "duration": 0.042681,
     "end_time": "2024-03-10T00:07:58.516086",
     "exception": false,
     "start_time": "2024-03-10T00:07:58.473405",
     "status": "completed"
    },
    "tags": []
   },
   "outputs": [],
   "source": [
    "#Setting scale scores\n",
    "data.loc[data['Self Esteem Q2'] == 1, 'Self Esteem Q2'] = 5\n",
    "data.loc[data['Self Esteem Q2'] == 2, 'Self Esteem Q2'] = 4\n",
    "data.loc[data['Self Esteem Q2'] == 3, 'Self Esteem Q2'] = 3\n",
    "data.loc[data['Self Esteem Q2'] == 4, 'Self Esteem Q2'] = 2\n",
    "data.loc[data['Self Esteem Q2'] == 5, 'Self Esteem Q2'] = 1"
   ]
  },
  {
   "cell_type": "code",
   "execution_count": 23,
   "id": "16c1a182",
   "metadata": {
    "execution": {
     "iopub.execute_input": "2024-03-10T00:07:58.571234Z",
     "iopub.status.busy": "2024-03-10T00:07:58.570814Z",
     "iopub.status.idle": "2024-03-10T00:07:58.590711Z",
     "shell.execute_reply": "2024-03-10T00:07:58.589862Z"
    },
    "papermill": {
     "duration": 0.049806,
     "end_time": "2024-03-10T00:07:58.593007",
     "exception": false,
     "start_time": "2024-03-10T00:07:58.543201",
     "status": "completed"
    },
    "tags": []
   },
   "outputs": [
    {
     "data": {
      "text/html": [
       "<div>\n",
       "<style scoped>\n",
       "    .dataframe tbody tr th:only-of-type {\n",
       "        vertical-align: middle;\n",
       "    }\n",
       "\n",
       "    .dataframe tbody tr th {\n",
       "        vertical-align: top;\n",
       "    }\n",
       "\n",
       "    .dataframe thead th {\n",
       "        text-align: right;\n",
       "    }\n",
       "</style>\n",
       "<table border=\"1\" class=\"dataframe\">\n",
       "  <thead>\n",
       "    <tr style=\"text-align: right;\">\n",
       "      <th></th>\n",
       "      <th>Age</th>\n",
       "      <th>Gender</th>\n",
       "      <th>Relationship Status</th>\n",
       "      <th>Occupation</th>\n",
       "      <th>Social Media User?</th>\n",
       "      <th>Platforms Used</th>\n",
       "      <th>Hours Per Day</th>\n",
       "      <th>ADHD Q1</th>\n",
       "      <th>ADHD Q2</th>\n",
       "      <th>ADHD Q3</th>\n",
       "      <th>ADHD Q4</th>\n",
       "      <th>Anxiety Q1</th>\n",
       "      <th>Anxiety Q2</th>\n",
       "      <th>Self Esteem Q1</th>\n",
       "      <th>Self Esteem Q2</th>\n",
       "      <th>Self Esteem Q3</th>\n",
       "      <th>Depression Q1</th>\n",
       "      <th>Depression Q2</th>\n",
       "      <th>Depression Q3</th>\n",
       "    </tr>\n",
       "  </thead>\n",
       "  <tbody>\n",
       "    <tr>\n",
       "      <th>0</th>\n",
       "      <td>21</td>\n",
       "      <td>Male</td>\n",
       "      <td>In a relationship</td>\n",
       "      <td>University Student</td>\n",
       "      <td>Yes</td>\n",
       "      <td>Facebook, Twitter, Instagram, YouTube, Discord...</td>\n",
       "      <td>Between 2 and 3 hours</td>\n",
       "      <td>5</td>\n",
       "      <td>3</td>\n",
       "      <td>5</td>\n",
       "      <td>5</td>\n",
       "      <td>2</td>\n",
       "      <td>2</td>\n",
       "      <td>2</td>\n",
       "      <td>3</td>\n",
       "      <td>2</td>\n",
       "      <td>5</td>\n",
       "      <td>4</td>\n",
       "      <td>5</td>\n",
       "    </tr>\n",
       "    <tr>\n",
       "      <th>1</th>\n",
       "      <td>21</td>\n",
       "      <td>Female</td>\n",
       "      <td>Single</td>\n",
       "      <td>University Student</td>\n",
       "      <td>Yes</td>\n",
       "      <td>Facebook, Twitter, Instagram, YouTube, Discord...</td>\n",
       "      <td>More than 5 hours</td>\n",
       "      <td>4</td>\n",
       "      <td>3</td>\n",
       "      <td>4</td>\n",
       "      <td>4</td>\n",
       "      <td>2</td>\n",
       "      <td>5</td>\n",
       "      <td>5</td>\n",
       "      <td>1</td>\n",
       "      <td>1</td>\n",
       "      <td>5</td>\n",
       "      <td>4</td>\n",
       "      <td>5</td>\n",
       "    </tr>\n",
       "    <tr>\n",
       "      <th>2</th>\n",
       "      <td>21</td>\n",
       "      <td>Female</td>\n",
       "      <td>Single</td>\n",
       "      <td>University Student</td>\n",
       "      <td>Yes</td>\n",
       "      <td>Facebook, Instagram, YouTube, Pinterest</td>\n",
       "      <td>Between 3 and 4 hours</td>\n",
       "      <td>3</td>\n",
       "      <td>2</td>\n",
       "      <td>2</td>\n",
       "      <td>4</td>\n",
       "      <td>1</td>\n",
       "      <td>5</td>\n",
       "      <td>3</td>\n",
       "      <td>3</td>\n",
       "      <td>1</td>\n",
       "      <td>4</td>\n",
       "      <td>2</td>\n",
       "      <td>5</td>\n",
       "    </tr>\n",
       "    <tr>\n",
       "      <th>3</th>\n",
       "      <td>21</td>\n",
       "      <td>Female</td>\n",
       "      <td>Single</td>\n",
       "      <td>University Student</td>\n",
       "      <td>Yes</td>\n",
       "      <td>Facebook, Instagram</td>\n",
       "      <td>More than 5 hours</td>\n",
       "      <td>4</td>\n",
       "      <td>2</td>\n",
       "      <td>3</td>\n",
       "      <td>3</td>\n",
       "      <td>1</td>\n",
       "      <td>5</td>\n",
       "      <td>5</td>\n",
       "      <td>1</td>\n",
       "      <td>2</td>\n",
       "      <td>4</td>\n",
       "      <td>3</td>\n",
       "      <td>2</td>\n",
       "    </tr>\n",
       "    <tr>\n",
       "      <th>4</th>\n",
       "      <td>21</td>\n",
       "      <td>Female</td>\n",
       "      <td>Single</td>\n",
       "      <td>University Student</td>\n",
       "      <td>Yes</td>\n",
       "      <td>Facebook, Instagram, YouTube</td>\n",
       "      <td>Between 2 and 3 hours</td>\n",
       "      <td>3</td>\n",
       "      <td>5</td>\n",
       "      <td>4</td>\n",
       "      <td>5</td>\n",
       "      <td>4</td>\n",
       "      <td>5</td>\n",
       "      <td>3</td>\n",
       "      <td>3</td>\n",
       "      <td>3</td>\n",
       "      <td>4</td>\n",
       "      <td>4</td>\n",
       "      <td>1</td>\n",
       "    </tr>\n",
       "  </tbody>\n",
       "</table>\n",
       "</div>"
      ],
      "text/plain": [
       "   Age  Gender Relationship Status          Occupation Social Media User?  \\\n",
       "0   21    Male   In a relationship  University Student                Yes   \n",
       "1   21  Female              Single  University Student                Yes   \n",
       "2   21  Female              Single  University Student                Yes   \n",
       "3   21  Female              Single  University Student                Yes   \n",
       "4   21  Female              Single  University Student                Yes   \n",
       "\n",
       "                                      Platforms Used          Hours Per Day  \\\n",
       "0  Facebook, Twitter, Instagram, YouTube, Discord...  Between 2 and 3 hours   \n",
       "1  Facebook, Twitter, Instagram, YouTube, Discord...      More than 5 hours   \n",
       "2            Facebook, Instagram, YouTube, Pinterest  Between 3 and 4 hours   \n",
       "3                                Facebook, Instagram      More than 5 hours   \n",
       "4                       Facebook, Instagram, YouTube  Between 2 and 3 hours   \n",
       "\n",
       "   ADHD Q1  ADHD Q2  ADHD Q3  ADHD Q4  Anxiety Q1  Anxiety Q2  Self Esteem Q1  \\\n",
       "0        5        3        5        5           2           2               2   \n",
       "1        4        3        4        4           2           5               5   \n",
       "2        3        2        2        4           1           5               3   \n",
       "3        4        2        3        3           1           5               5   \n",
       "4        3        5        4        5           4           5               3   \n",
       "\n",
       "   Self Esteem Q2  Self Esteem Q3  Depression Q1  Depression Q2  Depression Q3  \n",
       "0               3               2              5              4              5  \n",
       "1               1               1              5              4              5  \n",
       "2               3               1              4              2              5  \n",
       "3               1               2              4              3              2  \n",
       "4               3               3              4              4              1  "
      ]
     },
     "execution_count": 23,
     "metadata": {},
     "output_type": "execute_result"
    }
   ],
   "source": [
    "data.head()"
   ]
  },
  {
   "cell_type": "markdown",
   "id": "1711af8e",
   "metadata": {
    "papermill": {
     "duration": 0.026194,
     "end_time": "2024-03-10T00:07:58.646249",
     "exception": false,
     "start_time": "2024-03-10T00:07:58.620055",
     "status": "completed"
    },
    "tags": []
   },
   "source": [
    "#  **Data Aggragation**\n",
    "\n",
    "**Summation of Mental Health Screening Scores**\n",
    "\n",
    "The different mental health screening questions are added together for a final score and compared to a scale in order to determined degree of symtpoms.\n",
    "\n",
    "The four screenings are:\n",
    "* 4 Attention Deficit Hyperactivity Disorder (ADHD) Questions\n",
    "* 2 Anxiety Questions\n",
    "* 3 Self Esteem Questions\n",
    "* 3 Depression Questions\n",
    "\n",
    "\n",
    "\n",
    "* Highest ADHD Total Score is 20\n",
    "* Highest Anxiety Total Score is 10\n",
    "* Highest Self-Esteem Total Score is 15\n",
    "* Highests Depression Total Score is 15\n",
    "\n",
    "\n",
    "With 12 total questions, the highest total possible score is 60. \n",
    "<br>\n",
    "\n",
    " \n",
    "\n",
    "\n",
    "\n",
    "A new column for each screening is created to get sums, then a \"Total Score\" column will list the total sum of all four screenings per row. \n"
   ]
  },
  {
   "cell_type": "code",
   "execution_count": 24,
   "id": "1f9c4905",
   "metadata": {
    "execution": {
     "iopub.execute_input": "2024-03-10T00:07:58.701651Z",
     "iopub.status.busy": "2024-03-10T00:07:58.701216Z",
     "iopub.status.idle": "2024-03-10T00:07:58.720639Z",
     "shell.execute_reply": "2024-03-10T00:07:58.719707Z"
    },
    "papermill": {
     "duration": 0.050726,
     "end_time": "2024-03-10T00:07:58.723429",
     "exception": false,
     "start_time": "2024-03-10T00:07:58.672703",
     "status": "completed"
    },
    "tags": []
   },
   "outputs": [],
   "source": [
    "#Sum scores and add new column\n",
    "\n",
    "ADHD = ['ADHD Q1', 'ADHD Q2', 'ADHD Q3', 'ADHD Q4']\n",
    "data['ADHD Score'] = data[ADHD].sum(axis=1)\n",
    "\n",
    "Anxiety = ['Anxiety Q1', 'Anxiety Q2']\n",
    "data['Anxiety Score'] = data[Anxiety].sum(axis=1)\n",
    "\n",
    "SelfEsteem = ['Self Esteem Q1', 'Self Esteem Q2', 'Self Esteem Q3']\n",
    "data['Self Esteem Score'] = data[SelfEsteem].sum(axis=1)\n",
    "\n",
    "Depression = ['Depression Q1', 'Depression Q2', 'Depression Q3']\n",
    "data['Depression Score'] = data[Depression].sum(axis=1)\n",
    "\n",
    "Total = ['ADHD Score', 'Anxiety Score', 'Self Esteem Score', 'Depression Score']\n",
    "data['Total Score'] = data[Total].sum(axis=1)\n",
    "\n",
    "# Deleting question columns and timestamp columns as they are no longer used\n",
    "data.drop(columns=ADHD + Anxiety + SelfEsteem + Depression, inplace=True)"
   ]
  },
  {
   "cell_type": "code",
   "execution_count": 25,
   "id": "5818ced1",
   "metadata": {
    "execution": {
     "iopub.execute_input": "2024-03-10T00:07:58.778879Z",
     "iopub.status.busy": "2024-03-10T00:07:58.778432Z",
     "iopub.status.idle": "2024-03-10T00:07:58.794868Z",
     "shell.execute_reply": "2024-03-10T00:07:58.793969Z"
    },
    "papermill": {
     "duration": 0.047375,
     "end_time": "2024-03-10T00:07:58.797182",
     "exception": false,
     "start_time": "2024-03-10T00:07:58.749807",
     "status": "completed"
    },
    "tags": []
   },
   "outputs": [
    {
     "data": {
      "text/html": [
       "<div>\n",
       "<style scoped>\n",
       "    .dataframe tbody tr th:only-of-type {\n",
       "        vertical-align: middle;\n",
       "    }\n",
       "\n",
       "    .dataframe tbody tr th {\n",
       "        vertical-align: top;\n",
       "    }\n",
       "\n",
       "    .dataframe thead th {\n",
       "        text-align: right;\n",
       "    }\n",
       "</style>\n",
       "<table border=\"1\" class=\"dataframe\">\n",
       "  <thead>\n",
       "    <tr style=\"text-align: right;\">\n",
       "      <th></th>\n",
       "      <th>Age</th>\n",
       "      <th>Gender</th>\n",
       "      <th>Relationship Status</th>\n",
       "      <th>Occupation</th>\n",
       "      <th>Social Media User?</th>\n",
       "      <th>Platforms Used</th>\n",
       "      <th>Hours Per Day</th>\n",
       "      <th>ADHD Score</th>\n",
       "      <th>Anxiety Score</th>\n",
       "      <th>Self Esteem Score</th>\n",
       "      <th>Depression Score</th>\n",
       "      <th>Total Score</th>\n",
       "    </tr>\n",
       "  </thead>\n",
       "  <tbody>\n",
       "    <tr>\n",
       "      <th>0</th>\n",
       "      <td>21</td>\n",
       "      <td>Male</td>\n",
       "      <td>In a relationship</td>\n",
       "      <td>University Student</td>\n",
       "      <td>Yes</td>\n",
       "      <td>Facebook, Twitter, Instagram, YouTube, Discord...</td>\n",
       "      <td>Between 2 and 3 hours</td>\n",
       "      <td>18</td>\n",
       "      <td>4</td>\n",
       "      <td>7</td>\n",
       "      <td>14</td>\n",
       "      <td>43</td>\n",
       "    </tr>\n",
       "    <tr>\n",
       "      <th>1</th>\n",
       "      <td>21</td>\n",
       "      <td>Female</td>\n",
       "      <td>Single</td>\n",
       "      <td>University Student</td>\n",
       "      <td>Yes</td>\n",
       "      <td>Facebook, Twitter, Instagram, YouTube, Discord...</td>\n",
       "      <td>More than 5 hours</td>\n",
       "      <td>15</td>\n",
       "      <td>7</td>\n",
       "      <td>7</td>\n",
       "      <td>14</td>\n",
       "      <td>43</td>\n",
       "    </tr>\n",
       "    <tr>\n",
       "      <th>2</th>\n",
       "      <td>21</td>\n",
       "      <td>Female</td>\n",
       "      <td>Single</td>\n",
       "      <td>University Student</td>\n",
       "      <td>Yes</td>\n",
       "      <td>Facebook, Instagram, YouTube, Pinterest</td>\n",
       "      <td>Between 3 and 4 hours</td>\n",
       "      <td>11</td>\n",
       "      <td>6</td>\n",
       "      <td>7</td>\n",
       "      <td>11</td>\n",
       "      <td>35</td>\n",
       "    </tr>\n",
       "    <tr>\n",
       "      <th>3</th>\n",
       "      <td>21</td>\n",
       "      <td>Female</td>\n",
       "      <td>Single</td>\n",
       "      <td>University Student</td>\n",
       "      <td>Yes</td>\n",
       "      <td>Facebook, Instagram</td>\n",
       "      <td>More than 5 hours</td>\n",
       "      <td>12</td>\n",
       "      <td>6</td>\n",
       "      <td>8</td>\n",
       "      <td>9</td>\n",
       "      <td>35</td>\n",
       "    </tr>\n",
       "    <tr>\n",
       "      <th>4</th>\n",
       "      <td>21</td>\n",
       "      <td>Female</td>\n",
       "      <td>Single</td>\n",
       "      <td>University Student</td>\n",
       "      <td>Yes</td>\n",
       "      <td>Facebook, Instagram, YouTube</td>\n",
       "      <td>Between 2 and 3 hours</td>\n",
       "      <td>17</td>\n",
       "      <td>9</td>\n",
       "      <td>9</td>\n",
       "      <td>9</td>\n",
       "      <td>44</td>\n",
       "    </tr>\n",
       "  </tbody>\n",
       "</table>\n",
       "</div>"
      ],
      "text/plain": [
       "   Age  Gender Relationship Status          Occupation Social Media User?  \\\n",
       "0   21    Male   In a relationship  University Student                Yes   \n",
       "1   21  Female              Single  University Student                Yes   \n",
       "2   21  Female              Single  University Student                Yes   \n",
       "3   21  Female              Single  University Student                Yes   \n",
       "4   21  Female              Single  University Student                Yes   \n",
       "\n",
       "                                      Platforms Used          Hours Per Day  \\\n",
       "0  Facebook, Twitter, Instagram, YouTube, Discord...  Between 2 and 3 hours   \n",
       "1  Facebook, Twitter, Instagram, YouTube, Discord...      More than 5 hours   \n",
       "2            Facebook, Instagram, YouTube, Pinterest  Between 3 and 4 hours   \n",
       "3                                Facebook, Instagram      More than 5 hours   \n",
       "4                       Facebook, Instagram, YouTube  Between 2 and 3 hours   \n",
       "\n",
       "   ADHD Score  Anxiety Score  Self Esteem Score  Depression Score  Total Score  \n",
       "0          18              4                  7                14           43  \n",
       "1          15              7                  7                14           43  \n",
       "2          11              6                  7                11           35  \n",
       "3          12              6                  8                 9           35  \n",
       "4          17              9                  9                 9           44  "
      ]
     },
     "execution_count": 25,
     "metadata": {},
     "output_type": "execute_result"
    }
   ],
   "source": [
    "data.head(5)"
   ]
  },
  {
   "cell_type": "markdown",
   "id": "5de91336",
   "metadata": {
    "papermill": {
     "duration": 0.026871,
     "end_time": "2024-03-10T00:07:58.851168",
     "exception": false,
     "start_time": "2024-03-10T00:07:58.824297",
     "status": "completed"
    },
    "tags": []
   },
   "source": [
    "**Rename Data Values**\n",
    "\n",
    "Renaming the values in column \"Hours Per Day\" for better readability. "
   ]
  },
  {
   "cell_type": "code",
   "execution_count": 26,
   "id": "b5e7a4c2",
   "metadata": {
    "execution": {
     "iopub.execute_input": "2024-03-10T00:07:58.908015Z",
     "iopub.status.busy": "2024-03-10T00:07:58.906745Z",
     "iopub.status.idle": "2024-03-10T00:07:58.914689Z",
     "shell.execute_reply": "2024-03-10T00:07:58.913541Z"
    },
    "papermill": {
     "duration": 0.039294,
     "end_time": "2024-03-10T00:07:58.917177",
     "exception": false,
     "start_time": "2024-03-10T00:07:58.877883",
     "status": "completed"
    },
    "tags": []
   },
   "outputs": [
    {
     "name": "stdout",
     "output_type": "stream",
     "text": [
      "Counts of Hours Spent Per Day:\n",
      "More than 5 hours        116\n",
      "Between 2 and 3 hours    101\n",
      "Between 3 and 4 hours     93\n",
      "Between 1 and 2 hours     70\n",
      "Between 4 and 5 hours     67\n",
      "Less than an Hour         34\n",
      "Name: Hours Per Day, dtype: int64\n"
     ]
    }
   ],
   "source": [
    "# Count unique values in the 'Hours Per Day' column\n",
    "hour_counts = data['Hours Per Day'].value_counts()\n",
    "\n",
    "# Print the counts\n",
    "print(\"Counts of Hours Spent Per Day:\")\n",
    "print(hour_counts)"
   ]
  },
  {
   "cell_type": "code",
   "execution_count": 27,
   "id": "b665d722",
   "metadata": {
    "execution": {
     "iopub.execute_input": "2024-03-10T00:07:58.973883Z",
     "iopub.status.busy": "2024-03-10T00:07:58.973241Z",
     "iopub.status.idle": "2024-03-10T00:07:58.983929Z",
     "shell.execute_reply": "2024-03-10T00:07:58.982761Z"
    },
    "papermill": {
     "duration": 0.041966,
     "end_time": "2024-03-10T00:07:58.986752",
     "exception": false,
     "start_time": "2024-03-10T00:07:58.944786",
     "status": "completed"
    },
    "tags": []
   },
   "outputs": [],
   "source": [
    "#Setting new value labels\n",
    "data.loc[data['Hours Per Day'] == 'More than 5 hours', 'Hours Per Day'] = '5.5h'\n",
    "data.loc[data['Hours Per Day'] == 'Between 2 and 3 hours', 'Hours Per Day'] = '2.5h'\n",
    "data.loc[data['Hours Per Day'] == 'Between 3 and 4 hours', 'Hours Per Day'] = '3.5h'\n",
    "data.loc[data['Hours Per Day'] == 'Between 1 and 2 hours', 'Hours Per Day'] = '1.5h'\n",
    "data.loc[data['Hours Per Day'] == 'Between 4 and 5 hours', 'Hours Per Day'] = '4.5h'\n",
    "data.loc[data['Hours Per Day'] == 'Less than an Hour', 'Hours Per Day'] = '0.5h'"
   ]
  },
  {
   "cell_type": "code",
   "execution_count": 28,
   "id": "1cc269ed",
   "metadata": {
    "execution": {
     "iopub.execute_input": "2024-03-10T00:07:59.043844Z",
     "iopub.status.busy": "2024-03-10T00:07:59.042528Z",
     "iopub.status.idle": "2024-03-10T00:07:59.061138Z",
     "shell.execute_reply": "2024-03-10T00:07:59.059416Z"
    },
    "papermill": {
     "duration": 0.050288,
     "end_time": "2024-03-10T00:07:59.064365",
     "exception": false,
     "start_time": "2024-03-10T00:07:59.014077",
     "status": "completed"
    },
    "tags": []
   },
   "outputs": [
    {
     "data": {
      "text/html": [
       "<div>\n",
       "<style scoped>\n",
       "    .dataframe tbody tr th:only-of-type {\n",
       "        vertical-align: middle;\n",
       "    }\n",
       "\n",
       "    .dataframe tbody tr th {\n",
       "        vertical-align: top;\n",
       "    }\n",
       "\n",
       "    .dataframe thead th {\n",
       "        text-align: right;\n",
       "    }\n",
       "</style>\n",
       "<table border=\"1\" class=\"dataframe\">\n",
       "  <thead>\n",
       "    <tr style=\"text-align: right;\">\n",
       "      <th></th>\n",
       "      <th>Age</th>\n",
       "      <th>Gender</th>\n",
       "      <th>Relationship Status</th>\n",
       "      <th>Occupation</th>\n",
       "      <th>Social Media User?</th>\n",
       "      <th>Platforms Used</th>\n",
       "      <th>Hours Per Day</th>\n",
       "      <th>ADHD Score</th>\n",
       "      <th>Anxiety Score</th>\n",
       "      <th>Self Esteem Score</th>\n",
       "      <th>Depression Score</th>\n",
       "      <th>Total Score</th>\n",
       "    </tr>\n",
       "  </thead>\n",
       "  <tbody>\n",
       "    <tr>\n",
       "      <th>0</th>\n",
       "      <td>21</td>\n",
       "      <td>Male</td>\n",
       "      <td>In a relationship</td>\n",
       "      <td>University Student</td>\n",
       "      <td>Yes</td>\n",
       "      <td>Facebook, Twitter, Instagram, YouTube, Discord...</td>\n",
       "      <td>2.5h</td>\n",
       "      <td>18</td>\n",
       "      <td>4</td>\n",
       "      <td>7</td>\n",
       "      <td>14</td>\n",
       "      <td>43</td>\n",
       "    </tr>\n",
       "    <tr>\n",
       "      <th>1</th>\n",
       "      <td>21</td>\n",
       "      <td>Female</td>\n",
       "      <td>Single</td>\n",
       "      <td>University Student</td>\n",
       "      <td>Yes</td>\n",
       "      <td>Facebook, Twitter, Instagram, YouTube, Discord...</td>\n",
       "      <td>5.5h</td>\n",
       "      <td>15</td>\n",
       "      <td>7</td>\n",
       "      <td>7</td>\n",
       "      <td>14</td>\n",
       "      <td>43</td>\n",
       "    </tr>\n",
       "    <tr>\n",
       "      <th>2</th>\n",
       "      <td>21</td>\n",
       "      <td>Female</td>\n",
       "      <td>Single</td>\n",
       "      <td>University Student</td>\n",
       "      <td>Yes</td>\n",
       "      <td>Facebook, Instagram, YouTube, Pinterest</td>\n",
       "      <td>3.5h</td>\n",
       "      <td>11</td>\n",
       "      <td>6</td>\n",
       "      <td>7</td>\n",
       "      <td>11</td>\n",
       "      <td>35</td>\n",
       "    </tr>\n",
       "    <tr>\n",
       "      <th>3</th>\n",
       "      <td>21</td>\n",
       "      <td>Female</td>\n",
       "      <td>Single</td>\n",
       "      <td>University Student</td>\n",
       "      <td>Yes</td>\n",
       "      <td>Facebook, Instagram</td>\n",
       "      <td>5.5h</td>\n",
       "      <td>12</td>\n",
       "      <td>6</td>\n",
       "      <td>8</td>\n",
       "      <td>9</td>\n",
       "      <td>35</td>\n",
       "    </tr>\n",
       "    <tr>\n",
       "      <th>4</th>\n",
       "      <td>21</td>\n",
       "      <td>Female</td>\n",
       "      <td>Single</td>\n",
       "      <td>University Student</td>\n",
       "      <td>Yes</td>\n",
       "      <td>Facebook, Instagram, YouTube</td>\n",
       "      <td>2.5h</td>\n",
       "      <td>17</td>\n",
       "      <td>9</td>\n",
       "      <td>9</td>\n",
       "      <td>9</td>\n",
       "      <td>44</td>\n",
       "    </tr>\n",
       "  </tbody>\n",
       "</table>\n",
       "</div>"
      ],
      "text/plain": [
       "   Age  Gender Relationship Status          Occupation Social Media User?  \\\n",
       "0   21    Male   In a relationship  University Student                Yes   \n",
       "1   21  Female              Single  University Student                Yes   \n",
       "2   21  Female              Single  University Student                Yes   \n",
       "3   21  Female              Single  University Student                Yes   \n",
       "4   21  Female              Single  University Student                Yes   \n",
       "\n",
       "                                      Platforms Used Hours Per Day  \\\n",
       "0  Facebook, Twitter, Instagram, YouTube, Discord...          2.5h   \n",
       "1  Facebook, Twitter, Instagram, YouTube, Discord...          5.5h   \n",
       "2            Facebook, Instagram, YouTube, Pinterest          3.5h   \n",
       "3                                Facebook, Instagram          5.5h   \n",
       "4                       Facebook, Instagram, YouTube          2.5h   \n",
       "\n",
       "   ADHD Score  Anxiety Score  Self Esteem Score  Depression Score  Total Score  \n",
       "0          18              4                  7                14           43  \n",
       "1          15              7                  7                14           43  \n",
       "2          11              6                  7                11           35  \n",
       "3          12              6                  8                 9           35  \n",
       "4          17              9                  9                 9           44  "
      ]
     },
     "execution_count": 28,
     "metadata": {},
     "output_type": "execute_result"
    }
   ],
   "source": [
    "#check new labels\n",
    "data.head()"
   ]
  },
  {
   "cell_type": "code",
   "execution_count": 29,
   "id": "e76c4705",
   "metadata": {
    "execution": {
     "iopub.execute_input": "2024-03-10T00:07:59.121035Z",
     "iopub.status.busy": "2024-03-10T00:07:59.120563Z",
     "iopub.status.idle": "2024-03-10T00:07:59.128488Z",
     "shell.execute_reply": "2024-03-10T00:07:59.127503Z"
    },
    "papermill": {
     "duration": 0.039063,
     "end_time": "2024-03-10T00:07:59.130861",
     "exception": false,
     "start_time": "2024-03-10T00:07:59.091798",
     "status": "completed"
    },
    "tags": []
   },
   "outputs": [
    {
     "data": {
      "text/plain": [
       "(481, 12)"
      ]
     },
     "execution_count": 29,
     "metadata": {},
     "output_type": "execute_result"
    }
   ],
   "source": [
    "data.shape"
   ]
  },
  {
   "cell_type": "markdown",
   "id": "3192d8f7",
   "metadata": {
    "papermill": {
     "duration": 0.027067,
     "end_time": "2024-03-10T00:07:59.185243",
     "exception": false,
     "start_time": "2024-03-10T00:07:59.158176",
     "status": "completed"
    },
    "tags": []
   },
   "source": [
    "There are 3 people that selected 'no' for the social media user question but also chose social media platforms that they use. Determined to be user error and changing all 'no' to 'yes'. otherwise, analysis would be inaccurate. "
   ]
  },
  {
   "cell_type": "code",
   "execution_count": 30,
   "id": "2eb1e7e2",
   "metadata": {
    "execution": {
     "iopub.execute_input": "2024-03-10T00:07:59.241276Z",
     "iopub.status.busy": "2024-03-10T00:07:59.240858Z",
     "iopub.status.idle": "2024-03-10T00:07:59.249011Z",
     "shell.execute_reply": "2024-03-10T00:07:59.247557Z"
    },
    "papermill": {
     "duration": 0.039875,
     "end_time": "2024-03-10T00:07:59.252114",
     "exception": false,
     "start_time": "2024-03-10T00:07:59.212239",
     "status": "completed"
    },
    "tags": []
   },
   "outputs": [
    {
     "name": "stdout",
     "output_type": "stream",
     "text": [
      "Counts of Social Media User?:\n",
      "Yes    478\n",
      "No       3\n",
      "Name: Social Media User?, dtype: int64\n"
     ]
    }
   ],
   "source": [
    "#check for consistency in data\n",
    "social_media_user_counts = data['Social Media User?'].value_counts()\n",
    "\n",
    "# Print the counts\n",
    "print(\"Counts of Social Media User?:\")\n",
    "print(social_media_user_counts)"
   ]
  },
  {
   "cell_type": "code",
   "execution_count": 31,
   "id": "6f3c33fd",
   "metadata": {
    "execution": {
     "iopub.execute_input": "2024-03-10T00:07:59.308418Z",
     "iopub.status.busy": "2024-03-10T00:07:59.307992Z",
     "iopub.status.idle": "2024-03-10T00:07:59.319309Z",
     "shell.execute_reply": "2024-03-10T00:07:59.318376Z"
    },
    "papermill": {
     "duration": 0.042504,
     "end_time": "2024-03-10T00:07:59.321848",
     "exception": false,
     "start_time": "2024-03-10T00:07:59.279344",
     "status": "completed"
    },
    "tags": []
   },
   "outputs": [
    {
     "name": "stdout",
     "output_type": "stream",
     "text": [
      "Rows with 'No' answers:\n",
      "     Age Gender Relationship Status          Occupation Social Media User?  \\\n",
      "9     20   Male              Single  University Student                 No   \n",
      "54    26   Male   In a relationship     Salaried Worker                 No   \n",
      "134   50   Male            Divorced     Salaried Worker                 No   \n",
      "\n",
      "               Platforms Used Hours Per Day  ADHD Score  Anxiety Score  \\\n",
      "9           Reddit, Pinterest          0.5h           4              2   \n",
      "54   YouTube, Discord, Reddit          1.5h           8              3   \n",
      "134        Instagram, YouTube          1.5h           7              3   \n",
      "\n",
      "     Self Esteem Score  Depression Score  Total Score  \n",
      "9                    3                 3           12  \n",
      "54                   5                 6           22  \n",
      "134                  4                 5           19  \n"
     ]
    }
   ],
   "source": [
    "#find which rows have answered 'no'\n",
    "no_answers = data[data['Social Media User?'] == 'No']\n",
    "\n",
    "# Print the rows with \"No\" answers\n",
    "print(\"Rows with 'No' answers:\")\n",
    "print(no_answers)"
   ]
  },
  {
   "cell_type": "code",
   "execution_count": 32,
   "id": "f2cf2b68",
   "metadata": {
    "execution": {
     "iopub.execute_input": "2024-03-10T00:07:59.379268Z",
     "iopub.status.busy": "2024-03-10T00:07:59.378105Z",
     "iopub.status.idle": "2024-03-10T00:07:59.385168Z",
     "shell.execute_reply": "2024-03-10T00:07:59.383986Z"
    },
    "papermill": {
     "duration": 0.03876,
     "end_time": "2024-03-10T00:07:59.387810",
     "exception": false,
     "start_time": "2024-03-10T00:07:59.349050",
     "status": "completed"
    },
    "tags": []
   },
   "outputs": [],
   "source": [
    "data.loc[data['Social Media User?'] == 'No', 'Social Media User?'] = 'Yes'"
   ]
  },
  {
   "cell_type": "code",
   "execution_count": 33,
   "id": "b86e971a",
   "metadata": {
    "execution": {
     "iopub.execute_input": "2024-03-10T00:07:59.444893Z",
     "iopub.status.busy": "2024-03-10T00:07:59.443938Z",
     "iopub.status.idle": "2024-03-10T00:07:59.453084Z",
     "shell.execute_reply": "2024-03-10T00:07:59.451701Z"
    },
    "papermill": {
     "duration": 0.040622,
     "end_time": "2024-03-10T00:07:59.455616",
     "exception": false,
     "start_time": "2024-03-10T00:07:59.414994",
     "status": "completed"
    },
    "tags": []
   },
   "outputs": [
    {
     "name": "stdout",
     "output_type": "stream",
     "text": [
      "Counts of Social Media User?:\n",
      "Yes    481\n",
      "Name: Social Media User?, dtype: int64\n"
     ]
    }
   ],
   "source": [
    "#check that change was made\n",
    "social_media_user_counts = data['Social Media User?'].value_counts()\n",
    "\n",
    "# Print the counts\n",
    "print(\"Counts of Social Media User?:\")\n",
    "print(social_media_user_counts)"
   ]
  },
  {
   "cell_type": "markdown",
   "id": "5c71d732",
   "metadata": {
    "papermill": {
     "duration": 0.026743,
     "end_time": "2024-03-10T00:07:59.510095",
     "exception": false,
     "start_time": "2024-03-10T00:07:59.483352",
     "status": "completed"
    },
    "tags": []
   },
   "source": [
    "There is a large jump from age 69 to 91. Assume outlier and remove. "
   ]
  },
  {
   "cell_type": "code",
   "execution_count": 34,
   "id": "19fb123a",
   "metadata": {
    "execution": {
     "iopub.execute_input": "2024-03-10T00:07:59.566405Z",
     "iopub.status.busy": "2024-03-10T00:07:59.565970Z",
     "iopub.status.idle": "2024-03-10T00:07:59.576739Z",
     "shell.execute_reply": "2024-03-10T00:07:59.575463Z"
    },
    "papermill": {
     "duration": 0.042528,
     "end_time": "2024-03-10T00:07:59.579813",
     "exception": false,
     "start_time": "2024-03-10T00:07:59.537285",
     "status": "completed"
    },
    "tags": []
   },
   "outputs": [
    {
     "name": "stdout",
     "output_type": "stream",
     "text": [
      "Counts Age (Ascending Order):\n",
      "13     2\n",
      "14     4\n",
      "15     2\n",
      "16     2\n",
      "17     9\n",
      "18    13\n",
      "19    19\n",
      "20    45\n",
      "21    82\n",
      "22    81\n",
      "23    42\n",
      "24    27\n",
      "25    17\n",
      "26    19\n",
      "27    11\n",
      "28     5\n",
      "29     6\n",
      "30     6\n",
      "31     1\n",
      "32     4\n",
      "33     2\n",
      "34     6\n",
      "35     8\n",
      "36     3\n",
      "37     4\n",
      "38     3\n",
      "40     2\n",
      "42     1\n",
      "43     1\n",
      "44     2\n",
      "45     1\n",
      "46     2\n",
      "47    16\n",
      "48    13\n",
      "49     3\n",
      "50     6\n",
      "51     2\n",
      "52     1\n",
      "53     1\n",
      "55     1\n",
      "56     2\n",
      "60     1\n",
      "65     1\n",
      "69     1\n",
      "91     1\n",
      "Name: Age, dtype: int64\n"
     ]
    }
   ],
   "source": [
    "# Check 'Age' for outliers\n",
    "Age_counts = data['Age'].value_counts()\n",
    "\n",
    "# Sort the index (ages) in ascending order\n",
    "Age_counts = Age_counts.sort_index(ascending=True)\n",
    "\n",
    "# Print the counts in ascending order\n",
    "print(\"Counts Age (Ascending Order):\")\n",
    "print(Age_counts)"
   ]
  },
  {
   "cell_type": "code",
   "execution_count": 35,
   "id": "a1aaf270",
   "metadata": {
    "execution": {
     "iopub.execute_input": "2024-03-10T00:07:59.637128Z",
     "iopub.status.busy": "2024-03-10T00:07:59.636738Z",
     "iopub.status.idle": "2024-03-10T00:07:59.647660Z",
     "shell.execute_reply": "2024-03-10T00:07:59.646509Z"
    },
    "papermill": {
     "duration": 0.04322,
     "end_time": "2024-03-10T00:07:59.650694",
     "exception": false,
     "start_time": "2024-03-10T00:07:59.607474",
     "status": "completed"
    },
    "tags": []
   },
   "outputs": [
    {
     "name": "stdout",
     "output_type": "stream",
     "text": [
      "Rows with Age equal to 91:\n",
      "     Age  Gender Relationship Status          Occupation Social Media User?  \\\n",
      "256   91  Female              Single  University Student                Yes   \n",
      "\n",
      "                                      Platforms Used Hours Per Day  \\\n",
      "256  Facebook, Instagram, YouTube, Snapchat, Discord          2.5h   \n",
      "\n",
      "     ADHD Score  Anxiety Score  Self Esteem Score  Depression Score  \\\n",
      "256          16              9                 11                15   \n",
      "\n",
      "     Total Score  \n",
      "256           51  \n"
     ]
    }
   ],
   "source": [
    "# Find rows where 'Age' equals 91\n",
    "age_answers = data[data['Age'] == 91]\n",
    "\n",
    "# Print the rows with Age equal to 91\n",
    "print(\"Rows with Age equal to 91:\")\n",
    "print(age_answers)"
   ]
  },
  {
   "cell_type": "code",
   "execution_count": 36,
   "id": "be5527cc",
   "metadata": {
    "execution": {
     "iopub.execute_input": "2024-03-10T00:07:59.707907Z",
     "iopub.status.busy": "2024-03-10T00:07:59.707147Z",
     "iopub.status.idle": "2024-03-10T00:07:59.714416Z",
     "shell.execute_reply": "2024-03-10T00:07:59.713194Z"
    },
    "papermill": {
     "duration": 0.038662,
     "end_time": "2024-03-10T00:07:59.716911",
     "exception": false,
     "start_time": "2024-03-10T00:07:59.678249",
     "status": "completed"
    },
    "tags": []
   },
   "outputs": [],
   "source": [
    "#remove the row\n",
    "row_to_remove = 256\n",
    "data = data.drop(256)"
   ]
  },
  {
   "cell_type": "code",
   "execution_count": 37,
   "id": "646c5aad",
   "metadata": {
    "execution": {
     "iopub.execute_input": "2024-03-10T00:07:59.773925Z",
     "iopub.status.busy": "2024-03-10T00:07:59.773500Z",
     "iopub.status.idle": "2024-03-10T00:07:59.784656Z",
     "shell.execute_reply": "2024-03-10T00:07:59.783856Z"
    },
    "papermill": {
     "duration": 0.042704,
     "end_time": "2024-03-10T00:07:59.787299",
     "exception": false,
     "start_time": "2024-03-10T00:07:59.744595",
     "status": "completed"
    },
    "tags": []
   },
   "outputs": [
    {
     "name": "stdout",
     "output_type": "stream",
     "text": [
      "     Age  Gender Relationship Status          Occupation Social Media User?  \\\n",
      "250   34  Female             Married     Salaried Worker                Yes   \n",
      "251   26  Female              Single     Salaried Worker                Yes   \n",
      "252   25    Male              Single  University Student                Yes   \n",
      "253   22  Female             Married  University Student                Yes   \n",
      "254   20    Male              Single  University Student                Yes   \n",
      "255   23  Female              Single  University Student                Yes   \n",
      "257   22  Female              Single  University Student                Yes   \n",
      "258   23  Female              Single  University Student                Yes   \n",
      "259   21  Female   In a relationship  University Student                Yes   \n",
      "260   36  Female             Married     Salaried Worker                Yes   \n",
      "261   21  Female   In a relationship  University Student                Yes   \n",
      "\n",
      "                                        Platforms Used Hours Per Day  \\\n",
      "250                                           Facebook          1.5h   \n",
      "251  Facebook, Instagram, YouTube, Discord, Pintere...          4.5h   \n",
      "252  Facebook, Twitter, Instagram, YouTube, Snapcha...          4.5h   \n",
      "253            Facebook, Instagram, YouTube, Pinterest          2.5h   \n",
      "254  Facebook, Twitter, Instagram, YouTube, Snapcha...          0.5h   \n",
      "255             Facebook, Instagram, YouTube, Snapchat          5.5h   \n",
      "257    Facebook, Instagram, YouTube, Snapchat, Discord          4.5h   \n",
      "258               Facebook, Instagram, YouTube, TikTok          5.5h   \n",
      "259                       Facebook, Instagram, Discord          2.5h   \n",
      "260                        Facebook, YouTube, Snapchat          1.5h   \n",
      "261  Facebook, Instagram, YouTube, Snapchat, Discor...          2.5h   \n",
      "\n",
      "     ADHD Score  Anxiety Score  Self Esteem Score  Depression Score  \\\n",
      "250           6              2                  4                 3   \n",
      "251          20              8                  9                13   \n",
      "252          19              3                  9                11   \n",
      "253          14              5                  6                 8   \n",
      "254          11              6                  5                 8   \n",
      "255          18              8                  9                12   \n",
      "257           7              3                  4                 6   \n",
      "258          13              5                 10                 9   \n",
      "259          11              7                  6                 8   \n",
      "260           8              3                  6                 8   \n",
      "261          13              7                  9                14   \n",
      "\n",
      "     Total Score  \n",
      "250           15  \n",
      "251           50  \n",
      "252           42  \n",
      "253           33  \n",
      "254           30  \n",
      "255           47  \n",
      "257           20  \n",
      "258           37  \n",
      "259           32  \n",
      "260           25  \n",
      "261           43  \n"
     ]
    }
   ],
   "source": [
    "#check new rows\n",
    "start_row = 250\n",
    "end_row = 260\n",
    "\n",
    "# View rows 250 to 260\n",
    "rows_250_to_260 = data.iloc[start_row:end_row + 1]\n",
    "\n",
    "# Display the selected rows\n",
    "print(rows_250_to_260)"
   ]
  },
  {
   "cell_type": "markdown",
   "id": "64724f7a",
   "metadata": {
    "papermill": {
     "duration": 0.027124,
     "end_time": "2024-03-10T00:07:59.842033",
     "exception": false,
     "start_time": "2024-03-10T00:07:59.814909",
     "status": "completed"
    },
    "tags": []
   },
   "source": [
    "Row 256 has been removed. "
   ]
  },
  {
   "cell_type": "markdown",
   "id": "1e49baf5",
   "metadata": {
    "papermill": {
     "duration": 0.027208,
     "end_time": "2024-03-10T00:07:59.896768",
     "exception": false,
     "start_time": "2024-03-10T00:07:59.869560",
     "status": "completed"
    },
    "tags": []
   },
   "source": [
    "**Transform 'Platforms Used' into catagories for use in future analysis.**\n",
    "<br>\n",
    "<br>\n",
    "Social Networking (Facebook,Twitter, Discord, TikTok)\n",
    "<br>\n",
    "<br>\n",
    "Media Sharing (Pinterest, Youtube, Snapchat, Instagram) \n",
    "<br>\n",
    "<br>\n",
    "Discussion Forum (Reddit)\n",
    "\n",
    "\n",
    "\n"
   ]
  },
  {
   "cell_type": "code",
   "execution_count": 38,
   "id": "cc4d682d",
   "metadata": {
    "execution": {
     "iopub.execute_input": "2024-03-10T00:07:59.955470Z",
     "iopub.status.busy": "2024-03-10T00:07:59.954761Z",
     "iopub.status.idle": "2024-03-10T00:07:59.973426Z",
     "shell.execute_reply": "2024-03-10T00:07:59.972153Z"
    },
    "papermill": {
     "duration": 0.052025,
     "end_time": "2024-03-10T00:07:59.976243",
     "exception": false,
     "start_time": "2024-03-10T00:07:59.924218",
     "status": "completed"
    },
    "tags": []
   },
   "outputs": [
    {
     "name": "stdout",
     "output_type": "stream",
     "text": [
      "     Age  Gender Relationship Status          Occupation Social Media User?  \\\n",
      "0     21    Male   In a relationship  University Student                Yes   \n",
      "1     21  Female              Single  University Student                Yes   \n",
      "2     21  Female              Single  University Student                Yes   \n",
      "3     21  Female              Single  University Student                Yes   \n",
      "4     21  Female              Single  University Student                Yes   \n",
      "..   ...     ...                 ...                 ...                ...   \n",
      "476   24    Male              Single     Salaried Worker                Yes   \n",
      "477   26  Female             Married     Salaried Worker                Yes   \n",
      "478   29  Female             Married     Salaried Worker                Yes   \n",
      "479   21    Male              Single  University Student                Yes   \n",
      "480   53    Male             Married     Salaried Worker                Yes   \n",
      "\n",
      "    Hours Per Day  ADHD Score  Anxiety Score  Self Esteem Score  \\\n",
      "0            2.5h          18              4                  7   \n",
      "1            5.5h          15              7                  7   \n",
      "2            3.5h          11              6                  7   \n",
      "3            5.5h          12              6                  8   \n",
      "4            2.5h          17              9                  9   \n",
      "..            ...         ...            ...                ...   \n",
      "476          2.5h          15              6                 10   \n",
      "477          1.5h          10              6                 10   \n",
      "478          2.5h          12              6                 10   \n",
      "479          2.5h          10              5                  9   \n",
      "480          0.5h           9              2                  8   \n",
      "\n",
      "     Depression Score  Total Score  \\\n",
      "0                  14           43   \n",
      "1                  14           43   \n",
      "2                  11           35   \n",
      "3                   9           35   \n",
      "4                   9           44   \n",
      "..                ...          ...   \n",
      "476                11           42   \n",
      "477                 9           35   \n",
      "478                 6           34   \n",
      "479                13           37   \n",
      "480                 7           26   \n",
      "\n",
      "                                             Platforms  \n",
      "0    Social Networking, Media Sharing, Discussion F...  \n",
      "1    Social Networking, Media Sharing, Discussion F...  \n",
      "2                     Social Networking, Media Sharing  \n",
      "3                     Social Networking, Media Sharing  \n",
      "4                     Social Networking, Media Sharing  \n",
      "..                                                 ...  \n",
      "476                   Social Networking, Media Sharing  \n",
      "477                   Social Networking, Media Sharing  \n",
      "478                   Social Networking, Media Sharing  \n",
      "479                   Social Networking, Media Sharing  \n",
      "480                   Social Networking, Media Sharing  \n",
      "\n",
      "[480 rows x 12 columns]\n"
     ]
    }
   ],
   "source": [
    "# Define a function to categorize platforms\n",
    "def categorize_platforms(platforms_used):\n",
    "    categories = []\n",
    "    if any(platform in platforms_used for platform in ['Facebook', 'Twitter', 'Discord', 'TikTok']):\n",
    "        categories.append('Social Networking')\n",
    "    if any(platform in platforms_used for platform in ['Pinterest', 'YouTube', 'Snapchat', 'Instagram']):\n",
    "        categories.append('Media Sharing')\n",
    "    if 'Reddit' in platforms_used:\n",
    "        categories.append('Discussion Forum')\n",
    "    return ', '.join(categories) if categories else 'Other/Unknown'\n",
    "\n",
    "# Apply the categorization function to create a new 'Category' column\n",
    "data['Platforms'] = data['Platforms Used'].apply(categorize_platforms)\n",
    "\n",
    "# Drop the original 'Platforms Used' column\n",
    "data.drop(columns=['Platforms Used'], inplace=True)\n",
    "\n",
    "# Display the DataFrame with the 'Platforms' column\n",
    "print(data)\n"
   ]
  },
  {
   "cell_type": "code",
   "execution_count": 39,
   "id": "e2fa0bf0",
   "metadata": {
    "execution": {
     "iopub.execute_input": "2024-03-10T00:08:00.039861Z",
     "iopub.status.busy": "2024-03-10T00:08:00.039112Z",
     "iopub.status.idle": "2024-03-10T00:08:00.054416Z",
     "shell.execute_reply": "2024-03-10T00:08:00.053567Z"
    },
    "papermill": {
     "duration": 0.051948,
     "end_time": "2024-03-10T00:08:00.056839",
     "exception": false,
     "start_time": "2024-03-10T00:08:00.004891",
     "status": "completed"
    },
    "tags": []
   },
   "outputs": [
    {
     "data": {
      "text/html": [
       "<div>\n",
       "<style scoped>\n",
       "    .dataframe tbody tr th:only-of-type {\n",
       "        vertical-align: middle;\n",
       "    }\n",
       "\n",
       "    .dataframe tbody tr th {\n",
       "        vertical-align: top;\n",
       "    }\n",
       "\n",
       "    .dataframe thead th {\n",
       "        text-align: right;\n",
       "    }\n",
       "</style>\n",
       "<table border=\"1\" class=\"dataframe\">\n",
       "  <thead>\n",
       "    <tr style=\"text-align: right;\">\n",
       "      <th></th>\n",
       "      <th>Age</th>\n",
       "      <th>Gender</th>\n",
       "      <th>Relationship Status</th>\n",
       "      <th>Occupation</th>\n",
       "      <th>Social Media User?</th>\n",
       "      <th>Hours Per Day</th>\n",
       "      <th>ADHD Score</th>\n",
       "      <th>Anxiety Score</th>\n",
       "      <th>Self Esteem Score</th>\n",
       "      <th>Depression Score</th>\n",
       "      <th>Total Score</th>\n",
       "      <th>Platforms</th>\n",
       "    </tr>\n",
       "  </thead>\n",
       "  <tbody>\n",
       "    <tr>\n",
       "      <th>0</th>\n",
       "      <td>21</td>\n",
       "      <td>Male</td>\n",
       "      <td>In a relationship</td>\n",
       "      <td>University Student</td>\n",
       "      <td>Yes</td>\n",
       "      <td>2.5h</td>\n",
       "      <td>18</td>\n",
       "      <td>4</td>\n",
       "      <td>7</td>\n",
       "      <td>14</td>\n",
       "      <td>43</td>\n",
       "      <td>Social Networking, Media Sharing, Discussion F...</td>\n",
       "    </tr>\n",
       "    <tr>\n",
       "      <th>1</th>\n",
       "      <td>21</td>\n",
       "      <td>Female</td>\n",
       "      <td>Single</td>\n",
       "      <td>University Student</td>\n",
       "      <td>Yes</td>\n",
       "      <td>5.5h</td>\n",
       "      <td>15</td>\n",
       "      <td>7</td>\n",
       "      <td>7</td>\n",
       "      <td>14</td>\n",
       "      <td>43</td>\n",
       "      <td>Social Networking, Media Sharing, Discussion F...</td>\n",
       "    </tr>\n",
       "    <tr>\n",
       "      <th>2</th>\n",
       "      <td>21</td>\n",
       "      <td>Female</td>\n",
       "      <td>Single</td>\n",
       "      <td>University Student</td>\n",
       "      <td>Yes</td>\n",
       "      <td>3.5h</td>\n",
       "      <td>11</td>\n",
       "      <td>6</td>\n",
       "      <td>7</td>\n",
       "      <td>11</td>\n",
       "      <td>35</td>\n",
       "      <td>Social Networking, Media Sharing</td>\n",
       "    </tr>\n",
       "    <tr>\n",
       "      <th>3</th>\n",
       "      <td>21</td>\n",
       "      <td>Female</td>\n",
       "      <td>Single</td>\n",
       "      <td>University Student</td>\n",
       "      <td>Yes</td>\n",
       "      <td>5.5h</td>\n",
       "      <td>12</td>\n",
       "      <td>6</td>\n",
       "      <td>8</td>\n",
       "      <td>9</td>\n",
       "      <td>35</td>\n",
       "      <td>Social Networking, Media Sharing</td>\n",
       "    </tr>\n",
       "    <tr>\n",
       "      <th>4</th>\n",
       "      <td>21</td>\n",
       "      <td>Female</td>\n",
       "      <td>Single</td>\n",
       "      <td>University Student</td>\n",
       "      <td>Yes</td>\n",
       "      <td>2.5h</td>\n",
       "      <td>17</td>\n",
       "      <td>9</td>\n",
       "      <td>9</td>\n",
       "      <td>9</td>\n",
       "      <td>44</td>\n",
       "      <td>Social Networking, Media Sharing</td>\n",
       "    </tr>\n",
       "  </tbody>\n",
       "</table>\n",
       "</div>"
      ],
      "text/plain": [
       "   Age  Gender Relationship Status          Occupation Social Media User?  \\\n",
       "0   21    Male   In a relationship  University Student                Yes   \n",
       "1   21  Female              Single  University Student                Yes   \n",
       "2   21  Female              Single  University Student                Yes   \n",
       "3   21  Female              Single  University Student                Yes   \n",
       "4   21  Female              Single  University Student                Yes   \n",
       "\n",
       "  Hours Per Day  ADHD Score  Anxiety Score  Self Esteem Score  \\\n",
       "0          2.5h          18              4                  7   \n",
       "1          5.5h          15              7                  7   \n",
       "2          3.5h          11              6                  7   \n",
       "3          5.5h          12              6                  8   \n",
       "4          2.5h          17              9                  9   \n",
       "\n",
       "   Depression Score  Total Score  \\\n",
       "0                14           43   \n",
       "1                14           43   \n",
       "2                11           35   \n",
       "3                 9           35   \n",
       "4                 9           44   \n",
       "\n",
       "                                           Platforms  \n",
       "0  Social Networking, Media Sharing, Discussion F...  \n",
       "1  Social Networking, Media Sharing, Discussion F...  \n",
       "2                   Social Networking, Media Sharing  \n",
       "3                   Social Networking, Media Sharing  \n",
       "4                   Social Networking, Media Sharing  "
      ]
     },
     "execution_count": 39,
     "metadata": {},
     "output_type": "execute_result"
    }
   ],
   "source": [
    "#check new columns\n",
    "data.head()"
   ]
  },
  {
   "cell_type": "markdown",
   "id": "692268cb",
   "metadata": {
    "papermill": {
     "duration": 0.02782,
     "end_time": "2024-03-10T00:08:00.113100",
     "exception": false,
     "start_time": "2024-03-10T00:08:00.085280",
     "status": "completed"
    },
    "tags": []
   },
   "source": [
    "# **Data Analysis**"
   ]
  },
  {
   "cell_type": "markdown",
   "id": "5af3e870",
   "metadata": {
    "papermill": {
     "duration": 0.028495,
     "end_time": "2024-03-10T00:08:00.169863",
     "exception": false,
     "start_time": "2024-03-10T00:08:00.141368",
     "status": "completed"
    },
    "tags": []
   },
   "source": [
    "Find these distributions:\n",
    "* Age\n",
    "* Occupation\n",
    "* Gender\n",
    "* Hours Per Day\n",
    "* Platforms Used\n",
    "* Relationship Statusplt.xticks(rotation=45)\n",
    "<br>\n",
    "<br>\n",
    "Find these correlations:\n",
    "<br>\n",
    "<br>\n",
    "* Age and Time Spent\n",
    "* Age and Mental Health Screening\n",
    "* Gender and Time Spent\n",
    "* Gender and Mental Health Screening\n",
    "* Mental Health Screening and Time Spent\n",
    "* Platforms and Time Spent\n",
    "* Platforms and Mental Health"
   ]
  },
  {
   "cell_type": "markdown",
   "id": "8e9acd6d",
   "metadata": {
    "papermill": {
     "duration": 0.028247,
     "end_time": "2024-03-10T00:08:00.226609",
     "exception": false,
     "start_time": "2024-03-10T00:08:00.198362",
     "status": "completed"
    },
    "tags": []
   },
   "source": [
    "# **Descriptive Stats**"
   ]
  },
  {
   "cell_type": "markdown",
   "id": "62076c43",
   "metadata": {
    "papermill": {
     "duration": 0.02803,
     "end_time": "2024-03-10T00:08:00.282953",
     "exception": false,
     "start_time": "2024-03-10T00:08:00.254923",
     "status": "completed"
    },
    "tags": []
   },
   "source": [
    "**Age Distribution**"
   ]
  },
  {
   "cell_type": "code",
   "execution_count": 40,
   "id": "4bf4dfa7",
   "metadata": {
    "execution": {
     "iopub.execute_input": "2024-03-10T00:08:00.342772Z",
     "iopub.status.busy": "2024-03-10T00:08:00.342033Z",
     "iopub.status.idle": "2024-03-10T00:08:00.706069Z",
     "shell.execute_reply": "2024-03-10T00:08:00.704689Z"
    },
    "papermill": {
     "duration": 0.397687,
     "end_time": "2024-03-10T00:08:00.708869",
     "exception": false,
     "start_time": "2024-03-10T00:08:00.311182",
     "status": "completed"
    },
    "tags": []
   },
   "outputs": [
    {
     "data": {
      "image/png": "[encoded data removed]",
      "text/plain": [
       "<Figure size 800x600 with 1 Axes>"
      ]
     },
     "metadata": {},
     "output_type": "display_data"
    }
   ],
   "source": [
    "# Define the bin edges (interval boundaries)\n",
    "bin_edges = [13, 26, 39, 52, 65, 70]  # Extended to create bin edges [13, 26, 39, 52, 65, 70]\n",
    "\n",
    "# Create bins and compute frequencies\n",
    "data['Age Category'] = pd.cut(data['Age'], bins=bin_edges, labels=['13-25', '26-38', '39-51', '52-64', '65-69'])\n",
    "frequency_table = data['Age Category'].value_counts().reset_index()\n",
    "frequency_table.columns = ['Age Range', 'Frequency']\n",
    "\n",
    "# Create a histogram\n",
    "plt.figure(figsize=(8, 6))\n",
    "plt.hist(data['Age'], bins=bin_edges, edgecolor='k', alpha=0.7, color='skyblue')\n",
    "plt.title('Age Distribution Frequency')\n",
    "plt.xlabel('Age Range')\n",
    "plt.ylabel('Frequency')\n",
    "\n",
    "# Display the histogram\n",
    "plt.show()"
   ]
  },
  {
   "cell_type": "code",
   "execution_count": 41,
   "id": "4ccab692",
   "metadata": {
    "execution": {
     "iopub.execute_input": "2024-03-10T00:08:00.769055Z",
     "iopub.status.busy": "2024-03-10T00:08:00.768599Z",
     "iopub.status.idle": "2024-03-10T00:08:00.783330Z",
     "shell.execute_reply": "2024-03-10T00:08:00.782102Z"
    },
    "papermill": {
     "duration": 0.047516,
     "end_time": "2024-03-10T00:08:00.786338",
     "exception": false,
     "start_time": "2024-03-10T00:08:00.738822",
     "status": "completed"
    },
    "tags": []
   },
   "outputs": [
    {
     "name": "stdout",
     "output_type": "stream",
     "text": [
      "  Age Range  Frequency\n",
      "0     13-25        362\n",
      "1     26-38         59\n",
      "2     39-51         50\n",
      "3     52-64          6\n",
      "4     65-69          1\n"
     ]
    }
   ],
   "source": [
    "#Understand Age Distribution\n",
    "# Define the bin edges (interval boundaries)\n",
    "bin_edges = [13, 26, 39, 52, 65, 70]  # Extended to create bin edges [13, 26, 39, 52, 65, 70]\n",
    "\n",
    "# Define bin labels corresponding to the new edges\n",
    "bin_labels = ['13-25', '26-38', '39-51', '52-64', '65-69']  # Add '65-69'\n",
    "\n",
    "# Create bins and compute frequencies\n",
    "data['Age Category'] = pd.cut(data['Age'], bins=bin_edges, labels=bin_labels)\n",
    "frequency_table = data['Age Category'].value_counts().reset_index()\n",
    "frequency_table.columns = ['Age Range', 'Frequency']\n",
    "\n",
    "# Display the frequency table\n",
    "print(frequency_table)"
   ]
  },
  {
   "cell_type": "code",
   "execution_count": 42,
   "id": "42b6a1c7",
   "metadata": {
    "execution": {
     "iopub.execute_input": "2024-03-10T00:08:00.846109Z",
     "iopub.status.busy": "2024-03-10T00:08:00.845713Z",
     "iopub.status.idle": "2024-03-10T00:08:01.170609Z",
     "shell.execute_reply": "2024-03-10T00:08:01.169424Z"
    },
    "papermill": {
     "duration": 0.357762,
     "end_time": "2024-03-10T00:08:01.173371",
     "exception": false,
     "start_time": "2024-03-10T00:08:00.815609",
     "status": "completed"
    },
    "tags": []
   },
   "outputs": [
    {
     "data": {
      "image/png": "[encoded data removed]",
      "text/plain": [
       "<Figure size 800x600 with 1 Axes>"
      ]
     },
     "metadata": {},
     "output_type": "display_data"
    }
   ],
   "source": [
    "# Define the bin edges (interval boundaries)\n",
    "bin_edges = [13, 26, 39, 52, 65, 70]  # Extended to create bin edges [13, 26, 39, 52, 65, 70]\n",
    "\n",
    "# Define bin labels corresponding to the new edges\n",
    "bin_labels = ['13-25', '26-38', '39-51', '52-64', '65-69']  # Add '65-69'\n",
    "\n",
    "# Create bins and compute frequencies\n",
    "data['Age Category'] = pd.cut(data['Age'], bins=bin_edges, labels=bin_labels)\n",
    "frequency_table = data['Age Category'].value_counts().reset_index()\n",
    "frequency_table.columns = ['Age Range', 'Frequency']\n",
    "\n",
    "# Calculate percentages\n",
    "total_count = len(data)\n",
    "frequency_table['Percentage'] = (frequency_table['Frequency'] / total_count) * 100\n",
    "\n",
    "# Create a bar chart with percentages and labels\n",
    "plt.figure(figsize=(8, 6))\n",
    "bars = plt.bar(frequency_table['Age Range'], frequency_table['Percentage'], edgecolor='k')\n",
    "\n",
    "# Add percentage labels on top of each bar\n",
    "for bar in bars:\n",
    "    height = bar.get_height()\n",
    "    plt.annotate(f'{height:.1f}%', \n",
    "                 xy=(bar.get_x() + bar.get_width() / 2, height),\n",
    "                 xytext=(0, 3),  # 3 points vertical offset\n",
    "                 textcoords=\"offset points\",\n",
    "                 ha='center', va='bottom')\n",
    "\n",
    "plt.title('Age Distribution with Percentages')\n",
    "plt.xlabel('Age Range')\n",
    "plt.ylabel('Percentage (%)')\n",
    "\n",
    "# Display the chart\n",
    "plt.show()"
   ]
  },
  {
   "cell_type": "markdown",
   "id": "911b304c",
   "metadata": {
    "papermill": {
     "duration": 0.029196,
     "end_time": "2024-03-10T00:08:01.231804",
     "exception": false,
     "start_time": "2024-03-10T00:08:01.202608",
     "status": "completed"
    },
    "tags": []
   },
   "source": [
    "A majority of the people (75.4%) are age 13-25. "
   ]
  },
  {
   "cell_type": "markdown",
   "id": "dade5ed5",
   "metadata": {
    "papermill": {
     "duration": 0.028854,
     "end_time": "2024-03-10T00:08:01.290254",
     "exception": false,
     "start_time": "2024-03-10T00:08:01.261400",
     "status": "completed"
    },
    "tags": []
   },
   "source": [
    "**Platfroms Distribution**"
   ]
  },
  {
   "cell_type": "code",
   "execution_count": 43,
   "id": "05fe44ef",
   "metadata": {
    "execution": {
     "iopub.execute_input": "2024-03-10T00:08:01.350823Z",
     "iopub.status.busy": "2024-03-10T00:08:01.350405Z",
     "iopub.status.idle": "2024-03-10T00:08:01.776649Z",
     "shell.execute_reply": "2024-03-10T00:08:01.775693Z"
    },
    "papermill": {
     "duration": 0.460143,
     "end_time": "2024-03-10T00:08:01.779387",
     "exception": false,
     "start_time": "2024-03-10T00:08:01.319244",
     "status": "completed"
    },
    "tags": []
   },
   "outputs": [
    {
     "data": {
      "image/png": "[encoded data removed]",
      "text/plain": [
       "<Figure size 1000x600 with 1 Axes>"
      ]
     },
     "metadata": {},
     "output_type": "display_data"
    }
   ],
   "source": [
    "# Calculate frequencies of each value in 'Platforms' column\n",
    "frequency_table = data['Platforms'].value_counts().reset_index()\n",
    "frequency_table.columns = ['Platforms', 'Frequency']\n",
    "\n",
    "# Calculate the total count of platforms\n",
    "total_platforms = frequency_table['Frequency'].sum()\n",
    "\n",
    "# Calculate the percentages\n",
    "frequency_table['Percentage'] = (frequency_table['Frequency'] / total_platforms) * 100\n",
    "\n",
    "# Create a bar graph\n",
    "plt.figure(figsize=(10, 6))  # Adjust the figure size as needed\n",
    "bars = plt.bar(frequency_table['Platforms'], frequency_table['Frequency'], width=0.8, edgecolor='k', color='darkblue')\n",
    "plt.xticks(frequency_table['Platforms'], rotation='vertical')  # Set rotation to 'vertical'\n",
    "\n",
    "# Add percentage labels on top of each bar\n",
    "for bar, percentage in zip(bars, frequency_table['Percentage']):\n",
    "    plt.text(bar.get_x() + bar.get_width() / 2, bar.get_height(), f'{percentage:.2f}%', ha='center', va='bottom')\n",
    "\n",
    "# Add titles and labels\n",
    "plt.title('Social Media Platforms Used')\n",
    "plt.xlabel('Platforms')\n",
    "plt.ylabel('Frequency (%)')  # Update ylabel to indicate percentage\n",
    "\n",
    "# Display the graph\n",
    "plt.tight_layout()\n",
    "plt.show()\n"
   ]
  },
  {
   "cell_type": "markdown",
   "id": "bb978a41",
   "metadata": {
    "papermill": {
     "duration": 0.03025,
     "end_time": "2024-03-10T00:08:01.839440",
     "exception": false,
     "start_time": "2024-03-10T00:08:01.809190",
     "status": "completed"
    },
    "tags": []
   },
   "source": [
    "Over 300 people use Social Networking and Media Sharing. Less than 50 use only one type of platform.  Discussion forums are not as popular as the other two catagories. "
   ]
  },
  {
   "cell_type": "code",
   "execution_count": 44,
   "id": "59d79e58",
   "metadata": {
    "execution": {
     "iopub.execute_input": "2024-03-10T00:08:01.901904Z",
     "iopub.status.busy": "2024-03-10T00:08:01.901215Z",
     "iopub.status.idle": "2024-03-10T00:08:02.331081Z",
     "shell.execute_reply": "2024-03-10T00:08:02.330143Z"
    },
    "papermill": {
     "duration": 0.463592,
     "end_time": "2024-03-10T00:08:02.333181",
     "exception": false,
     "start_time": "2024-03-10T00:08:01.869589",
     "status": "completed"
    },
    "tags": []
   },
   "outputs": [
    {
     "data": {
      "image/png": "[encoded data removed]",
      "text/plain": [
       "<Figure size 1000x600 with 1 Axes>"
      ]
     },
     "metadata": {},
     "output_type": "display_data"
    }
   ],
   "source": [
    "# Create a pie chart\n",
    "plt.figure(figsize=(10, 6))  # Adjust the figure size as needed\n",
    "plt.pie(frequency_table['Frequency'], labels=None, autopct='%1.1f%%', startangle=140, colors=plt.cm.tab20.colors)\n",
    "\n",
    "# Add legend to the right\n",
    "plt.legend(frequency_table['Platforms'], loc=\"center left\", bbox_to_anchor=(1, 0.5))\n",
    "\n",
    "# Add titles and labels\n",
    "plt.title('Social Media Platforms Used')\n",
    "\n",
    "# Display the graph\n",
    "plt.axis('equal')  # Equal aspect ratio ensures that pie is drawn as a circle.\n",
    "plt.tight_layout()\n",
    "plt.show()"
   ]
  },
  {
   "cell_type": "markdown",
   "id": "6c9df91a",
   "metadata": {
    "papermill": {
     "duration": 0.031498,
     "end_time": "2024-03-10T00:08:02.395853",
     "exception": false,
     "start_time": "2024-03-10T00:08:02.364355",
     "status": "completed"
    },
    "tags": []
   },
   "source": [
    "**Gender Distribution**"
   ]
  },
  {
   "cell_type": "code",
   "execution_count": 45,
   "id": "0d08d096",
   "metadata": {
    "execution": {
     "iopub.execute_input": "2024-03-10T00:08:02.461435Z",
     "iopub.status.busy": "2024-03-10T00:08:02.460704Z",
     "iopub.status.idle": "2024-03-10T00:08:02.760011Z",
     "shell.execute_reply": "2024-03-10T00:08:02.758596Z"
    },
    "papermill": {
     "duration": 0.33482,
     "end_time": "2024-03-10T00:08:02.762675",
     "exception": false,
     "start_time": "2024-03-10T00:08:02.427855",
     "status": "completed"
    },
    "tags": []
   },
   "outputs": [
    {
     "data": {
      "image/png": "[encoded data removed]",
      "text/plain": [
       "<Figure size 640x480 with 1 Axes>"
      ]
     },
     "metadata": {},
     "output_type": "display_data"
    }
   ],
   "source": [
    "# Calculate frequencies of each value in 'Gender' column\n",
    "frequency_table = data['Gender'].value_counts().reset_index()\n",
    "frequency_table.columns = ['Gender', 'Frequency']\n",
    "\n",
    "# Calculate percentages\n",
    "total_count = len(data)\n",
    "frequency_table['Percentage'] = (frequency_table['Frequency'] / total_count) * 100\n",
    "\n",
    "# Create a bar graph with percentages on top of bars\n",
    "fig, ax = plt.subplots()\n",
    "bars = plt.bar(frequency_table['Gender'], frequency_table['Frequency'], width=0.8, edgecolor='k', color='darkblue')\n",
    "\n",
    "# Add percentage labels on top of each bar\n",
    "for bar, percentage in zip(bars, frequency_table['Percentage']):\n",
    "    ax.text(bar.get_x() + bar.get_width() / 2, bar.get_height(), f'{percentage:.2f}%', ha='center', va='bottom')\n",
    "\n",
    "# Add titles and labels\n",
    "plt.title('Gender Distribution')\n",
    "plt.xlabel('Gender')\n",
    "plt.ylabel('Frequency')\n",
    "plt.xticks(rotation=45)\n",
    "\n",
    "# Display the graph\n",
    "plt.show()"
   ]
  },
  {
   "cell_type": "markdown",
   "id": "a5787cd4",
   "metadata": {
    "papermill": {
     "duration": 0.031461,
     "end_time": "2024-03-10T00:08:02.826947",
     "exception": false,
     "start_time": "2024-03-10T00:08:02.795486",
     "status": "completed"
    },
    "tags": []
   },
   "source": [
    "Over 50% are female, approx. 44% are male. Non-binary, unsure, trans, and there are others??? represent less than 1% of the sample, so it is impossible to make statistical inferences. \n",
    "\n",
    "<br>\n",
    "Although more and more people are opening up about their gender identities, it still seems that certain groups are underrepresnted. It would be best to gether more data about these groups so that the \"new social media\" platform can be inclusive and cater to all of its user needs. As well as create a healthy environment for these groups to promote psycholgical well-being. "
   ]
  },
  {
   "cell_type": "markdown",
   "id": "167b1a94",
   "metadata": {
    "papermill": {
     "duration": 0.031139,
     "end_time": "2024-03-10T00:08:02.889652",
     "exception": false,
     "start_time": "2024-03-10T00:08:02.858513",
     "status": "completed"
    },
    "tags": []
   },
   "source": [
    "**Occupation Distribution**"
   ]
  },
  {
   "cell_type": "code",
   "execution_count": 46,
   "id": "b3fc1d6c",
   "metadata": {
    "execution": {
     "iopub.execute_input": "2024-03-10T00:08:02.956706Z",
     "iopub.status.busy": "2024-03-10T00:08:02.956248Z",
     "iopub.status.idle": "2024-03-10T00:08:03.241079Z",
     "shell.execute_reply": "2024-03-10T00:08:03.239422Z"
    },
    "papermill": {
     "duration": 0.322273,
     "end_time": "2024-03-10T00:08:03.243683",
     "exception": false,
     "start_time": "2024-03-10T00:08:02.921410",
     "status": "completed"
    },
    "tags": []
   },
   "outputs": [
    {
     "data": {
      "image/png": "[encoded data removed]",
      "text/plain": [
       "<Figure size 640x480 with 1 Axes>"
      ]
     },
     "metadata": {},
     "output_type": "display_data"
    }
   ],
   "source": [
    "# Calculate frequencies of each value in 'Platforms' column\n",
    "frequency_table = data['Occupation'].value_counts().reset_index()\n",
    "frequency_table.columns = ['Occupation', 'Frequency']\n",
    "\n",
    "# Create a bar graph\n",
    "plt.bar(frequency_table['Occupation'], frequency_table['Frequency'],width=0.8, edgecolor='k', color='darkblue')\n",
    "plt.xticks(frequency_table['Occupation'], rotation='vertical')  # Set rotation to 'vertical'\n",
    "\n",
    "# Add titles and labels\n",
    "plt.title('Occupation Distribution')\n",
    "plt.xlabel('Occupation')\n",
    "plt.ylabel('Frequency')\n",
    "\n",
    "# Display the graph\n",
    "plt.show()"
   ]
  },
  {
   "cell_type": "markdown",
   "id": "06052992",
   "metadata": {
    "papermill": {
     "duration": 0.031957,
     "end_time": "2024-03-10T00:08:03.307756",
     "exception": false,
     "start_time": "2024-03-10T00:08:03.275799",
     "status": "completed"
    },
    "tags": []
   },
   "source": [
    "The majority are univeristy student and salaried worker. "
   ]
  },
  {
   "cell_type": "code",
   "execution_count": 47,
   "id": "f48d85f8",
   "metadata": {
    "execution": {
     "iopub.execute_input": "2024-03-10T00:08:03.373741Z",
     "iopub.status.busy": "2024-03-10T00:08:03.373304Z",
     "iopub.status.idle": "2024-03-10T00:08:03.684851Z",
     "shell.execute_reply": "2024-03-10T00:08:03.683563Z"
    },
    "papermill": {
     "duration": 0.347554,
     "end_time": "2024-03-10T00:08:03.687420",
     "exception": false,
     "start_time": "2024-03-10T00:08:03.339866",
     "status": "completed"
    },
    "tags": []
   },
   "outputs": [
    {
     "data": {
      "image/png": "[encoded data removed]",
      "text/plain": [
       "<Figure size 1000x600 with 1 Axes>"
      ]
     },
     "metadata": {},
     "output_type": "display_data"
    }
   ],
   "source": [
    "# Calculate frequencies of each value in 'Occupation' column\n",
    "frequency_table = data['Occupation'].value_counts().reset_index()\n",
    "frequency_table.columns = ['Occupation', 'Frequency']\n",
    "\n",
    "# Create a pie chart\n",
    "plt.figure(figsize=(10, 6))  # Adjust the figure size as needed\n",
    "plt.pie(frequency_table['Frequency'], labels=frequency_table['Occupation'], autopct='%1.1f%%', startangle=140, colors=plt.cm.tab20.colors)\n",
    "\n",
    "# Add title\n",
    "plt.title('Occupation Distribution')\n",
    "\n",
    "# Display the graph\n",
    "plt.axis('equal')  # Equal aspect ratio ensures that pie is drawn as a circle.\n",
    "plt.tight_layout()\n",
    "plt.show()"
   ]
  },
  {
   "cell_type": "markdown",
   "id": "297f6a59",
   "metadata": {
    "papermill": {
     "duration": 0.033449,
     "end_time": "2024-03-10T00:08:03.754452",
     "exception": false,
     "start_time": "2024-03-10T00:08:03.721003",
     "status": "completed"
    },
    "tags": []
   },
   "source": [
    "**Relationship Status Distribution**"
   ]
  },
  {
   "cell_type": "code",
   "execution_count": 48,
   "id": "bbf4dfda",
   "metadata": {
    "execution": {
     "iopub.execute_input": "2024-03-10T00:08:03.824879Z",
     "iopub.status.busy": "2024-03-10T00:08:03.824423Z",
     "iopub.status.idle": "2024-03-10T00:08:04.100902Z",
     "shell.execute_reply": "2024-03-10T00:08:04.099593Z"
    },
    "papermill": {
     "duration": 0.315545,
     "end_time": "2024-03-10T00:08:04.103906",
     "exception": false,
     "start_time": "2024-03-10T00:08:03.788361",
     "status": "completed"
    },
    "tags": []
   },
   "outputs": [
    {
     "data": {
      "image/png": "[encoded data removed]",
      "text/plain": [
       "<Figure size 640x480 with 1 Axes>"
      ]
     },
     "metadata": {},
     "output_type": "display_data"
    }
   ],
   "source": [
    "# Calculate frequencies of each value in 'Platforms' column\n",
    "frequency_table = data['Relationship Status'].value_counts().reset_index()\n",
    "frequency_table.columns = ['Relationship Status', 'Frequency']\n",
    "\n",
    "# Create a bar graph\n",
    "plt.bar(frequency_table['Relationship Status'], frequency_table['Frequency'],width=0.8, edgecolor='k', color='darkblue')\n",
    "plt.xticks(frequency_table['Relationship Status'],)\n",
    "\n",
    "# Add titles and labels\n",
    "plt.title('Relationship Status Distribution')\n",
    "plt.xlabel('Relationship Status')\n",
    "plt.ylabel('Frequency')\n",
    "plt.xticks(rotation=45)\n",
    "\n",
    "# Display the graph\n",
    "plt.show()"
   ]
  },
  {
   "cell_type": "markdown",
   "id": "a7d52ed9",
   "metadata": {
    "papermill": {
     "duration": 0.033813,
     "end_time": "2024-03-10T00:08:04.172233",
     "exception": false,
     "start_time": "2024-03-10T00:08:04.138420",
     "status": "completed"
    },
    "tags": []
   },
   "source": [
    "Majority single. Married and In a relationship close to equal. Very small amount divorced. "
   ]
  },
  {
   "cell_type": "markdown",
   "id": "f3770e56",
   "metadata": {
    "papermill": {
     "duration": 0.033762,
     "end_time": "2024-03-10T00:08:04.239947",
     "exception": false,
     "start_time": "2024-03-10T00:08:04.206185",
     "status": "completed"
    },
    "tags": []
   },
   "source": [
    "# **Inferential**"
   ]
  },
  {
   "cell_type": "code",
   "execution_count": 49,
   "id": "cf31e118",
   "metadata": {
    "execution": {
     "iopub.execute_input": "2024-03-10T00:08:04.310269Z",
     "iopub.status.busy": "2024-03-10T00:08:04.309790Z",
     "iopub.status.idle": "2024-03-10T00:08:19.609252Z",
     "shell.execute_reply": "2024-03-10T00:08:19.608009Z"
    },
    "papermill": {
     "duration": 15.339254,
     "end_time": "2024-03-10T00:08:19.612484",
     "exception": false,
     "start_time": "2024-03-10T00:08:04.273230",
     "status": "completed"
    },
    "tags": []
   },
   "outputs": [
    {
     "name": "stdout",
     "output_type": "stream",
     "text": [
      "Requirement already satisfied: scipy in /opt/conda/lib/python3.10/site-packages (1.11.1)\r\n",
      "Requirement already satisfied: numpy<1.28.0,>=1.21.6 in /opt/conda/lib/python3.10/site-packages (from scipy) (1.23.5)\r\n"
     ]
    }
   ],
   "source": [
    "#install necessary package for statistical analysis\n",
    "import sys\n",
    "!{sys.executable} -m pip install scipy\n",
    "\n",
    "import pandas as pd\n",
    "from scipy.stats import pearsonr "
   ]
  },
  {
   "cell_type": "code",
   "execution_count": 50,
   "id": "db3faa9a",
   "metadata": {
    "execution": {
     "iopub.execute_input": "2024-03-10T00:08:19.683054Z",
     "iopub.status.busy": "2024-03-10T00:08:19.682290Z",
     "iopub.status.idle": "2024-03-10T00:08:19.699057Z",
     "shell.execute_reply": "2024-03-10T00:08:19.697406Z"
    },
    "papermill": {
     "duration": 0.054912,
     "end_time": "2024-03-10T00:08:19.701598",
     "exception": false,
     "start_time": "2024-03-10T00:08:19.646686",
     "status": "completed"
    },
    "tags": []
   },
   "outputs": [
    {
     "name": "stdout",
     "output_type": "stream",
     "text": [
      "                    mean       std\n",
      "Hours Per Day                     \n",
      "0.5h           24.882353  8.322167\n",
      "1.5h           31.771429  7.890871\n",
      "2.5h           35.870000  8.342002\n",
      "3.5h           38.397849  8.353780\n",
      "4.5h           39.179104  7.438486\n",
      "5.5h           41.258621  7.576991\n"
     ]
    }
   ],
   "source": [
    "# Calculate mean and standard deviation for each bin\n",
    "summary_stats = data.groupby('Hours Per Day')['Total Score'].agg(['mean', 'std'])\n",
    "\n",
    "# Display summary statistics\n",
    "print(summary_stats)"
   ]
  },
  {
   "cell_type": "code",
   "execution_count": 51,
   "id": "3f28e457",
   "metadata": {
    "execution": {
     "iopub.execute_input": "2024-03-10T00:08:19.772745Z",
     "iopub.status.busy": "2024-03-10T00:08:19.772308Z",
     "iopub.status.idle": "2024-03-10T00:08:19.778221Z",
     "shell.execute_reply": "2024-03-10T00:08:19.777086Z"
    },
    "papermill": {
     "duration": 0.044324,
     "end_time": "2024-03-10T00:08:19.781020",
     "exception": false,
     "start_time": "2024-03-10T00:08:19.736696",
     "status": "completed"
    },
    "tags": []
   },
   "outputs": [
    {
     "name": "stdout",
     "output_type": "stream",
     "text": [
      "object\n"
     ]
    }
   ],
   "source": [
    "print(data['Hours Per Day'].dtype)"
   ]
  },
  {
   "cell_type": "code",
   "execution_count": 52,
   "id": "985e5777",
   "metadata": {
    "execution": {
     "iopub.execute_input": "2024-03-10T00:08:19.852552Z",
     "iopub.status.busy": "2024-03-10T00:08:19.852154Z",
     "iopub.status.idle": "2024-03-10T00:08:19.869145Z",
     "shell.execute_reply": "2024-03-10T00:08:19.868189Z"
    },
    "papermill": {
     "duration": 0.056121,
     "end_time": "2024-03-10T00:08:19.871467",
     "exception": false,
     "start_time": "2024-03-10T00:08:19.815346",
     "status": "completed"
    },
    "tags": []
   },
   "outputs": [
    {
     "data": {
      "text/html": [
       "<div>\n",
       "<style scoped>\n",
       "    .dataframe tbody tr th:only-of-type {\n",
       "        vertical-align: middle;\n",
       "    }\n",
       "\n",
       "    .dataframe tbody tr th {\n",
       "        vertical-align: top;\n",
       "    }\n",
       "\n",
       "    .dataframe thead th {\n",
       "        text-align: right;\n",
       "    }\n",
       "</style>\n",
       "<table border=\"1\" class=\"dataframe\">\n",
       "  <thead>\n",
       "    <tr style=\"text-align: right;\">\n",
       "      <th></th>\n",
       "      <th>Age</th>\n",
       "      <th>Gender</th>\n",
       "      <th>Relationship Status</th>\n",
       "      <th>Occupation</th>\n",
       "      <th>Social Media User?</th>\n",
       "      <th>Hours Per Day</th>\n",
       "      <th>ADHD Score</th>\n",
       "      <th>Anxiety Score</th>\n",
       "      <th>Self Esteem Score</th>\n",
       "      <th>Depression Score</th>\n",
       "      <th>Total Score</th>\n",
       "      <th>Platforms</th>\n",
       "      <th>Age Category</th>\n",
       "    </tr>\n",
       "  </thead>\n",
       "  <tbody>\n",
       "    <tr>\n",
       "      <th>0</th>\n",
       "      <td>21</td>\n",
       "      <td>Male</td>\n",
       "      <td>In a relationship</td>\n",
       "      <td>University Student</td>\n",
       "      <td>Yes</td>\n",
       "      <td>2.5h</td>\n",
       "      <td>18</td>\n",
       "      <td>4</td>\n",
       "      <td>7</td>\n",
       "      <td>14</td>\n",
       "      <td>43</td>\n",
       "      <td>Social Networking, Media Sharing, Discussion F...</td>\n",
       "      <td>13-25</td>\n",
       "    </tr>\n",
       "  </tbody>\n",
       "</table>\n",
       "</div>"
      ],
      "text/plain": [
       "   Age Gender Relationship Status          Occupation Social Media User?  \\\n",
       "0   21   Male   In a relationship  University Student                Yes   \n",
       "\n",
       "  Hours Per Day  ADHD Score  Anxiety Score  Self Esteem Score  \\\n",
       "0          2.5h          18              4                  7   \n",
       "\n",
       "   Depression Score  Total Score  \\\n",
       "0                14           43   \n",
       "\n",
       "                                           Platforms Age Category  \n",
       "0  Social Networking, Media Sharing, Discussion F...        13-25  "
      ]
     },
     "execution_count": 52,
     "metadata": {},
     "output_type": "execute_result"
    }
   ],
   "source": [
    "data.head(1)"
   ]
  },
  {
   "cell_type": "code",
   "execution_count": 53,
   "id": "8b370671",
   "metadata": {
    "execution": {
     "iopub.execute_input": "2024-03-10T00:08:19.943192Z",
     "iopub.status.busy": "2024-03-10T00:08:19.942738Z",
     "iopub.status.idle": "2024-03-10T00:08:20.327036Z",
     "shell.execute_reply": "2024-03-10T00:08:20.325809Z"
    },
    "papermill": {
     "duration": 0.422896,
     "end_time": "2024-03-10T00:08:20.329648",
     "exception": false,
     "start_time": "2024-03-10T00:08:19.906752",
     "status": "completed"
    },
    "tags": []
   },
   "outputs": [
    {
     "data": {
      "image/png": "[encoded data removed]",
      "text/plain": [
       "<Figure size 640x480 with 1 Axes>"
      ]
     },
     "metadata": {},
     "output_type": "display_data"
    }
   ],
   "source": [
    "# Calculate mean and standard deviation for each bin\n",
    "summary_stats = data.groupby('Hours Per Day')['Total Score'].agg(['mean', 'std'])\n",
    "\n",
    "# Plot mean total score as bar plot with dark green color\n",
    "mean_plot = summary_stats['mean'].plot(kind='bar', color='darkgreen', label='Mean')\n",
    "\n",
    "# Plot standard deviation as error bars with dark blue color\n",
    "plt.errorbar(x=summary_stats.index, y=summary_stats['mean'], yerr=summary_stats['std'], fmt='none', ecolor='darkblue', capsize=5, label='Standard Deviation')\n",
    "\n",
    "# Add labels and title\n",
    "plt.xlabel('Hours Per Day Spent on Social Media')\n",
    "plt.ylabel('Mean Total Score')\n",
    "plt.title('Mean Total Score and Standard Deviation by Hours Per Day Spent on Social Media')\n",
    "\n",
    "plt.xticks(rotation=0)\n",
    "\n",
    "# Add legend\n",
    "plt.legend()\n",
    "\n",
    "# Show plot\n",
    "plt.show()"
   ]
  }
 ],
 "metadata": {
  "kaggle": {
   "accelerator": "none",
   "dataSources": [
    {
     "datasetId": 2752689,
     "sourceId": 6154312,
     "sourceType": "datasetVersion"
    }
   ],
   "dockerImageVersionId": 30527,
   "isGpuEnabled": false,
   "isInternetEnabled": true,
   "language": "python",
   "sourceType": "notebook"
  },
  "kernelspec": {
   "display_name": "Python 3",
   "language": "python",
   "name": "python3"
  },
  "language_info": {
   "codemirror_mode": {
    "name": "ipython",
    "version": 3
   },
   "file_extension": ".py",
   "mimetype": "text/x-python",
   "name": "python",
   "nbconvert_exporter": "python",
   "pygments_lexer": "ipython3",
   "version": "3.10.12"
  },
  "papermill": {
   "default_parameters": {},
   "duration": 40.186064,
   "end_time": "2024-03-10T00:08:21.488054",
   "environment_variables": {},
   "exception": null,
   "input_path": "__notebook__.ipynb",
   "output_path": "__notebook__.ipynb",
   "parameters": {},
   "start_time": "2024-03-10T00:07:41.301990",
   "version": "2.4.0"
  }
 },
 "nbformat": 4,
 "nbformat_minor": 5
}
