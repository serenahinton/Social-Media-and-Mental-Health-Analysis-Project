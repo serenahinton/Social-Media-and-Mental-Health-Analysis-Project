{
 "cells": [
  {
   "cell_type": "markdown",
   "id": "4d935f5c",
   "metadata": {
    "papermill": {
     "duration": 0.018855,
     "end_time": "2024-03-10T04:46:05.194374",
     "exception": false,
     "start_time": "2024-03-10T04:46:05.175519",
     "status": "completed"
    },
    "tags": []
   },
   "source": [
    "# **Case Study Description**\n",
    "# **Data Description**\n",
    "\n",
    "Data includes: \n",
    "* age\n",
    "* gender \n",
    "* relationship status\n",
    "* occupation \n",
    "* organization affiliation \n",
    "* social media use user?\n",
    "* social media platforms used \n",
    "* time spent on social media \n",
    "* results for ADHD, anxiety, self-esteem, and depression screenings.\n",
    "\n",
    "\n",
    "\n",
    "Mental Health uses Likert Scale: \n",
    "* Purposeless use of Social Media Question 9 = ADHD Q1\n",
    "* Distracted by Social Media Question 10 = ADHD Q2\n",
    "* Restlessness if Social Media not used Question 11 = Anxiety Q1\n",
    "* Ease of Distraction by Social Media Question 12 = ADHD Q3\n",
    "* Bothered by worries Question 13 = Anxiety Q2\n",
    "* Difficulty in concentrating Question 14 = ADHD Q4\n",
    "* Comparison of self to peers Question 15 = Self Esteem Q1\n",
    "* Feelings about above comparison Question 16 = Self Esteem, Q2\n",
    "* Validation sought from Social Media Question 17 = Self Esteem Q3\n",
    "* Feelings of Depression Question 18 = Depression Q1\n",
    "* Fluctuation of interest Question 19 = Depression Q2\n",
    "* Sleep Issues Question 20 = Depression Q3\n"
   ]
  },
  {
   "cell_type": "code",
   "execution_count": 1,
   "id": "1336b036",
   "metadata": {
    "execution": {
     "iopub.execute_input": "2024-03-10T04:46:05.230232Z",
     "iopub.status.busy": "2024-03-10T04:46:05.229530Z",
     "iopub.status.idle": "2024-03-10T04:46:06.510307Z",
     "shell.execute_reply": "2024-03-10T04:46:06.509048Z"
    },
    "papermill": {
     "duration": 1.301206,
     "end_time": "2024-03-10T04:46:06.512748",
     "exception": false,
     "start_time": "2024-03-10T04:46:05.211542",
     "status": "completed"
    },
    "tags": []
   },
   "outputs": [
    {
     "name": "stderr",
     "output_type": "stream",
     "text": [
      "/opt/conda/lib/python3.10/site-packages/scipy/__init__.py:146: UserWarning: A NumPy version >=1.16.5 and <1.23.0 is required for this version of SciPy (detected version 1.23.5\n",
      "  warnings.warn(f\"A NumPy version >={np_minversion} and <{np_maxversion}\"\n"
     ]
    }
   ],
   "source": [
    "#importing necessary packages for project\n",
    "import numpy as np\n",
    "import pandas as pd\n",
    "import matplotlib.pyplot as plt\n",
    "import seaborn as sns"
   ]
  },
  {
   "cell_type": "code",
   "execution_count": 2,
   "id": "0c8bd814",
   "metadata": {
    "execution": {
     "iopub.execute_input": "2024-03-10T04:46:06.549428Z",
     "iopub.status.busy": "2024-03-10T04:46:06.549067Z",
     "iopub.status.idle": "2024-03-10T04:46:06.561542Z",
     "shell.execute_reply": "2024-03-10T04:46:06.560031Z"
    },
    "papermill": {
     "duration": 0.033849,
     "end_time": "2024-03-10T04:46:06.563980",
     "exception": false,
     "start_time": "2024-03-10T04:46:06.530131",
     "status": "completed"
    },
    "tags": []
   },
   "outputs": [
    {
     "name": "stdout",
     "output_type": "stream",
     "text": [
      "/kaggle/input/social-media-and-mental-health/smmh.csv\n"
     ]
    }
   ],
   "source": [
    "#load data set that will be used for project\n",
    "import os\n",
    "for dirname, _, filenames in os.walk('/kaggle/input'):\n",
    "    for filename in filenames:\n",
    "        print(os.path.join(dirname, filename))"
   ]
  },
  {
   "cell_type": "code",
   "execution_count": 3,
   "id": "c1400251",
   "metadata": {
    "execution": {
     "iopub.execute_input": "2024-03-10T04:46:06.602158Z",
     "iopub.status.busy": "2024-03-10T04:46:06.601759Z",
     "iopub.status.idle": "2024-03-10T04:46:06.625572Z",
     "shell.execute_reply": "2024-03-10T04:46:06.624620Z"
    },
    "papermill": {
     "duration": 0.045295,
     "end_time": "2024-03-10T04:46:06.627659",
     "exception": false,
     "start_time": "2024-03-10T04:46:06.582364",
     "status": "completed"
    },
    "tags": []
   },
   "outputs": [],
   "source": [
    "#load data set\n",
    "data=pd.read_csv('/kaggle/input/social-media-and-mental-health/smmh.csv')"
   ]
  },
  {
   "cell_type": "code",
   "execution_count": 4,
   "id": "f0be129c",
   "metadata": {
    "execution": {
     "iopub.execute_input": "2024-03-10T04:46:06.664494Z",
     "iopub.status.busy": "2024-03-10T04:46:06.664167Z",
     "iopub.status.idle": "2024-03-10T04:46:06.668287Z",
     "shell.execute_reply": "2024-03-10T04:46:06.667542Z"
    },
    "papermill": {
     "duration": 0.024892,
     "end_time": "2024-03-10T04:46:06.670034",
     "exception": false,
     "start_time": "2024-03-10T04:46:06.645142",
     "status": "completed"
    },
    "tags": []
   },
   "outputs": [],
   "source": [
    "# Setting to display all columns\n",
    "pd.set_option(\"display.max_columns\", None)"
   ]
  },
  {
   "cell_type": "code",
   "execution_count": 5,
   "id": "c714694e",
   "metadata": {
    "execution": {
     "iopub.execute_input": "2024-03-10T04:46:06.708059Z",
     "iopub.status.busy": "2024-03-10T04:46:06.707033Z",
     "iopub.status.idle": "2024-03-10T04:46:06.733681Z",
     "shell.execute_reply": "2024-03-10T04:46:06.732842Z"
    },
    "papermill": {
     "duration": 0.04754,
     "end_time": "2024-03-10T04:46:06.735423",
     "exception": false,
     "start_time": "2024-03-10T04:46:06.687883",
     "status": "completed"
    },
    "tags": []
   },
   "outputs": [
    {
     "data": {
      "text/html": [
       "<div>\n",
       "<style scoped>\n",
       "    .dataframe tbody tr th:only-of-type {\n",
       "        vertical-align: middle;\n",
       "    }\n",
       "\n",
       "    .dataframe tbody tr th {\n",
       "        vertical-align: top;\n",
       "    }\n",
       "\n",
       "    .dataframe thead th {\n",
       "        text-align: right;\n",
       "    }\n",
       "</style>\n",
       "<table border=\"1\" class=\"dataframe\">\n",
       "  <thead>\n",
       "    <tr style=\"text-align: right;\">\n",
       "      <th></th>\n",
       "      <th>Timestamp</th>\n",
       "      <th>1. What is your age?</th>\n",
       "      <th>2. Gender</th>\n",
       "      <th>3. Relationship Status</th>\n",
       "      <th>4. Occupation Status</th>\n",
       "      <th>5. What type of organizations are you affiliated with?</th>\n",
       "      <th>6. Do you use social media?</th>\n",
       "      <th>7. What social media platforms do you commonly use?</th>\n",
       "      <th>8. What is the average time you spend on social media every day?</th>\n",
       "      <th>9. How often do you find yourself using Social media without a specific purpose?</th>\n",
       "      <th>10. How often do you get distracted by Social media when you are busy doing something?</th>\n",
       "      <th>11. Do you feel restless if you haven't used Social media in a while?</th>\n",
       "      <th>12. On a scale of 1 to 5, how easily distracted are you?</th>\n",
       "      <th>13. On a scale of 1 to 5, how much are you bothered by worries?</th>\n",
       "      <th>14. Do you find it difficult to concentrate on things?</th>\n",
       "      <th>15. On a scale of 1-5, how often do you compare yourself to other successful people through the use of social media?</th>\n",
       "      <th>16. Following the previous question, how do you feel about these comparisons, generally speaking?</th>\n",
       "      <th>17. How often do you look to seek validation from features of social media?</th>\n",
       "      <th>18. How often do you feel depressed or down?</th>\n",
       "      <th>19. On a scale of 1 to 5, how frequently does your interest in daily activities fluctuate?</th>\n",
       "      <th>20. On a scale of 1 to 5, how often do you face issues regarding sleep?</th>\n",
       "    </tr>\n",
       "  </thead>\n",
       "  <tbody>\n",
       "    <tr>\n",
       "      <th>0</th>\n",
       "      <td>4/18/2022 19:18:47</td>\n",
       "      <td>21.0</td>\n",
       "      <td>Male</td>\n",
       "      <td>In a relationship</td>\n",
       "      <td>University Student</td>\n",
       "      <td>University</td>\n",
       "      <td>Yes</td>\n",
       "      <td>Facebook, Twitter, Instagram, YouTube, Discord...</td>\n",
       "      <td>Between 2 and 3 hours</td>\n",
       "      <td>5</td>\n",
       "      <td>3</td>\n",
       "      <td>2</td>\n",
       "      <td>5</td>\n",
       "      <td>2</td>\n",
       "      <td>5</td>\n",
       "      <td>2</td>\n",
       "      <td>3</td>\n",
       "      <td>2</td>\n",
       "      <td>5</td>\n",
       "      <td>4</td>\n",
       "      <td>5</td>\n",
       "    </tr>\n",
       "    <tr>\n",
       "      <th>1</th>\n",
       "      <td>4/18/2022 19:19:28</td>\n",
       "      <td>21.0</td>\n",
       "      <td>Female</td>\n",
       "      <td>Single</td>\n",
       "      <td>University Student</td>\n",
       "      <td>University</td>\n",
       "      <td>Yes</td>\n",
       "      <td>Facebook, Twitter, Instagram, YouTube, Discord...</td>\n",
       "      <td>More than 5 hours</td>\n",
       "      <td>4</td>\n",
       "      <td>3</td>\n",
       "      <td>2</td>\n",
       "      <td>4</td>\n",
       "      <td>5</td>\n",
       "      <td>4</td>\n",
       "      <td>5</td>\n",
       "      <td>1</td>\n",
       "      <td>1</td>\n",
       "      <td>5</td>\n",
       "      <td>4</td>\n",
       "      <td>5</td>\n",
       "    </tr>\n",
       "    <tr>\n",
       "      <th>2</th>\n",
       "      <td>4/18/2022 19:25:59</td>\n",
       "      <td>21.0</td>\n",
       "      <td>Female</td>\n",
       "      <td>Single</td>\n",
       "      <td>University Student</td>\n",
       "      <td>University</td>\n",
       "      <td>Yes</td>\n",
       "      <td>Facebook, Instagram, YouTube, Pinterest</td>\n",
       "      <td>Between 3 and 4 hours</td>\n",
       "      <td>3</td>\n",
       "      <td>2</td>\n",
       "      <td>1</td>\n",
       "      <td>2</td>\n",
       "      <td>5</td>\n",
       "      <td>4</td>\n",
       "      <td>3</td>\n",
       "      <td>3</td>\n",
       "      <td>1</td>\n",
       "      <td>4</td>\n",
       "      <td>2</td>\n",
       "      <td>5</td>\n",
       "    </tr>\n",
       "    <tr>\n",
       "      <th>3</th>\n",
       "      <td>4/18/2022 19:29:43</td>\n",
       "      <td>21.0</td>\n",
       "      <td>Female</td>\n",
       "      <td>Single</td>\n",
       "      <td>University Student</td>\n",
       "      <td>University</td>\n",
       "      <td>Yes</td>\n",
       "      <td>Facebook, Instagram</td>\n",
       "      <td>More than 5 hours</td>\n",
       "      <td>4</td>\n",
       "      <td>2</td>\n",
       "      <td>1</td>\n",
       "      <td>3</td>\n",
       "      <td>5</td>\n",
       "      <td>3</td>\n",
       "      <td>5</td>\n",
       "      <td>1</td>\n",
       "      <td>2</td>\n",
       "      <td>4</td>\n",
       "      <td>3</td>\n",
       "      <td>2</td>\n",
       "    </tr>\n",
       "    <tr>\n",
       "      <th>4</th>\n",
       "      <td>4/18/2022 19:33:31</td>\n",
       "      <td>21.0</td>\n",
       "      <td>Female</td>\n",
       "      <td>Single</td>\n",
       "      <td>University Student</td>\n",
       "      <td>University</td>\n",
       "      <td>Yes</td>\n",
       "      <td>Facebook, Instagram, YouTube</td>\n",
       "      <td>Between 2 and 3 hours</td>\n",
       "      <td>3</td>\n",
       "      <td>5</td>\n",
       "      <td>4</td>\n",
       "      <td>4</td>\n",
       "      <td>5</td>\n",
       "      <td>5</td>\n",
       "      <td>3</td>\n",
       "      <td>3</td>\n",
       "      <td>3</td>\n",
       "      <td>4</td>\n",
       "      <td>4</td>\n",
       "      <td>1</td>\n",
       "    </tr>\n",
       "  </tbody>\n",
       "</table>\n",
       "</div>"
      ],
      "text/plain": [
       "            Timestamp  1. What is your age? 2. Gender 3. Relationship Status  \\\n",
       "0  4/18/2022 19:18:47                  21.0      Male      In a relationship   \n",
       "1  4/18/2022 19:19:28                  21.0    Female                 Single   \n",
       "2  4/18/2022 19:25:59                  21.0    Female                 Single   \n",
       "3  4/18/2022 19:29:43                  21.0    Female                 Single   \n",
       "4  4/18/2022 19:33:31                  21.0    Female                 Single   \n",
       "\n",
       "  4. Occupation Status 5. What type of organizations are you affiliated with?  \\\n",
       "0   University Student                                         University       \n",
       "1   University Student                                         University       \n",
       "2   University Student                                         University       \n",
       "3   University Student                                         University       \n",
       "4   University Student                                         University       \n",
       "\n",
       "  6. Do you use social media?  \\\n",
       "0                         Yes   \n",
       "1                         Yes   \n",
       "2                         Yes   \n",
       "3                         Yes   \n",
       "4                         Yes   \n",
       "\n",
       "  7. What social media platforms do you commonly use?  \\\n",
       "0  Facebook, Twitter, Instagram, YouTube, Discord...    \n",
       "1  Facebook, Twitter, Instagram, YouTube, Discord...    \n",
       "2            Facebook, Instagram, YouTube, Pinterest    \n",
       "3                                Facebook, Instagram    \n",
       "4                       Facebook, Instagram, YouTube    \n",
       "\n",
       "  8. What is the average time you spend on social media every day?  \\\n",
       "0                              Between 2 and 3 hours                 \n",
       "1                                  More than 5 hours                 \n",
       "2                              Between 3 and 4 hours                 \n",
       "3                                  More than 5 hours                 \n",
       "4                              Between 2 and 3 hours                 \n",
       "\n",
       "   9. How often do you find yourself using Social media without a specific purpose?  \\\n",
       "0                                                  5                                  \n",
       "1                                                  4                                  \n",
       "2                                                  3                                  \n",
       "3                                                  4                                  \n",
       "4                                                  3                                  \n",
       "\n",
       "   10. How often do you get distracted by Social media when you are busy doing something?  \\\n",
       "0                                                  3                                        \n",
       "1                                                  3                                        \n",
       "2                                                  2                                        \n",
       "3                                                  2                                        \n",
       "4                                                  5                                        \n",
       "\n",
       "   11. Do you feel restless if you haven't used Social media in a while?  \\\n",
       "0                                                  2                       \n",
       "1                                                  2                       \n",
       "2                                                  1                       \n",
       "3                                                  1                       \n",
       "4                                                  4                       \n",
       "\n",
       "   12. On a scale of 1 to 5, how easily distracted are you?  \\\n",
       "0                                                  5          \n",
       "1                                                  4          \n",
       "2                                                  2          \n",
       "3                                                  3          \n",
       "4                                                  4          \n",
       "\n",
       "   13. On a scale of 1 to 5, how much are you bothered by worries?  \\\n",
       "0                                                  2                 \n",
       "1                                                  5                 \n",
       "2                                                  5                 \n",
       "3                                                  5                 \n",
       "4                                                  5                 \n",
       "\n",
       "   14. Do you find it difficult to concentrate on things?  \\\n",
       "0                                                  5        \n",
       "1                                                  4        \n",
       "2                                                  4        \n",
       "3                                                  3        \n",
       "4                                                  5        \n",
       "\n",
       "   15. On a scale of 1-5, how often do you compare yourself to other successful people through the use of social media?  \\\n",
       "0                                                  2                                                                      \n",
       "1                                                  5                                                                      \n",
       "2                                                  3                                                                      \n",
       "3                                                  5                                                                      \n",
       "4                                                  3                                                                      \n",
       "\n",
       "   16. Following the previous question, how do you feel about these comparisons, generally speaking?  \\\n",
       "0                                                  3                                                   \n",
       "1                                                  1                                                   \n",
       "2                                                  3                                                   \n",
       "3                                                  1                                                   \n",
       "4                                                  3                                                   \n",
       "\n",
       "   17. How often do you look to seek validation from features of social media?  \\\n",
       "0                                                  2                             \n",
       "1                                                  1                             \n",
       "2                                                  1                             \n",
       "3                                                  2                             \n",
       "4                                                  3                             \n",
       "\n",
       "   18. How often do you feel depressed or down?  \\\n",
       "0                                             5   \n",
       "1                                             5   \n",
       "2                                             4   \n",
       "3                                             4   \n",
       "4                                             4   \n",
       "\n",
       "   19. On a scale of 1 to 5, how frequently does your interest in daily activities fluctuate?  \\\n",
       "0                                                  4                                            \n",
       "1                                                  4                                            \n",
       "2                                                  2                                            \n",
       "3                                                  3                                            \n",
       "4                                                  4                                            \n",
       "\n",
       "   20. On a scale of 1 to 5, how often do you face issues regarding sleep?  \n",
       "0                                                  5                        \n",
       "1                                                  5                        \n",
       "2                                                  5                        \n",
       "3                                                  2                        \n",
       "4                                                  1                        "
      ]
     },
     "execution_count": 5,
     "metadata": {},
     "output_type": "execute_result"
    }
   ],
   "source": [
    "# Printing first 5 entries in the data set\n",
    "data.head()"
   ]
  },
  {
   "cell_type": "code",
   "execution_count": 6,
   "id": "b7ef90bf",
   "metadata": {
    "execution": {
     "iopub.execute_input": "2024-03-10T04:46:06.774069Z",
     "iopub.status.busy": "2024-03-10T04:46:06.773192Z",
     "iopub.status.idle": "2024-03-10T04:46:06.792552Z",
     "shell.execute_reply": "2024-03-10T04:46:06.791387Z"
    },
    "papermill": {
     "duration": 0.041858,
     "end_time": "2024-03-10T04:46:06.795216",
     "exception": false,
     "start_time": "2024-03-10T04:46:06.753358",
     "status": "completed"
    },
    "tags": []
   },
   "outputs": [
    {
     "data": {
      "text/html": [
       "<div>\n",
       "<style scoped>\n",
       "    .dataframe tbody tr th:only-of-type {\n",
       "        vertical-align: middle;\n",
       "    }\n",
       "\n",
       "    .dataframe tbody tr th {\n",
       "        vertical-align: top;\n",
       "    }\n",
       "\n",
       "    .dataframe thead th {\n",
       "        text-align: right;\n",
       "    }\n",
       "</style>\n",
       "<table border=\"1\" class=\"dataframe\">\n",
       "  <thead>\n",
       "    <tr style=\"text-align: right;\">\n",
       "      <th></th>\n",
       "      <th>Timestamp</th>\n",
       "      <th>1. What is your age?</th>\n",
       "      <th>2. Gender</th>\n",
       "      <th>3. Relationship Status</th>\n",
       "      <th>4. Occupation Status</th>\n",
       "      <th>5. What type of organizations are you affiliated with?</th>\n",
       "      <th>6. Do you use social media?</th>\n",
       "      <th>7. What social media platforms do you commonly use?</th>\n",
       "      <th>8. What is the average time you spend on social media every day?</th>\n",
       "      <th>9. How often do you find yourself using Social media without a specific purpose?</th>\n",
       "      <th>10. How often do you get distracted by Social media when you are busy doing something?</th>\n",
       "      <th>11. Do you feel restless if you haven't used Social media in a while?</th>\n",
       "      <th>12. On a scale of 1 to 5, how easily distracted are you?</th>\n",
       "      <th>13. On a scale of 1 to 5, how much are you bothered by worries?</th>\n",
       "      <th>14. Do you find it difficult to concentrate on things?</th>\n",
       "      <th>15. On a scale of 1-5, how often do you compare yourself to other successful people through the use of social media?</th>\n",
       "      <th>16. Following the previous question, how do you feel about these comparisons, generally speaking?</th>\n",
       "      <th>17. How often do you look to seek validation from features of social media?</th>\n",
       "      <th>18. How often do you feel depressed or down?</th>\n",
       "      <th>19. On a scale of 1 to 5, how frequently does your interest in daily activities fluctuate?</th>\n",
       "      <th>20. On a scale of 1 to 5, how often do you face issues regarding sleep?</th>\n",
       "    </tr>\n",
       "  </thead>\n",
       "  <tbody>\n",
       "    <tr>\n",
       "      <th>476</th>\n",
       "      <td>5/21/2022 23:38:28</td>\n",
       "      <td>24.0</td>\n",
       "      <td>Male</td>\n",
       "      <td>Single</td>\n",
       "      <td>Salaried Worker</td>\n",
       "      <td>University, Private</td>\n",
       "      <td>Yes</td>\n",
       "      <td>Facebook, Instagram, YouTube</td>\n",
       "      <td>Between 2 and 3 hours</td>\n",
       "      <td>3</td>\n",
       "      <td>4</td>\n",
       "      <td>3</td>\n",
       "      <td>4</td>\n",
       "      <td>3</td>\n",
       "      <td>4</td>\n",
       "      <td>4</td>\n",
       "      <td>2</td>\n",
       "      <td>4</td>\n",
       "      <td>3</td>\n",
       "      <td>4</td>\n",
       "      <td>4</td>\n",
       "    </tr>\n",
       "    <tr>\n",
       "      <th>477</th>\n",
       "      <td>5/22/2022 0:01:05</td>\n",
       "      <td>26.0</td>\n",
       "      <td>Female</td>\n",
       "      <td>Married</td>\n",
       "      <td>Salaried Worker</td>\n",
       "      <td>University</td>\n",
       "      <td>Yes</td>\n",
       "      <td>Facebook, YouTube</td>\n",
       "      <td>Between 1 and 2 hours</td>\n",
       "      <td>2</td>\n",
       "      <td>1</td>\n",
       "      <td>2</td>\n",
       "      <td>3</td>\n",
       "      <td>4</td>\n",
       "      <td>4</td>\n",
       "      <td>4</td>\n",
       "      <td>2</td>\n",
       "      <td>4</td>\n",
       "      <td>4</td>\n",
       "      <td>4</td>\n",
       "      <td>1</td>\n",
       "    </tr>\n",
       "    <tr>\n",
       "      <th>478</th>\n",
       "      <td>5/22/2022 10:29:21</td>\n",
       "      <td>29.0</td>\n",
       "      <td>Female</td>\n",
       "      <td>Married</td>\n",
       "      <td>Salaried Worker</td>\n",
       "      <td>University</td>\n",
       "      <td>Yes</td>\n",
       "      <td>Facebook, YouTube</td>\n",
       "      <td>Between 2 and 3 hours</td>\n",
       "      <td>3</td>\n",
       "      <td>3</td>\n",
       "      <td>4</td>\n",
       "      <td>3</td>\n",
       "      <td>2</td>\n",
       "      <td>3</td>\n",
       "      <td>3</td>\n",
       "      <td>3</td>\n",
       "      <td>4</td>\n",
       "      <td>2</td>\n",
       "      <td>2</td>\n",
       "      <td>2</td>\n",
       "    </tr>\n",
       "    <tr>\n",
       "      <th>479</th>\n",
       "      <td>7/14/2022 19:33:47</td>\n",
       "      <td>21.0</td>\n",
       "      <td>Male</td>\n",
       "      <td>Single</td>\n",
       "      <td>University Student</td>\n",
       "      <td>University</td>\n",
       "      <td>Yes</td>\n",
       "      <td>Facebook, Twitter, Instagram, YouTube, Discord...</td>\n",
       "      <td>Between 2 and 3 hours</td>\n",
       "      <td>2</td>\n",
       "      <td>3</td>\n",
       "      <td>2</td>\n",
       "      <td>3</td>\n",
       "      <td>3</td>\n",
       "      <td>2</td>\n",
       "      <td>2</td>\n",
       "      <td>3</td>\n",
       "      <td>4</td>\n",
       "      <td>4</td>\n",
       "      <td>5</td>\n",
       "      <td>4</td>\n",
       "    </tr>\n",
       "    <tr>\n",
       "      <th>480</th>\n",
       "      <td>11/12/2022 13:16:50</td>\n",
       "      <td>53.0</td>\n",
       "      <td>Male</td>\n",
       "      <td>Married</td>\n",
       "      <td>Salaried Worker</td>\n",
       "      <td>Private</td>\n",
       "      <td>Yes</td>\n",
       "      <td>Facebook, YouTube</td>\n",
       "      <td>Less than an Hour</td>\n",
       "      <td>2</td>\n",
       "      <td>3</td>\n",
       "      <td>1</td>\n",
       "      <td>3</td>\n",
       "      <td>1</td>\n",
       "      <td>1</td>\n",
       "      <td>3</td>\n",
       "      <td>3</td>\n",
       "      <td>2</td>\n",
       "      <td>2</td>\n",
       "      <td>2</td>\n",
       "      <td>3</td>\n",
       "    </tr>\n",
       "  </tbody>\n",
       "</table>\n",
       "</div>"
      ],
      "text/plain": [
       "               Timestamp  1. What is your age? 2. Gender  \\\n",
       "476   5/21/2022 23:38:28                  24.0      Male   \n",
       "477    5/22/2022 0:01:05                  26.0    Female   \n",
       "478   5/22/2022 10:29:21                  29.0    Female   \n",
       "479   7/14/2022 19:33:47                  21.0      Male   \n",
       "480  11/12/2022 13:16:50                  53.0      Male   \n",
       "\n",
       "    3. Relationship Status 4. Occupation Status  \\\n",
       "476                 Single      Salaried Worker   \n",
       "477                Married      Salaried Worker   \n",
       "478                Married      Salaried Worker   \n",
       "479                 Single   University Student   \n",
       "480                Married      Salaried Worker   \n",
       "\n",
       "    5. What type of organizations are you affiliated with?  \\\n",
       "476                                University, Private       \n",
       "477                                         University       \n",
       "478                                         University       \n",
       "479                                         University       \n",
       "480                                            Private       \n",
       "\n",
       "    6. Do you use social media?  \\\n",
       "476                         Yes   \n",
       "477                         Yes   \n",
       "478                         Yes   \n",
       "479                         Yes   \n",
       "480                         Yes   \n",
       "\n",
       "    7. What social media platforms do you commonly use?  \\\n",
       "476                       Facebook, Instagram, YouTube    \n",
       "477                                  Facebook, YouTube    \n",
       "478                                  Facebook, YouTube    \n",
       "479  Facebook, Twitter, Instagram, YouTube, Discord...    \n",
       "480                                  Facebook, YouTube    \n",
       "\n",
       "    8. What is the average time you spend on social media every day?  \\\n",
       "476                              Between 2 and 3 hours                 \n",
       "477                              Between 1 and 2 hours                 \n",
       "478                              Between 2 and 3 hours                 \n",
       "479                              Between 2 and 3 hours                 \n",
       "480                                  Less than an Hour                 \n",
       "\n",
       "     9. How often do you find yourself using Social media without a specific purpose?  \\\n",
       "476                                                  3                                  \n",
       "477                                                  2                                  \n",
       "478                                                  3                                  \n",
       "479                                                  2                                  \n",
       "480                                                  2                                  \n",
       "\n",
       "     10. How often do you get distracted by Social media when you are busy doing something?  \\\n",
       "476                                                  4                                        \n",
       "477                                                  1                                        \n",
       "478                                                  3                                        \n",
       "479                                                  3                                        \n",
       "480                                                  3                                        \n",
       "\n",
       "     11. Do you feel restless if you haven't used Social media in a while?  \\\n",
       "476                                                  3                       \n",
       "477                                                  2                       \n",
       "478                                                  4                       \n",
       "479                                                  2                       \n",
       "480                                                  1                       \n",
       "\n",
       "     12. On a scale of 1 to 5, how easily distracted are you?  \\\n",
       "476                                                  4          \n",
       "477                                                  3          \n",
       "478                                                  3          \n",
       "479                                                  3          \n",
       "480                                                  3          \n",
       "\n",
       "     13. On a scale of 1 to 5, how much are you bothered by worries?  \\\n",
       "476                                                  3                 \n",
       "477                                                  4                 \n",
       "478                                                  2                 \n",
       "479                                                  3                 \n",
       "480                                                  1                 \n",
       "\n",
       "     14. Do you find it difficult to concentrate on things?  \\\n",
       "476                                                  4        \n",
       "477                                                  4        \n",
       "478                                                  3        \n",
       "479                                                  2        \n",
       "480                                                  1        \n",
       "\n",
       "     15. On a scale of 1-5, how often do you compare yourself to other successful people through the use of social media?  \\\n",
       "476                                                  4                                                                      \n",
       "477                                                  4                                                                      \n",
       "478                                                  3                                                                      \n",
       "479                                                  2                                                                      \n",
       "480                                                  3                                                                      \n",
       "\n",
       "     16. Following the previous question, how do you feel about these comparisons, generally speaking?  \\\n",
       "476                                                  2                                                   \n",
       "477                                                  2                                                   \n",
       "478                                                  3                                                   \n",
       "479                                                  3                                                   \n",
       "480                                                  3                                                   \n",
       "\n",
       "     17. How often do you look to seek validation from features of social media?  \\\n",
       "476                                                  4                             \n",
       "477                                                  4                             \n",
       "478                                                  4                             \n",
       "479                                                  4                             \n",
       "480                                                  2                             \n",
       "\n",
       "     18. How often do you feel depressed or down?  \\\n",
       "476                                             3   \n",
       "477                                             4   \n",
       "478                                             2   \n",
       "479                                             4   \n",
       "480                                             2   \n",
       "\n",
       "     19. On a scale of 1 to 5, how frequently does your interest in daily activities fluctuate?  \\\n",
       "476                                                  4                                            \n",
       "477                                                  4                                            \n",
       "478                                                  2                                            \n",
       "479                                                  5                                            \n",
       "480                                                  2                                            \n",
       "\n",
       "     20. On a scale of 1 to 5, how often do you face issues regarding sleep?  \n",
       "476                                                  4                        \n",
       "477                                                  1                        \n",
       "478                                                  2                        \n",
       "479                                                  4                        \n",
       "480                                                  3                        "
      ]
     },
     "execution_count": 6,
     "metadata": {},
     "output_type": "execute_result"
    }
   ],
   "source": [
    "# Printing last 5 entries in the data set\n",
    "data.tail()"
   ]
  },
  {
   "cell_type": "code",
   "execution_count": 7,
   "id": "52d4070d",
   "metadata": {
    "execution": {
     "iopub.execute_input": "2024-03-10T04:46:06.834144Z",
     "iopub.status.busy": "2024-03-10T04:46:06.833730Z",
     "iopub.status.idle": "2024-03-10T04:46:06.842512Z",
     "shell.execute_reply": "2024-03-10T04:46:06.841175Z"
    },
    "papermill": {
     "duration": 0.030718,
     "end_time": "2024-03-10T04:46:06.844893",
     "exception": false,
     "start_time": "2024-03-10T04:46:06.814175",
     "status": "completed"
    },
    "tags": []
   },
   "outputs": [
    {
     "data": {
      "text/plain": [
       "(481, 21)"
      ]
     },
     "execution_count": 7,
     "metadata": {},
     "output_type": "execute_result"
    }
   ],
   "source": [
    "#determining data shape (number of rows,columns)\n",
    "data.shape"
   ]
  },
  {
   "cell_type": "markdown",
   "id": "d2b5ef13",
   "metadata": {
    "papermill": {
     "duration": 0.01827,
     "end_time": "2024-03-10T04:46:06.881857",
     "exception": false,
     "start_time": "2024-03-10T04:46:06.863587",
     "status": "completed"
    },
    "tags": []
   },
   "source": [
    "# **Data Pre-Proceesing and Cleaning** \n",
    "\n",
    "Rename the Columns:\n",
    "The column names are very long so renaming them with shortened names will make handling the data easier. \n"
   ]
  },
  {
   "cell_type": "code",
   "execution_count": 8,
   "id": "be09028d",
   "metadata": {
    "execution": {
     "iopub.execute_input": "2024-03-10T04:46:06.921621Z",
     "iopub.status.busy": "2024-03-10T04:46:06.921256Z",
     "iopub.status.idle": "2024-03-10T04:46:06.929331Z",
     "shell.execute_reply": "2024-03-10T04:46:06.928419Z"
    },
    "papermill": {
     "duration": 0.030252,
     "end_time": "2024-03-10T04:46:06.931687",
     "exception": false,
     "start_time": "2024-03-10T04:46:06.901435",
     "status": "completed"
    },
    "tags": []
   },
   "outputs": [],
   "source": [
    "#rename columns for necessary information\n",
    "data.rename(columns = {'1. What is your age?':'Age','2. Gender':'Gender','3. Relationship Status':'Relationship Status',\n",
    "                       '4. Occupation Status':'Occupation',\n",
    "                       '5. What type of organizations are you affiliated with?':'Affiliations',\n",
    "                       '6. Do you use social media?':'Social Media User?',\n",
    "                       '7. What social media platforms do you commonly use?':'Platforms Used',\n",
    "                       '8. What is the average time you spend on social media every day?':'Hours Per Day',\n",
    "                       '9. How often do you find yourself using Social media without a specific purpose?':'ADHD Q1',\n",
    "                       '10. How often do you get distracted by Social media when you are busy doing something?':'ADHD Q2',\n",
    "                       \"11. Do you feel restless if you haven't used Social media in a while?\":'Anxiety Q1',\n",
    "                       '12. On a scale of 1 to 5, how easily distracted are you?':'ADHD Q3',\n",
    "                       '13. On a scale of 1 to 5, how much are you bothered by worries?':'Anxiety Q2',\n",
    "                       '14. Do you find it difficult to concentrate on things?':'ADHD Q4',\n",
    "                       '15. On a scale of 1-5, how often do you compare yourself to other successful people through the use of social media?':'Self Esteem Q1',\n",
    "                       '16. Following the previous question, how do you feel about these comparisons, generally speaking?':'Self Esteem Q2',\n",
    "                       '17. How often do you look to seek validation from features of social media?':'Self Esteem Q3',\n",
    "                       '18. How often do you feel depressed or down?':'Depression Q1',\n",
    "                       '19. On a scale of 1 to 5, how frequently does your interest in daily activities fluctuate?':'Depression Q2',\n",
    "                       '20. On a scale of 1 to 5, how often do you face issues regarding sleep?':'Depression Q3' },inplace=True)"
   ]
  },
  {
   "cell_type": "code",
   "execution_count": 9,
   "id": "24d5a5d5",
   "metadata": {
    "execution": {
     "iopub.execute_input": "2024-03-10T04:46:06.970548Z",
     "iopub.status.busy": "2024-03-10T04:46:06.970195Z",
     "iopub.status.idle": "2024-03-10T04:46:06.977156Z",
     "shell.execute_reply": "2024-03-10T04:46:06.975928Z"
    },
    "papermill": {
     "duration": 0.029242,
     "end_time": "2024-03-10T04:46:06.979561",
     "exception": false,
     "start_time": "2024-03-10T04:46:06.950319",
     "status": "completed"
    },
    "tags": []
   },
   "outputs": [
    {
     "data": {
      "text/plain": [
       "['Timestamp',\n",
       " 'Age',\n",
       " 'Gender',\n",
       " 'Relationship Status',\n",
       " 'Occupation',\n",
       " 'Affiliations',\n",
       " 'Social Media User?',\n",
       " 'Platforms Used',\n",
       " 'Hours Per Day',\n",
       " 'ADHD Q1',\n",
       " 'ADHD Q2',\n",
       " 'Anxiety Q1',\n",
       " 'ADHD Q3',\n",
       " 'Anxiety Q2',\n",
       " 'ADHD Q4',\n",
       " 'Self Esteem Q1',\n",
       " 'Self Esteem Q2',\n",
       " 'Self Esteem Q3',\n",
       " 'Depression Q1',\n",
       " 'Depression Q2',\n",
       " 'Depression Q3']"
      ]
     },
     "execution_count": 9,
     "metadata": {},
     "output_type": "execute_result"
    }
   ],
   "source": [
    "#review new clumn names\n",
    "titles = list(data.columns)\n",
    "titles"
   ]
  },
  {
   "cell_type": "markdown",
   "id": "b41bb3e4",
   "metadata": {
    "papermill": {
     "duration": 0.018628,
     "end_time": "2024-03-10T04:46:07.017768",
     "exception": false,
     "start_time": "2024-03-10T04:46:06.999140",
     "status": "completed"
    },
    "tags": []
   },
   "source": [
    "# Re-arranging the columns \n",
    "\n",
    "so that ADHD and Anxiety questions are sequential"
   ]
  },
  {
   "cell_type": "code",
   "execution_count": 10,
   "id": "c1c5bf80",
   "metadata": {
    "execution": {
     "iopub.execute_input": "2024-03-10T04:46:07.056406Z",
     "iopub.status.busy": "2024-03-10T04:46:07.056057Z",
     "iopub.status.idle": "2024-03-10T04:46:07.069713Z",
     "shell.execute_reply": "2024-03-10T04:46:07.068557Z"
    },
    "papermill": {
     "duration": 0.035436,
     "end_time": "2024-03-10T04:46:07.071584",
     "exception": false,
     "start_time": "2024-03-10T04:46:07.036148",
     "status": "completed"
    },
    "tags": []
   },
   "outputs": [
    {
     "data": {
      "text/plain": [
       "['Timestamp',\n",
       " 'Age',\n",
       " 'Gender',\n",
       " 'Relationship Status',\n",
       " 'Occupation',\n",
       " 'Affiliations',\n",
       " 'Social Media User?',\n",
       " 'Platforms Used',\n",
       " 'Hours Per Day',\n",
       " 'ADHD Q1',\n",
       " 'ADHD Q2',\n",
       " 'ADHD Q3',\n",
       " 'ADHD Q4',\n",
       " 'Anxiety Q1',\n",
       " 'Anxiety Q2',\n",
       " 'Self Esteem Q1',\n",
       " 'Self Esteem Q2',\n",
       " 'Self Esteem Q3',\n",
       " 'Depression Q1',\n",
       " 'Depression Q2',\n",
       " 'Depression Q3']"
      ]
     },
     "execution_count": 10,
     "metadata": {},
     "output_type": "execute_result"
    }
   ],
   "source": [
    "# rearranging ADHD and anxiety question columns so that they are sequential\n",
    "\n",
    "titles[11], titles[12] = titles[12], titles[11]\n",
    "titles[12], titles[14] = titles[14], titles[12]\n",
    "titles[13], titles[14] = titles[14], titles[13]\n",
    "data = data[titles]\n",
    "titles"
   ]
  },
  {
   "cell_type": "markdown",
   "id": "404459fb",
   "metadata": {
    "papermill": {
     "duration": 0.018486,
     "end_time": "2024-03-10T04:46:07.108806",
     "exception": false,
     "start_time": "2024-03-10T04:46:07.090320",
     "status": "completed"
    },
    "tags": []
   },
   "source": [
    "# **Dropping Columns**\n",
    "\n",
    "I will not need timestamp or organization affiliation as it is not relevant to my project \n"
   ]
  },
  {
   "cell_type": "code",
   "execution_count": 11,
   "id": "3cbcebc9",
   "metadata": {
    "execution": {
     "iopub.execute_input": "2024-03-10T04:46:07.147572Z",
     "iopub.status.busy": "2024-03-10T04:46:07.147211Z",
     "iopub.status.idle": "2024-03-10T04:46:07.155580Z",
     "shell.execute_reply": "2024-03-10T04:46:07.154402Z"
    },
    "papermill": {
     "duration": 0.030071,
     "end_time": "2024-03-10T04:46:07.157582",
     "exception": false,
     "start_time": "2024-03-10T04:46:07.127511",
     "status": "completed"
    },
    "tags": []
   },
   "outputs": [],
   "source": [
    "#drop columns that are not relevant to this project\n",
    "to_drop = ['Timestamp',\n",
    "          'Affiliations']\n",
    "\n",
    "data.drop(to_drop, inplace=True, axis=1)"
   ]
  },
  {
   "cell_type": "code",
   "execution_count": 12,
   "id": "1dd71d5e",
   "metadata": {
    "execution": {
     "iopub.execute_input": "2024-03-10T04:46:07.198285Z",
     "iopub.status.busy": "2024-03-10T04:46:07.197604Z",
     "iopub.status.idle": "2024-03-10T04:46:07.204302Z",
     "shell.execute_reply": "2024-03-10T04:46:07.202866Z"
    },
    "papermill": {
     "duration": 0.029945,
     "end_time": "2024-03-10T04:46:07.206796",
     "exception": false,
     "start_time": "2024-03-10T04:46:07.176851",
     "status": "completed"
    },
    "tags": []
   },
   "outputs": [
    {
     "data": {
      "text/plain": [
       "['Age',\n",
       " 'Gender',\n",
       " 'Relationship Status',\n",
       " 'Occupation',\n",
       " 'Social Media User?',\n",
       " 'Platforms Used',\n",
       " 'Hours Per Day',\n",
       " 'ADHD Q1',\n",
       " 'ADHD Q2',\n",
       " 'ADHD Q3',\n",
       " 'ADHD Q4',\n",
       " 'Anxiety Q1',\n",
       " 'Anxiety Q2',\n",
       " 'Self Esteem Q1',\n",
       " 'Self Esteem Q2',\n",
       " 'Self Esteem Q3',\n",
       " 'Depression Q1',\n",
       " 'Depression Q2',\n",
       " 'Depression Q3']"
      ]
     },
     "execution_count": 12,
     "metadata": {},
     "output_type": "execute_result"
    }
   ],
   "source": [
    "#review columns for accuracy\n",
    "titles = list(data.columns)\n",
    "titles"
   ]
  },
  {
   "cell_type": "code",
   "execution_count": 13,
   "id": "2d4e5616",
   "metadata": {
    "execution": {
     "iopub.execute_input": "2024-03-10T04:46:07.247611Z",
     "iopub.status.busy": "2024-03-10T04:46:07.247265Z",
     "iopub.status.idle": "2024-03-10T04:46:07.252313Z",
     "shell.execute_reply": "2024-03-10T04:46:07.251614Z"
    },
    "papermill": {
     "duration": 0.027694,
     "end_time": "2024-03-10T04:46:07.253939",
     "exception": false,
     "start_time": "2024-03-10T04:46:07.226245",
     "status": "completed"
    },
    "tags": []
   },
   "outputs": [
    {
     "data": {
      "text/plain": [
       "(481, 19)"
      ]
     },
     "execution_count": 13,
     "metadata": {},
     "output_type": "execute_result"
    }
   ],
   "source": [
    "#determining data shape after dropping two columns (number of rows,columns)\n",
    "data.shape"
   ]
  },
  {
   "cell_type": "markdown",
   "id": "b576ccf2",
   "metadata": {
    "papermill": {
     "duration": 0.019018,
     "end_time": "2024-03-10T04:46:07.292504",
     "exception": false,
     "start_time": "2024-03-10T04:46:07.273486",
     "status": "completed"
    },
    "tags": []
   },
   "source": [
    "# **Handle Missing Values**\n",
    "\n",
    "The following values are considered missing:\n",
    "* Blank Values\n",
    "* NaN\n",
    "* null"
   ]
  },
  {
   "cell_type": "code",
   "execution_count": 14,
   "id": "9ca26958",
   "metadata": {
    "execution": {
     "iopub.execute_input": "2024-03-10T04:46:07.334295Z",
     "iopub.status.busy": "2024-03-10T04:46:07.332602Z",
     "iopub.status.idle": "2024-03-10T04:46:07.340916Z",
     "shell.execute_reply": "2024-03-10T04:46:07.339711Z"
    },
    "papermill": {
     "duration": 0.03183,
     "end_time": "2024-03-10T04:46:07.343768",
     "exception": false,
     "start_time": "2024-03-10T04:46:07.311938",
     "status": "completed"
    },
    "tags": []
   },
   "outputs": [
    {
     "name": "stdout",
     "output_type": "stream",
     "text": [
      "Age                    0\n",
      "Gender                 0\n",
      "Relationship Status    0\n",
      "Occupation             0\n",
      "Social Media User?     0\n",
      "Platforms Used         0\n",
      "Hours Per Day          0\n",
      "ADHD Q1                0\n",
      "ADHD Q2                0\n",
      "ADHD Q3                0\n",
      "ADHD Q4                0\n",
      "Anxiety Q1             0\n",
      "Anxiety Q2             0\n",
      "Self Esteem Q1         0\n",
      "Self Esteem Q2         0\n",
      "Self Esteem Q3         0\n",
      "Depression Q1          0\n",
      "Depression Q2          0\n",
      "Depression Q3          0\n",
      "dtype: int64\n"
     ]
    }
   ],
   "source": [
    "missing_values = data.isna().sum()\n",
    "print(missing_values)"
   ]
  },
  {
   "cell_type": "code",
   "execution_count": 15,
   "id": "decac8cb",
   "metadata": {
    "execution": {
     "iopub.execute_input": "2024-03-10T04:46:07.383877Z",
     "iopub.status.busy": "2024-03-10T04:46:07.383549Z",
     "iopub.status.idle": "2024-03-10T04:46:07.403005Z",
     "shell.execute_reply": "2024-03-10T04:46:07.402033Z"
    },
    "papermill": {
     "duration": 0.041474,
     "end_time": "2024-03-10T04:46:07.404929",
     "exception": false,
     "start_time": "2024-03-10T04:46:07.363455",
     "status": "completed"
    },
    "tags": []
   },
   "outputs": [
    {
     "name": "stdout",
     "output_type": "stream",
     "text": [
      "<class 'pandas.core.frame.DataFrame'>\n",
      "RangeIndex: 481 entries, 0 to 480\n",
      "Data columns (total 19 columns):\n",
      " #   Column               Non-Null Count  Dtype  \n",
      "---  ------               --------------  -----  \n",
      " 0   Age                  481 non-null    float64\n",
      " 1   Gender               481 non-null    object \n",
      " 2   Relationship Status  481 non-null    object \n",
      " 3   Occupation           481 non-null    object \n",
      " 4   Social Media User?   481 non-null    object \n",
      " 5   Platforms Used       481 non-null    object \n",
      " 6   Hours Per Day        481 non-null    object \n",
      " 7   ADHD Q1              481 non-null    int64  \n",
      " 8   ADHD Q2              481 non-null    int64  \n",
      " 9   ADHD Q3              481 non-null    int64  \n",
      " 10  ADHD Q4              481 non-null    int64  \n",
      " 11  Anxiety Q1           481 non-null    int64  \n",
      " 12  Anxiety Q2           481 non-null    int64  \n",
      " 13  Self Esteem Q1       481 non-null    int64  \n",
      " 14  Self Esteem Q2       481 non-null    int64  \n",
      " 15  Self Esteem Q3       481 non-null    int64  \n",
      " 16  Depression Q1        481 non-null    int64  \n",
      " 17  Depression Q2        481 non-null    int64  \n",
      " 18  Depression Q3        481 non-null    int64  \n",
      "dtypes: float64(1), int64(12), object(6)\n",
      "memory usage: 71.5+ KB\n"
     ]
    }
   ],
   "source": [
    "#check for null values\n",
    "#Check number of records in each column of the data set. \n",
    "data.info()"
   ]
  },
  {
   "cell_type": "markdown",
   "id": "3b2864b9",
   "metadata": {
    "papermill": {
     "duration": 0.019114,
     "end_time": "2024-03-10T04:46:07.443365",
     "exception": false,
     "start_time": "2024-03-10T04:46:07.424251",
     "status": "completed"
    },
    "tags": []
   },
   "source": [
    "\n",
    "\n",
    "\n",
    "There are no missing values."
   ]
  },
  {
   "cell_type": "markdown",
   "id": "4fbdb319",
   "metadata": {
    "papermill": {
     "duration": 0.019857,
     "end_time": "2024-03-10T04:46:07.482462",
     "exception": false,
     "start_time": "2024-03-10T04:46:07.462605",
     "status": "completed"
    },
    "tags": []
   },
   "source": [
    "**Gender**\n",
    "\n",
    "The \"Gender\" column has unique \"Non-Binary\" entries becuase of how the data was collected. Particpants were able to enter string values for Gender. Thus, renaming these columns as \"Non-Binary\" brings cohesiveness. "
   ]
  },
  {
   "cell_type": "code",
   "execution_count": 16,
   "id": "96f00717",
   "metadata": {
    "execution": {
     "iopub.execute_input": "2024-03-10T04:46:07.523215Z",
     "iopub.status.busy": "2024-03-10T04:46:07.522656Z",
     "iopub.status.idle": "2024-03-10T04:46:07.527669Z",
     "shell.execute_reply": "2024-03-10T04:46:07.526282Z"
    },
    "papermill": {
     "duration": 0.028098,
     "end_time": "2024-03-10T04:46:07.529805",
     "exception": false,
     "start_time": "2024-03-10T04:46:07.501707",
     "status": "completed"
    },
    "tags": []
   },
   "outputs": [
    {
     "name": "stdout",
     "output_type": "stream",
     "text": [
      "{'NB', 'Nonbinary ', 'There are others???', 'Non-binary', 'Male', 'Non binary ', 'Female', 'unsure ', 'Trans'}\n"
     ]
    }
   ],
   "source": [
    "#List all the unique Gender entries.\n",
    "\n",
    "Genders = set(data['Gender'])\n",
    "print(Genders)"
   ]
  },
  {
   "cell_type": "code",
   "execution_count": 17,
   "id": "f966edb8",
   "metadata": {
    "execution": {
     "iopub.execute_input": "2024-03-10T04:46:07.572184Z",
     "iopub.status.busy": "2024-03-10T04:46:07.571569Z",
     "iopub.status.idle": "2024-03-10T04:46:07.579922Z",
     "shell.execute_reply": "2024-03-10T04:46:07.578887Z"
    },
    "papermill": {
     "duration": 0.033031,
     "end_time": "2024-03-10T04:46:07.582447",
     "exception": false,
     "start_time": "2024-03-10T04:46:07.549416",
     "status": "completed"
    },
    "tags": []
   },
   "outputs": [],
   "source": [
    "#Combining the unique entries that all fall under the \"Non-Binary\" category\n",
    "data.replace('Non-binary','Non-Binary', inplace=True)\n",
    "data.replace('Nonbinary ','Non-Binary', inplace=True)\n",
    "data.replace('NB','Non-Binary', inplace=True)\n",
    "data.replace('Non binary ','Non-Binary', inplace=True)"
   ]
  },
  {
   "cell_type": "code",
   "execution_count": 18,
   "id": "f459e7d1",
   "metadata": {
    "execution": {
     "iopub.execute_input": "2024-03-10T04:46:07.623963Z",
     "iopub.status.busy": "2024-03-10T04:46:07.623294Z",
     "iopub.status.idle": "2024-03-10T04:46:07.628599Z",
     "shell.execute_reply": "2024-03-10T04:46:07.627333Z"
    },
    "papermill": {
     "duration": 0.028645,
     "end_time": "2024-03-10T04:46:07.630837",
     "exception": false,
     "start_time": "2024-03-10T04:46:07.602192",
     "status": "completed"
    },
    "tags": []
   },
   "outputs": [
    {
     "name": "stdout",
     "output_type": "stream",
     "text": [
      "{'There are others???', 'Male', 'Female', 'Non-Binary', 'unsure ', 'Trans'}\n"
     ]
    }
   ],
   "source": [
    "Genders = set(data['Gender'])\n",
    "print(Genders)"
   ]
  },
  {
   "cell_type": "markdown",
   "id": "37014c8e",
   "metadata": {
    "papermill": {
     "duration": 0.019005,
     "end_time": "2024-03-10T04:46:07.670002",
     "exception": false,
     "start_time": "2024-03-10T04:46:07.650997",
     "status": "completed"
    },
    "tags": []
   },
   "source": [
    "**Age**\n",
    "\n",
    "'Age' is ;isted as float64 value. This is because of the data record # 382. We should thus convert the 'Age' column to int64 type."
   ]
  },
  {
   "cell_type": "code",
   "execution_count": 19,
   "id": "12d590a6",
   "metadata": {
    "execution": {
     "iopub.execute_input": "2024-03-10T04:46:07.711815Z",
     "iopub.status.busy": "2024-03-10T04:46:07.711197Z",
     "iopub.status.idle": "2024-03-10T04:46:07.723608Z",
     "shell.execute_reply": "2024-03-10T04:46:07.722497Z"
    },
    "papermill": {
     "duration": 0.035924,
     "end_time": "2024-03-10T04:46:07.725694",
     "exception": false,
     "start_time": "2024-03-10T04:46:07.689770",
     "status": "completed"
    },
    "tags": []
   },
   "outputs": [
    {
     "name": "stdout",
     "output_type": "stream",
     "text": [
      "<class 'pandas.core.frame.DataFrame'>\n",
      "RangeIndex: 481 entries, 0 to 480\n",
      "Data columns (total 19 columns):\n",
      " #   Column               Non-Null Count  Dtype  \n",
      "---  ------               --------------  -----  \n",
      " 0   Age                  481 non-null    float64\n",
      " 1   Gender               481 non-null    object \n",
      " 2   Relationship Status  481 non-null    object \n",
      " 3   Occupation           481 non-null    object \n",
      " 4   Social Media User?   481 non-null    object \n",
      " 5   Platforms Used       481 non-null    object \n",
      " 6   Hours Per Day        481 non-null    object \n",
      " 7   ADHD Q1              481 non-null    int64  \n",
      " 8   ADHD Q2              481 non-null    int64  \n",
      " 9   ADHD Q3              481 non-null    int64  \n",
      " 10  ADHD Q4              481 non-null    int64  \n",
      " 11  Anxiety Q1           481 non-null    int64  \n",
      " 12  Anxiety Q2           481 non-null    int64  \n",
      " 13  Self Esteem Q1       481 non-null    int64  \n",
      " 14  Self Esteem Q2       481 non-null    int64  \n",
      " 15  Self Esteem Q3       481 non-null    int64  \n",
      " 16  Depression Q1        481 non-null    int64  \n",
      " 17  Depression Q2        481 non-null    int64  \n",
      " 18  Depression Q3        481 non-null    int64  \n",
      "dtypes: float64(1), int64(12), object(6)\n",
      "memory usage: 71.5+ KB\n"
     ]
    }
   ],
   "source": [
    "data.info()"
   ]
  },
  {
   "cell_type": "code",
   "execution_count": 20,
   "id": "1328ff05",
   "metadata": {
    "execution": {
     "iopub.execute_input": "2024-03-10T04:46:07.766991Z",
     "iopub.status.busy": "2024-03-10T04:46:07.766451Z",
     "iopub.status.idle": "2024-03-10T04:46:07.778543Z",
     "shell.execute_reply": "2024-03-10T04:46:07.777099Z"
    },
    "papermill": {
     "duration": 0.034911,
     "end_time": "2024-03-10T04:46:07.780468",
     "exception": false,
     "start_time": "2024-03-10T04:46:07.745557",
     "status": "completed"
    },
    "tags": []
   },
   "outputs": [
    {
     "name": "stdout",
     "output_type": "stream",
     "text": [
      "float64\n",
      "      Age  Gender Relationship Status          Occupation Social Media User?  \\\n",
      "382  26.7  Female              Single  University Student                Yes   \n",
      "\n",
      "        Platforms Used      Hours Per Day  ADHD Q1  ADHD Q2  ADHD Q3  ADHD Q4  \\\n",
      "382  Facebook, YouTube  More than 5 hours        4        2        3        3   \n",
      "\n",
      "     Anxiety Q1  Anxiety Q2  Self Esteem Q1  Self Esteem Q2  Self Esteem Q3  \\\n",
      "382           2           5               5               2               3   \n",
      "\n",
      "     Depression Q1  Depression Q2  Depression Q3  \n",
      "382              4              5              5  \n"
     ]
    }
   ],
   "source": [
    "# Check the data type of the 'Age' column\n",
    "print(data['Age'].dtype)\n",
    "\n",
    "# Find rows where 'Age' is not a whole number (integer)\n",
    "non_integer_age_rows = data[~data['Age'].apply(lambda x: x.is_integer())]\n",
    "\n",
    "# Display the rows with non-integer 'Age' values\n",
    "print(non_integer_age_rows)"
   ]
  },
  {
   "cell_type": "markdown",
   "id": "023b8bb6",
   "metadata": {
    "papermill": {
     "duration": 0.018973,
     "end_time": "2024-03-10T04:46:07.818656",
     "exception": false,
     "start_time": "2024-03-10T04:46:07.799683",
     "status": "completed"
    },
    "tags": []
   },
   "source": [
    "Recored number 382 holds the non-integer value of 26.7 in the \"Age\" column. "
   ]
  },
  {
   "cell_type": "code",
   "execution_count": 21,
   "id": "40a9bd40",
   "metadata": {
    "execution": {
     "iopub.execute_input": "2024-03-10T04:46:07.862226Z",
     "iopub.status.busy": "2024-03-10T04:46:07.860813Z",
     "iopub.status.idle": "2024-03-10T04:46:07.875888Z",
     "shell.execute_reply": "2024-03-10T04:46:07.873828Z"
    },
    "papermill": {
     "duration": 0.040994,
     "end_time": "2024-03-10T04:46:07.878864",
     "exception": false,
     "start_time": "2024-03-10T04:46:07.837870",
     "status": "completed"
    },
    "tags": []
   },
   "outputs": [
    {
     "name": "stdout",
     "output_type": "stream",
     "text": [
      "int64\n",
      "<class 'pandas.core.frame.DataFrame'>\n",
      "RangeIndex: 481 entries, 0 to 480\n",
      "Data columns (total 19 columns):\n",
      " #   Column               Non-Null Count  Dtype \n",
      "---  ------               --------------  ----- \n",
      " 0   Age                  481 non-null    int64 \n",
      " 1   Gender               481 non-null    object\n",
      " 2   Relationship Status  481 non-null    object\n",
      " 3   Occupation           481 non-null    object\n",
      " 4   Social Media User?   481 non-null    object\n",
      " 5   Platforms Used       481 non-null    object\n",
      " 6   Hours Per Day        481 non-null    object\n",
      " 7   ADHD Q1              481 non-null    int64 \n",
      " 8   ADHD Q2              481 non-null    int64 \n",
      " 9   ADHD Q3              481 non-null    int64 \n",
      " 10  ADHD Q4              481 non-null    int64 \n",
      " 11  Anxiety Q1           481 non-null    int64 \n",
      " 12  Anxiety Q2           481 non-null    int64 \n",
      " 13  Self Esteem Q1       481 non-null    int64 \n",
      " 14  Self Esteem Q2       481 non-null    int64 \n",
      " 15  Self Esteem Q3       481 non-null    int64 \n",
      " 16  Depression Q1        481 non-null    int64 \n",
      " 17  Depression Q2        481 non-null    int64 \n",
      " 18  Depression Q3        481 non-null    int64 \n",
      "dtypes: int64(13), object(6)\n",
      "memory usage: 71.5+ KB\n"
     ]
    }
   ],
   "source": [
    "# Convert the 'Age' column from float64 to int64\n",
    "data['Age'] = data['Age'].astype('int64')\n",
    "\n",
    "# Check the data type of the 'Age' column after conversion\n",
    "print(data['Age'].dtype)\n",
    "data.info()"
   ]
  },
  {
   "cell_type": "code",
   "execution_count": 22,
   "id": "5b9b7294",
   "metadata": {
    "execution": {
     "iopub.execute_input": "2024-03-10T04:46:07.922880Z",
     "iopub.status.busy": "2024-03-10T04:46:07.922516Z",
     "iopub.status.idle": "2024-03-10T04:46:07.930376Z",
     "shell.execute_reply": "2024-03-10T04:46:07.928818Z"
    },
    "papermill": {
     "duration": 0.033928,
     "end_time": "2024-03-10T04:46:07.933089",
     "exception": false,
     "start_time": "2024-03-10T04:46:07.899161",
     "status": "completed"
    },
    "tags": []
   },
   "outputs": [
    {
     "data": {
      "text/plain": [
       "26"
      ]
     },
     "execution_count": 22,
     "metadata": {},
     "output_type": "execute_result"
    }
   ],
   "source": [
    "#check what the value \"26.7\" was changed into\n",
    "data.loc[382,'Age']"
   ]
  },
  {
   "cell_type": "markdown",
   "id": "d44e705f",
   "metadata": {
    "papermill": {
     "duration": 0.019685,
     "end_time": "2024-03-10T04:46:07.972743",
     "exception": false,
     "start_time": "2024-03-10T04:46:07.953058",
     "status": "completed"
    },
    "tags": []
   },
   "source": [
    "**Scalar Adjustment**\n",
    "<br>\n",
    "<br>\n",
    "Higher scores equal worse mental health.\n",
    "<br>\n",
    "Lower scores equal better mental health. \n",
    "<br>\n",
    "<br>\n",
    "The scale for Self Esteem Question 2 must be reversed in order to be consistent with this. \n",
    "<br>\n",
    "<br>\n",
    "All other question follow a scale like this:\n",
    "<br>\n",
    "1 = very negative\n",
    "<br>\n",
    "2 = negative\n",
    "<br>\n",
    "3 = netral\n",
    "<br>\n",
    "4 = positive\n",
    "<br>\n",
    "5 = very positive\n",
    "<br>\n",
    "<br>\n",
    "Question 2 asks: \"Following the previous question, how do you feel about these comparisons, generally speaking?\".\n",
    "<br>\n",
    "Since higher score equal worse mental health, and in this question, a higher score equals more postive or better mental health, the scale needs to be reversed to:\n",
    "<br>\n",
    "<br>\n",
    "5 = very negative\n",
    "<br>\n",
    "4 = slightly negative\n",
    "<br>\n",
    "3 = neutral\n",
    "<br>\n",
    "2 = slightly positive\n",
    "<br>\n",
    "1 = very positive"
   ]
  },
  {
   "cell_type": "code",
   "execution_count": 23,
   "id": "09c380de",
   "metadata": {
    "execution": {
     "iopub.execute_input": "2024-03-10T04:46:08.014394Z",
     "iopub.status.busy": "2024-03-10T04:46:08.014020Z",
     "iopub.status.idle": "2024-03-10T04:46:08.023762Z",
     "shell.execute_reply": "2024-03-10T04:46:08.021892Z"
    },
    "papermill": {
     "duration": 0.034624,
     "end_time": "2024-03-10T04:46:08.026910",
     "exception": false,
     "start_time": "2024-03-10T04:46:07.992286",
     "status": "completed"
    },
    "tags": []
   },
   "outputs": [],
   "source": [
    "#Setting scale scores\n",
    "data.loc[data['Self Esteem Q2'] == 1, 'Self Esteem Q2'] = 5\n",
    "data.loc[data['Self Esteem Q2'] == 2, 'Self Esteem Q2'] = 4\n",
    "data.loc[data['Self Esteem Q2'] == 3, 'Self Esteem Q2'] = 3\n",
    "data.loc[data['Self Esteem Q2'] == 4, 'Self Esteem Q2'] = 2\n",
    "data.loc[data['Self Esteem Q2'] == 5, 'Self Esteem Q2'] = 1"
   ]
  },
  {
   "cell_type": "code",
   "execution_count": 24,
   "id": "56afab6d",
   "metadata": {
    "execution": {
     "iopub.execute_input": "2024-03-10T04:46:08.068404Z",
     "iopub.status.busy": "2024-03-10T04:46:08.068064Z",
     "iopub.status.idle": "2024-03-10T04:46:08.086327Z",
     "shell.execute_reply": "2024-03-10T04:46:08.085117Z"
    },
    "papermill": {
     "duration": 0.04143,
     "end_time": "2024-03-10T04:46:08.088426",
     "exception": false,
     "start_time": "2024-03-10T04:46:08.046996",
     "status": "completed"
    },
    "tags": []
   },
   "outputs": [
    {
     "data": {
      "text/html": [
       "<div>\n",
       "<style scoped>\n",
       "    .dataframe tbody tr th:only-of-type {\n",
       "        vertical-align: middle;\n",
       "    }\n",
       "\n",
       "    .dataframe tbody tr th {\n",
       "        vertical-align: top;\n",
       "    }\n",
       "\n",
       "    .dataframe thead th {\n",
       "        text-align: right;\n",
       "    }\n",
       "</style>\n",
       "<table border=\"1\" class=\"dataframe\">\n",
       "  <thead>\n",
       "    <tr style=\"text-align: right;\">\n",
       "      <th></th>\n",
       "      <th>Age</th>\n",
       "      <th>Gender</th>\n",
       "      <th>Relationship Status</th>\n",
       "      <th>Occupation</th>\n",
       "      <th>Social Media User?</th>\n",
       "      <th>Platforms Used</th>\n",
       "      <th>Hours Per Day</th>\n",
       "      <th>ADHD Q1</th>\n",
       "      <th>ADHD Q2</th>\n",
       "      <th>ADHD Q3</th>\n",
       "      <th>ADHD Q4</th>\n",
       "      <th>Anxiety Q1</th>\n",
       "      <th>Anxiety Q2</th>\n",
       "      <th>Self Esteem Q1</th>\n",
       "      <th>Self Esteem Q2</th>\n",
       "      <th>Self Esteem Q3</th>\n",
       "      <th>Depression Q1</th>\n",
       "      <th>Depression Q2</th>\n",
       "      <th>Depression Q3</th>\n",
       "    </tr>\n",
       "  </thead>\n",
       "  <tbody>\n",
       "    <tr>\n",
       "      <th>0</th>\n",
       "      <td>21</td>\n",
       "      <td>Male</td>\n",
       "      <td>In a relationship</td>\n",
       "      <td>University Student</td>\n",
       "      <td>Yes</td>\n",
       "      <td>Facebook, Twitter, Instagram, YouTube, Discord...</td>\n",
       "      <td>Between 2 and 3 hours</td>\n",
       "      <td>5</td>\n",
       "      <td>3</td>\n",
       "      <td>5</td>\n",
       "      <td>5</td>\n",
       "      <td>2</td>\n",
       "      <td>2</td>\n",
       "      <td>2</td>\n",
       "      <td>3</td>\n",
       "      <td>2</td>\n",
       "      <td>5</td>\n",
       "      <td>4</td>\n",
       "      <td>5</td>\n",
       "    </tr>\n",
       "    <tr>\n",
       "      <th>1</th>\n",
       "      <td>21</td>\n",
       "      <td>Female</td>\n",
       "      <td>Single</td>\n",
       "      <td>University Student</td>\n",
       "      <td>Yes</td>\n",
       "      <td>Facebook, Twitter, Instagram, YouTube, Discord...</td>\n",
       "      <td>More than 5 hours</td>\n",
       "      <td>4</td>\n",
       "      <td>3</td>\n",
       "      <td>4</td>\n",
       "      <td>4</td>\n",
       "      <td>2</td>\n",
       "      <td>5</td>\n",
       "      <td>5</td>\n",
       "      <td>1</td>\n",
       "      <td>1</td>\n",
       "      <td>5</td>\n",
       "      <td>4</td>\n",
       "      <td>5</td>\n",
       "    </tr>\n",
       "    <tr>\n",
       "      <th>2</th>\n",
       "      <td>21</td>\n",
       "      <td>Female</td>\n",
       "      <td>Single</td>\n",
       "      <td>University Student</td>\n",
       "      <td>Yes</td>\n",
       "      <td>Facebook, Instagram, YouTube, Pinterest</td>\n",
       "      <td>Between 3 and 4 hours</td>\n",
       "      <td>3</td>\n",
       "      <td>2</td>\n",
       "      <td>2</td>\n",
       "      <td>4</td>\n",
       "      <td>1</td>\n",
       "      <td>5</td>\n",
       "      <td>3</td>\n",
       "      <td>3</td>\n",
       "      <td>1</td>\n",
       "      <td>4</td>\n",
       "      <td>2</td>\n",
       "      <td>5</td>\n",
       "    </tr>\n",
       "    <tr>\n",
       "      <th>3</th>\n",
       "      <td>21</td>\n",
       "      <td>Female</td>\n",
       "      <td>Single</td>\n",
       "      <td>University Student</td>\n",
       "      <td>Yes</td>\n",
       "      <td>Facebook, Instagram</td>\n",
       "      <td>More than 5 hours</td>\n",
       "      <td>4</td>\n",
       "      <td>2</td>\n",
       "      <td>3</td>\n",
       "      <td>3</td>\n",
       "      <td>1</td>\n",
       "      <td>5</td>\n",
       "      <td>5</td>\n",
       "      <td>1</td>\n",
       "      <td>2</td>\n",
       "      <td>4</td>\n",
       "      <td>3</td>\n",
       "      <td>2</td>\n",
       "    </tr>\n",
       "    <tr>\n",
       "      <th>4</th>\n",
       "      <td>21</td>\n",
       "      <td>Female</td>\n",
       "      <td>Single</td>\n",
       "      <td>University Student</td>\n",
       "      <td>Yes</td>\n",
       "      <td>Facebook, Instagram, YouTube</td>\n",
       "      <td>Between 2 and 3 hours</td>\n",
       "      <td>3</td>\n",
       "      <td>5</td>\n",
       "      <td>4</td>\n",
       "      <td>5</td>\n",
       "      <td>4</td>\n",
       "      <td>5</td>\n",
       "      <td>3</td>\n",
       "      <td>3</td>\n",
       "      <td>3</td>\n",
       "      <td>4</td>\n",
       "      <td>4</td>\n",
       "      <td>1</td>\n",
       "    </tr>\n",
       "  </tbody>\n",
       "</table>\n",
       "</div>"
      ],
      "text/plain": [
       "   Age  Gender Relationship Status          Occupation Social Media User?  \\\n",
       "0   21    Male   In a relationship  University Student                Yes   \n",
       "1   21  Female              Single  University Student                Yes   \n",
       "2   21  Female              Single  University Student                Yes   \n",
       "3   21  Female              Single  University Student                Yes   \n",
       "4   21  Female              Single  University Student                Yes   \n",
       "\n",
       "                                      Platforms Used          Hours Per Day  \\\n",
       "0  Facebook, Twitter, Instagram, YouTube, Discord...  Between 2 and 3 hours   \n",
       "1  Facebook, Twitter, Instagram, YouTube, Discord...      More than 5 hours   \n",
       "2            Facebook, Instagram, YouTube, Pinterest  Between 3 and 4 hours   \n",
       "3                                Facebook, Instagram      More than 5 hours   \n",
       "4                       Facebook, Instagram, YouTube  Between 2 and 3 hours   \n",
       "\n",
       "   ADHD Q1  ADHD Q2  ADHD Q3  ADHD Q4  Anxiety Q1  Anxiety Q2  Self Esteem Q1  \\\n",
       "0        5        3        5        5           2           2               2   \n",
       "1        4        3        4        4           2           5               5   \n",
       "2        3        2        2        4           1           5               3   \n",
       "3        4        2        3        3           1           5               5   \n",
       "4        3        5        4        5           4           5               3   \n",
       "\n",
       "   Self Esteem Q2  Self Esteem Q3  Depression Q1  Depression Q2  Depression Q3  \n",
       "0               3               2              5              4              5  \n",
       "1               1               1              5              4              5  \n",
       "2               3               1              4              2              5  \n",
       "3               1               2              4              3              2  \n",
       "4               3               3              4              4              1  "
      ]
     },
     "execution_count": 24,
     "metadata": {},
     "output_type": "execute_result"
    }
   ],
   "source": [
    "data.head()"
   ]
  },
  {
   "cell_type": "markdown",
   "id": "1390081b",
   "metadata": {
    "papermill": {
     "duration": 0.019872,
     "end_time": "2024-03-10T04:46:08.129500",
     "exception": false,
     "start_time": "2024-03-10T04:46:08.109628",
     "status": "completed"
    },
    "tags": []
   },
   "source": [
    "#  **Data Aggragation**\n",
    "\n",
    "**Summation of Mental Health Screening Scores**\n",
    "\n",
    "The different mental health screening questions are added together for a final score and compared to a scale in order to determined degree of symtpoms.\n",
    "\n",
    "The four screenings are:\n",
    "* 4 Attention Deficit Hyperactivity Disorder (ADHD) Questions\n",
    "* 2 Anxiety Questions\n",
    "* 3 Self Esteem Questions\n",
    "* 3 Depression Questions\n",
    "\n",
    "\n",
    "\n",
    "* Highest ADHD Total Score is 20\n",
    "* Highest Anxiety Total Score is 10\n",
    "* Highest Self-Esteem Total Score is 15\n",
    "* Highests Depression Total Score is 15\n",
    "\n",
    "\n",
    "With 12 total questions, the highest total possible score is 60. \n",
    "<br>\n",
    "\n",
    " \n",
    "\n",
    "\n",
    "\n",
    "A new column for each screening is created to get sums, then a \"Total Score\" column will list the total sum of all four screenings per row. \n"
   ]
  },
  {
   "cell_type": "code",
   "execution_count": 25,
   "id": "cd226e6c",
   "metadata": {
    "execution": {
     "iopub.execute_input": "2024-03-10T04:46:08.171719Z",
     "iopub.status.busy": "2024-03-10T04:46:08.171295Z",
     "iopub.status.idle": "2024-03-10T04:46:08.187172Z",
     "shell.execute_reply": "2024-03-10T04:46:08.185629Z"
    },
    "papermill": {
     "duration": 0.040528,
     "end_time": "2024-03-10T04:46:08.189936",
     "exception": false,
     "start_time": "2024-03-10T04:46:08.149408",
     "status": "completed"
    },
    "tags": []
   },
   "outputs": [],
   "source": [
    "#Sum scores and add new column\n",
    "\n",
    "ADHD = ['ADHD Q1', 'ADHD Q2', 'ADHD Q3', 'ADHD Q4']\n",
    "data['ADHD Score'] = data[ADHD].sum(axis=1)\n",
    "\n",
    "Anxiety = ['Anxiety Q1', 'Anxiety Q2']\n",
    "data['Anxiety Score'] = data[Anxiety].sum(axis=1)\n",
    "\n",
    "SelfEsteem = ['Self Esteem Q1', 'Self Esteem Q2', 'Self Esteem Q3']\n",
    "data['Self Esteem Score'] = data[SelfEsteem].sum(axis=1)\n",
    "\n",
    "Depression = ['Depression Q1', 'Depression Q2', 'Depression Q3']\n",
    "data['Depression Score'] = data[Depression].sum(axis=1)\n",
    "\n",
    "Total = ['ADHD Score', 'Anxiety Score', 'Self Esteem Score', 'Depression Score']\n",
    "data['Total Score'] = data[Total].sum(axis=1)\n",
    "\n",
    "# Deleting question columns and timestamp columns as they are no longer used\n",
    "data.drop(columns=ADHD + Anxiety + SelfEsteem + Depression, inplace=True)"
   ]
  },
  {
   "cell_type": "code",
   "execution_count": 26,
   "id": "70988c14",
   "metadata": {
    "execution": {
     "iopub.execute_input": "2024-03-10T04:46:08.233291Z",
     "iopub.status.busy": "2024-03-10T04:46:08.232915Z",
     "iopub.status.idle": "2024-03-10T04:46:08.246745Z",
     "shell.execute_reply": "2024-03-10T04:46:08.245186Z"
    },
    "papermill": {
     "duration": 0.038097,
     "end_time": "2024-03-10T04:46:08.249243",
     "exception": false,
     "start_time": "2024-03-10T04:46:08.211146",
     "status": "completed"
    },
    "tags": []
   },
   "outputs": [
    {
     "data": {
      "text/html": [
       "<div>\n",
       "<style scoped>\n",
       "    .dataframe tbody tr th:only-of-type {\n",
       "        vertical-align: middle;\n",
       "    }\n",
       "\n",
       "    .dataframe tbody tr th {\n",
       "        vertical-align: top;\n",
       "    }\n",
       "\n",
       "    .dataframe thead th {\n",
       "        text-align: right;\n",
       "    }\n",
       "</style>\n",
       "<table border=\"1\" class=\"dataframe\">\n",
       "  <thead>\n",
       "    <tr style=\"text-align: right;\">\n",
       "      <th></th>\n",
       "      <th>Age</th>\n",
       "      <th>Gender</th>\n",
       "      <th>Relationship Status</th>\n",
       "      <th>Occupation</th>\n",
       "      <th>Social Media User?</th>\n",
       "      <th>Platforms Used</th>\n",
       "      <th>Hours Per Day</th>\n",
       "      <th>ADHD Score</th>\n",
       "      <th>Anxiety Score</th>\n",
       "      <th>Self Esteem Score</th>\n",
       "      <th>Depression Score</th>\n",
       "      <th>Total Score</th>\n",
       "    </tr>\n",
       "  </thead>\n",
       "  <tbody>\n",
       "    <tr>\n",
       "      <th>0</th>\n",
       "      <td>21</td>\n",
       "      <td>Male</td>\n",
       "      <td>In a relationship</td>\n",
       "      <td>University Student</td>\n",
       "      <td>Yes</td>\n",
       "      <td>Facebook, Twitter, Instagram, YouTube, Discord...</td>\n",
       "      <td>Between 2 and 3 hours</td>\n",
       "      <td>18</td>\n",
       "      <td>4</td>\n",
       "      <td>7</td>\n",
       "      <td>14</td>\n",
       "      <td>43</td>\n",
       "    </tr>\n",
       "    <tr>\n",
       "      <th>1</th>\n",
       "      <td>21</td>\n",
       "      <td>Female</td>\n",
       "      <td>Single</td>\n",
       "      <td>University Student</td>\n",
       "      <td>Yes</td>\n",
       "      <td>Facebook, Twitter, Instagram, YouTube, Discord...</td>\n",
       "      <td>More than 5 hours</td>\n",
       "      <td>15</td>\n",
       "      <td>7</td>\n",
       "      <td>7</td>\n",
       "      <td>14</td>\n",
       "      <td>43</td>\n",
       "    </tr>\n",
       "    <tr>\n",
       "      <th>2</th>\n",
       "      <td>21</td>\n",
       "      <td>Female</td>\n",
       "      <td>Single</td>\n",
       "      <td>University Student</td>\n",
       "      <td>Yes</td>\n",
       "      <td>Facebook, Instagram, YouTube, Pinterest</td>\n",
       "      <td>Between 3 and 4 hours</td>\n",
       "      <td>11</td>\n",
       "      <td>6</td>\n",
       "      <td>7</td>\n",
       "      <td>11</td>\n",
       "      <td>35</td>\n",
       "    </tr>\n",
       "    <tr>\n",
       "      <th>3</th>\n",
       "      <td>21</td>\n",
       "      <td>Female</td>\n",
       "      <td>Single</td>\n",
       "      <td>University Student</td>\n",
       "      <td>Yes</td>\n",
       "      <td>Facebook, Instagram</td>\n",
       "      <td>More than 5 hours</td>\n",
       "      <td>12</td>\n",
       "      <td>6</td>\n",
       "      <td>8</td>\n",
       "      <td>9</td>\n",
       "      <td>35</td>\n",
       "    </tr>\n",
       "    <tr>\n",
       "      <th>4</th>\n",
       "      <td>21</td>\n",
       "      <td>Female</td>\n",
       "      <td>Single</td>\n",
       "      <td>University Student</td>\n",
       "      <td>Yes</td>\n",
       "      <td>Facebook, Instagram, YouTube</td>\n",
       "      <td>Between 2 and 3 hours</td>\n",
       "      <td>17</td>\n",
       "      <td>9</td>\n",
       "      <td>9</td>\n",
       "      <td>9</td>\n",
       "      <td>44</td>\n",
       "    </tr>\n",
       "  </tbody>\n",
       "</table>\n",
       "</div>"
      ],
      "text/plain": [
       "   Age  Gender Relationship Status          Occupation Social Media User?  \\\n",
       "0   21    Male   In a relationship  University Student                Yes   \n",
       "1   21  Female              Single  University Student                Yes   \n",
       "2   21  Female              Single  University Student                Yes   \n",
       "3   21  Female              Single  University Student                Yes   \n",
       "4   21  Female              Single  University Student                Yes   \n",
       "\n",
       "                                      Platforms Used          Hours Per Day  \\\n",
       "0  Facebook, Twitter, Instagram, YouTube, Discord...  Between 2 and 3 hours   \n",
       "1  Facebook, Twitter, Instagram, YouTube, Discord...      More than 5 hours   \n",
       "2            Facebook, Instagram, YouTube, Pinterest  Between 3 and 4 hours   \n",
       "3                                Facebook, Instagram      More than 5 hours   \n",
       "4                       Facebook, Instagram, YouTube  Between 2 and 3 hours   \n",
       "\n",
       "   ADHD Score  Anxiety Score  Self Esteem Score  Depression Score  Total Score  \n",
       "0          18              4                  7                14           43  \n",
       "1          15              7                  7                14           43  \n",
       "2          11              6                  7                11           35  \n",
       "3          12              6                  8                 9           35  \n",
       "4          17              9                  9                 9           44  "
      ]
     },
     "execution_count": 26,
     "metadata": {},
     "output_type": "execute_result"
    }
   ],
   "source": [
    "data.head(5)"
   ]
  },
  {
   "cell_type": "markdown",
   "id": "91a06d9d",
   "metadata": {
    "papermill": {
     "duration": 0.019823,
     "end_time": "2024-03-10T04:46:08.289563",
     "exception": false,
     "start_time": "2024-03-10T04:46:08.269740",
     "status": "completed"
    },
    "tags": []
   },
   "source": [
    "**Rename Data Values**\n",
    "\n",
    "Renaming the values in column \"Hours Per Day\" for better readability. "
   ]
  },
  {
   "cell_type": "code",
   "execution_count": 27,
   "id": "6f340aeb",
   "metadata": {
    "execution": {
     "iopub.execute_input": "2024-03-10T04:46:08.332300Z",
     "iopub.status.busy": "2024-03-10T04:46:08.331897Z",
     "iopub.status.idle": "2024-03-10T04:46:08.338865Z",
     "shell.execute_reply": "2024-03-10T04:46:08.337856Z"
    },
    "papermill": {
     "duration": 0.030546,
     "end_time": "2024-03-10T04:46:08.341018",
     "exception": false,
     "start_time": "2024-03-10T04:46:08.310472",
     "status": "completed"
    },
    "tags": []
   },
   "outputs": [
    {
     "name": "stdout",
     "output_type": "stream",
     "text": [
      "Counts of Hours Spent Per Day:\n",
      "More than 5 hours        116\n",
      "Between 2 and 3 hours    101\n",
      "Between 3 and 4 hours     93\n",
      "Between 1 and 2 hours     70\n",
      "Between 4 and 5 hours     67\n",
      "Less than an Hour         34\n",
      "Name: Hours Per Day, dtype: int64\n"
     ]
    }
   ],
   "source": [
    "# Count unique values in the 'Hours Per Day' column\n",
    "hour_counts = data['Hours Per Day'].value_counts()\n",
    "\n",
    "# Print the counts\n",
    "print(\"Counts of Hours Spent Per Day:\")\n",
    "print(hour_counts)"
   ]
  },
  {
   "cell_type": "code",
   "execution_count": 28,
   "id": "8c29e4f5",
   "metadata": {
    "execution": {
     "iopub.execute_input": "2024-03-10T04:46:08.383727Z",
     "iopub.status.busy": "2024-03-10T04:46:08.383390Z",
     "iopub.status.idle": "2024-03-10T04:46:08.394299Z",
     "shell.execute_reply": "2024-03-10T04:46:08.392685Z"
    },
    "papermill": {
     "duration": 0.035909,
     "end_time": "2024-03-10T04:46:08.397135",
     "exception": false,
     "start_time": "2024-03-10T04:46:08.361226",
     "status": "completed"
    },
    "tags": []
   },
   "outputs": [],
   "source": [
    "#Setting new value labels\n",
    "data.loc[data['Hours Per Day'] == 'More than 5 hours', 'Hours Per Day'] = '5.5h'\n",
    "data.loc[data['Hours Per Day'] == 'Between 2 and 3 hours', 'Hours Per Day'] = '2.5h'\n",
    "data.loc[data['Hours Per Day'] == 'Between 3 and 4 hours', 'Hours Per Day'] = '3.5h'\n",
    "data.loc[data['Hours Per Day'] == 'Between 1 and 2 hours', 'Hours Per Day'] = '1.5h'\n",
    "data.loc[data['Hours Per Day'] == 'Between 4 and 5 hours', 'Hours Per Day'] = '4.5h'\n",
    "data.loc[data['Hours Per Day'] == 'Less than an Hour', 'Hours Per Day'] = '0.5h'"
   ]
  },
  {
   "cell_type": "code",
   "execution_count": 29,
   "id": "99354b87",
   "metadata": {
    "execution": {
     "iopub.execute_input": "2024-03-10T04:46:08.441178Z",
     "iopub.status.busy": "2024-03-10T04:46:08.440852Z",
     "iopub.status.idle": "2024-03-10T04:46:08.455397Z",
     "shell.execute_reply": "2024-03-10T04:46:08.453996Z"
    },
    "papermill": {
     "duration": 0.038873,
     "end_time": "2024-03-10T04:46:08.457377",
     "exception": false,
     "start_time": "2024-03-10T04:46:08.418504",
     "status": "completed"
    },
    "tags": []
   },
   "outputs": [
    {
     "data": {
      "text/html": [
       "<div>\n",
       "<style scoped>\n",
       "    .dataframe tbody tr th:only-of-type {\n",
       "        vertical-align: middle;\n",
       "    }\n",
       "\n",
       "    .dataframe tbody tr th {\n",
       "        vertical-align: top;\n",
       "    }\n",
       "\n",
       "    .dataframe thead th {\n",
       "        text-align: right;\n",
       "    }\n",
       "</style>\n",
       "<table border=\"1\" class=\"dataframe\">\n",
       "  <thead>\n",
       "    <tr style=\"text-align: right;\">\n",
       "      <th></th>\n",
       "      <th>Age</th>\n",
       "      <th>Gender</th>\n",
       "      <th>Relationship Status</th>\n",
       "      <th>Occupation</th>\n",
       "      <th>Social Media User?</th>\n",
       "      <th>Platforms Used</th>\n",
       "      <th>Hours Per Day</th>\n",
       "      <th>ADHD Score</th>\n",
       "      <th>Anxiety Score</th>\n",
       "      <th>Self Esteem Score</th>\n",
       "      <th>Depression Score</th>\n",
       "      <th>Total Score</th>\n",
       "    </tr>\n",
       "  </thead>\n",
       "  <tbody>\n",
       "    <tr>\n",
       "      <th>0</th>\n",
       "      <td>21</td>\n",
       "      <td>Male</td>\n",
       "      <td>In a relationship</td>\n",
       "      <td>University Student</td>\n",
       "      <td>Yes</td>\n",
       "      <td>Facebook, Twitter, Instagram, YouTube, Discord...</td>\n",
       "      <td>2.5h</td>\n",
       "      <td>18</td>\n",
       "      <td>4</td>\n",
       "      <td>7</td>\n",
       "      <td>14</td>\n",
       "      <td>43</td>\n",
       "    </tr>\n",
       "    <tr>\n",
       "      <th>1</th>\n",
       "      <td>21</td>\n",
       "      <td>Female</td>\n",
       "      <td>Single</td>\n",
       "      <td>University Student</td>\n",
       "      <td>Yes</td>\n",
       "      <td>Facebook, Twitter, Instagram, YouTube, Discord...</td>\n",
       "      <td>5.5h</td>\n",
       "      <td>15</td>\n",
       "      <td>7</td>\n",
       "      <td>7</td>\n",
       "      <td>14</td>\n",
       "      <td>43</td>\n",
       "    </tr>\n",
       "    <tr>\n",
       "      <th>2</th>\n",
       "      <td>21</td>\n",
       "      <td>Female</td>\n",
       "      <td>Single</td>\n",
       "      <td>University Student</td>\n",
       "      <td>Yes</td>\n",
       "      <td>Facebook, Instagram, YouTube, Pinterest</td>\n",
       "      <td>3.5h</td>\n",
       "      <td>11</td>\n",
       "      <td>6</td>\n",
       "      <td>7</td>\n",
       "      <td>11</td>\n",
       "      <td>35</td>\n",
       "    </tr>\n",
       "    <tr>\n",
       "      <th>3</th>\n",
       "      <td>21</td>\n",
       "      <td>Female</td>\n",
       "      <td>Single</td>\n",
       "      <td>University Student</td>\n",
       "      <td>Yes</td>\n",
       "      <td>Facebook, Instagram</td>\n",
       "      <td>5.5h</td>\n",
       "      <td>12</td>\n",
       "      <td>6</td>\n",
       "      <td>8</td>\n",
       "      <td>9</td>\n",
       "      <td>35</td>\n",
       "    </tr>\n",
       "    <tr>\n",
       "      <th>4</th>\n",
       "      <td>21</td>\n",
       "      <td>Female</td>\n",
       "      <td>Single</td>\n",
       "      <td>University Student</td>\n",
       "      <td>Yes</td>\n",
       "      <td>Facebook, Instagram, YouTube</td>\n",
       "      <td>2.5h</td>\n",
       "      <td>17</td>\n",
       "      <td>9</td>\n",
       "      <td>9</td>\n",
       "      <td>9</td>\n",
       "      <td>44</td>\n",
       "    </tr>\n",
       "  </tbody>\n",
       "</table>\n",
       "</div>"
      ],
      "text/plain": [
       "   Age  Gender Relationship Status          Occupation Social Media User?  \\\n",
       "0   21    Male   In a relationship  University Student                Yes   \n",
       "1   21  Female              Single  University Student                Yes   \n",
       "2   21  Female              Single  University Student                Yes   \n",
       "3   21  Female              Single  University Student                Yes   \n",
       "4   21  Female              Single  University Student                Yes   \n",
       "\n",
       "                                      Platforms Used Hours Per Day  \\\n",
       "0  Facebook, Twitter, Instagram, YouTube, Discord...          2.5h   \n",
       "1  Facebook, Twitter, Instagram, YouTube, Discord...          5.5h   \n",
       "2            Facebook, Instagram, YouTube, Pinterest          3.5h   \n",
       "3                                Facebook, Instagram          5.5h   \n",
       "4                       Facebook, Instagram, YouTube          2.5h   \n",
       "\n",
       "   ADHD Score  Anxiety Score  Self Esteem Score  Depression Score  Total Score  \n",
       "0          18              4                  7                14           43  \n",
       "1          15              7                  7                14           43  \n",
       "2          11              6                  7                11           35  \n",
       "3          12              6                  8                 9           35  \n",
       "4          17              9                  9                 9           44  "
      ]
     },
     "execution_count": 29,
     "metadata": {},
     "output_type": "execute_result"
    }
   ],
   "source": [
    "#check new labels\n",
    "data.head()"
   ]
  },
  {
   "cell_type": "code",
   "execution_count": 30,
   "id": "4735dce7",
   "metadata": {
    "execution": {
     "iopub.execute_input": "2024-03-10T04:46:08.501272Z",
     "iopub.status.busy": "2024-03-10T04:46:08.500858Z",
     "iopub.status.idle": "2024-03-10T04:46:08.508107Z",
     "shell.execute_reply": "2024-03-10T04:46:08.506544Z"
    },
    "papermill": {
     "duration": 0.032944,
     "end_time": "2024-03-10T04:46:08.511222",
     "exception": false,
     "start_time": "2024-03-10T04:46:08.478278",
     "status": "completed"
    },
    "tags": []
   },
   "outputs": [
    {
     "data": {
      "text/plain": [
       "(481, 12)"
      ]
     },
     "execution_count": 30,
     "metadata": {},
     "output_type": "execute_result"
    }
   ],
   "source": [
    "data.shape"
   ]
  },
  {
   "cell_type": "markdown",
   "id": "dfac1f8c",
   "metadata": {
    "papermill": {
     "duration": 0.020177,
     "end_time": "2024-03-10T04:46:08.552292",
     "exception": false,
     "start_time": "2024-03-10T04:46:08.532115",
     "status": "completed"
    },
    "tags": []
   },
   "source": [
    "There are 3 people that selected 'no' for the social media user question but also chose social media platforms that they use. Determined to be user error and changing all 'no' to 'yes'. otherwise, analysis would be inaccurate. "
   ]
  },
  {
   "cell_type": "code",
   "execution_count": 31,
   "id": "c2345c86",
   "metadata": {
    "execution": {
     "iopub.execute_input": "2024-03-10T04:46:08.595807Z",
     "iopub.status.busy": "2024-03-10T04:46:08.595460Z",
     "iopub.status.idle": "2024-03-10T04:46:08.602648Z",
     "shell.execute_reply": "2024-03-10T04:46:08.601237Z"
    },
    "papermill": {
     "duration": 0.031903,
     "end_time": "2024-03-10T04:46:08.605167",
     "exception": false,
     "start_time": "2024-03-10T04:46:08.573264",
     "status": "completed"
    },
    "tags": []
   },
   "outputs": [
    {
     "name": "stdout",
     "output_type": "stream",
     "text": [
      "Counts of Social Media User?:\n",
      "Yes    478\n",
      "No       3\n",
      "Name: Social Media User?, dtype: int64\n"
     ]
    }
   ],
   "source": [
    "#check for consistency in data\n",
    "social_media_user_counts = data['Social Media User?'].value_counts()\n",
    "\n",
    "# Print the counts\n",
    "print(\"Counts of Social Media User?:\")\n",
    "print(social_media_user_counts)"
   ]
  },
  {
   "cell_type": "code",
   "execution_count": 32,
   "id": "a8d97901",
   "metadata": {
    "execution": {
     "iopub.execute_input": "2024-03-10T04:46:08.648798Z",
     "iopub.status.busy": "2024-03-10T04:46:08.648443Z",
     "iopub.status.idle": "2024-03-10T04:46:08.659059Z",
     "shell.execute_reply": "2024-03-10T04:46:08.657479Z"
    },
    "papermill": {
     "duration": 0.035111,
     "end_time": "2024-03-10T04:46:08.661625",
     "exception": false,
     "start_time": "2024-03-10T04:46:08.626514",
     "status": "completed"
    },
    "tags": []
   },
   "outputs": [
    {
     "name": "stdout",
     "output_type": "stream",
     "text": [
      "Rows with 'No' answers:\n",
      "     Age Gender Relationship Status          Occupation Social Media User?  \\\n",
      "9     20   Male              Single  University Student                 No   \n",
      "54    26   Male   In a relationship     Salaried Worker                 No   \n",
      "134   50   Male            Divorced     Salaried Worker                 No   \n",
      "\n",
      "               Platforms Used Hours Per Day  ADHD Score  Anxiety Score  \\\n",
      "9           Reddit, Pinterest          0.5h           4              2   \n",
      "54   YouTube, Discord, Reddit          1.5h           8              3   \n",
      "134        Instagram, YouTube          1.5h           7              3   \n",
      "\n",
      "     Self Esteem Score  Depression Score  Total Score  \n",
      "9                    3                 3           12  \n",
      "54                   5                 6           22  \n",
      "134                  4                 5           19  \n"
     ]
    }
   ],
   "source": [
    "#find which rows have answered 'no'\n",
    "no_answers = data[data['Social Media User?'] == 'No']\n",
    "\n",
    "# Print the rows with \"No\" answers\n",
    "print(\"Rows with 'No' answers:\")\n",
    "print(no_answers)"
   ]
  },
  {
   "cell_type": "code",
   "execution_count": 33,
   "id": "19529269",
   "metadata": {
    "execution": {
     "iopub.execute_input": "2024-03-10T04:46:08.705244Z",
     "iopub.status.busy": "2024-03-10T04:46:08.704887Z",
     "iopub.status.idle": "2024-03-10T04:46:08.711592Z",
     "shell.execute_reply": "2024-03-10T04:46:08.710241Z"
    },
    "papermill": {
     "duration": 0.031788,
     "end_time": "2024-03-10T04:46:08.714501",
     "exception": false,
     "start_time": "2024-03-10T04:46:08.682713",
     "status": "completed"
    },
    "tags": []
   },
   "outputs": [],
   "source": [
    "data.loc[data['Social Media User?'] == 'No', 'Social Media User?'] = 'Yes'"
   ]
  },
  {
   "cell_type": "code",
   "execution_count": 34,
   "id": "c6d43457",
   "metadata": {
    "execution": {
     "iopub.execute_input": "2024-03-10T04:46:08.758594Z",
     "iopub.status.busy": "2024-03-10T04:46:08.758276Z",
     "iopub.status.idle": "2024-03-10T04:46:08.766050Z",
     "shell.execute_reply": "2024-03-10T04:46:08.764451Z"
    },
    "papermill": {
     "duration": 0.033334,
     "end_time": "2024-03-10T04:46:08.768856",
     "exception": false,
     "start_time": "2024-03-10T04:46:08.735522",
     "status": "completed"
    },
    "tags": []
   },
   "outputs": [
    {
     "name": "stdout",
     "output_type": "stream",
     "text": [
      "Counts of Social Media User?:\n",
      "Yes    481\n",
      "Name: Social Media User?, dtype: int64\n"
     ]
    }
   ],
   "source": [
    "#check that change was made\n",
    "social_media_user_counts = data['Social Media User?'].value_counts()\n",
    "\n",
    "# Print the counts\n",
    "print(\"Counts of Social Media User?:\")\n",
    "print(social_media_user_counts)"
   ]
  },
  {
   "cell_type": "code",
   "execution_count": 35,
   "id": "93ea0a2e",
   "metadata": {
    "execution": {
     "iopub.execute_input": "2024-03-10T04:46:08.813615Z",
     "iopub.status.busy": "2024-03-10T04:46:08.812303Z",
     "iopub.status.idle": "2024-03-10T04:46:08.823408Z",
     "shell.execute_reply": "2024-03-10T04:46:08.822067Z"
    },
    "papermill": {
     "duration": 0.035814,
     "end_time": "2024-03-10T04:46:08.825638",
     "exception": false,
     "start_time": "2024-03-10T04:46:08.789824",
     "status": "completed"
    },
    "tags": []
   },
   "outputs": [
    {
     "name": "stdout",
     "output_type": "stream",
     "text": [
      "Counts Age (Ascending Order):\n",
      "13     2\n",
      "14     4\n",
      "15     2\n",
      "16     2\n",
      "17     9\n",
      "18    13\n",
      "19    19\n",
      "20    45\n",
      "21    82\n",
      "22    81\n",
      "23    42\n",
      "24    27\n",
      "25    17\n",
      "26    19\n",
      "27    11\n",
      "28     5\n",
      "29     6\n",
      "30     6\n",
      "31     1\n",
      "32     4\n",
      "33     2\n",
      "34     6\n",
      "35     8\n",
      "36     3\n",
      "37     4\n",
      "38     3\n",
      "40     2\n",
      "42     1\n",
      "43     1\n",
      "44     2\n",
      "45     1\n",
      "46     2\n",
      "47    16\n",
      "48    13\n",
      "49     3\n",
      "50     6\n",
      "51     2\n",
      "52     1\n",
      "53     1\n",
      "55     1\n",
      "56     2\n",
      "60     1\n",
      "65     1\n",
      "69     1\n",
      "91     1\n",
      "Name: Age, dtype: int64\n"
     ]
    }
   ],
   "source": [
    "# Check 'Age' for outliers\n",
    "Age_counts = data['Age'].value_counts()\n",
    "\n",
    "# Sort the index (ages) in ascending order\n",
    "Age_counts = Age_counts.sort_index(ascending=True)\n",
    "\n",
    "# Print the counts in ascending order\n",
    "print(\"Counts Age (Ascending Order):\")\n",
    "print(Age_counts)"
   ]
  },
  {
   "cell_type": "markdown",
   "id": "d69cfd82",
   "metadata": {
    "papermill": {
     "duration": 0.021055,
     "end_time": "2024-03-10T04:46:08.867652",
     "exception": false,
     "start_time": "2024-03-10T04:46:08.846597",
     "status": "completed"
    },
    "tags": []
   },
   "source": [
    "large jump from 69 to 91. Occupation is univeristy student, assumed typo. Change to 19"
   ]
  },
  {
   "cell_type": "code",
   "execution_count": 36,
   "id": "4715660d",
   "metadata": {
    "execution": {
     "iopub.execute_input": "2024-03-10T04:46:08.911150Z",
     "iopub.status.busy": "2024-03-10T04:46:08.910811Z",
     "iopub.status.idle": "2024-03-10T04:46:08.921621Z",
     "shell.execute_reply": "2024-03-10T04:46:08.920111Z"
    },
    "papermill": {
     "duration": 0.035183,
     "end_time": "2024-03-10T04:46:08.924213",
     "exception": false,
     "start_time": "2024-03-10T04:46:08.889030",
     "status": "completed"
    },
    "tags": []
   },
   "outputs": [
    {
     "name": "stdout",
     "output_type": "stream",
     "text": [
      "Rows with Age equal to 91:\n",
      "     Age  Gender Relationship Status          Occupation Social Media User?  \\\n",
      "256   91  Female              Single  University Student                Yes   \n",
      "\n",
      "                                      Platforms Used Hours Per Day  \\\n",
      "256  Facebook, Instagram, YouTube, Snapchat, Discord          2.5h   \n",
      "\n",
      "     ADHD Score  Anxiety Score  Self Esteem Score  Depression Score  \\\n",
      "256          16              9                 11                15   \n",
      "\n",
      "     Total Score  \n",
      "256           51  \n"
     ]
    }
   ],
   "source": [
    "# Find rows where 'Age' equals 91\n",
    "age_answers = data[data['Age'] == 91]\n",
    "\n",
    "# Print the rows with Age equal to 91\n",
    "print(\"Rows with Age equal to 91:\")\n",
    "print(age_answers)"
   ]
  },
  {
   "cell_type": "code",
   "execution_count": 37,
   "id": "6e26059f",
   "metadata": {
    "execution": {
     "iopub.execute_input": "2024-03-10T04:46:08.967569Z",
     "iopub.status.busy": "2024-03-10T04:46:08.966910Z",
     "iopub.status.idle": "2024-03-10T04:46:08.972446Z",
     "shell.execute_reply": "2024-03-10T04:46:08.971000Z"
    },
    "papermill": {
     "duration": 0.029696,
     "end_time": "2024-03-10T04:46:08.974710",
     "exception": false,
     "start_time": "2024-03-10T04:46:08.945014",
     "status": "completed"
    },
    "tags": []
   },
   "outputs": [],
   "source": [
    "# Change age from 91 to 19\n",
    "data.loc[data['Age'] == 91, 'Age'] = 19"
   ]
  },
  {
   "cell_type": "code",
   "execution_count": 38,
   "id": "e0826758",
   "metadata": {
    "execution": {
     "iopub.execute_input": "2024-03-10T04:46:09.018542Z",
     "iopub.status.busy": "2024-03-10T04:46:09.018162Z",
     "iopub.status.idle": "2024-03-10T04:46:09.023887Z",
     "shell.execute_reply": "2024-03-10T04:46:09.023069Z"
    },
    "papermill": {
     "duration": 0.030587,
     "end_time": "2024-03-10T04:46:09.025925",
     "exception": false,
     "start_time": "2024-03-10T04:46:08.995338",
     "status": "completed"
    },
    "tags": []
   },
   "outputs": [
    {
     "name": "stdout",
     "output_type": "stream",
     "text": [
      "Row 256:\n",
      "Age                                                                 19\n",
      "Gender                                                          Female\n",
      "Relationship Status                                             Single\n",
      "Occupation                                          University Student\n",
      "Social Media User?                                                 Yes\n",
      "Platforms Used         Facebook, Instagram, YouTube, Snapchat, Discord\n",
      "Hours Per Day                                                     2.5h\n",
      "ADHD Score                                                          16\n",
      "Anxiety Score                                                        9\n",
      "Self Esteem Score                                                   11\n",
      "Depression Score                                                    15\n",
      "Total Score                                                         51\n",
      "Name: 256, dtype: object\n"
     ]
    }
   ],
   "source": [
    "#verify age change\n",
    "print(\"Row 256:\")\n",
    "print(data.iloc[256])"
   ]
  },
  {
   "cell_type": "code",
   "execution_count": 39,
   "id": "0a07d045",
   "metadata": {
    "execution": {
     "iopub.execute_input": "2024-03-10T04:46:09.070698Z",
     "iopub.status.busy": "2024-03-10T04:46:09.070332Z",
     "iopub.status.idle": "2024-03-10T04:46:09.076762Z",
     "shell.execute_reply": "2024-03-10T04:46:09.075622Z"
    },
    "papermill": {
     "duration": 0.030872,
     "end_time": "2024-03-10T04:46:09.078472",
     "exception": false,
     "start_time": "2024-03-10T04:46:09.047600",
     "status": "completed"
    },
    "tags": []
   },
   "outputs": [
    {
     "data": {
      "text/plain": [
       "['Age',\n",
       " 'Gender',\n",
       " 'Relationship Status',\n",
       " 'Occupation',\n",
       " 'Social Media User?',\n",
       " 'Platforms Used',\n",
       " 'Hours Per Day',\n",
       " 'ADHD Score',\n",
       " 'Anxiety Score',\n",
       " 'Self Esteem Score',\n",
       " 'Depression Score',\n",
       " 'Total Score']"
      ]
     },
     "execution_count": 39,
     "metadata": {},
     "output_type": "execute_result"
    }
   ],
   "source": [
    "#review columns for accuracy\n",
    "titles = list(data.columns)\n",
    "titles"
   ]
  },
  {
   "cell_type": "markdown",
   "id": "cca795f2",
   "metadata": {
    "papermill": {
     "duration": 0.020359,
     "end_time": "2024-03-10T04:46:09.120011",
     "exception": false,
     "start_time": "2024-03-10T04:46:09.099652",
     "status": "completed"
    },
    "tags": []
   },
   "source": [
    "**Transform 'Platforms Used' into catagories for use in future analysis.**\n",
    "<br>\n",
    "<br>\n",
    "Social Networking (Facebook,Twitter, Discord, TikTok)\n",
    "<br>\n",
    "<br>\n",
    "Media Sharing (Pinterest, Youtube, Snapchat, Instagram) \n",
    "<br>\n",
    "<br>\n",
    "Discussion Forum (Reddit)\n",
    "\n",
    "\n",
    "\n"
   ]
  },
  {
   "cell_type": "code",
   "execution_count": 40,
   "id": "a7d0454c",
   "metadata": {
    "execution": {
     "iopub.execute_input": "2024-03-10T04:46:09.163676Z",
     "iopub.status.busy": "2024-03-10T04:46:09.163085Z",
     "iopub.status.idle": "2024-03-10T04:46:09.179353Z",
     "shell.execute_reply": "2024-03-10T04:46:09.177940Z"
    },
    "papermill": {
     "duration": 0.040866,
     "end_time": "2024-03-10T04:46:09.181585",
     "exception": false,
     "start_time": "2024-03-10T04:46:09.140719",
     "status": "completed"
    },
    "tags": []
   },
   "outputs": [
    {
     "name": "stdout",
     "output_type": "stream",
     "text": [
      "     Age  Gender Relationship Status          Occupation Social Media User?  \\\n",
      "0     21    Male   In a relationship  University Student                Yes   \n",
      "1     21  Female              Single  University Student                Yes   \n",
      "2     21  Female              Single  University Student                Yes   \n",
      "3     21  Female              Single  University Student                Yes   \n",
      "4     21  Female              Single  University Student                Yes   \n",
      "..   ...     ...                 ...                 ...                ...   \n",
      "476   24    Male              Single     Salaried Worker                Yes   \n",
      "477   26  Female             Married     Salaried Worker                Yes   \n",
      "478   29  Female             Married     Salaried Worker                Yes   \n",
      "479   21    Male              Single  University Student                Yes   \n",
      "480   53    Male             Married     Salaried Worker                Yes   \n",
      "\n",
      "    Hours Per Day  ADHD Score  Anxiety Score  Self Esteem Score  \\\n",
      "0            2.5h          18              4                  7   \n",
      "1            5.5h          15              7                  7   \n",
      "2            3.5h          11              6                  7   \n",
      "3            5.5h          12              6                  8   \n",
      "4            2.5h          17              9                  9   \n",
      "..            ...         ...            ...                ...   \n",
      "476          2.5h          15              6                 10   \n",
      "477          1.5h          10              6                 10   \n",
      "478          2.5h          12              6                 10   \n",
      "479          2.5h          10              5                  9   \n",
      "480          0.5h           9              2                  8   \n",
      "\n",
      "     Depression Score  Total Score   Platforms  \n",
      "0                  14           43  SN, MS, DF  \n",
      "1                  14           43  SN, MS, DF  \n",
      "2                  11           35      SN, MS  \n",
      "3                   9           35      SN, MS  \n",
      "4                   9           44      SN, MS  \n",
      "..                ...          ...         ...  \n",
      "476                11           42      SN, MS  \n",
      "477                 9           35      SN, MS  \n",
      "478                 6           34      SN, MS  \n",
      "479                13           37      SN, MS  \n",
      "480                 7           26      SN, MS  \n",
      "\n",
      "[481 rows x 12 columns]\n"
     ]
    }
   ],
   "source": [
    "# Define a function to categorize platforms\n",
    "def categorize_platforms(platforms_used):\n",
    "    categories = []\n",
    "    if any(platform in platforms_used for platform in ['Facebook', 'Twitter', 'Discord', 'TikTok']):\n",
    "        categories.append('SN')\n",
    "    if any(platform in platforms_used for platform in ['Pinterest', 'YouTube', 'Snapchat', 'Instagram']):\n",
    "        categories.append('MS')\n",
    "    if 'Reddit' in platforms_used:\n",
    "        categories.append('DF')\n",
    "    return ', '.join(categories) if categories else 'Other/Unknown'\n",
    "\n",
    "# Apply the categorization function to create a new 'Category' column\n",
    "data['Platforms'] = data['Platforms Used'].apply(categorize_platforms)\n",
    "\n",
    "# Drop the original 'Platforms Used' column\n",
    "data.drop(columns=['Platforms Used'], inplace=True)\n",
    "\n",
    "# Display the DataFrame with the 'Platforms' column\n",
    "print(data)\n"
   ]
  },
  {
   "cell_type": "code",
   "execution_count": 41,
   "id": "3724a705",
   "metadata": {
    "execution": {
     "iopub.execute_input": "2024-03-10T04:46:09.224701Z",
     "iopub.status.busy": "2024-03-10T04:46:09.224343Z",
     "iopub.status.idle": "2024-03-10T04:46:09.237676Z",
     "shell.execute_reply": "2024-03-10T04:46:09.236310Z"
    },
    "papermill": {
     "duration": 0.037356,
     "end_time": "2024-03-10T04:46:09.239764",
     "exception": false,
     "start_time": "2024-03-10T04:46:09.202408",
     "status": "completed"
    },
    "tags": []
   },
   "outputs": [
    {
     "data": {
      "text/html": [
       "<div>\n",
       "<style scoped>\n",
       "    .dataframe tbody tr th:only-of-type {\n",
       "        vertical-align: middle;\n",
       "    }\n",
       "\n",
       "    .dataframe tbody tr th {\n",
       "        vertical-align: top;\n",
       "    }\n",
       "\n",
       "    .dataframe thead th {\n",
       "        text-align: right;\n",
       "    }\n",
       "</style>\n",
       "<table border=\"1\" class=\"dataframe\">\n",
       "  <thead>\n",
       "    <tr style=\"text-align: right;\">\n",
       "      <th></th>\n",
       "      <th>Age</th>\n",
       "      <th>Gender</th>\n",
       "      <th>Relationship Status</th>\n",
       "      <th>Occupation</th>\n",
       "      <th>Social Media User?</th>\n",
       "      <th>Hours Per Day</th>\n",
       "      <th>ADHD Score</th>\n",
       "      <th>Anxiety Score</th>\n",
       "      <th>Self Esteem Score</th>\n",
       "      <th>Depression Score</th>\n",
       "      <th>Total Score</th>\n",
       "      <th>Platforms</th>\n",
       "    </tr>\n",
       "  </thead>\n",
       "  <tbody>\n",
       "    <tr>\n",
       "      <th>0</th>\n",
       "      <td>21</td>\n",
       "      <td>Male</td>\n",
       "      <td>In a relationship</td>\n",
       "      <td>University Student</td>\n",
       "      <td>Yes</td>\n",
       "      <td>2.5h</td>\n",
       "      <td>18</td>\n",
       "      <td>4</td>\n",
       "      <td>7</td>\n",
       "      <td>14</td>\n",
       "      <td>43</td>\n",
       "      <td>SN, MS, DF</td>\n",
       "    </tr>\n",
       "    <tr>\n",
       "      <th>1</th>\n",
       "      <td>21</td>\n",
       "      <td>Female</td>\n",
       "      <td>Single</td>\n",
       "      <td>University Student</td>\n",
       "      <td>Yes</td>\n",
       "      <td>5.5h</td>\n",
       "      <td>15</td>\n",
       "      <td>7</td>\n",
       "      <td>7</td>\n",
       "      <td>14</td>\n",
       "      <td>43</td>\n",
       "      <td>SN, MS, DF</td>\n",
       "    </tr>\n",
       "    <tr>\n",
       "      <th>2</th>\n",
       "      <td>21</td>\n",
       "      <td>Female</td>\n",
       "      <td>Single</td>\n",
       "      <td>University Student</td>\n",
       "      <td>Yes</td>\n",
       "      <td>3.5h</td>\n",
       "      <td>11</td>\n",
       "      <td>6</td>\n",
       "      <td>7</td>\n",
       "      <td>11</td>\n",
       "      <td>35</td>\n",
       "      <td>SN, MS</td>\n",
       "    </tr>\n",
       "    <tr>\n",
       "      <th>3</th>\n",
       "      <td>21</td>\n",
       "      <td>Female</td>\n",
       "      <td>Single</td>\n",
       "      <td>University Student</td>\n",
       "      <td>Yes</td>\n",
       "      <td>5.5h</td>\n",
       "      <td>12</td>\n",
       "      <td>6</td>\n",
       "      <td>8</td>\n",
       "      <td>9</td>\n",
       "      <td>35</td>\n",
       "      <td>SN, MS</td>\n",
       "    </tr>\n",
       "    <tr>\n",
       "      <th>4</th>\n",
       "      <td>21</td>\n",
       "      <td>Female</td>\n",
       "      <td>Single</td>\n",
       "      <td>University Student</td>\n",
       "      <td>Yes</td>\n",
       "      <td>2.5h</td>\n",
       "      <td>17</td>\n",
       "      <td>9</td>\n",
       "      <td>9</td>\n",
       "      <td>9</td>\n",
       "      <td>44</td>\n",
       "      <td>SN, MS</td>\n",
       "    </tr>\n",
       "  </tbody>\n",
       "</table>\n",
       "</div>"
      ],
      "text/plain": [
       "   Age  Gender Relationship Status          Occupation Social Media User?  \\\n",
       "0   21    Male   In a relationship  University Student                Yes   \n",
       "1   21  Female              Single  University Student                Yes   \n",
       "2   21  Female              Single  University Student                Yes   \n",
       "3   21  Female              Single  University Student                Yes   \n",
       "4   21  Female              Single  University Student                Yes   \n",
       "\n",
       "  Hours Per Day  ADHD Score  Anxiety Score  Self Esteem Score  \\\n",
       "0          2.5h          18              4                  7   \n",
       "1          5.5h          15              7                  7   \n",
       "2          3.5h          11              6                  7   \n",
       "3          5.5h          12              6                  8   \n",
       "4          2.5h          17              9                  9   \n",
       "\n",
       "   Depression Score  Total Score   Platforms  \n",
       "0                14           43  SN, MS, DF  \n",
       "1                14           43  SN, MS, DF  \n",
       "2                11           35      SN, MS  \n",
       "3                 9           35      SN, MS  \n",
       "4                 9           44      SN, MS  "
      ]
     },
     "execution_count": 41,
     "metadata": {},
     "output_type": "execute_result"
    }
   ],
   "source": [
    "#check new columns\n",
    "data.head()"
   ]
  },
  {
   "cell_type": "markdown",
   "id": "efaca0f7",
   "metadata": {
    "papermill": {
     "duration": 0.02086,
     "end_time": "2024-03-10T04:46:09.282016",
     "exception": false,
     "start_time": "2024-03-10T04:46:09.261156",
     "status": "completed"
    },
    "tags": []
   },
   "source": [
    "# **Data Analysis**"
   ]
  },
  {
   "cell_type": "markdown",
   "id": "85ad0d13",
   "metadata": {
    "papermill": {
     "duration": 0.020997,
     "end_time": "2024-03-10T04:46:09.324254",
     "exception": false,
     "start_time": "2024-03-10T04:46:09.303257",
     "status": "completed"
    },
    "tags": []
   },
   "source": [
    "Find these distributions:\n",
    "* Age\n",
    "* Occupation\n",
    "* Gender\n",
    "* Hours Per Day\n",
    "* Platforms Used\n",
    "* Relationship Statusplt.xticks(rotation=45)\n",
    "<br>\n",
    "<br>\n",
    "Find these correlations:\n",
    "<br>\n",
    "<br>\n",
    "* Age and Time Spent\n",
    "* Age and Mental Health Screening\n",
    "* Gender and Time Spent\n",
    "* Gender and Mental Health Screening\n",
    "* Mental Health Screening and Time Spent\n",
    "* Platforms and Time Spent\n",
    "* Platforms and Mental Health"
   ]
  },
  {
   "cell_type": "markdown",
   "id": "654d1fe7",
   "metadata": {
    "papermill": {
     "duration": 0.02096,
     "end_time": "2024-03-10T04:46:09.366342",
     "exception": false,
     "start_time": "2024-03-10T04:46:09.345382",
     "status": "completed"
    },
    "tags": []
   },
   "source": [
    "# **Descriptive Stats**"
   ]
  },
  {
   "cell_type": "markdown",
   "id": "26a6420e",
   "metadata": {
    "papermill": {
     "duration": 0.020851,
     "end_time": "2024-03-10T04:46:09.408270",
     "exception": false,
     "start_time": "2024-03-10T04:46:09.387419",
     "status": "completed"
    },
    "tags": []
   },
   "source": [
    "**Age Distribution**"
   ]
  },
  {
   "cell_type": "code",
   "execution_count": 42,
   "id": "99201dd7",
   "metadata": {
    "execution": {
     "iopub.execute_input": "2024-03-10T04:46:09.451809Z",
     "iopub.status.busy": "2024-03-10T04:46:09.450793Z",
     "iopub.status.idle": "2024-03-10T04:46:09.809496Z",
     "shell.execute_reply": "2024-03-10T04:46:09.808303Z"
    },
    "papermill": {
     "duration": 0.382576,
     "end_time": "2024-03-10T04:46:09.811595",
     "exception": false,
     "start_time": "2024-03-10T04:46:09.429019",
     "status": "completed"
    },
    "tags": []
   },
   "outputs": [
    {
     "data": {
      "image/png": "[encoded data removed]",
      "text/plain": [
       "<Figure size 1200x800 with 1 Axes>"
      ]
     },
     "metadata": {},
     "output_type": "display_data"
    }
   ],
   "source": [
    "# Define custom colors for each occupation\n",
    "colors = {\n",
    "    'Retired': 'darkblue',\n",
    "    'University Student': 'yellow',\n",
    "    'School Student': 'darkgreen',\n",
    "    'Salaried Worker': 'red',\n",
    "}\n",
    "\n",
    "# Grouping ages by occupation\n",
    "grouped_ages = data.groupby('Occupation')['Age']\n",
    "\n",
    "# Plotting histograms for each occupation with custom colors\n",
    "plt.figure(figsize=(12, 8))\n",
    "for occupation, ages in grouped_ages:\n",
    "    plt.hist(ages, bins=10, alpha=0.5, label=occupation, color=colors.get(occupation, 'gray'))\n",
    "\n",
    "plt.title('Age Distribution by Occupation')\n",
    "plt.xlabel('Age')\n",
    "plt.ylabel('Frequency')\n",
    "plt.legend()\n",
    "plt.grid(True)\n",
    "plt.show()"
   ]
  },
  {
   "cell_type": "code",
   "execution_count": 43,
   "id": "bf55e001",
   "metadata": {
    "execution": {
     "iopub.execute_input": "2024-03-10T04:46:09.856754Z",
     "iopub.status.busy": "2024-03-10T04:46:09.856454Z",
     "iopub.status.idle": "2024-03-10T04:46:09.865286Z",
     "shell.execute_reply": "2024-03-10T04:46:09.863612Z"
    },
    "papermill": {
     "duration": 0.034467,
     "end_time": "2024-03-10T04:46:09.867284",
     "exception": false,
     "start_time": "2024-03-10T04:46:09.832817",
     "status": "completed"
    },
    "tags": []
   },
   "outputs": [
    {
     "name": "stdout",
     "output_type": "stream",
     "text": [
      "Ages of School Students:\n",
      "17     25\n",
      "33     18\n",
      "43     19\n",
      "47     17\n",
      "57     19\n",
      "65     24\n",
      "67     18\n",
      "68     14\n",
      "71     23\n",
      "72     14\n",
      "84     17\n",
      "93     17\n",
      "96     14\n",
      "97     20\n",
      "98     22\n",
      "99     16\n",
      "129    16\n",
      "159    19\n",
      "191    19\n",
      "198    17\n",
      "205    20\n",
      "243    19\n",
      "270    19\n",
      "279    17\n",
      "281    21\n",
      "296    17\n",
      "302    21\n",
      "310    15\n",
      "312    17\n",
      "322    18\n",
      "337    18\n",
      "349    18\n",
      "354    19\n",
      "360    19\n",
      "387    19\n",
      "394    20\n",
      "413    17\n",
      "415    18\n",
      "416    18\n",
      "417    18\n",
      "424    19\n",
      "425    17\n",
      "458    23\n",
      "463    13\n",
      "464    14\n",
      "465    13\n",
      "466    23\n",
      "468    18\n",
      "469    15\n",
      "Name: Age, dtype: int64\n"
     ]
    }
   ],
   "source": [
    "school_student_ages = data[data['Occupation'] == 'School Student']['Age']\n",
    "print(\"Ages of School Students:\")\n",
    "print(school_student_ages)"
   ]
  },
  {
   "cell_type": "code",
   "execution_count": 44,
   "id": "78600fe3",
   "metadata": {
    "execution": {
     "iopub.execute_input": "2024-03-10T04:46:09.913521Z",
     "iopub.status.busy": "2024-03-10T04:46:09.913156Z",
     "iopub.status.idle": "2024-03-10T04:46:09.927350Z",
     "shell.execute_reply": "2024-03-10T04:46:09.925571Z"
    },
    "papermill": {
     "duration": 0.04004,
     "end_time": "2024-03-10T04:46:09.929185",
     "exception": false,
     "start_time": "2024-03-10T04:46:09.889145",
     "status": "completed"
    },
    "tags": []
   },
   "outputs": [
    {
     "name": "stdout",
     "output_type": "stream",
     "text": [
      "Rows of School Students:\n",
      "     Age      Gender Relationship Status      Occupation Social Media User?  \\\n",
      "17    25        Male              Single  School Student                Yes   \n",
      "33    18      Female              Single  School Student                Yes   \n",
      "43    19      Female              Single  School Student                Yes   \n",
      "47    17      Female              Single  School Student                Yes   \n",
      "57    19      Female              Single  School Student                Yes   \n",
      "65    24        Male   In a relationship  School Student                Yes   \n",
      "67    18  Non-Binary              Single  School Student                Yes   \n",
      "68    14        Male              Single  School Student                Yes   \n",
      "71    23        Male              Single  School Student                Yes   \n",
      "72    14      Female              Single  School Student                Yes   \n",
      "84    17        Male              Single  School Student                Yes   \n",
      "93    17     unsure               Single  School Student                Yes   \n",
      "96    14        Male              Single  School Student                Yes   \n",
      "97    20        Male              Single  School Student                Yes   \n",
      "98    22      Female              Single  School Student                Yes   \n",
      "99    16        Male              Single  School Student                Yes   \n",
      "129   16        Male              Single  School Student                Yes   \n",
      "159   19      Female   In a relationship  School Student                Yes   \n",
      "191   19      Female              Single  School Student                Yes   \n",
      "198   17        Male              Single  School Student                Yes   \n",
      "205   20        Male              Single  School Student                Yes   \n",
      "243   19      Female              Single  School Student                Yes   \n",
      "270   19      Female              Single  School Student                Yes   \n",
      "279   17        Male              Single  School Student                Yes   \n",
      "281   21        Male              Single  School Student                Yes   \n",
      "296   17        Male              Single  School Student                Yes   \n",
      "302   21        Male              Single  School Student                Yes   \n",
      "310   15      Female              Single  School Student                Yes   \n",
      "312   17      Female              Single  School Student                Yes   \n",
      "322   18        Male              Single  School Student                Yes   \n",
      "337   18      Female              Single  School Student                Yes   \n",
      "349   18      Female              Single  School Student                Yes   \n",
      "354   19        Male              Single  School Student                Yes   \n",
      "360   19        Male              Single  School Student                Yes   \n",
      "387   19        Male              Single  School Student                Yes   \n",
      "394   20      Female   In a relationship  School Student                Yes   \n",
      "413   17        Male              Single  School Student                Yes   \n",
      "415   18        Male              Single  School Student                Yes   \n",
      "416   18      Female              Single  School Student                Yes   \n",
      "417   18      Female   In a relationship  School Student                Yes   \n",
      "424   19        Male   In a relationship  School Student                Yes   \n",
      "425   17      Female              Single  School Student                Yes   \n",
      "458   23      Female              Single  School Student                Yes   \n",
      "463   13        Male              Single  School Student                Yes   \n",
      "464   14        Male              Single  School Student                Yes   \n",
      "465   13        Male              Single  School Student                Yes   \n",
      "466   23        Male   In a relationship  School Student                Yes   \n",
      "468   18        Male              Single  School Student                Yes   \n",
      "469   15        Male              Single  School Student                Yes   \n",
      "\n",
      "    Hours Per Day  ADHD Score  Anxiety Score  Self Esteem Score  \\\n",
      "17           4.5h          17              7                  5   \n",
      "33           2.5h          13              7                  9   \n",
      "43           5.5h          13              9                  8   \n",
      "47           3.5h          13              6                  7   \n",
      "57           2.5h          10              6                  8   \n",
      "65           1.5h          10              6                  6   \n",
      "67           2.5h           9              7                  7   \n",
      "68           1.5h          12              7                  7   \n",
      "71           2.5h          20             10                 11   \n",
      "72           5.5h          12              6                 10   \n",
      "84           2.5h          16              8                  9   \n",
      "93           4.5h          16              5                  7   \n",
      "96           4.5h          17              4                  5   \n",
      "97           5.5h           9              2                  5   \n",
      "98           5.5h          17              8                 12   \n",
      "99           4.5h          18              5                  8   \n",
      "129          2.5h           9              5                  5   \n",
      "159          4.5h          16              9                  7   \n",
      "191          2.5h          13              6                  7   \n",
      "198          0.5h           7              4                  4   \n",
      "205          2.5h           9              6                  8   \n",
      "243          3.5h          16              7                  8   \n",
      "270          5.5h          13              3                  5   \n",
      "279          2.5h          13              6                 12   \n",
      "281          3.5h          14              7                 11   \n",
      "296          4.5h           7              9                  8   \n",
      "302          2.5h          19              5                  9   \n",
      "310          3.5h          13              6                  7   \n",
      "312          5.5h          17              7                  7   \n",
      "322          5.5h          14              5                  7   \n",
      "337          3.5h          20              6                 11   \n",
      "349          5.5h          17              8                  5   \n",
      "354          4.5h          10              5                  6   \n",
      "360          4.5h          12              7                 10   \n",
      "387          4.5h          16              6                 11   \n",
      "394          5.5h          14              5                  7   \n",
      "413          5.5h          16              8                  6   \n",
      "415          3.5h          18              9                 10   \n",
      "416          3.5h           8              4                  5   \n",
      "417          3.5h          15              8                  5   \n",
      "424          1.5h          12              5                  8   \n",
      "425          2.5h          11              8                  7   \n",
      "458          2.5h          11              6                  8   \n",
      "463          4.5h          11              4                  5   \n",
      "464          2.5h          13              5                  5   \n",
      "465          5.5h          16              5                  7   \n",
      "466          4.5h          13              6                  5   \n",
      "468          5.5h          11              6                  8   \n",
      "469          4.5h           8              4                  9   \n",
      "\n",
      "     Depression Score  Total Score   Platforms  \n",
      "17                  6           35  SN, MS, DF  \n",
      "33                  8           37      SN, MS  \n",
      "43                 11           41      SN, MS  \n",
      "47                  9           35      MS, DF  \n",
      "57                 13           37      SN, MS  \n",
      "65                 10           32  SN, MS, DF  \n",
      "67                 10           33  SN, MS, DF  \n",
      "68                 12           38          DF  \n",
      "71                 15           56  SN, MS, DF  \n",
      "72                 13           41  SN, MS, DF  \n",
      "84                  8           41  SN, MS, DF  \n",
      "93                 11           39  SN, MS, DF  \n",
      "96                  9           35      SN, MS  \n",
      "97                  9           25      MS, DF  \n",
      "98                 13           50      SN, MS  \n",
      "99                  6           37      SN, MS  \n",
      "129                 8           27          MS  \n",
      "159                14           46          SN  \n",
      "191                 8           34      SN, MS  \n",
      "198                 4           19      SN, MS  \n",
      "205                 7           30  SN, MS, DF  \n",
      "243                13           44      SN, MS  \n",
      "270                 8           29  SN, MS, DF  \n",
      "279                12           43          SN  \n",
      "281                10           42  SN, MS, DF  \n",
      "296                 8           32          SN  \n",
      "302                11           44  SN, MS, DF  \n",
      "310                14           40      SN, MS  \n",
      "312                 8           39      SN, MS  \n",
      "322                11           37  SN, MS, DF  \n",
      "337                14           51      SN, MS  \n",
      "349                13           43      SN, MS  \n",
      "354                 6           27  SN, MS, DF  \n",
      "360                 8           37      SN, MS  \n",
      "387                10           43  SN, MS, DF  \n",
      "394                 6           32      SN, MS  \n",
      "413                14           44      SN, MS  \n",
      "415                13           50      SN, MS  \n",
      "416                 6           23      SN, MS  \n",
      "417                13           41  SN, MS, DF  \n",
      "424                 8           33  SN, MS, DF  \n",
      "425                 9           35      SN, MS  \n",
      "458                 8           33          SN  \n",
      "463                10           30      SN, MS  \n",
      "464                 6           29      SN, MS  \n",
      "465                 7           35      SN, MS  \n",
      "466                 8           32      SN, MS  \n",
      "468                 8           33          MS  \n",
      "469                 3           24  SN, MS, DF  \n"
     ]
    }
   ],
   "source": [
    "school_student_rows = data[data['Occupation'] == 'School Student']\n",
    "\n",
    "print(\"Rows of School Students:\")\n",
    "print(school_student_rows)"
   ]
  },
  {
   "cell_type": "code",
   "execution_count": 45,
   "id": "3ae33003",
   "metadata": {
    "execution": {
     "iopub.execute_input": "2024-03-10T04:46:09.974830Z",
     "iopub.status.busy": "2024-03-10T04:46:09.974408Z",
     "iopub.status.idle": "2024-03-10T04:46:09.980797Z",
     "shell.execute_reply": "2024-03-10T04:46:09.979322Z"
    },
    "papermill": {
     "duration": 0.031849,
     "end_time": "2024-03-10T04:46:09.982787",
     "exception": false,
     "start_time": "2024-03-10T04:46:09.950938",
     "status": "completed"
    },
    "tags": []
   },
   "outputs": [],
   "source": [
    "# Filter rows where the current occupation is 'School Student' and the age is over 18, and update the 'Occupation' column\n",
    "data.loc[(data['Occupation'] == 'School Student') & (data['Age'] > 18), 'Occupation'] = 'University Student'"
   ]
  },
  {
   "cell_type": "code",
   "execution_count": 46,
   "id": "18fa4ff8",
   "metadata": {
    "execution": {
     "iopub.execute_input": "2024-03-10T04:46:10.030686Z",
     "iopub.status.busy": "2024-03-10T04:46:10.030306Z",
     "iopub.status.idle": "2024-03-10T04:46:10.041321Z",
     "shell.execute_reply": "2024-03-10T04:46:10.040330Z"
    },
    "papermill": {
     "duration": 0.037642,
     "end_time": "2024-03-10T04:46:10.043320",
     "exception": false,
     "start_time": "2024-03-10T04:46:10.005678",
     "status": "completed"
    },
    "tags": []
   },
   "outputs": [
    {
     "name": "stdout",
     "output_type": "stream",
     "text": [
      "Rows of School Students:\n",
      "     Age      Gender Relationship Status      Occupation Social Media User?  \\\n",
      "33    18      Female              Single  School Student                Yes   \n",
      "47    17      Female              Single  School Student                Yes   \n",
      "67    18  Non-Binary              Single  School Student                Yes   \n",
      "68    14        Male              Single  School Student                Yes   \n",
      "72    14      Female              Single  School Student                Yes   \n",
      "84    17        Male              Single  School Student                Yes   \n",
      "93    17     unsure               Single  School Student                Yes   \n",
      "96    14        Male              Single  School Student                Yes   \n",
      "99    16        Male              Single  School Student                Yes   \n",
      "129   16        Male              Single  School Student                Yes   \n",
      "198   17        Male              Single  School Student                Yes   \n",
      "279   17        Male              Single  School Student                Yes   \n",
      "296   17        Male              Single  School Student                Yes   \n",
      "310   15      Female              Single  School Student                Yes   \n",
      "312   17      Female              Single  School Student                Yes   \n",
      "322   18        Male              Single  School Student                Yes   \n",
      "337   18      Female              Single  School Student                Yes   \n",
      "349   18      Female              Single  School Student                Yes   \n",
      "413   17        Male              Single  School Student                Yes   \n",
      "415   18        Male              Single  School Student                Yes   \n",
      "416   18      Female              Single  School Student                Yes   \n",
      "417   18      Female   In a relationship  School Student                Yes   \n",
      "425   17      Female              Single  School Student                Yes   \n",
      "463   13        Male              Single  School Student                Yes   \n",
      "464   14        Male              Single  School Student                Yes   \n",
      "465   13        Male              Single  School Student                Yes   \n",
      "468   18        Male              Single  School Student                Yes   \n",
      "469   15        Male              Single  School Student                Yes   \n",
      "\n",
      "    Hours Per Day  ADHD Score  Anxiety Score  Self Esteem Score  \\\n",
      "33           2.5h          13              7                  9   \n",
      "47           3.5h          13              6                  7   \n",
      "67           2.5h           9              7                  7   \n",
      "68           1.5h          12              7                  7   \n",
      "72           5.5h          12              6                 10   \n",
      "84           2.5h          16              8                  9   \n",
      "93           4.5h          16              5                  7   \n",
      "96           4.5h          17              4                  5   \n",
      "99           4.5h          18              5                  8   \n",
      "129          2.5h           9              5                  5   \n",
      "198          0.5h           7              4                  4   \n",
      "279          2.5h          13              6                 12   \n",
      "296          4.5h           7              9                  8   \n",
      "310          3.5h          13              6                  7   \n",
      "312          5.5h          17              7                  7   \n",
      "322          5.5h          14              5                  7   \n",
      "337          3.5h          20              6                 11   \n",
      "349          5.5h          17              8                  5   \n",
      "413          5.5h          16              8                  6   \n",
      "415          3.5h          18              9                 10   \n",
      "416          3.5h           8              4                  5   \n",
      "417          3.5h          15              8                  5   \n",
      "425          2.5h          11              8                  7   \n",
      "463          4.5h          11              4                  5   \n",
      "464          2.5h          13              5                  5   \n",
      "465          5.5h          16              5                  7   \n",
      "468          5.5h          11              6                  8   \n",
      "469          4.5h           8              4                  9   \n",
      "\n",
      "     Depression Score  Total Score   Platforms  \n",
      "33                  8           37      SN, MS  \n",
      "47                  9           35      MS, DF  \n",
      "67                 10           33  SN, MS, DF  \n",
      "68                 12           38          DF  \n",
      "72                 13           41  SN, MS, DF  \n",
      "84                  8           41  SN, MS, DF  \n",
      "93                 11           39  SN, MS, DF  \n",
      "96                  9           35      SN, MS  \n",
      "99                  6           37      SN, MS  \n",
      "129                 8           27          MS  \n",
      "198                 4           19      SN, MS  \n",
      "279                12           43          SN  \n",
      "296                 8           32          SN  \n",
      "310                14           40      SN, MS  \n",
      "312                 8           39      SN, MS  \n",
      "322                11           37  SN, MS, DF  \n",
      "337                14           51      SN, MS  \n",
      "349                13           43      SN, MS  \n",
      "413                14           44      SN, MS  \n",
      "415                13           50      SN, MS  \n",
      "416                 6           23      SN, MS  \n",
      "417                13           41  SN, MS, DF  \n",
      "425                 9           35      SN, MS  \n",
      "463                10           30      SN, MS  \n",
      "464                 6           29      SN, MS  \n",
      "465                 7           35      SN, MS  \n",
      "468                 8           33          MS  \n",
      "469                 3           24  SN, MS, DF  \n"
     ]
    }
   ],
   "source": [
    "school_student_rows = data[data['Occupation'] == 'School Student']\n",
    "\n",
    "print(\"Rows of School Students:\")\n",
    "print(school_student_rows)"
   ]
  },
  {
   "cell_type": "code",
   "execution_count": 47,
   "id": "b34e1a35",
   "metadata": {
    "execution": {
     "iopub.execute_input": "2024-03-10T04:46:10.089512Z",
     "iopub.status.busy": "2024-03-10T04:46:10.089082Z",
     "iopub.status.idle": "2024-03-10T04:46:10.100850Z",
     "shell.execute_reply": "2024-03-10T04:46:10.099256Z"
    },
    "papermill": {
     "duration": 0.037759,
     "end_time": "2024-03-10T04:46:10.103159",
     "exception": false,
     "start_time": "2024-03-10T04:46:10.065400",
     "status": "completed"
    },
    "tags": []
   },
   "outputs": [
    {
     "name": "stdout",
     "output_type": "stream",
     "text": [
      "Rows of Retired:\n",
      "     Age  Gender Relationship Status Occupation Social Media User?  \\\n",
      "42    56  Female             Married    Retired                Yes   \n",
      "46    65    Male             Married    Retired                Yes   \n",
      "74    23  Female              Single    Retired                Yes   \n",
      "135   49    Male             Married    Retired                Yes   \n",
      "158   37  Female             Married    Retired                Yes   \n",
      "162   48  Female             Married    Retired                Yes   \n",
      "428   30  Female             Married    Retired                Yes   \n",
      "453   60    Male              Single    Retired                Yes   \n",
      "\n",
      "    Hours Per Day  ADHD Score  Anxiety Score  Self Esteem Score  \\\n",
      "42           1.5h           4              4                  5   \n",
      "46           3.5h          11              4                  8   \n",
      "74           4.5h          16              7                  9   \n",
      "135          4.5h          16              7                  9   \n",
      "158          1.5h           9              3                  5   \n",
      "162          5.5h          19              9                  8   \n",
      "428          3.5h          11              4                  7   \n",
      "453          2.5h           5              2                  9   \n",
      "\n",
      "     Depression Score  Total Score   Platforms  \n",
      "42                  6           19          MS  \n",
      "46                  6           29      SN, MS  \n",
      "74                 14           46  SN, MS, DF  \n",
      "135                13           45      SN, MS  \n",
      "158                10           27      SN, MS  \n",
      "162                12           48      SN, MS  \n",
      "428                 8           30      SN, MS  \n",
      "453                 3           19      SN, MS  \n"
     ]
    }
   ],
   "source": [
    "school_student_rows = data[data['Occupation'] == 'Retired']\n",
    "\n",
    "print(\"Rows of Retired:\")\n",
    "print(school_student_rows)"
   ]
  },
  {
   "cell_type": "code",
   "execution_count": 48,
   "id": "81171a2b",
   "metadata": {
    "execution": {
     "iopub.execute_input": "2024-03-10T04:46:10.150387Z",
     "iopub.status.busy": "2024-03-10T04:46:10.149996Z",
     "iopub.status.idle": "2024-03-10T04:46:10.489162Z",
     "shell.execute_reply": "2024-03-10T04:46:10.487055Z"
    },
    "papermill": {
     "duration": 0.365119,
     "end_time": "2024-03-10T04:46:10.491626",
     "exception": false,
     "start_time": "2024-03-10T04:46:10.126507",
     "status": "completed"
    },
    "tags": []
   },
   "outputs": [
    {
     "data": {
      "image/png": "[encoded data removed]",
      "text/plain": [
       "<Figure size 1200x800 with 1 Axes>"
      ]
     },
     "metadata": {},
     "output_type": "display_data"
    }
   ],
   "source": [
    "# Define custom colors for each occupation\n",
    "colors = {\n",
    "    'Retired': 'darkblue',\n",
    "    'University Student': 'yellow',\n",
    "    'School Student': 'darkgreen',\n",
    "    'Salaried Worker': 'red',\n",
    "}\n",
    "\n",
    "# Grouping ages by occupation\n",
    "grouped_ages = data.groupby('Occupation')['Age']\n",
    "\n",
    "# Plotting histograms for each occupation with custom colors\n",
    "plt.figure(figsize=(12, 8))\n",
    "for occupation, ages in grouped_ages:\n",
    "    plt.hist(ages, bins=10, alpha=0.5, label=occupation, color=colors.get(occupation, 'gray'))\n",
    "\n",
    "plt.title('Age Distribution by Occupation')\n",
    "plt.xlabel('Age')\n",
    "plt.ylabel('Frequency')\n",
    "plt.legend()\n",
    "plt.grid(True)\n",
    "plt.show()"
   ]
  },
  {
   "cell_type": "code",
   "execution_count": 49,
   "id": "23bc1a36",
   "metadata": {
    "execution": {
     "iopub.execute_input": "2024-03-10T04:46:10.543441Z",
     "iopub.status.busy": "2024-03-10T04:46:10.542748Z",
     "iopub.status.idle": "2024-03-10T04:46:10.717361Z",
     "shell.execute_reply": "2024-03-10T04:46:10.716617Z"
    },
    "papermill": {
     "duration": 0.203665,
     "end_time": "2024-03-10T04:46:10.719225",
     "exception": false,
     "start_time": "2024-03-10T04:46:10.515560",
     "status": "completed"
    },
    "tags": []
   },
   "outputs": [
    {
     "data": {
      "image/png": "[encoded data removed]",
      "text/plain": [
       "<Figure size 800x800 with 1 Axes>"
      ]
     },
     "metadata": {},
     "output_type": "display_data"
    }
   ],
   "source": [
    "# Define age bins\n",
    "bins = [0, 18, 30, 40, 50, 60, 70]\n",
    "labels = ['0-18', '19-30', '31-40', '41-50', '51-60', '61-69']\n",
    "\n",
    "# Assign age groups based on bins\n",
    "data['Age Group'] = pd.cut(data['Age'], bins=bins, labels=labels, right=False)\n",
    "\n",
    "# Calculate the count of each age group\n",
    "age_group_counts = data['Age Group'].value_counts()\n",
    "\n",
    "# Plotting pie chart for age distribution\n",
    "plt.figure(figsize=(8, 8))\n",
    "plt.pie(age_group_counts, labels=age_group_counts.index, autopct='%1.1f%%')\n",
    "\n",
    "plt.title('Age Distribution')\n",
    "plt.axis('equal')  # Equal aspect ratio ensures that pie is drawn as a circle.\n",
    "\n",
    "plt.show()"
   ]
  },
  {
   "cell_type": "markdown",
   "id": "33a81e61",
   "metadata": {
    "papermill": {
     "duration": 0.027382,
     "end_time": "2024-03-10T04:46:10.775893",
     "exception": false,
     "start_time": "2024-03-10T04:46:10.748511",
     "status": "completed"
    },
    "tags": []
   },
   "source": [
    "**Platfroms Distribution**"
   ]
  },
  {
   "cell_type": "code",
   "execution_count": 50,
   "id": "45c2c2a8",
   "metadata": {
    "execution": {
     "iopub.execute_input": "2024-03-10T04:46:10.825040Z",
     "iopub.status.busy": "2024-03-10T04:46:10.824333Z",
     "iopub.status.idle": "2024-03-10T04:46:11.090481Z",
     "shell.execute_reply": "2024-03-10T04:46:11.089375Z"
    },
    "papermill": {
     "duration": 0.293655,
     "end_time": "2024-03-10T04:46:11.092511",
     "exception": false,
     "start_time": "2024-03-10T04:46:10.798856",
     "status": "completed"
    },
    "tags": []
   },
   "outputs": [
    {
     "data": {
      "image/png": "[encoded data removed]",
      "text/plain": [
       "<Figure size 1000x600 with 1 Axes>"
      ]
     },
     "metadata": {},
     "output_type": "display_data"
    }
   ],
   "source": [
    "# Calculate frequencies of each value in 'Platforms' column\n",
    "frequency_table = data['Platforms'].value_counts().reset_index()\n",
    "frequency_table.columns = ['Platforms', 'Frequency']\n",
    "\n",
    "# Calculate the total count of platforms\n",
    "total_platforms = frequency_table['Frequency'].sum()\n",
    "\n",
    "# Calculate the percentages\n",
    "frequency_table['Percentage'] = (frequency_table['Frequency'] / total_platforms) * 100\n",
    "\n",
    "# Create a bar graph\n",
    "plt.figure(figsize=(10, 6))  # Adjust the figure size as needed\n",
    "bars = plt.bar(frequency_table['Platforms'], frequency_table['Frequency'], width=0.8, edgecolor='k', color='darkblue')\n",
    "plt.xticks(frequency_table['Platforms'], rotation='vertical')  # Set rotation to 'vertical'\n",
    "\n",
    "# Add percentage labels on top of each bar\n",
    "for bar, percentage in zip(bars, frequency_table['Percentage']):\n",
    "    plt.text(bar.get_x() + bar.get_width() / 2, bar.get_height(), f'{percentage:.2f}%', ha='center', va='bottom')\n",
    "\n",
    "# Add titles and labels\n",
    "plt.title('Social Media Platforms Used')\n",
    "plt.xlabel('Platforms')\n",
    "plt.ylabel('Frequency (%)')  # Update ylabel to indicate percentage\n",
    "\n",
    "plt.xticks(rotation=0)\n",
    "\n",
    "# Display the graph\n",
    "plt.tight_layout()\n",
    "plt.show()\n"
   ]
  },
  {
   "cell_type": "markdown",
   "id": "561a034b",
   "metadata": {
    "papermill": {
     "duration": 0.023994,
     "end_time": "2024-03-10T04:46:11.143427",
     "exception": false,
     "start_time": "2024-03-10T04:46:11.119433",
     "status": "completed"
    },
    "tags": []
   },
   "source": [
    "Over 300 people use Social Networking and Media Sharing. Less than 50 use only one type of platform.  Discussion forums are not as popular as the other two catagories. "
   ]
  },
  {
   "cell_type": "markdown",
   "id": "c36ff8fb",
   "metadata": {
    "papermill": {
     "duration": 0.02321,
     "end_time": "2024-03-10T04:46:11.190492",
     "exception": false,
     "start_time": "2024-03-10T04:46:11.167282",
     "status": "completed"
    },
    "tags": []
   },
   "source": [
    "**Gender Distribution**"
   ]
  },
  {
   "cell_type": "code",
   "execution_count": 51,
   "id": "68a774ed",
   "metadata": {
    "execution": {
     "iopub.execute_input": "2024-03-10T04:46:11.238488Z",
     "iopub.status.busy": "2024-03-10T04:46:11.237873Z",
     "iopub.status.idle": "2024-03-10T04:46:11.440075Z",
     "shell.execute_reply": "2024-03-10T04:46:11.439153Z"
    },
    "papermill": {
     "duration": 0.228177,
     "end_time": "2024-03-10T04:46:11.442062",
     "exception": false,
     "start_time": "2024-03-10T04:46:11.213885",
     "status": "completed"
    },
    "tags": []
   },
   "outputs": [
    {
     "data": {
      "image/png": "[encoded data removed]",
      "text/plain": [
       "<Figure size 640x480 with 1 Axes>"
      ]
     },
     "metadata": {},
     "output_type": "display_data"
    }
   ],
   "source": [
    "# Calculate frequencies of each value in 'Gender' column\n",
    "frequency_table = data['Gender'].value_counts().reset_index()\n",
    "frequency_table.columns = ['Gender', 'Frequency']\n",
    "\n",
    "# Calculate percentages\n",
    "total_count = len(data)\n",
    "frequency_table['Percentage'] = (frequency_table['Frequency'] / total_count) * 100\n",
    "\n",
    "# Create a bar graph with percentages on top of bars\n",
    "fig, ax = plt.subplots()\n",
    "bars = plt.bar(frequency_table['Gender'], frequency_table['Frequency'], width=0.8, edgecolor='k', color='darkblue')\n",
    "\n",
    "# Add percentage labels on top of each bar\n",
    "for bar, percentage in zip(bars, frequency_table['Percentage']):\n",
    "    ax.text(bar.get_x() + bar.get_width() / 2, bar.get_height(), f'{percentage:.2f}%', ha='center', va='bottom')\n",
    "\n",
    "# Add titles and labels\n",
    "plt.title('Gender Distribution')\n",
    "plt.xlabel('Gender')\n",
    "plt.ylabel('Frequency')\n",
    "plt.xticks(rotation=45)\n",
    "\n",
    "# Display the graph\n",
    "plt.show()"
   ]
  },
  {
   "cell_type": "markdown",
   "id": "fd4708df",
   "metadata": {
    "papermill": {
     "duration": 0.023575,
     "end_time": "2024-03-10T04:46:11.489853",
     "exception": false,
     "start_time": "2024-03-10T04:46:11.466278",
     "status": "completed"
    },
    "tags": []
   },
   "source": [
    "Over 50% are female, approx. 44% are male. Non-binary, unsure, trans, and there are others??? represent less than 1% of the sample, so it is impossible to make statistical inferences. \n",
    "\n",
    "<br>\n",
    "Although more and more people are opening up about their gender identities, it still seems that certain groups are underrepresnted. It would be best to gether more data about these groups so that the \"new social media\" platform can be inclusive and cater to all of its user needs. As well as create a healthy environment for these groups to promote psycholgical well-being. "
   ]
  },
  {
   "cell_type": "markdown",
   "id": "49cbcb4e",
   "metadata": {
    "papermill": {
     "duration": 0.024678,
     "end_time": "2024-03-10T04:46:11.539235",
     "exception": false,
     "start_time": "2024-03-10T04:46:11.514557",
     "status": "completed"
    },
    "tags": []
   },
   "source": [
    "**Occupation Distribution**"
   ]
  },
  {
   "cell_type": "code",
   "execution_count": 52,
   "id": "8105118d",
   "metadata": {
    "execution": {
     "iopub.execute_input": "2024-03-10T04:46:11.589924Z",
     "iopub.status.busy": "2024-03-10T04:46:11.589302Z",
     "iopub.status.idle": "2024-03-10T04:46:11.767745Z",
     "shell.execute_reply": "2024-03-10T04:46:11.766674Z"
    },
    "papermill": {
     "duration": 0.206359,
     "end_time": "2024-03-10T04:46:11.769676",
     "exception": false,
     "start_time": "2024-03-10T04:46:11.563317",
     "status": "completed"
    },
    "tags": []
   },
   "outputs": [
    {
     "data": {
      "image/png": "[encoded data removed]",
      "text/plain": [
       "<Figure size 640x480 with 1 Axes>"
      ]
     },
     "metadata": {},
     "output_type": "display_data"
    }
   ],
   "source": [
    "# Calculate frequencies of each value in 'Platforms' column\n",
    "frequency_table = data['Occupation'].value_counts().reset_index()\n",
    "frequency_table.columns = ['Occupation', 'Frequency']\n",
    "\n",
    "# Create a bar graph\n",
    "plt.bar(frequency_table['Occupation'], frequency_table['Frequency'],width=0.8, edgecolor='k', color='darkblue')\n",
    "plt.xticks(frequency_table['Occupation'], rotation='vertical')  # Set rotation to 'vertical'\n",
    "\n",
    "# Add titles and labels\n",
    "plt.title('Occupation Distribution')\n",
    "plt.xlabel('Occupation')\n",
    "plt.ylabel('Frequency')\n",
    "\n",
    "# Display the graph\n",
    "plt.show()"
   ]
  },
  {
   "cell_type": "markdown",
   "id": "25bbb8b1",
   "metadata": {
    "papermill": {
     "duration": 0.023767,
     "end_time": "2024-03-10T04:46:11.818396",
     "exception": false,
     "start_time": "2024-03-10T04:46:11.794629",
     "status": "completed"
    },
    "tags": []
   },
   "source": [
    "The majority are univeristy student and salaried worker. "
   ]
  },
  {
   "cell_type": "code",
   "execution_count": 53,
   "id": "af6b6cb1",
   "metadata": {
    "execution": {
     "iopub.execute_input": "2024-03-10T04:46:11.872603Z",
     "iopub.status.busy": "2024-03-10T04:46:11.871919Z",
     "iopub.status.idle": "2024-03-10T04:46:12.061743Z",
     "shell.execute_reply": "2024-03-10T04:46:12.060782Z"
    },
    "papermill": {
     "duration": 0.220272,
     "end_time": "2024-03-10T04:46:12.063576",
     "exception": false,
     "start_time": "2024-03-10T04:46:11.843304",
     "status": "completed"
    },
    "tags": []
   },
   "outputs": [
    {
     "data": {
      "image/png": "[encoded data removed]",
      "text/plain": [
       "<Figure size 1000x600 with 1 Axes>"
      ]
     },
     "metadata": {},
     "output_type": "display_data"
    }
   ],
   "source": [
    "# Calculate frequencies of each value in 'Occupation' column\n",
    "frequency_table = data['Occupation'].value_counts().reset_index()\n",
    "frequency_table.columns = ['Occupation', 'Frequency']\n",
    "\n",
    "# Create a pie chart\n",
    "plt.figure(figsize=(10, 6))  # Adjust the figure size as needed\n",
    "plt.pie(frequency_table['Frequency'], labels=frequency_table['Occupation'], autopct='%1.1f%%', startangle=140, colors=plt.cm.tab20.colors)\n",
    "\n",
    "# Add title\n",
    "plt.title('Occupation Distribution')\n",
    "\n",
    "# Display the graph\n",
    "plt.axis('equal')  # Equal aspect ratio ensures that pie is drawn as a circle.\n",
    "plt.tight_layout()\n",
    "plt.show()"
   ]
  },
  {
   "cell_type": "markdown",
   "id": "804cc375",
   "metadata": {
    "papermill": {
     "duration": 0.027044,
     "end_time": "2024-03-10T04:46:12.121870",
     "exception": false,
     "start_time": "2024-03-10T04:46:12.094826",
     "status": "completed"
    },
    "tags": []
   },
   "source": [
    "**Relationship Status Distribution**"
   ]
  },
  {
   "cell_type": "code",
   "execution_count": 54,
   "id": "626a50a8",
   "metadata": {
    "execution": {
     "iopub.execute_input": "2024-03-10T04:46:12.171781Z",
     "iopub.status.busy": "2024-03-10T04:46:12.171489Z",
     "iopub.status.idle": "2024-03-10T04:46:12.352614Z",
     "shell.execute_reply": "2024-03-10T04:46:12.351044Z"
    },
    "papermill": {
     "duration": 0.209099,
     "end_time": "2024-03-10T04:46:12.355254",
     "exception": false,
     "start_time": "2024-03-10T04:46:12.146155",
     "status": "completed"
    },
    "tags": []
   },
   "outputs": [
    {
     "data": {
      "image/png": "[encoded data removed]",
      "text/plain": [
       "<Figure size 640x480 with 1 Axes>"
      ]
     },
     "metadata": {},
     "output_type": "display_data"
    }
   ],
   "source": [
    "# Calculate frequencies of each value in 'Platforms' column\n",
    "frequency_table = data['Relationship Status'].value_counts().reset_index()\n",
    "frequency_table.columns = ['Relationship Status', 'Frequency']\n",
    "\n",
    "# Create a bar graph\n",
    "plt.bar(frequency_table['Relationship Status'], frequency_table['Frequency'],width=0.8, edgecolor='k', color='darkblue')\n",
    "plt.xticks(frequency_table['Relationship Status'],)\n",
    "\n",
    "# Add titles and labels\n",
    "plt.title('Relationship Status Distribution')\n",
    "plt.xlabel('Relationship Status')\n",
    "plt.ylabel('Frequency')\n",
    "plt.xticks(rotation=45)\n",
    "\n",
    "# Display the graph\n",
    "plt.show()"
   ]
  },
  {
   "cell_type": "markdown",
   "id": "edc3cdef",
   "metadata": {
    "papermill": {
     "duration": 0.025216,
     "end_time": "2024-03-10T04:46:12.406219",
     "exception": false,
     "start_time": "2024-03-10T04:46:12.381003",
     "status": "completed"
    },
    "tags": []
   },
   "source": [
    "Majority single. Married and In a relationship close to equal. Very small amount divorced. "
   ]
  },
  {
   "cell_type": "markdown",
   "id": "20df5eb0",
   "metadata": {
    "papermill": {
     "duration": 0.025966,
     "end_time": "2024-03-10T04:46:12.457842",
     "exception": false,
     "start_time": "2024-03-10T04:46:12.431876",
     "status": "completed"
    },
    "tags": []
   },
   "source": [
    "# **Inferential**"
   ]
  },
  {
   "cell_type": "code",
   "execution_count": 55,
   "id": "760bb502",
   "metadata": {
    "execution": {
     "iopub.execute_input": "2024-03-10T04:46:12.510066Z",
     "iopub.status.busy": "2024-03-10T04:46:12.509580Z",
     "iopub.status.idle": "2024-03-10T04:46:23.568064Z",
     "shell.execute_reply": "2024-03-10T04:46:23.567017Z"
    },
    "papermill": {
     "duration": 11.087558,
     "end_time": "2024-03-10T04:46:23.570821",
     "exception": false,
     "start_time": "2024-03-10T04:46:12.483263",
     "status": "completed"
    },
    "tags": []
   },
   "outputs": [
    {
     "name": "stdout",
     "output_type": "stream",
     "text": [
      "Requirement already satisfied: scipy in /opt/conda/lib/python3.10/site-packages (1.11.1)\r\n",
      "Requirement already satisfied: numpy<1.28.0,>=1.21.6 in /opt/conda/lib/python3.10/site-packages (from scipy) (1.23.5)\r\n"
     ]
    }
   ],
   "source": [
    "#install necessary package for statistical analysis\n",
    "import sys\n",
    "!{sys.executable} -m pip install scipy\n",
    "\n",
    "import pandas as pd\n",
    "from scipy.stats import pearsonr "
   ]
  },
  {
   "cell_type": "markdown",
   "id": "914771a4",
   "metadata": {
    "papermill": {
     "duration": 0.024435,
     "end_time": "2024-03-10T04:46:23.620257",
     "exception": false,
     "start_time": "2024-03-10T04:46:23.595822",
     "status": "completed"
    },
    "tags": []
   },
   "source": [
    "# Hours Per Day vs Total Score"
   ]
  },
  {
   "cell_type": "code",
   "execution_count": 56,
   "id": "e82d50e8",
   "metadata": {
    "execution": {
     "iopub.execute_input": "2024-03-10T04:46:23.671519Z",
     "iopub.status.busy": "2024-03-10T04:46:23.671047Z",
     "iopub.status.idle": "2024-03-10T04:46:23.685242Z",
     "shell.execute_reply": "2024-03-10T04:46:23.683834Z"
    },
    "papermill": {
     "duration": 0.042881,
     "end_time": "2024-03-10T04:46:23.687228",
     "exception": false,
     "start_time": "2024-03-10T04:46:23.644347",
     "status": "completed"
    },
    "tags": []
   },
   "outputs": [
    {
     "name": "stdout",
     "output_type": "stream",
     "text": [
      "                    mean       std\n",
      "Hours Per Day                     \n",
      "0.5h           24.882353  8.322167\n",
      "1.5h           31.771429  7.890871\n",
      "2.5h           36.019802  8.435615\n",
      "3.5h           38.397849  8.353780\n",
      "4.5h           39.179104  7.438486\n",
      "5.5h           41.258621  7.576991\n"
     ]
    }
   ],
   "source": [
    "# Calculate mean and standard deviation for each bin\n",
    "summary_stats = data.groupby('Hours Per Day')['Total Score'].agg(['mean', 'std'])\n",
    "\n",
    "# Display summary statistics\n",
    "print(summary_stats)"
   ]
  },
  {
   "cell_type": "code",
   "execution_count": 57,
   "id": "13153700",
   "metadata": {
    "execution": {
     "iopub.execute_input": "2024-03-10T04:46:23.738603Z",
     "iopub.status.busy": "2024-03-10T04:46:23.738254Z",
     "iopub.status.idle": "2024-03-10T04:46:23.743160Z",
     "shell.execute_reply": "2024-03-10T04:46:23.742090Z"
    },
    "papermill": {
     "duration": 0.032933,
     "end_time": "2024-03-10T04:46:23.744969",
     "exception": false,
     "start_time": "2024-03-10T04:46:23.712036",
     "status": "completed"
    },
    "tags": []
   },
   "outputs": [
    {
     "name": "stdout",
     "output_type": "stream",
     "text": [
      "object\n"
     ]
    }
   ],
   "source": [
    "print(data['Hours Per Day'].dtype)"
   ]
  },
  {
   "cell_type": "code",
   "execution_count": 58,
   "id": "5ad7ae11",
   "metadata": {
    "execution": {
     "iopub.execute_input": "2024-03-10T04:46:23.797743Z",
     "iopub.status.busy": "2024-03-10T04:46:23.797351Z",
     "iopub.status.idle": "2024-03-10T04:46:23.812232Z",
     "shell.execute_reply": "2024-03-10T04:46:23.811375Z"
    },
    "papermill": {
     "duration": 0.043608,
     "end_time": "2024-03-10T04:46:23.813974",
     "exception": false,
     "start_time": "2024-03-10T04:46:23.770366",
     "status": "completed"
    },
    "tags": []
   },
   "outputs": [
    {
     "data": {
      "text/html": [
       "<div>\n",
       "<style scoped>\n",
       "    .dataframe tbody tr th:only-of-type {\n",
       "        vertical-align: middle;\n",
       "    }\n",
       "\n",
       "    .dataframe tbody tr th {\n",
       "        vertical-align: top;\n",
       "    }\n",
       "\n",
       "    .dataframe thead th {\n",
       "        text-align: right;\n",
       "    }\n",
       "</style>\n",
       "<table border=\"1\" class=\"dataframe\">\n",
       "  <thead>\n",
       "    <tr style=\"text-align: right;\">\n",
       "      <th></th>\n",
       "      <th>Age</th>\n",
       "      <th>Gender</th>\n",
       "      <th>Relationship Status</th>\n",
       "      <th>Occupation</th>\n",
       "      <th>Social Media User?</th>\n",
       "      <th>Hours Per Day</th>\n",
       "      <th>ADHD Score</th>\n",
       "      <th>Anxiety Score</th>\n",
       "      <th>Self Esteem Score</th>\n",
       "      <th>Depression Score</th>\n",
       "      <th>Total Score</th>\n",
       "      <th>Platforms</th>\n",
       "      <th>Age Group</th>\n",
       "    </tr>\n",
       "  </thead>\n",
       "  <tbody>\n",
       "    <tr>\n",
       "      <th>0</th>\n",
       "      <td>21</td>\n",
       "      <td>Male</td>\n",
       "      <td>In a relationship</td>\n",
       "      <td>University Student</td>\n",
       "      <td>Yes</td>\n",
       "      <td>2.5h</td>\n",
       "      <td>18</td>\n",
       "      <td>4</td>\n",
       "      <td>7</td>\n",
       "      <td>14</td>\n",
       "      <td>43</td>\n",
       "      <td>SN, MS, DF</td>\n",
       "      <td>19-30</td>\n",
       "    </tr>\n",
       "  </tbody>\n",
       "</table>\n",
       "</div>"
      ],
      "text/plain": [
       "   Age Gender Relationship Status          Occupation Social Media User?  \\\n",
       "0   21   Male   In a relationship  University Student                Yes   \n",
       "\n",
       "  Hours Per Day  ADHD Score  Anxiety Score  Self Esteem Score  \\\n",
       "0          2.5h          18              4                  7   \n",
       "\n",
       "   Depression Score  Total Score   Platforms Age Group  \n",
       "0                14           43  SN, MS, DF     19-30  "
      ]
     },
     "execution_count": 58,
     "metadata": {},
     "output_type": "execute_result"
    }
   ],
   "source": [
    "data.head(1)"
   ]
  },
  {
   "cell_type": "code",
   "execution_count": 59,
   "id": "959a7491",
   "metadata": {
    "execution": {
     "iopub.execute_input": "2024-03-10T04:46:23.869092Z",
     "iopub.status.busy": "2024-03-10T04:46:23.868485Z",
     "iopub.status.idle": "2024-03-10T04:46:24.120974Z",
     "shell.execute_reply": "2024-03-10T04:46:24.119375Z"
    },
    "papermill": {
     "duration": 0.281305,
     "end_time": "2024-03-10T04:46:24.123115",
     "exception": false,
     "start_time": "2024-03-10T04:46:23.841810",
     "status": "completed"
    },
    "tags": []
   },
   "outputs": [
    {
     "data": {
      "image/png": "[encoded data removed]",
      "text/plain": [
       "<Figure size 640x480 with 1 Axes>"
      ]
     },
     "metadata": {},
     "output_type": "display_data"
    }
   ],
   "source": [
    "# Calculate mean and standard deviation for each bin\n",
    "summary_stats = data.groupby('Hours Per Day')['Total Score'].agg(['mean'])\n",
    "\n",
    "# Plot mean total score as bar plot with dark green color\n",
    "mean_plot = summary_stats['mean'].plot(kind='bar', color='darkgreen', label='Mean')\n",
    "\n",
    "# Add labels and title\n",
    "plt.xlabel('Hours Per Day Spent on Social Media')\n",
    "plt.ylabel('Mean Total Score')\n",
    "plt.title('Mean Total Score and Standard Deviation by Hours Per Day Spent on Social Media')\n",
    "\n",
    "plt.xticks(rotation=0)\n",
    "\n",
    "# Add legend\n",
    "plt.legend()\n",
    "\n",
    "# Show plot\n",
    "plt.show()"
   ]
  },
  {
   "cell_type": "markdown",
   "id": "64a060fb",
   "metadata": {
    "papermill": {
     "duration": 0.02556,
     "end_time": "2024-03-10T04:46:24.174389",
     "exception": false,
     "start_time": "2024-03-10T04:46:24.148829",
     "status": "completed"
    },
    "tags": []
   },
   "source": [
    "# Platforms vs Total Score"
   ]
  },
  {
   "cell_type": "code",
   "execution_count": 60,
   "id": "b7a6280a",
   "metadata": {
    "execution": {
     "iopub.execute_input": "2024-03-10T04:46:24.226760Z",
     "iopub.status.busy": "2024-03-10T04:46:24.226423Z",
     "iopub.status.idle": "2024-03-10T04:46:24.233853Z",
     "shell.execute_reply": "2024-03-10T04:46:24.233066Z"
    },
    "papermill": {
     "duration": 0.035915,
     "end_time": "2024-03-10T04:46:24.235817",
     "exception": false,
     "start_time": "2024-03-10T04:46:24.199902",
     "status": "completed"
    },
    "tags": []
   },
   "outputs": [
    {
     "name": "stdout",
     "output_type": "stream",
     "text": [
      "                 mean\n",
      "Platforms            \n",
      "DF          30.000000\n",
      "MS          33.315789\n",
      "MS, DF      28.333333\n",
      "SN          35.750000\n",
      "SN, DF      34.166667\n",
      "SN, MS      37.182692\n",
      "SN, MS, DF  37.300000\n"
     ]
    }
   ],
   "source": [
    "# Calculate mean and standard deviation for each bin\n",
    "summary_stats = data.groupby('Platforms')['Total Score'].agg(['mean'])\n",
    "\n",
    "# Display summary statistics\n",
    "print(summary_stats)"
   ]
  },
  {
   "cell_type": "code",
   "execution_count": 61,
   "id": "a13850a5",
   "metadata": {
    "execution": {
     "iopub.execute_input": "2024-03-10T04:46:24.288475Z",
     "iopub.status.busy": "2024-03-10T04:46:24.287840Z",
     "iopub.status.idle": "2024-03-10T04:46:24.505297Z",
     "shell.execute_reply": "2024-03-10T04:46:24.503653Z"
    },
    "papermill": {
     "duration": 0.246886,
     "end_time": "2024-03-10T04:46:24.507908",
     "exception": false,
     "start_time": "2024-03-10T04:46:24.261022",
     "status": "completed"
    },
    "tags": []
   },
   "outputs": [
    {
     "data": {
      "image/png": "[encoded data removed]",
      "text/plain": [
       "<Figure size 640x480 with 1 Axes>"
      ]
     },
     "metadata": {},
     "output_type": "display_data"
    }
   ],
   "source": [
    "# Calculate mean and standard deviation for each bin\n",
    "summary_stats = data.groupby('Platforms')['Total Score'].agg(['mean'])\n",
    "\n",
    "# Plot mean total score as bar plot with dark green color\n",
    "mean_plot = summary_stats['mean'].plot(kind='bar', color='darkgreen', label='Mean')\n",
    "\n",
    "# Add labels and title\n",
    "plt.xlabel('Platforms')\n",
    "plt.ylabel('Mean Total Score')\n",
    "plt.title('Platforms')\n",
    "\n",
    "plt.xticks(rotation=0)\n",
    "\n",
    "# Add legend\n",
    "plt.legend()\n",
    "\n",
    "# Show plot\n",
    "plt.show()"
   ]
  },
  {
   "cell_type": "markdown",
   "id": "073a4859",
   "metadata": {
    "papermill": {
     "duration": 0.025917,
     "end_time": "2024-03-10T04:46:24.560055",
     "exception": false,
     "start_time": "2024-03-10T04:46:24.534138",
     "status": "completed"
    },
    "tags": []
   },
   "source": [
    "People that use Media Sharing (MS)/Discussion Forum (DF) have lower total scores.Those that use Social Networking (SN) in all combinations have the highest scores. "
   ]
  },
  {
   "cell_type": "markdown",
   "id": "513252fb",
   "metadata": {
    "papermill": {
     "duration": 0.025404,
     "end_time": "2024-03-10T04:46:24.611650",
     "exception": false,
     "start_time": "2024-03-10T04:46:24.586246",
     "status": "completed"
    },
    "tags": []
   },
   "source": [
    "# Age vs Total Score"
   ]
  },
  {
   "cell_type": "code",
   "execution_count": 62,
   "id": "11ef685b",
   "metadata": {
    "execution": {
     "iopub.execute_input": "2024-03-10T04:46:24.665250Z",
     "iopub.status.busy": "2024-03-10T04:46:24.664573Z",
     "iopub.status.idle": "2024-03-10T04:46:25.390790Z",
     "shell.execute_reply": "2024-03-10T04:46:25.389912Z"
    },
    "papermill": {
     "duration": 0.755336,
     "end_time": "2024-03-10T04:46:25.392690",
     "exception": false,
     "start_time": "2024-03-10T04:46:24.637354",
     "status": "completed"
    },
    "tags": []
   },
   "outputs": [
    {
     "data": {
      "image/png": "[encoded data removed]",
      "text/plain": [
       "<Figure size 1200x600 with 2 Axes>"
      ]
     },
     "metadata": {},
     "output_type": "display_data"
    }
   ],
   "source": [
    "plt.figure(figsize=(12, 6))  # Adjust the figure size as needed\n",
    "\n",
    "# Histogram for Age\n",
    "plt.subplot(1, 2, 1)\n",
    "plt.hist(data['Age'], bins=60, color='green', alpha=0.7)  # Histogram\n",
    "plt.title('Histogram of Age')\n",
    "plt.xlabel('Age')\n",
    "plt.ylabel('Frequency')\n",
    "\n",
    "# Histogram for Total Score\n",
    "plt.subplot(1, 2, 2)\n",
    "plt.hist(data['Total Score'], bins=60, color='blue', alpha=0.7)  # Histogram\n",
    "plt.title('Histogram of Total Score')\n",
    "plt.xlabel('Total Score')\n",
    "plt.ylabel('Frequency')\n",
    "\n",
    "plt.tight_layout()  # Adjust layout to prevent overlap\n",
    "plt.show()"
   ]
  },
  {
   "cell_type": "code",
   "execution_count": 63,
   "id": "2eb42356",
   "metadata": {
    "execution": {
     "iopub.execute_input": "2024-03-10T04:46:25.448703Z",
     "iopub.status.busy": "2024-03-10T04:46:25.448324Z",
     "iopub.status.idle": "2024-03-10T04:46:25.453966Z",
     "shell.execute_reply": "2024-03-10T04:46:25.453314Z"
    },
    "papermill": {
     "duration": 0.037355,
     "end_time": "2024-03-10T04:46:25.457655",
     "exception": false,
     "start_time": "2024-03-10T04:46:25.420300",
     "status": "completed"
    },
    "tags": []
   },
   "outputs": [
    {
     "name": "stdout",
     "output_type": "stream",
     "text": [
      "Frequency of Total Scores:\n",
      "35    25\n",
      "44    24\n",
      "43    22\n",
      "33    22\n",
      "37    22\n",
      "41    22\n",
      "42    21\n",
      "45    21\n",
      "36    18\n",
      "32    18\n",
      "40    17\n",
      "38    17\n",
      "30    17\n",
      "34    16\n",
      "47    15\n",
      "28    13\n",
      "39    13\n",
      "29    12\n",
      "46    11\n",
      "48    10\n",
      "49    10\n",
      "27    10\n",
      "50    10\n",
      "31     9\n",
      "23     8\n",
      "24     8\n",
      "18     6\n",
      "25     6\n",
      "52     6\n",
      "22     6\n",
      "51     6\n",
      "56     5\n",
      "19     5\n",
      "26     5\n",
      "21     4\n",
      "12     4\n",
      "20     4\n",
      "15     3\n",
      "53     2\n",
      "54     2\n",
      "17     2\n",
      "13     2\n",
      "16     1\n",
      "55     1\n",
      "Name: Total Score, dtype: int64\n"
     ]
    }
   ],
   "source": [
    "total_score_frequency = data['Total Score'].value_counts()\n",
    "\n",
    "# Print frequency of total scores\n",
    "print(\"Frequency of Total Scores:\")\n",
    "print(total_score_frequency)"
   ]
  },
  {
   "cell_type": "code",
   "execution_count": 64,
   "id": "1cb7fd9e",
   "metadata": {
    "execution": {
     "iopub.execute_input": "2024-03-10T04:46:25.514581Z",
     "iopub.status.busy": "2024-03-10T04:46:25.513927Z",
     "iopub.status.idle": "2024-03-10T04:46:25.519746Z",
     "shell.execute_reply": "2024-03-10T04:46:25.518733Z"
    },
    "papermill": {
     "duration": 0.036646,
     "end_time": "2024-03-10T04:46:25.521997",
     "exception": false,
     "start_time": "2024-03-10T04:46:25.485351",
     "status": "completed"
    },
    "tags": []
   },
   "outputs": [
    {
     "name": "stdout",
     "output_type": "stream",
     "text": [
      "The correlation coefficient between Age and Total Score is: -0.35\n"
     ]
    }
   ],
   "source": [
    "# Calculate correlation coefficient\n",
    "correlation_coefficient = np.corrcoef(data['Age'], data['Total Score'])[0, 1]\n",
    "\n",
    "print(f\"The correlation coefficient between Age and Total Score is: {correlation_coefficient:.2f}\")"
   ]
  },
  {
   "cell_type": "code",
   "execution_count": 65,
   "id": "08d2c3b6",
   "metadata": {
    "execution": {
     "iopub.execute_input": "2024-03-10T04:46:25.579080Z",
     "iopub.status.busy": "2024-03-10T04:46:25.578424Z",
     "iopub.status.idle": "2024-03-10T04:46:25.876531Z",
     "shell.execute_reply": "2024-03-10T04:46:25.875376Z"
    },
    "papermill": {
     "duration": 0.328862,
     "end_time": "2024-03-10T04:46:25.878510",
     "exception": false,
     "start_time": "2024-03-10T04:46:25.549648",
     "status": "completed"
    },
    "tags": []
   },
   "outputs": [
    {
     "data": {
      "image/png": "[encoded data removed]",
      "text/plain": [
       "<Figure size 800x600 with 1 Axes>"
      ]
     },
     "metadata": {},
     "output_type": "display_data"
    }
   ],
   "source": [
    "plt.figure(figsize=(8, 6))  # Adjust the figure size as needed\n",
    "\n",
    "# Scatter plot\n",
    "plt.scatter(data['Age'], data['Total Score'], color='blue', alpha=0.5, label='Data')  # Scatter plot\n",
    "\n",
    "# Perform linear regression\n",
    "slope, intercept = np.polyfit(data['Age'], data['Total Score'], 1)\n",
    "\n",
    "# Plot regression line\n",
    "plt.plot(data['Age'], slope * data['Age'] + intercept, color='red', label='Regression Line')\n",
    "\n",
    "plt.title('Age vs Total Score')\n",
    "plt.xlabel('Age')\n",
    "plt.ylabel('Total Score')\n",
    "\n",
    "plt.legend()  # Show legend\n",
    "plt.grid(True)  # Add grid\n",
    "plt.tight_layout()\n",
    "\n",
    "plt.show()"
   ]
  },
  {
   "cell_type": "markdown",
   "id": "a1f19440",
   "metadata": {
    "papermill": {
     "duration": 0.029007,
     "end_time": "2024-03-10T04:46:25.935269",
     "exception": false,
     "start_time": "2024-03-10T04:46:25.906262",
     "status": "completed"
    },
    "tags": []
   },
   "source": [
    "There is a negative correlation. Older particiapnts have better mental health. "
   ]
  },
  {
   "cell_type": "markdown",
   "id": "7d4c2e9f",
   "metadata": {
    "papermill": {
     "duration": 0.027008,
     "end_time": "2024-03-10T04:46:25.989746",
     "exception": false,
     "start_time": "2024-03-10T04:46:25.962738",
     "status": "completed"
    },
    "tags": []
   },
   "source": [
    "# Platforms vs Hours"
   ]
  },
  {
   "cell_type": "code",
   "execution_count": 66,
   "id": "cb9d21ac",
   "metadata": {
    "execution": {
     "iopub.execute_input": "2024-03-10T04:46:26.048000Z",
     "iopub.status.busy": "2024-03-10T04:46:26.047430Z",
     "iopub.status.idle": "2024-03-10T04:46:26.319849Z",
     "shell.execute_reply": "2024-03-10T04:46:26.318550Z"
    },
    "papermill": {
     "duration": 0.304929,
     "end_time": "2024-03-10T04:46:26.322131",
     "exception": false,
     "start_time": "2024-03-10T04:46:26.017202",
     "status": "completed"
    },
    "tags": []
   },
   "outputs": [
    {
     "data": {
      "image/png": "[encoded data removed]",
      "text/plain": [
       "<Figure size 1000x600 with 1 Axes>"
      ]
     },
     "metadata": {},
     "output_type": "display_data"
    }
   ],
   "source": [
    "# Clean 'Hours Per Day' column and convert it to numeric\n",
    "data['Hours Per Day'] = data['Hours Per Day'].str.replace('h', '').astype(float)\n",
    "\n",
    "# Calculate the average hours per day for each platform\n",
    "avg_hours_per_day = data.groupby('Platforms')['Hours Per Day'].mean()\n",
    "\n",
    "# Plotting\n",
    "plt.figure(figsize=(10, 6))  # Adjust the figure size as needed\n",
    "\n",
    "# Bar plot\n",
    "avg_hours_per_day.plot(kind='bar', color='blue', alpha=0.7)  \n",
    "\n",
    "plt.title('Average Hours Per Day vs Platforms Used')\n",
    "plt.xlabel('Platforms')\n",
    "plt.ylabel('Average Hours Per Day')\n",
    "\n",
    "plt.xticks(rotation=45)  # Rotate x-axis labels for better readability\n",
    "\n",
    "plt.grid(axis='y')  # Add gridlines on the y-axis\n",
    "plt.tight_layout()\n",
    "\n",
    "plt.show()\n"
   ]
  },
  {
   "cell_type": "code",
   "execution_count": 67,
   "id": "68c9b7f3",
   "metadata": {
    "execution": {
     "iopub.execute_input": "2024-03-10T04:46:26.381753Z",
     "iopub.status.busy": "2024-03-10T04:46:26.381392Z",
     "iopub.status.idle": "2024-03-10T04:46:26.390608Z",
     "shell.execute_reply": "2024-03-10T04:46:26.388932Z"
    },
    "papermill": {
     "duration": 0.040862,
     "end_time": "2024-03-10T04:46:26.392630",
     "exception": false,
     "start_time": "2024-03-10T04:46:26.351768",
     "status": "completed"
    },
    "tags": []
   },
   "outputs": [
    {
     "name": "stdout",
     "output_type": "stream",
     "text": [
      "Platforms\n",
      "DF            1.250000\n",
      "MS            3.184211\n",
      "MS, DF        2.500000\n",
      "SN            2.833333\n",
      "SN, DF        3.166667\n",
      "SN, MS        3.464744\n",
      "SN, MS, DF    3.554545\n",
      "Name: Hours Per Day, dtype: float64\n"
     ]
    }
   ],
   "source": [
    "avg_hours_per_day = data.groupby('Platforms')['Hours Per Day'].mean()\n",
    "\n",
    "# Print the mean hours per day for each platform\n",
    "print(avg_hours_per_day)"
   ]
  },
  {
   "cell_type": "code",
   "execution_count": 68,
   "id": "53d19dfa",
   "metadata": {
    "execution": {
     "iopub.execute_input": "2024-03-10T04:46:26.451192Z",
     "iopub.status.busy": "2024-03-10T04:46:26.450339Z",
     "iopub.status.idle": "2024-03-10T04:46:26.714849Z",
     "shell.execute_reply": "2024-03-10T04:46:26.713498Z"
    },
    "papermill": {
     "duration": 0.295689,
     "end_time": "2024-03-10T04:46:26.716736",
     "exception": false,
     "start_time": "2024-03-10T04:46:26.421047",
     "status": "completed"
    },
    "tags": []
   },
   "outputs": [
    {
     "name": "stdout",
     "output_type": "stream",
     "text": [
      "Platforms\n",
      "DF            1.250000\n",
      "MS            3.184211\n",
      "MS, DF        2.500000\n",
      "SN            2.833333\n",
      "SN, DF        3.166667\n",
      "SN, MS        3.464744\n",
      "SN, MS, DF    3.554545\n",
      "Name: Hours Per Day, dtype: float64\n"
     ]
    },
    {
     "data": {
      "image/png": "[encoded data removed]",
      "text/plain": [
       "<Figure size 1000x600 with 1 Axes>"
      ]
     },
     "metadata": {},
     "output_type": "display_data"
    }
   ],
   "source": [
    "# Print the mean hours per day for each platform\n",
    "print(avg_hours_per_day)\n",
    "\n",
    "# Calculate the average hours per day for each occupation\n",
    "avg_hours_per_day = data.groupby('Occupation')['Hours Per Day'].mean()\n",
    "\n",
    "# Plotting\n",
    "plt.figure(figsize=(10, 6))  # Adjust the figure size as needed\n",
    "\n",
    "# Bar plot\n",
    "avg_hours_per_day.plot(kind='bar', color='blue', alpha=0.7)  \n",
    "\n",
    "plt.title('Average Hours Per Day vs Occupation')\n",
    "plt.xlabel('Occupation')\n",
    "plt.ylabel('Average Hours Per Day')\n",
    "\n",
    "plt.xticks(rotation=45)  # Rotate x-axis labels for better readability\n",
    "\n",
    "plt.grid(axis='y')  # Add gridlines on the y-axis\n",
    "plt.tight_layout()\n",
    "\n",
    "plt.show()\n"
   ]
  }
 ],
 "metadata": {
  "kaggle": {
   "accelerator": "none",
   "dataSources": [
    {
     "datasetId": 2752689,
     "sourceId": 6154312,
     "sourceType": "datasetVersion"
    }
   ],
   "dockerImageVersionId": 30527,
   "isGpuEnabled": false,
   "isInternetEnabled": true,
   "language": "python",
   "sourceType": "notebook"
  },
  "kernelspec": {
   "display_name": "Python 3",
   "language": "python",
   "name": "python3"
  },
  "language_info": {
   "codemirror_mode": {
    "name": "ipython",
    "version": 3
   },
   "file_extension": ".py",
   "mimetype": "text/x-python",
   "name": "python",
   "nbconvert_exporter": "python",
   "pygments_lexer": "ipython3",
   "version": "3.10.12"
  },
  "papermill": {
   "default_parameters": {},
   "duration": 32.691458,
   "end_time": "2024-03-10T04:46:27.672572",
   "environment_variables": {},
   "exception": null,
   "input_path": "__notebook__.ipynb",
   "output_path": "__notebook__.ipynb",
   "parameters": {},
   "start_time": "2024-03-10T04:45:54.981114",
   "version": "2.4.0"
  }
 },
 "nbformat": 4,
 "nbformat_minor": 5
}
